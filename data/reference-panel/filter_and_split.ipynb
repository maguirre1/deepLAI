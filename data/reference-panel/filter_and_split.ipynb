{
 "cells": [
  {
   "cell_type": "code",
   "execution_count": 1,
   "metadata": {},
   "outputs": [],
   "source": [
    "import numpy as np\n",
    "import pandas as pd"
   ]
  },
  {
   "cell_type": "code",
   "execution_count": 2,
   "metadata": {},
   "outputs": [
    {
     "name": "stdout",
     "output_type": "stream",
     "text": [
      "1382\n"
     ]
    },
    {
     "data": {
      "text/plain": [
       "['HGDP01196', 'HGDP01198', 'HG02854', 'NA18740', 'HG00622']"
      ]
     },
     "execution_count": 2,
     "metadata": {},
     "output_type": "execute_result"
    }
   ],
   "source": [
    "# Without loss of generality, use Chromosome 21 Sample IDs\n",
    "#S=pd.read_csv('/scratch/users/magu/deepmix/data/ref_panel_plus_two.txt', \n",
    "#              header=None, sep='\\t', dtype=str).iloc[:,1].tolist()\n",
    "S=np.load('/home/magu/deepmix/data/reference_panel/panel_chr21.npz')['S']\n",
    "#S=np.load('/scratch/users/magu/deepmix/data/panel_chr2.npz')['S']\n",
    "S=list(set([i[:-3] for i in list(S)])) # remove _S1 _S2 strand encoding\n",
    "print(len(S))\n",
    "S[:5]"
   ]
  },
  {
   "cell_type": "code",
   "execution_count": 3,
   "metadata": {},
   "outputs": [
    {
     "data": {
      "text/plain": [
       "Index(['Population code', 'Population', 'Superpopulation code',\n",
       "       'Superpopulation', 'Source', 'Latitude', 'Longitude', 'Region',\n",
       "       'Sample Alias', 'Country', 'Town', 'Single_Ancestry', 'k7_EUR',\n",
       "       'k7_AHG', 'k7_WAS', 'k7_NAT', 'k7_EAS', 'k7_SAS', 'k7_AFR', 'k8_EUR',\n",
       "       'k8_AFR', 'k8_NAT', 'k8_EAS', 'k8_SAS', 'k8_AHG', 'k8_OCE', 'k8_WAS',\n",
       "       'k6_AHG', 'k6_EAS', 'k6_NAT', 'k6_AFR', 'k6_EUR', 'k6_SAS', 'Panel'],\n",
       "      dtype='object')"
      ]
     },
     "execution_count": 3,
     "metadata": {},
     "output_type": "execute_result"
    }
   ],
   "source": [
    "# Load demographic info\n",
    "D=pd.read_csv('reference_panel_metadata_w_qs.tsv', sep='\\t', index_col='Sample').loc[S,:]\n",
    "D.columns"
   ]
  },
  {
   "cell_type": "code",
   "execution_count": 4,
   "metadata": {},
   "outputs": [
    {
     "name": "stdout",
     "output_type": "stream",
     "text": [
      "0\n"
     ]
    },
    {
     "data": {
      "text/html": [
       "<div>\n",
       "<style scoped>\n",
       "    .dataframe tbody tr th:only-of-type {\n",
       "        vertical-align: middle;\n",
       "    }\n",
       "\n",
       "    .dataframe tbody tr th {\n",
       "        vertical-align: top;\n",
       "    }\n",
       "\n",
       "    .dataframe thead th {\n",
       "        text-align: right;\n",
       "    }\n",
       "</style>\n",
       "<table border=\"1\" class=\"dataframe\">\n",
       "  <thead>\n",
       "    <tr style=\"text-align: right;\">\n",
       "      <th></th>\n",
       "      <th>Family ID</th>\n",
       "      <th>Paternal ID</th>\n",
       "      <th>Maternal ID</th>\n",
       "      <th>Gender</th>\n",
       "      <th>Phenotype</th>\n",
       "      <th>Population</th>\n",
       "      <th>Relationship</th>\n",
       "      <th>Siblings</th>\n",
       "      <th>Second Order</th>\n",
       "      <th>Third Order</th>\n",
       "      <th>Other Comments</th>\n",
       "    </tr>\n",
       "    <tr>\n",
       "      <th>Individual ID</th>\n",
       "      <th></th>\n",
       "      <th></th>\n",
       "      <th></th>\n",
       "      <th></th>\n",
       "      <th></th>\n",
       "      <th></th>\n",
       "      <th></th>\n",
       "      <th></th>\n",
       "      <th></th>\n",
       "      <th></th>\n",
       "      <th></th>\n",
       "    </tr>\n",
       "  </thead>\n",
       "  <tbody>\n",
       "    <tr>\n",
       "      <th>HG01879</th>\n",
       "      <td>BB01</td>\n",
       "      <td>0</td>\n",
       "      <td>0</td>\n",
       "      <td>1</td>\n",
       "      <td>0</td>\n",
       "      <td>ACB</td>\n",
       "      <td>father</td>\n",
       "      <td>0</td>\n",
       "      <td>0</td>\n",
       "      <td>0</td>\n",
       "      <td>0</td>\n",
       "    </tr>\n",
       "    <tr>\n",
       "      <th>HG01880</th>\n",
       "      <td>BB01</td>\n",
       "      <td>0</td>\n",
       "      <td>0</td>\n",
       "      <td>2</td>\n",
       "      <td>0</td>\n",
       "      <td>ACB</td>\n",
       "      <td>mother</td>\n",
       "      <td>0</td>\n",
       "      <td>0</td>\n",
       "      <td>0</td>\n",
       "      <td>0</td>\n",
       "    </tr>\n",
       "    <tr>\n",
       "      <th>HG01881</th>\n",
       "      <td>BB01</td>\n",
       "      <td>HG01879</td>\n",
       "      <td>HG01880</td>\n",
       "      <td>2</td>\n",
       "      <td>0</td>\n",
       "      <td>ACB</td>\n",
       "      <td>child</td>\n",
       "      <td>0</td>\n",
       "      <td>0</td>\n",
       "      <td>0</td>\n",
       "      <td>0</td>\n",
       "    </tr>\n",
       "    <tr>\n",
       "      <th>HG01882</th>\n",
       "      <td>BB02</td>\n",
       "      <td>0</td>\n",
       "      <td>0</td>\n",
       "      <td>1</td>\n",
       "      <td>0</td>\n",
       "      <td>ACB</td>\n",
       "      <td>father</td>\n",
       "      <td>0</td>\n",
       "      <td>0</td>\n",
       "      <td>0</td>\n",
       "      <td>0</td>\n",
       "    </tr>\n",
       "    <tr>\n",
       "      <th>HG01883</th>\n",
       "      <td>BB02</td>\n",
       "      <td>0</td>\n",
       "      <td>0</td>\n",
       "      <td>2</td>\n",
       "      <td>0</td>\n",
       "      <td>ACB</td>\n",
       "      <td>mother</td>\n",
       "      <td>0</td>\n",
       "      <td>0</td>\n",
       "      <td>0</td>\n",
       "      <td>0</td>\n",
       "    </tr>\n",
       "  </tbody>\n",
       "</table>\n",
       "</div>"
      ],
      "text/plain": [
       "              Family ID Paternal ID Maternal ID  Gender  Phenotype Population  \\\n",
       "Individual ID                                                                   \n",
       "HG01879            BB01           0           0       1          0        ACB   \n",
       "HG01880            BB01           0           0       2          0        ACB   \n",
       "HG01881            BB01     HG01879     HG01880       2          0        ACB   \n",
       "HG01882            BB02           0           0       1          0        ACB   \n",
       "HG01883            BB02           0           0       2          0        ACB   \n",
       "\n",
       "              Relationship Siblings Second Order Third Order Other Comments  \n",
       "Individual ID                                                                \n",
       "HG01879             father        0            0           0              0  \n",
       "HG01880             mother        0            0           0              0  \n",
       "HG01881              child        0            0           0              0  \n",
       "HG01882             father        0            0           0              0  \n",
       "HG01883             mother        0            0           0              0  "
      ]
     },
     "execution_count": 4,
     "metadata": {},
     "output_type": "execute_result"
    }
   ],
   "source": [
    "# Load 1KG family information \n",
    "F=pd.read_csv('20130606_g1k.ped.txt', sep='\\t', index_col='Individual ID')\n",
    "\n",
    "# check that everyone has a family\n",
    "print(F['Family ID'].isnull().sum())\n",
    "F.head()"
   ]
  },
  {
   "cell_type": "code",
   "execution_count": 5,
   "metadata": {},
   "outputs": [
    {
     "name": "stdout",
     "output_type": "stream",
     "text": [
      "298\n"
     ]
    },
    {
     "data": {
      "text/plain": [
       "(3799, 45)"
      ]
     },
     "execution_count": 5,
     "metadata": {},
     "output_type": "execute_result"
    }
   ],
   "source": [
    "# Join demographic and family info\n",
    "X=pd.merge(D, F, left_index=True, right_index=True, how='outer')\n",
    "\n",
    "# S/HGDP samples don't have FID, so use IID\n",
    "X['Family ID']=X['Family ID'].fillna(pd.Series(X.index)) \n",
    "\n",
    "# check that this worked\n",
    "print(X['Family ID'].isnull().sum())\n",
    "X.shape"
   ]
  },
  {
   "cell_type": "code",
   "execution_count": 6,
   "metadata": {},
   "outputs": [
    {
     "data": {
      "text/plain": [
       "(1382, 45)"
      ]
     },
     "execution_count": 6,
     "metadata": {},
     "output_type": "execute_result"
    }
   ],
   "source": [
    "# filter down to panel individuals and store the old table\n",
    "XX=X\n",
    "X=X.loc[S,:]\n",
    "X.shape"
   ]
  },
  {
   "cell_type": "code",
   "execution_count": 7,
   "metadata": {},
   "outputs": [
    {
     "data": {
      "text/plain": [
       "(1361, 45)"
      ]
     },
     "execution_count": 7,
     "metadata": {},
     "output_type": "execute_result"
    }
   ],
   "source": [
    "# drop African Hunter-Gatherers (AHG)\n",
    "X=X[X['Panel']!='AHG']\n",
    "X.shape"
   ]
  },
  {
   "cell_type": "code",
   "execution_count": 8,
   "metadata": {},
   "outputs": [
    {
     "data": {
      "text/plain": [
       "EAS    494\n",
       "AFR    382\n",
       "SAS    171\n",
       "EUR    155\n",
       "NAT     75\n",
       "WAS     66\n",
       "OCE     16\n",
       "Name: Panel, dtype: int64"
      ]
     },
     "execution_count": 8,
     "metadata": {},
     "output_type": "execute_result"
    }
   ],
   "source": [
    "# Display population counts\n",
    "X['Panel'].value_counts()"
   ]
  },
  {
   "cell_type": "code",
   "execution_count": 9,
   "metadata": {},
   "outputs": [
    {
     "data": {
      "text/plain": [
       "unrel                      392\n",
       "father                     304\n",
       "mother                     293\n",
       "mat grandfather             17\n",
       "mat grandmother             17\n",
       "pat grandmother             15\n",
       "child                       13\n",
       "unrels                      13\n",
       "pat grandfather             13\n",
       "not father                   2\n",
       "pat grandmother; mother      1\n",
       "husband of Child             1\n",
       "wife of child                1\n",
       "mother; child                1\n",
       "Child                        1\n",
       "Name: Relationship, dtype: int64"
      ]
     },
     "execution_count": 9,
     "metadata": {},
     "output_type": "execute_result"
    }
   ],
   "source": [
    "# look at relatedness info\n",
    "X['Relationship'].value_counts()"
   ]
  },
  {
   "cell_type": "code",
   "execution_count": 10,
   "metadata": {
    "scrolled": true
   },
   "outputs": [
    {
     "name": "stdout",
     "output_type": "stream",
     "text": [
      "NA12890    pat grandmother; mother\n",
      "NA12878              mother; child\n",
      "Name: Relationship, dtype: object\n"
     ]
    }
   ],
   "source": [
    "# Check for family relationships (i.e. look for children)\n",
    "for fid in X['Family ID'].value_counts().index[X['Family ID'].value_counts()>1]:\n",
    "    if any(['hild' in x for x in X.loc[X['Family ID']==fid,'Relationship']]):\n",
    "        print(X.loc[X['Family ID']==fid,'Relationship'])"
   ]
  },
  {
   "cell_type": "code",
   "execution_count": 11,
   "metadata": {},
   "outputs": [
    {
     "name": "stdout",
     "output_type": "stream",
     "text": [
      "(1360, 45)\n"
     ]
    },
    {
     "data": {
      "text/plain": [
       "EAS    494\n",
       "AFR    382\n",
       "SAS    171\n",
       "EUR    154\n",
       "NAT     75\n",
       "WAS     66\n",
       "OCE     16\n",
       "Name: Panel, dtype: int64"
      ]
     },
     "execution_count": 11,
     "metadata": {},
     "output_type": "execute_result"
    }
   ],
   "source": [
    "# Assume parental sets are unrelated, so just remove NA12890\n",
    "X=X.drop('NA12890')\n",
    "print(X.shape)\n",
    "X['Panel'].value_counts()"
   ]
  },
  {
   "cell_type": "code",
   "execution_count": 12,
   "metadata": {},
   "outputs": [
    {
     "name": "stdout",
     "output_type": "stream",
     "text": [
      "Siblings: 0\n",
      "Second Order: 0\n",
      "Third Order: 15\n"
     ]
    },
    {
     "data": {
      "text/html": [
       "<div>\n",
       "<style scoped>\n",
       "    .dataframe tbody tr th:only-of-type {\n",
       "        vertical-align: middle;\n",
       "    }\n",
       "\n",
       "    .dataframe tbody tr th {\n",
       "        vertical-align: top;\n",
       "    }\n",
       "\n",
       "    .dataframe thead th {\n",
       "        text-align: right;\n",
       "    }\n",
       "</style>\n",
       "<table border=\"1\" class=\"dataframe\">\n",
       "  <thead>\n",
       "    <tr style=\"text-align: right;\">\n",
       "      <th></th>\n",
       "      <th>Siblings</th>\n",
       "      <th>Second Order</th>\n",
       "      <th>Third Order</th>\n",
       "      <th>Panel</th>\n",
       "      <th>Population code</th>\n",
       "    </tr>\n",
       "  </thead>\n",
       "  <tbody>\n",
       "    <tr>\n",
       "      <th>HG03352</th>\n",
       "      <td>0</td>\n",
       "      <td>0</td>\n",
       "      <td>HG03366,HG03343</td>\n",
       "      <td>AFR</td>\n",
       "      <td>ESN</td>\n",
       "    </tr>\n",
       "    <tr>\n",
       "      <th>HG03366</th>\n",
       "      <td>0</td>\n",
       "      <td>0</td>\n",
       "      <td>HG03352</td>\n",
       "      <td>AFR</td>\n",
       "      <td>ESN</td>\n",
       "    </tr>\n",
       "    <tr>\n",
       "      <th>HG03343</th>\n",
       "      <td>0</td>\n",
       "      <td>0</td>\n",
       "      <td>HG03352</td>\n",
       "      <td>AFR</td>\n",
       "      <td>ESN</td>\n",
       "    </tr>\n",
       "    <tr>\n",
       "      <th>HG03372</th>\n",
       "      <td>0</td>\n",
       "      <td>0</td>\n",
       "      <td>HG03301</td>\n",
       "      <td>AFR</td>\n",
       "      <td>ESN</td>\n",
       "    </tr>\n",
       "    <tr>\n",
       "      <th>HG03268</th>\n",
       "      <td>0</td>\n",
       "      <td>0</td>\n",
       "      <td>HG03271</td>\n",
       "      <td>AFR</td>\n",
       "      <td>ESN</td>\n",
       "    </tr>\n",
       "    <tr>\n",
       "      <th>HG03301</th>\n",
       "      <td>0</td>\n",
       "      <td>0</td>\n",
       "      <td>HG03372</td>\n",
       "      <td>AFR</td>\n",
       "      <td>ESN</td>\n",
       "    </tr>\n",
       "    <tr>\n",
       "      <th>HG03271</th>\n",
       "      <td>0</td>\n",
       "      <td>0</td>\n",
       "      <td>HG03268</td>\n",
       "      <td>AFR</td>\n",
       "      <td>ESN</td>\n",
       "    </tr>\n",
       "    <tr>\n",
       "      <th>HG02624</th>\n",
       "      <td>0</td>\n",
       "      <td>0</td>\n",
       "      <td>0</td>\n",
       "      <td>AFR</td>\n",
       "      <td>GWD</td>\n",
       "    </tr>\n",
       "    <tr>\n",
       "      <th>HG02666</th>\n",
       "      <td>0</td>\n",
       "      <td>0</td>\n",
       "      <td>HG02666,HG02624</td>\n",
       "      <td>AFR</td>\n",
       "      <td>GWD</td>\n",
       "    </tr>\n",
       "    <tr>\n",
       "      <th>HG03469</th>\n",
       "      <td>0</td>\n",
       "      <td>0</td>\n",
       "      <td>0</td>\n",
       "      <td>AFR</td>\n",
       "      <td>MSL</td>\n",
       "    </tr>\n",
       "    <tr>\n",
       "      <th>HG03484</th>\n",
       "      <td>0</td>\n",
       "      <td>0</td>\n",
       "      <td>HG03478,HG03469,HG03480</td>\n",
       "      <td>AFR</td>\n",
       "      <td>MSL</td>\n",
       "    </tr>\n",
       "    <tr>\n",
       "      <th>HG03478</th>\n",
       "      <td>0</td>\n",
       "      <td>0</td>\n",
       "      <td>0</td>\n",
       "      <td>AFR</td>\n",
       "      <td>MSL</td>\n",
       "    </tr>\n",
       "    <tr>\n",
       "      <th>HG03457</th>\n",
       "      <td>0</td>\n",
       "      <td>0</td>\n",
       "      <td>0</td>\n",
       "      <td>AFR</td>\n",
       "      <td>MSL</td>\n",
       "    </tr>\n",
       "    <tr>\n",
       "      <th>HG03073</th>\n",
       "      <td>0</td>\n",
       "      <td>0</td>\n",
       "      <td>HG03097</td>\n",
       "      <td>AFR</td>\n",
       "      <td>MSL</td>\n",
       "    </tr>\n",
       "    <tr>\n",
       "      <th>HG03097</th>\n",
       "      <td>0</td>\n",
       "      <td>0</td>\n",
       "      <td>HG03073</td>\n",
       "      <td>AFR</td>\n",
       "      <td>MSL</td>\n",
       "    </tr>\n",
       "  </tbody>\n",
       "</table>\n",
       "</div>"
      ],
      "text/plain": [
       "        Siblings Second Order              Third Order Panel Population code\n",
       "HG03352        0            0          HG03366,HG03343   AFR             ESN\n",
       "HG03366        0            0                  HG03352   AFR             ESN\n",
       "HG03343        0            0                  HG03352   AFR             ESN\n",
       "HG03372        0            0                  HG03301   AFR             ESN\n",
       "HG03268        0            0                  HG03271   AFR             ESN\n",
       "HG03301        0            0                  HG03372   AFR             ESN\n",
       "HG03271        0            0                  HG03268   AFR             ESN\n",
       "HG02624        0            0                        0   AFR             GWD\n",
       "HG02666        0            0          HG02666,HG02624   AFR             GWD\n",
       "HG03469        0            0                        0   AFR             MSL\n",
       "HG03484        0            0  HG03478,HG03469,HG03480   AFR             MSL\n",
       "HG03478        0            0                        0   AFR             MSL\n",
       "HG03457        0            0                        0   AFR             MSL\n",
       "HG03073        0            0                  HG03097   AFR             MSL\n",
       "HG03097        0            0                  HG03073   AFR             MSL"
      ]
     },
     "execution_count": 12,
     "metadata": {},
     "output_type": "execute_result"
    }
   ],
   "source": [
    "# Check for siblings\n",
    "rels=['Siblings', 'Second Order', 'Third Order']\n",
    "\n",
    "sibs=set()\n",
    "for rel in rels:\n",
    "    for inds in set(X[[rel]].to_numpy().flatten().tolist()):\n",
    "        if str(inds) in ['0','nan']:\n",
    "            continue\n",
    "        for ind in inds.split(','):\n",
    "            if ind in X.index:\n",
    "                sibs.add(ind)\n",
    "    print(rel+': '+str(len(sibs)))\n",
    "\n",
    "X.loc[list(sibs),rels+['Panel','Population code']].sort_values('Population code')"
   ]
  },
  {
   "cell_type": "code",
   "execution_count": 13,
   "metadata": {},
   "outputs": [
    {
     "name": "stdout",
     "output_type": "stream",
     "text": [
      "(1345, 45)\n"
     ]
    },
    {
     "data": {
      "text/plain": [
       "EAS    494\n",
       "AFR    367\n",
       "SAS    171\n",
       "EUR    154\n",
       "NAT     75\n",
       "WAS     66\n",
       "OCE     16\n",
       "Name: Panel, dtype: int64"
      ]
     },
     "execution_count": 13,
     "metadata": {},
     "output_type": "execute_result"
    }
   ],
   "source": [
    "# remove all third cousins\n",
    "X=X.drop(sibs)\n",
    "print(X.shape)\n",
    "X['Panel'].value_counts()"
   ]
  },
  {
   "cell_type": "code",
   "execution_count": 14,
   "metadata": {},
   "outputs": [
    {
     "data": {
      "text/plain": [
       "EAS    73\n",
       "AFR    54\n",
       "SAS    25\n",
       "EUR    22\n",
       "NAT    11\n",
       "WAS     9\n",
       "OCE     2\n",
       "Name: Panel, dtype: int64"
      ]
     },
     "execution_count": 14,
     "metadata": {},
     "output_type": "execute_result"
    }
   ],
   "source": [
    "# how many of each should we get if sampling randomly\n",
    "(X['Panel'].value_counts()*(200./X.shape[0])).astype(int)"
   ]
  },
  {
   "cell_type": "code",
   "execution_count": 15,
   "metadata": {},
   "outputs": [
    {
     "data": {
      "text/plain": [
       "EAS    70\n",
       "AFR    52\n",
       "SAS    24\n",
       "EUR    24\n",
       "NAT    16\n",
       "WAS    10\n",
       "OCE     4\n",
       "Name: Panel, dtype: int64"
      ]
     },
     "execution_count": 15,
     "metadata": {},
     "output_type": "execute_result"
    }
   ],
   "source": [
    "# select test set individuals with these sizes\n",
    "pop_n={'OCE':4, 'WAS':10,'NAT':16,'EUR':24,'SAS':24,'AFR':52,'EAS':70}\n",
    "test=[]\n",
    "for pop,n in pop_n.items():\n",
    "    # reproducibly sample\n",
    "    np.random.seed(10835412)\n",
    "    test+=np.random.choice(X[X['Panel']==pop].index, replace=False, size=n).tolist()\n",
    "X.loc[test,'Panel'].value_counts()"
   ]
  },
  {
   "cell_type": "code",
   "execution_count": 16,
   "metadata": {},
   "outputs": [
    {
     "data": {
      "text/plain": [
       "EAS    35\n",
       "AFR    26\n",
       "SAS    12\n",
       "EUR    12\n",
       "NAT     8\n",
       "WAS     5\n",
       "OCE     2\n",
       "Name: Panel, dtype: int64"
      ]
     },
     "execution_count": 16,
     "metadata": {},
     "output_type": "execute_result"
    }
   ],
   "source": [
    "# pick a (smaller) dev set in the same way\n",
    "dev=[]\n",
    "for pop,n in pop_n.items():\n",
    "    # reproducibly sample\n",
    "    np.random.seed(10835412)\n",
    "    dev+=np.random.choice(X[(X['Panel']==pop) & ~(X.index.isin(test))].index, \n",
    "                          replace=False, size=n//2).tolist()\n",
    "X.loc[dev,'Panel'].value_counts()"
   ]
  },
  {
   "cell_type": "code",
   "execution_count": 17,
   "metadata": {},
   "outputs": [
    {
     "data": {
      "text/plain": [
       "EAS    389\n",
       "AFR    289\n",
       "SAS    135\n",
       "EUR    118\n",
       "NAT     51\n",
       "WAS     51\n",
       "OCE     10\n",
       "Name: Panel, dtype: int64"
      ]
     },
     "execution_count": 17,
     "metadata": {},
     "output_type": "execute_result"
    }
   ],
   "source": [
    "# train set counts\n",
    "train=X.index[~(X.index.isin(test) | X.index.isin(dev))].to_numpy()\n",
    "X.loc[train,'Panel'].value_counts()"
   ]
  },
  {
   "cell_type": "code",
   "execution_count": 18,
   "metadata": {},
   "outputs": [],
   "source": [
    "# write to file -- with a safety\n",
    "if True: \n",
    "    for group,name in zip([train,dev,test],['train','dev','test']):\n",
    "        group=list(sorted(list(group)))\n",
    "        with open('split/'+name+'.txt','w') as o:\n",
    "            o.write('\\n'.join(group)+'\\n')\n",
    "        with open('split/'+name+'.strands.txt','w') as o:\n",
    "            o.write('\\n'.join([i+s for i in group for s in ['_S1','_S2']])+'\\n')\n",
    "        if name != 'train':\n",
    "            with open('split/'+name+'.superpop.txt','w') as o:\n",
    "                o.write('\\n'.join(['\\t'.join([i, X.loc[i,'Panel']]) for i in group])+'\\n')"
   ]
  },
  {
   "cell_type": "code",
   "execution_count": 19,
   "metadata": {},
   "outputs": [
    {
     "data": {
      "text/html": [
       "<div>\n",
       "<style scoped>\n",
       "    .dataframe tbody tr th:only-of-type {\n",
       "        vertical-align: middle;\n",
       "    }\n",
       "\n",
       "    .dataframe tbody tr th {\n",
       "        vertical-align: top;\n",
       "    }\n",
       "\n",
       "    .dataframe thead th {\n",
       "        text-align: right;\n",
       "    }\n",
       "</style>\n",
       "<table border=\"1\" class=\"dataframe\">\n",
       "  <thead>\n",
       "    <tr style=\"text-align: right;\">\n",
       "      <th></th>\n",
       "      <th>Train</th>\n",
       "      <th>Dev</th>\n",
       "      <th>Test</th>\n",
       "    </tr>\n",
       "  </thead>\n",
       "  <tbody>\n",
       "    <tr>\n",
       "      <th>EAS</th>\n",
       "      <td>389</td>\n",
       "      <td>35</td>\n",
       "      <td>70</td>\n",
       "    </tr>\n",
       "    <tr>\n",
       "      <th>AFR</th>\n",
       "      <td>289</td>\n",
       "      <td>26</td>\n",
       "      <td>52</td>\n",
       "    </tr>\n",
       "    <tr>\n",
       "      <th>SAS</th>\n",
       "      <td>135</td>\n",
       "      <td>12</td>\n",
       "      <td>24</td>\n",
       "    </tr>\n",
       "    <tr>\n",
       "      <th>EUR</th>\n",
       "      <td>118</td>\n",
       "      <td>12</td>\n",
       "      <td>24</td>\n",
       "    </tr>\n",
       "    <tr>\n",
       "      <th>NAT</th>\n",
       "      <td>51</td>\n",
       "      <td>8</td>\n",
       "      <td>16</td>\n",
       "    </tr>\n",
       "    <tr>\n",
       "      <th>WAS</th>\n",
       "      <td>51</td>\n",
       "      <td>5</td>\n",
       "      <td>10</td>\n",
       "    </tr>\n",
       "    <tr>\n",
       "      <th>OCE</th>\n",
       "      <td>10</td>\n",
       "      <td>2</td>\n",
       "      <td>4</td>\n",
       "    </tr>\n",
       "  </tbody>\n",
       "</table>\n",
       "</div>"
      ],
      "text/plain": [
       "     Train  Dev  Test\n",
       "EAS    389   35    70\n",
       "AFR    289   26    52\n",
       "SAS    135   12    24\n",
       "EUR    118   12    24\n",
       "NAT     51    8    16\n",
       "WAS     51    5    10\n",
       "OCE     10    2     4"
      ]
     },
     "execution_count": 19,
     "metadata": {},
     "output_type": "execute_result"
    }
   ],
   "source": [
    "pd.concat({'Train':X.loc[train,'Panel'].value_counts(), \n",
    "           'Dev':X.loc[dev,'Panel'].value_counts(), \n",
    "           'Test':X.loc[test,'Panel'].value_counts()}, axis=1)"
   ]
  }
 ],
 "metadata": {
  "kernelspec": {
   "display_name": "Python 2",
   "language": "python",
   "name": "python2"
  },
  "language_info": {
   "codemirror_mode": {
    "name": "ipython",
    "version": 3
   },
   "file_extension": ".py",
   "mimetype": "text/x-python",
   "name": "python",
   "nbconvert_exporter": "python",
   "pygments_lexer": "ipython3",
   "version": "3.6.9"
  }
 },
 "nbformat": 4,
 "nbformat_minor": 4
}
