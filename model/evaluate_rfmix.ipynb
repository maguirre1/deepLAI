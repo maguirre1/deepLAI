{
 "cells": [
  {
   "cell_type": "code",
   "execution_count": 1,
   "metadata": {
    "collapsed": true
   },
   "outputs": [],
   "source": [
    "import numpy as np\n",
    "import pandas as pd\n",
    "from sklearn.metrics import confusion_matrix"
   ]
  },
  {
   "cell_type": "code",
   "execution_count": 2,
   "metadata": {
    "collapsed": true
   },
   "outputs": [],
   "source": [
    "# find data, load\n",
    "data_dir='/scratch/users/magu/deepmix/data/simulated_chr20/'\n",
    "\n",
    "yhat_raw=pd.read_table(data_dir+'vcf/rf_out/dev_10gen.no_OCE_WAS.query.msp.tsv', skiprows=1)\n",
    "y=np.load(data_dir+'label/dev_10gen.no_OCE_WAS.result.npz')"
   ]
  },
  {
   "cell_type": "code",
   "execution_count": 4,
   "metadata": {},
   "outputs": [
    {
     "name": "stdout",
     "output_type": "stream",
     "text": [
      "(200,) 200\n"
     ]
    }
   ],
   "source": [
    "# match samples\n",
    "S=np.array([s.replace('_S1','.0').replace('_S2','.1') for s in y['S']])\n",
    "print(S.shape, np.sum(S==yhat_raw.columns[6:]))"
   ]
  },
  {
   "cell_type": "code",
   "execution_count": 5,
   "metadata": {
    "collapsed": true
   },
   "outputs": [],
   "source": [
    "# expand rfmix windows into variant-level assignments\n",
    "V_pos=y['V'][:,1].astype(int)\n",
    "yhat=pd.DataFrame(index=['_'.join(s) for s in y['V']], columns=S)\n",
    "\n",
    "for ix in range(yhat_raw.shape[0]):\n",
    "    ids=(yhat_raw.iloc[ix,1] <= V_pos) & (V_pos <= yhat_raw.iloc[ix,2])\n",
    "    yhat.iloc[ids,:]=np.vstack([yhat_raw.iloc[ix,6:] for _ in range(sum(ids))]).astype(int)+1"
   ]
  },
  {
   "cell_type": "code",
   "execution_count": 7,
   "metadata": {},
   "outputs": [],
   "source": [
    "# confusion\n",
    "cm=confusion_matrix(y['L'].flatten(), yhat.T.values.flatten().astype(int))"
   ]
  },
  {
   "cell_type": "code",
   "execution_count": 16,
   "metadata": {},
   "outputs": [
    {
     "data": {
      "text/plain": [
       "0.9797275934063595"
      ]
     },
     "execution_count": 16,
     "metadata": {},
     "output_type": "execute_result"
    }
   ],
   "source": [
    "# accuracy\n",
    "np.sum(np.diag(cm))/np.sum(cm) "
   ]
  },
  {
   "cell_type": "code",
   "execution_count": 17,
   "metadata": {},
   "outputs": [
    {
     "data": {
      "text/html": [
       "<div>\n",
       "<style scoped>\n",
       "    .dataframe tbody tr th:only-of-type {\n",
       "        vertical-align: middle;\n",
       "    }\n",
       "\n",
       "    .dataframe tbody tr th {\n",
       "        vertical-align: top;\n",
       "    }\n",
       "\n",
       "    .dataframe thead th {\n",
       "        text-align: right;\n",
       "    }\n",
       "</style>\n",
       "<table border=\"1\" class=\"dataframe\">\n",
       "  <thead>\n",
       "    <tr style=\"text-align: right;\">\n",
       "      <th></th>\n",
       "      <th>AFR</th>\n",
       "      <th>EAS</th>\n",
       "      <th>EUR</th>\n",
       "      <th>NAT</th>\n",
       "      <th>SAS</th>\n",
       "    </tr>\n",
       "  </thead>\n",
       "  <tbody>\n",
       "    <tr>\n",
       "      <th>AFR</th>\n",
       "      <td>0.992882</td>\n",
       "      <td>0.003226</td>\n",
       "      <td>0.002506</td>\n",
       "      <td>0.000625</td>\n",
       "      <td>0.000762</td>\n",
       "    </tr>\n",
       "    <tr>\n",
       "      <th>EAS</th>\n",
       "      <td>0.001376</td>\n",
       "      <td>0.981706</td>\n",
       "      <td>0.010637</td>\n",
       "      <td>0.002008</td>\n",
       "      <td>0.004273</td>\n",
       "    </tr>\n",
       "    <tr>\n",
       "      <th>EUR</th>\n",
       "      <td>0.001679</td>\n",
       "      <td>0.008379</td>\n",
       "      <td>0.975924</td>\n",
       "      <td>0.001055</td>\n",
       "      <td>0.012963</td>\n",
       "    </tr>\n",
       "    <tr>\n",
       "      <th>NAT</th>\n",
       "      <td>0.002250</td>\n",
       "      <td>0.008404</td>\n",
       "      <td>0.000906</td>\n",
       "      <td>0.988354</td>\n",
       "      <td>0.000086</td>\n",
       "    </tr>\n",
       "    <tr>\n",
       "      <th>SAS</th>\n",
       "      <td>0.001403</td>\n",
       "      <td>0.052143</td>\n",
       "      <td>0.029355</td>\n",
       "      <td>0.000711</td>\n",
       "      <td>0.916388</td>\n",
       "    </tr>\n",
       "  </tbody>\n",
       "</table>\n",
       "</div>"
      ],
      "text/plain": [
       "          AFR       EAS       EUR       NAT       SAS\n",
       "AFR  0.992882  0.003226  0.002506  0.000625  0.000762\n",
       "EAS  0.001376  0.981706  0.010637  0.002008  0.004273\n",
       "EUR  0.001679  0.008379  0.975924  0.001055  0.012963\n",
       "NAT  0.002250  0.008404  0.000906  0.988354  0.000086\n",
       "SAS  0.001403  0.052143  0.029355  0.000711  0.916388"
      ]
     },
     "execution_count": 17,
     "metadata": {},
     "output_type": "execute_result"
    }
   ],
   "source": [
    "# rows are truth, columns are labels;\n",
    "# sensitivity (row-normalized, diagonal is fraction of A which we say is A_hat)\n",
    "anc_label=['AFR', 'EAS', 'EUR', 'NAT', 'SAS']\n",
    "pd.DataFrame(cm, index=anc_label, columns=anc_label).divide(cm.sum(axis=1), axis=0)"
   ]
  },
  {
   "cell_type": "code",
   "execution_count": 18,
   "metadata": {},
   "outputs": [
    {
     "data": {
      "text/html": [
       "<div>\n",
       "<style scoped>\n",
       "    .dataframe tbody tr th:only-of-type {\n",
       "        vertical-align: middle;\n",
       "    }\n",
       "\n",
       "    .dataframe tbody tr th {\n",
       "        vertical-align: top;\n",
       "    }\n",
       "\n",
       "    .dataframe thead th {\n",
       "        text-align: right;\n",
       "    }\n",
       "</style>\n",
       "<table border=\"1\" class=\"dataframe\">\n",
       "  <thead>\n",
       "    <tr style=\"text-align: right;\">\n",
       "      <th></th>\n",
       "      <th>AFR</th>\n",
       "      <th>EAS</th>\n",
       "      <th>EUR</th>\n",
       "      <th>NAT</th>\n",
       "      <th>SAS</th>\n",
       "    </tr>\n",
       "  </thead>\n",
       "  <tbody>\n",
       "    <tr>\n",
       "      <th>AFR</th>\n",
       "      <td>0.996451</td>\n",
       "      <td>0.002431</td>\n",
       "      <td>0.005608</td>\n",
       "      <td>0.002275</td>\n",
       "      <td>0.003039</td>\n",
       "    </tr>\n",
       "    <tr>\n",
       "      <th>EAS</th>\n",
       "      <td>0.001834</td>\n",
       "      <td>0.982865</td>\n",
       "      <td>0.031624</td>\n",
       "      <td>0.009713</td>\n",
       "      <td>0.022635</td>\n",
       "    </tr>\n",
       "    <tr>\n",
       "      <th>EUR</th>\n",
       "      <td>0.000729</td>\n",
       "      <td>0.002732</td>\n",
       "      <td>0.945099</td>\n",
       "      <td>0.001662</td>\n",
       "      <td>0.022367</td>\n",
       "    </tr>\n",
       "    <tr>\n",
       "      <th>NAT</th>\n",
       "      <td>0.000619</td>\n",
       "      <td>0.001735</td>\n",
       "      <td>0.000555</td>\n",
       "      <td>0.985677</td>\n",
       "      <td>0.000094</td>\n",
       "    </tr>\n",
       "    <tr>\n",
       "      <th>SAS</th>\n",
       "      <td>0.000367</td>\n",
       "      <td>0.010237</td>\n",
       "      <td>0.017114</td>\n",
       "      <td>0.000674</td>\n",
       "      <td>0.951865</td>\n",
       "    </tr>\n",
       "  </tbody>\n",
       "</table>\n",
       "</div>"
      ],
      "text/plain": [
       "          AFR       EAS       EUR       NAT       SAS\n",
       "AFR  0.996451  0.002431  0.005608  0.002275  0.003039\n",
       "EAS  0.001834  0.982865  0.031624  0.009713  0.022635\n",
       "EUR  0.000729  0.002732  0.945099  0.001662  0.022367\n",
       "NAT  0.000619  0.001735  0.000555  0.985677  0.000094\n",
       "SAS  0.000367  0.010237  0.017114  0.000674  0.951865"
      ]
     },
     "execution_count": 18,
     "metadata": {},
     "output_type": "execute_result"
    }
   ],
   "source": [
    "# specificity (column-normalized, diagonal is fraction of A_hat which is truly A)\n",
    "pd.DataFrame(cm, index=anc_label, columns=anc_label).divide(cm.sum(axis=0), axis=1)"
   ]
  },
  {
   "cell_type": "code",
   "execution_count": 20,
   "metadata": {},
   "outputs": [
    {
     "data": {
      "text/html": [
       "<div>\n",
       "<style scoped>\n",
       "    .dataframe tbody tr th:only-of-type {\n",
       "        vertical-align: middle;\n",
       "    }\n",
       "\n",
       "    .dataframe tbody tr th {\n",
       "        vertical-align: top;\n",
       "    }\n",
       "\n",
       "    .dataframe thead th {\n",
       "        text-align: right;\n",
       "    }\n",
       "</style>\n",
       "<table border=\"1\" class=\"dataframe\">\n",
       "  <thead>\n",
       "    <tr style=\"text-align: right;\">\n",
       "      <th></th>\n",
       "      <th>AFR</th>\n",
       "      <th>EAS</th>\n",
       "      <th>EUR</th>\n",
       "      <th>NAT</th>\n",
       "      <th>SAS</th>\n",
       "    </tr>\n",
       "  </thead>\n",
       "  <tbody>\n",
       "    <tr>\n",
       "      <th>AFR</th>\n",
       "      <td>31140268</td>\n",
       "      <td>101173</td>\n",
       "      <td>78588</td>\n",
       "      <td>19595</td>\n",
       "      <td>23903</td>\n",
       "    </tr>\n",
       "    <tr>\n",
       "      <th>EAS</th>\n",
       "      <td>57323</td>\n",
       "      <td>40902264</td>\n",
       "      <td>443180</td>\n",
       "      <td>83667</td>\n",
       "      <td>178036</td>\n",
       "    </tr>\n",
       "    <tr>\n",
       "      <th>EUR</th>\n",
       "      <td>22787</td>\n",
       "      <td>113708</td>\n",
       "      <td>13244516</td>\n",
       "      <td>14317</td>\n",
       "      <td>175927</td>\n",
       "    </tr>\n",
       "    <tr>\n",
       "      <th>NAT</th>\n",
       "      <td>19332</td>\n",
       "      <td>72203</td>\n",
       "      <td>7782</td>\n",
       "      <td>8490966</td>\n",
       "      <td>738</td>\n",
       "    </tr>\n",
       "    <tr>\n",
       "      <th>SAS</th>\n",
       "      <td>11459</td>\n",
       "      <td>426008</td>\n",
       "      <td>239827</td>\n",
       "      <td>5807</td>\n",
       "      <td>7486826</td>\n",
       "    </tr>\n",
       "  </tbody>\n",
       "</table>\n",
       "</div>"
      ],
      "text/plain": [
       "          AFR       EAS       EUR      NAT      SAS\n",
       "AFR  31140268    101173     78588    19595    23903\n",
       "EAS     57323  40902264    443180    83667   178036\n",
       "EUR     22787    113708  13244516    14317   175927\n",
       "NAT     19332     72203      7782  8490966      738\n",
       "SAS     11459    426008    239827     5807  7486826"
      ]
     },
     "execution_count": 20,
     "metadata": {},
     "output_type": "execute_result"
    }
   ],
   "source": [
    "pd.DataFrame(cm, index=anc_label, columns=anc_label)"
   ]
  },
  {
   "cell_type": "code",
   "execution_count": null,
   "metadata": {
    "collapsed": true
   },
   "outputs": [],
   "source": []
  }
 ],
 "metadata": {
  "kernelspec": {
   "display_name": "Python 3",
   "language": "python",
   "name": "python3"
  },
  "language_info": {
   "codemirror_mode": {
    "name": "ipython",
    "version": 3
   },
   "file_extension": ".py",
   "mimetype": "text/x-python",
   "name": "python",
   "nbconvert_exporter": "python",
   "pygments_lexer": "ipython3",
   "version": "3.6.1"
  }
 },
 "nbformat": 4,
 "nbformat_minor": 2
}
