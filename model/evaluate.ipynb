{
 "cells": [
  {
   "cell_type": "code",
   "execution_count": 1,
   "metadata": {
    "collapsed": true
   },
   "outputs": [],
   "source": [
    "import glob\n",
    "import numpy as np\n",
    "import pandas as pd\n",
    "import tensorflow as tf\n",
    "from segnet import segnet\n",
    "from train import load_dev_set"
   ]
  },
  {
   "cell_type": "code",
   "execution_count": 2,
   "metadata": {},
   "outputs": [
    {
     "data": {
      "text/plain": [
       "['weights/chr20.full.161.var_index.txt',\n",
       " 'weights/chr20.full.161.v2.dev.sqrt_ivw.h5',\n",
       " 'weights/chr20.full.161.h5',\n",
       " 'weights/chr20.full.161.log.csv',\n",
       " 'weights/chr20.full.161.v2.ivw.h5',\n",
       " 'weights/chr20.full.161.info.png',\n",
       " 'weights/chr20.full.161.v2.ivw.log.csv',\n",
       " 'weights/chr20.full.161.v2.ivw.var_index.txt']"
      ]
     },
     "execution_count": 2,
     "metadata": {},
     "output_type": "execute_result"
    }
   ],
   "source": [
    "prefix='weights/chr20.full.161'\n",
    "glob.glob(prefix+'*')"
   ]
  },
  {
   "cell_type": "code",
   "execution_count": 3,
   "metadata": {},
   "outputs": [
    {
     "name": "stdout",
     "output_type": "stream",
     "text": [
      "(452352,)\n"
     ]
    }
   ],
   "source": [
    "v = np.loadtxt(prefix+'.var_index.txt', dtype=int)\n",
    "print(v.shape)"
   ]
  },
  {
   "cell_type": "code",
   "execution_count": 4,
   "metadata": {
    "collapsed": true
   },
   "outputs": [],
   "source": [
    "model=segnet(input_shape=(v.shape[0], 2), n_classes=5, n_blocks=4, n_filters=12, width=24)\n",
    "model.compile(tf.keras.optimizers.Adam(lr=3e-4, beta_1=0.9), \n",
    "              loss='categorical_crossentropy', metrics=['accuracy'])\n",
    "model.load_weights(prefix+'.h5')"
   ]
  },
  {
   "cell_type": "code",
   "execution_count": 5,
   "metadata": {},
   "outputs": [
    {
     "name": "stdout",
     "output_type": "stream",
     "text": [
      "[(120, 516801, 2), (120, 516801, 5)]\n"
     ]
    }
   ],
   "source": [
    "X, Y, S = load_dev_set()"
   ]
  },
  {
   "cell_type": "code",
   "execution_count": 6,
   "metadata": {},
   "outputs": [
    {
     "name": "stdout",
     "output_type": "stream",
     "text": [
      "(120, 452352, 2) (120, 452352, 5)\n"
     ]
    }
   ],
   "source": [
    "X=X[:,v,:]\n",
    "Y=Y[:,v,:]\n",
    "print(X.shape, Y.shape)"
   ]
  },
  {
   "cell_type": "code",
   "execution_count": 7,
   "metadata": {},
   "outputs": [
    {
     "name": "stdout",
     "output_type": "stream",
     "text": [
      "120/120 [==============================] - 706s 6s/sample - loss: 0.4645 - accuracy: 0.8565\n"
     ]
    }
   ],
   "source": [
    "loss, acc = model.evaluate(X, Y, batch_size=2, verbose=1)"
   ]
  },
  {
   "cell_type": "code",
   "execution_count": 8,
   "metadata": {},
   "outputs": [
    {
     "name": "stdout",
     "output_type": "stream",
     "text": [
      "0.4644923582673073 0.8565428\n"
     ]
    }
   ],
   "source": [
    "Yhat=model.predict(X)\n",
    "print(loss, acc)"
   ]
  },
  {
   "cell_type": "code",
   "execution_count": 9,
   "metadata": {},
   "outputs": [
    {
     "data": {
      "text/plain": [
       "0.8565432450834748"
      ]
     },
     "execution_count": 9,
     "metadata": {},
     "output_type": "execute_result"
    }
   ],
   "source": [
    "cf=tf.math.confusion_matrix(Y.dot(np.arange(5)).flatten(), \n",
    "                            Yhat.argmax(axis=-1).flatten()).numpy()\n",
    "np.sum(np.diag(cf))/np.sum(cf)"
   ]
  },
  {
   "cell_type": "code",
   "execution_count": 10,
   "metadata": {},
   "outputs": [
    {
     "data": {
      "text/html": [
       "<div>\n",
       "<style scoped>\n",
       "    .dataframe tbody tr th:only-of-type {\n",
       "        vertical-align: middle;\n",
       "    }\n",
       "\n",
       "    .dataframe tbody tr th {\n",
       "        vertical-align: top;\n",
       "    }\n",
       "\n",
       "    .dataframe thead th {\n",
       "        text-align: right;\n",
       "    }\n",
       "</style>\n",
       "<table border=\"1\" class=\"dataframe\">\n",
       "  <thead>\n",
       "    <tr style=\"text-align: right;\">\n",
       "      <th></th>\n",
       "      <th>AFR</th>\n",
       "      <th>EAS</th>\n",
       "      <th>EUR</th>\n",
       "      <th>NAT</th>\n",
       "      <th>SAS</th>\n",
       "    </tr>\n",
       "  </thead>\n",
       "  <tbody>\n",
       "    <tr>\n",
       "      <th>AFR</th>\n",
       "      <td>16072773</td>\n",
       "      <td>107495</td>\n",
       "      <td>175816</td>\n",
       "      <td>832</td>\n",
       "      <td>284088</td>\n",
       "    </tr>\n",
       "    <tr>\n",
       "      <th>EAS</th>\n",
       "      <td>47443</td>\n",
       "      <td>20061055</td>\n",
       "      <td>71680</td>\n",
       "      <td>200631</td>\n",
       "      <td>595500</td>\n",
       "    </tr>\n",
       "    <tr>\n",
       "      <th>EUR</th>\n",
       "      <td>253457</td>\n",
       "      <td>280419</td>\n",
       "      <td>5057446</td>\n",
       "      <td>237562</td>\n",
       "      <td>1872729</td>\n",
       "    </tr>\n",
       "    <tr>\n",
       "      <th>NAT</th>\n",
       "      <td>6582</td>\n",
       "      <td>993670</td>\n",
       "      <td>87501</td>\n",
       "      <td>3025110</td>\n",
       "      <td>108918</td>\n",
       "    </tr>\n",
       "    <tr>\n",
       "      <th>SAS</th>\n",
       "      <td>143345</td>\n",
       "      <td>1230731</td>\n",
       "      <td>904682</td>\n",
       "      <td>184073</td>\n",
       "      <td>2278702</td>\n",
       "    </tr>\n",
       "  </tbody>\n",
       "</table>\n",
       "</div>"
      ],
      "text/plain": [
       "          AFR       EAS      EUR      NAT      SAS\n",
       "AFR  16072773    107495   175816      832   284088\n",
       "EAS     47443  20061055    71680   200631   595500\n",
       "EUR    253457    280419  5057446   237562  1872729\n",
       "NAT      6582    993670    87501  3025110   108918\n",
       "SAS    143345   1230731   904682   184073  2278702"
      ]
     },
     "execution_count": 10,
     "metadata": {},
     "output_type": "execute_result"
    }
   ],
   "source": [
    "anc=np.array(['AFR','EAS','EUR','NAT','SAS'])\n",
    "pd.DataFrame(cf, index=anc, columns=anc)"
   ]
  },
  {
   "cell_type": "code",
   "execution_count": 11,
   "metadata": {},
   "outputs": [
    {
     "data": {
      "text/html": [
       "<div>\n",
       "<style scoped>\n",
       "    .dataframe tbody tr th:only-of-type {\n",
       "        vertical-align: middle;\n",
       "    }\n",
       "\n",
       "    .dataframe tbody tr th {\n",
       "        vertical-align: top;\n",
       "    }\n",
       "\n",
       "    .dataframe thead th {\n",
       "        text-align: right;\n",
       "    }\n",
       "</style>\n",
       "<table border=\"1\" class=\"dataframe\">\n",
       "  <thead>\n",
       "    <tr style=\"text-align: right;\">\n",
       "      <th></th>\n",
       "      <th>AFR</th>\n",
       "      <th>EAS</th>\n",
       "      <th>EUR</th>\n",
       "      <th>NAT</th>\n",
       "      <th>SAS</th>\n",
       "    </tr>\n",
       "  </thead>\n",
       "  <tbody>\n",
       "    <tr>\n",
       "      <th>AFR</th>\n",
       "      <td>16072773</td>\n",
       "      <td>107495</td>\n",
       "      <td>175816</td>\n",
       "      <td>832</td>\n",
       "      <td>284088</td>\n",
       "    </tr>\n",
       "    <tr>\n",
       "      <th>EAS</th>\n",
       "      <td>47443</td>\n",
       "      <td>20061055</td>\n",
       "      <td>71680</td>\n",
       "      <td>200631</td>\n",
       "      <td>595500</td>\n",
       "    </tr>\n",
       "    <tr>\n",
       "      <th>EUR</th>\n",
       "      <td>253457</td>\n",
       "      <td>280419</td>\n",
       "      <td>5057446</td>\n",
       "      <td>237562</td>\n",
       "      <td>1872729</td>\n",
       "    </tr>\n",
       "    <tr>\n",
       "      <th>NAT</th>\n",
       "      <td>6582</td>\n",
       "      <td>993670</td>\n",
       "      <td>87501</td>\n",
       "      <td>3025110</td>\n",
       "      <td>108918</td>\n",
       "    </tr>\n",
       "    <tr>\n",
       "      <th>SAS</th>\n",
       "      <td>143345</td>\n",
       "      <td>1230731</td>\n",
       "      <td>904682</td>\n",
       "      <td>184073</td>\n",
       "      <td>2278702</td>\n",
       "    </tr>\n",
       "  </tbody>\n",
       "</table>\n",
       "</div>"
      ],
      "text/plain": [
       "          AFR       EAS      EUR      NAT      SAS\n",
       "AFR  16072773    107495   175816      832   284088\n",
       "EAS     47443  20061055    71680   200631   595500\n",
       "EUR    253457    280419  5057446   237562  1872729\n",
       "NAT      6582    993670    87501  3025110   108918\n",
       "SAS    143345   1230731   904682   184073  2278702"
      ]
     },
     "execution_count": 11,
     "metadata": {},
     "output_type": "execute_result"
    }
   ],
   "source": [
    "ix=np.array([0,1,2,3,4])\n",
    "pd.DataFrame(cf[np.ix_(ix,ix)], index=anc[ix], columns=anc[ix])"
   ]
  },
  {
   "cell_type": "code",
   "execution_count": 12,
   "metadata": {},
   "outputs": [
    {
     "data": {
      "text/html": [
       "<div>\n",
       "<style scoped>\n",
       "    .dataframe tbody tr th:only-of-type {\n",
       "        vertical-align: middle;\n",
       "    }\n",
       "\n",
       "    .dataframe tbody tr th {\n",
       "        vertical-align: top;\n",
       "    }\n",
       "\n",
       "    .dataframe thead th {\n",
       "        text-align: right;\n",
       "    }\n",
       "</style>\n",
       "<table border=\"1\" class=\"dataframe\">\n",
       "  <thead>\n",
       "    <tr style=\"text-align: right;\">\n",
       "      <th></th>\n",
       "      <th>AFR</th>\n",
       "      <th>EAS</th>\n",
       "      <th>EUR</th>\n",
       "      <th>NAT</th>\n",
       "      <th>SAS</th>\n",
       "    </tr>\n",
       "  </thead>\n",
       "  <tbody>\n",
       "    <tr>\n",
       "      <th>AFR</th>\n",
       "      <td>0.972716</td>\n",
       "      <td>0.004741</td>\n",
       "      <td>0.027920</td>\n",
       "      <td>0.000228</td>\n",
       "      <td>0.055271</td>\n",
       "    </tr>\n",
       "    <tr>\n",
       "      <th>EAS</th>\n",
       "      <td>0.002871</td>\n",
       "      <td>0.884785</td>\n",
       "      <td>0.011383</td>\n",
       "      <td>0.054994</td>\n",
       "      <td>0.115857</td>\n",
       "    </tr>\n",
       "    <tr>\n",
       "      <th>EUR</th>\n",
       "      <td>0.015339</td>\n",
       "      <td>0.012368</td>\n",
       "      <td>0.803136</td>\n",
       "      <td>0.065117</td>\n",
       "      <td>0.364349</td>\n",
       "    </tr>\n",
       "    <tr>\n",
       "      <th>NAT</th>\n",
       "      <td>0.000398</td>\n",
       "      <td>0.043825</td>\n",
       "      <td>0.013895</td>\n",
       "      <td>0.829204</td>\n",
       "      <td>0.021191</td>\n",
       "    </tr>\n",
       "    <tr>\n",
       "      <th>SAS</th>\n",
       "      <td>0.008675</td>\n",
       "      <td>0.054281</td>\n",
       "      <td>0.143666</td>\n",
       "      <td>0.050456</td>\n",
       "      <td>0.443333</td>\n",
       "    </tr>\n",
       "  </tbody>\n",
       "</table>\n",
       "</div>"
      ],
      "text/plain": [
       "          AFR       EAS       EUR       NAT       SAS\n",
       "AFR  0.972716  0.004741  0.027920  0.000228  0.055271\n",
       "EAS  0.002871  0.884785  0.011383  0.054994  0.115857\n",
       "EUR  0.015339  0.012368  0.803136  0.065117  0.364349\n",
       "NAT  0.000398  0.043825  0.013895  0.829204  0.021191\n",
       "SAS  0.008675  0.054281  0.143666  0.050456  0.443333"
      ]
     },
     "execution_count": 12,
     "metadata": {},
     "output_type": "execute_result"
    }
   ],
   "source": [
    "# specificity (column-normalized, diagonal is fraction of A_hat which is truly A)\n",
    "pd.DataFrame(cf[np.ix_(ix,ix)], index=anc[ix], columns=anc[ix]).divide(\n",
    "    cf[np.ix_(ix,ix)].sum(axis=0), axis=1)"
   ]
  },
  {
   "cell_type": "code",
   "execution_count": 13,
   "metadata": {},
   "outputs": [
    {
     "data": {
      "text/html": [
       "<div>\n",
       "<style scoped>\n",
       "    .dataframe tbody tr th:only-of-type {\n",
       "        vertical-align: middle;\n",
       "    }\n",
       "\n",
       "    .dataframe tbody tr th {\n",
       "        vertical-align: top;\n",
       "    }\n",
       "\n",
       "    .dataframe thead th {\n",
       "        text-align: right;\n",
       "    }\n",
       "</style>\n",
       "<table border=\"1\" class=\"dataframe\">\n",
       "  <thead>\n",
       "    <tr style=\"text-align: right;\">\n",
       "      <th></th>\n",
       "      <th>AFR</th>\n",
       "      <th>EAS</th>\n",
       "      <th>EUR</th>\n",
       "      <th>NAT</th>\n",
       "      <th>SAS</th>\n",
       "    </tr>\n",
       "  </thead>\n",
       "  <tbody>\n",
       "    <tr>\n",
       "      <th>AFR</th>\n",
       "      <td>0.965854</td>\n",
       "      <td>0.006460</td>\n",
       "      <td>0.010565</td>\n",
       "      <td>0.000050</td>\n",
       "      <td>0.017072</td>\n",
       "    </tr>\n",
       "    <tr>\n",
       "      <th>EAS</th>\n",
       "      <td>0.002262</td>\n",
       "      <td>0.956367</td>\n",
       "      <td>0.003417</td>\n",
       "      <td>0.009565</td>\n",
       "      <td>0.028389</td>\n",
       "    </tr>\n",
       "    <tr>\n",
       "      <th>EUR</th>\n",
       "      <td>0.032910</td>\n",
       "      <td>0.036410</td>\n",
       "      <td>0.656674</td>\n",
       "      <td>0.030846</td>\n",
       "      <td>0.243161</td>\n",
       "    </tr>\n",
       "    <tr>\n",
       "      <th>NAT</th>\n",
       "      <td>0.001559</td>\n",
       "      <td>0.235367</td>\n",
       "      <td>0.020726</td>\n",
       "      <td>0.716548</td>\n",
       "      <td>0.025799</td>\n",
       "    </tr>\n",
       "    <tr>\n",
       "      <th>SAS</th>\n",
       "      <td>0.030232</td>\n",
       "      <td>0.259564</td>\n",
       "      <td>0.190799</td>\n",
       "      <td>0.038821</td>\n",
       "      <td>0.480583</td>\n",
       "    </tr>\n",
       "  </tbody>\n",
       "</table>\n",
       "</div>"
      ],
      "text/plain": [
       "          AFR       EAS       EUR       NAT       SAS\n",
       "AFR  0.965854  0.006460  0.010565  0.000050  0.017072\n",
       "EAS  0.002262  0.956367  0.003417  0.009565  0.028389\n",
       "EUR  0.032910  0.036410  0.656674  0.030846  0.243161\n",
       "NAT  0.001559  0.235367  0.020726  0.716548  0.025799\n",
       "SAS  0.030232  0.259564  0.190799  0.038821  0.480583"
      ]
     },
     "execution_count": 13,
     "metadata": {},
     "output_type": "execute_result"
    }
   ],
   "source": [
    "# sensitivity (row-normalized, diagonal is fraction of A which we say is A_hat)\n",
    "pd.DataFrame(cf[np.ix_(ix,ix)], index=anc[ix], columns=anc[ix]).divide(\n",
    "    cf[np.ix_(ix,ix)].sum(axis=1), axis=0)"
   ]
  },
  {
   "cell_type": "code",
   "execution_count": 14,
   "metadata": {},
   "outputs": [
    {
     "data": {
      "text/plain": [
       "0.8565432450834748"
      ]
     },
     "execution_count": 14,
     "metadata": {},
     "output_type": "execute_result"
    }
   ],
   "source": [
    "np.sum(np.diag(cf[ix,:][:,ix]))/np.sum(cf[ix,:][:,ix])"
   ]
  },
  {
   "cell_type": "code",
   "execution_count": 15,
   "metadata": {
    "collapsed": true
   },
   "outputs": [],
   "source": [
    "from train import load_train_set\n",
    "from generator import DataGenerator"
   ]
  },
  {
   "cell_type": "code",
   "execution_count": 16,
   "metadata": {},
   "outputs": [
    {
     "name": "stdout",
     "output_type": "stream",
     "text": [
      "[(2764, 516801, 2), (2764, 516801, 7), (2764,), 2090]\n"
     ]
    }
   ],
   "source": [
    "x,y,s,_,_,_,_=load_train_set()\n",
    "t=np.array([i for i in range(x.shape[0]) if y[i,0,:].dot(np.arange(y.shape[-1])) not in [4,6]])\n",
    "x=x[np.ix_(t,v,np.arange(x.shape[-1]))]\n",
    "y=y[np.ix_(t,v,np.array([0,1,2,3,5]))]"
   ]
  },
  {
   "cell_type": "code",
   "execution_count": 17,
   "metadata": {
    "scrolled": false
   },
   "outputs": [],
   "source": [
    "if False: # train some more epochs with frequency-weighted loss, then you can rerun the above\n",
    "    hh=model.fit(DataGenerator(train_ix=np.arange(x.shape[0]), batch_size=8, dim=x.shape[1], \n",
    "                               n_alleles=x.shape[-1], n_classes=5, X=x, Y=y, \n",
    "                               shuffle=True, sample=True, admix=False, anc_wts=None), \n",
    "                 validation_data=DataGenerator(train_ix=np.arange(x.shape[0]), batch_size=8, \n",
    "                                               dim=X.shape[1], X=x, Y=y, \n",
    "                                               n_alleles=X.shape[-1], n_classes=Y.shape[-1]), \n",
    "                 class_weight=np.sqrt(1/cf.sum(axis=1)), epochs=50)"
   ]
  },
  {
   "cell_type": "code",
   "execution_count": 18,
   "metadata": {
    "collapsed": true
   },
   "outputs": [],
   "source": [
    "model.load_weights(prefix+'.v2.dev.sqrt_ivw.h5')"
   ]
  },
  {
   "cell_type": "code",
   "execution_count": 19,
   "metadata": {},
   "outputs": [
    {
     "name": "stdout",
     "output_type": "stream",
     "text": [
      "120/120 [==============================] - 13s 104ms/sample - loss: 0.2383 - accuracy: 0.9285\n",
      "0.23825881481170655 0.92848134\n"
     ]
    }
   ],
   "source": [
    "loss, acc = model.evaluate(X, Y, batch_size=2, verbose=1)\n",
    "Yhat=model.predict(X)\n",
    "print(loss, acc)"
   ]
  },
  {
   "cell_type": "code",
   "execution_count": 20,
   "metadata": {},
   "outputs": [
    {
     "data": {
      "text/plain": [
       "0.9284815070269761"
      ]
     },
     "execution_count": 20,
     "metadata": {},
     "output_type": "execute_result"
    }
   ],
   "source": [
    "cf=tf.math.confusion_matrix(Y.dot(np.arange(5)).flatten(), \n",
    "                            Yhat.argmax(axis=-1).flatten()).numpy()\n",
    "np.sum(np.diag(cf))/np.sum(cf)"
   ]
  },
  {
   "cell_type": "code",
   "execution_count": 21,
   "metadata": {},
   "outputs": [
    {
     "data": {
      "text/html": [
       "<div>\n",
       "<style scoped>\n",
       "    .dataframe tbody tr th:only-of-type {\n",
       "        vertical-align: middle;\n",
       "    }\n",
       "\n",
       "    .dataframe tbody tr th {\n",
       "        vertical-align: top;\n",
       "    }\n",
       "\n",
       "    .dataframe thead th {\n",
       "        text-align: right;\n",
       "    }\n",
       "</style>\n",
       "<table border=\"1\" class=\"dataframe\">\n",
       "  <thead>\n",
       "    <tr style=\"text-align: right;\">\n",
       "      <th></th>\n",
       "      <th>AFR</th>\n",
       "      <th>EAS</th>\n",
       "      <th>EUR</th>\n",
       "      <th>NAT</th>\n",
       "      <th>SAS</th>\n",
       "    </tr>\n",
       "  </thead>\n",
       "  <tbody>\n",
       "    <tr>\n",
       "      <th>AFR</th>\n",
       "      <td>16133894</td>\n",
       "      <td>111127</td>\n",
       "      <td>68322</td>\n",
       "      <td>1683</td>\n",
       "      <td>325978</td>\n",
       "    </tr>\n",
       "    <tr>\n",
       "      <th>EAS</th>\n",
       "      <td>45146</td>\n",
       "      <td>20104787</td>\n",
       "      <td>23963</td>\n",
       "      <td>65368</td>\n",
       "      <td>737045</td>\n",
       "    </tr>\n",
       "    <tr>\n",
       "      <th>EUR</th>\n",
       "      <td>225375</td>\n",
       "      <td>65225</td>\n",
       "      <td>6431720</td>\n",
       "      <td>17524</td>\n",
       "      <td>961769</td>\n",
       "    </tr>\n",
       "    <tr>\n",
       "      <th>NAT</th>\n",
       "      <td>4513</td>\n",
       "      <td>111656</td>\n",
       "      <td>77458</td>\n",
       "      <td>3976136</td>\n",
       "      <td>52018</td>\n",
       "    </tr>\n",
       "    <tr>\n",
       "      <th>SAS</th>\n",
       "      <td>126979</td>\n",
       "      <td>297317</td>\n",
       "      <td>546137</td>\n",
       "      <td>17581</td>\n",
       "      <td>3753519</td>\n",
       "    </tr>\n",
       "  </tbody>\n",
       "</table>\n",
       "</div>"
      ],
      "text/plain": [
       "          AFR       EAS      EUR      NAT      SAS\n",
       "AFR  16133894    111127    68322     1683   325978\n",
       "EAS     45146  20104787    23963    65368   737045\n",
       "EUR    225375     65225  6431720    17524   961769\n",
       "NAT      4513    111656    77458  3976136    52018\n",
       "SAS    126979    297317   546137    17581  3753519"
      ]
     },
     "execution_count": 21,
     "metadata": {},
     "output_type": "execute_result"
    }
   ],
   "source": [
    "anc=np.array(['AFR','EAS','EUR','NAT','SAS'])\n",
    "ix=np.array([0,1,2,3,4])\n",
    "pd.DataFrame(cf[np.ix_(ix,ix)], index=anc[ix], columns=anc[ix])"
   ]
  },
  {
   "cell_type": "code",
   "execution_count": 22,
   "metadata": {},
   "outputs": [
    {
     "data": {
      "text/html": [
       "<div>\n",
       "<style scoped>\n",
       "    .dataframe tbody tr th:only-of-type {\n",
       "        vertical-align: middle;\n",
       "    }\n",
       "\n",
       "    .dataframe tbody tr th {\n",
       "        vertical-align: top;\n",
       "    }\n",
       "\n",
       "    .dataframe thead th {\n",
       "        text-align: right;\n",
       "    }\n",
       "</style>\n",
       "<table border=\"1\" class=\"dataframe\">\n",
       "  <thead>\n",
       "    <tr style=\"text-align: right;\">\n",
       "      <th></th>\n",
       "      <th>AFR</th>\n",
       "      <th>EAS</th>\n",
       "      <th>EUR</th>\n",
       "      <th>NAT</th>\n",
       "      <th>SAS</th>\n",
       "    </tr>\n",
       "  </thead>\n",
       "  <tbody>\n",
       "    <tr>\n",
       "      <th>AFR</th>\n",
       "      <td>0.975688</td>\n",
       "      <td>0.005371</td>\n",
       "      <td>0.009559</td>\n",
       "      <td>0.000413</td>\n",
       "      <td>0.055911</td>\n",
       "    </tr>\n",
       "    <tr>\n",
       "      <th>EAS</th>\n",
       "      <td>0.002730</td>\n",
       "      <td>0.971710</td>\n",
       "      <td>0.003353</td>\n",
       "      <td>0.016028</td>\n",
       "      <td>0.126416</td>\n",
       "    </tr>\n",
       "    <tr>\n",
       "      <th>EUR</th>\n",
       "      <td>0.013629</td>\n",
       "      <td>0.003152</td>\n",
       "      <td>0.899843</td>\n",
       "      <td>0.004297</td>\n",
       "      <td>0.164960</td>\n",
       "    </tr>\n",
       "    <tr>\n",
       "      <th>NAT</th>\n",
       "      <td>0.000273</td>\n",
       "      <td>0.005397</td>\n",
       "      <td>0.010837</td>\n",
       "      <td>0.974951</td>\n",
       "      <td>0.008922</td>\n",
       "    </tr>\n",
       "    <tr>\n",
       "      <th>SAS</th>\n",
       "      <td>0.007679</td>\n",
       "      <td>0.014370</td>\n",
       "      <td>0.076408</td>\n",
       "      <td>0.004311</td>\n",
       "      <td>0.643792</td>\n",
       "    </tr>\n",
       "  </tbody>\n",
       "</table>\n",
       "</div>"
      ],
      "text/plain": [
       "          AFR       EAS       EUR       NAT       SAS\n",
       "AFR  0.975688  0.005371  0.009559  0.000413  0.055911\n",
       "EAS  0.002730  0.971710  0.003353  0.016028  0.126416\n",
       "EUR  0.013629  0.003152  0.899843  0.004297  0.164960\n",
       "NAT  0.000273  0.005397  0.010837  0.974951  0.008922\n",
       "SAS  0.007679  0.014370  0.076408  0.004311  0.643792"
      ]
     },
     "execution_count": 22,
     "metadata": {},
     "output_type": "execute_result"
    }
   ],
   "source": [
    "# specificity (column-normalized, diagonal is fraction of A_hat which is truly A)\n",
    "pd.DataFrame(cf[np.ix_(ix,ix)], index=anc[ix], columns=anc[ix]).divide(\n",
    "    cf[np.ix_(ix,ix)].sum(axis=0), axis=1)"
   ]
  },
  {
   "cell_type": "code",
   "execution_count": 23,
   "metadata": {},
   "outputs": [
    {
     "data": {
      "text/html": [
       "<div>\n",
       "<style scoped>\n",
       "    .dataframe tbody tr th:only-of-type {\n",
       "        vertical-align: middle;\n",
       "    }\n",
       "\n",
       "    .dataframe tbody tr th {\n",
       "        vertical-align: top;\n",
       "    }\n",
       "\n",
       "    .dataframe thead th {\n",
       "        text-align: right;\n",
       "    }\n",
       "</style>\n",
       "<table border=\"1\" class=\"dataframe\">\n",
       "  <thead>\n",
       "    <tr style=\"text-align: right;\">\n",
       "      <th></th>\n",
       "      <th>AFR</th>\n",
       "      <th>EAS</th>\n",
       "      <th>EUR</th>\n",
       "      <th>NAT</th>\n",
       "      <th>SAS</th>\n",
       "    </tr>\n",
       "  </thead>\n",
       "  <tbody>\n",
       "    <tr>\n",
       "      <th>AFR</th>\n",
       "      <td>0.969526</td>\n",
       "      <td>0.006678</td>\n",
       "      <td>0.004106</td>\n",
       "      <td>0.000101</td>\n",
       "      <td>0.019589</td>\n",
       "    </tr>\n",
       "    <tr>\n",
       "      <th>EAS</th>\n",
       "      <td>0.002152</td>\n",
       "      <td>0.958452</td>\n",
       "      <td>0.001142</td>\n",
       "      <td>0.003116</td>\n",
       "      <td>0.035137</td>\n",
       "    </tr>\n",
       "    <tr>\n",
       "      <th>EUR</th>\n",
       "      <td>0.029263</td>\n",
       "      <td>0.008469</td>\n",
       "      <td>0.835113</td>\n",
       "      <td>0.002275</td>\n",
       "      <td>0.124879</td>\n",
       "    </tr>\n",
       "    <tr>\n",
       "      <th>NAT</th>\n",
       "      <td>0.001069</td>\n",
       "      <td>0.026448</td>\n",
       "      <td>0.018347</td>\n",
       "      <td>0.941815</td>\n",
       "      <td>0.012321</td>\n",
       "    </tr>\n",
       "    <tr>\n",
       "      <th>SAS</th>\n",
       "      <td>0.026780</td>\n",
       "      <td>0.062705</td>\n",
       "      <td>0.115182</td>\n",
       "      <td>0.003708</td>\n",
       "      <td>0.791626</td>\n",
       "    </tr>\n",
       "  </tbody>\n",
       "</table>\n",
       "</div>"
      ],
      "text/plain": [
       "          AFR       EAS       EUR       NAT       SAS\n",
       "AFR  0.969526  0.006678  0.004106  0.000101  0.019589\n",
       "EAS  0.002152  0.958452  0.001142  0.003116  0.035137\n",
       "EUR  0.029263  0.008469  0.835113  0.002275  0.124879\n",
       "NAT  0.001069  0.026448  0.018347  0.941815  0.012321\n",
       "SAS  0.026780  0.062705  0.115182  0.003708  0.791626"
      ]
     },
     "execution_count": 23,
     "metadata": {},
     "output_type": "execute_result"
    }
   ],
   "source": [
    "# sensitivity (row-normalized, diagonal is fraction of A which we say is A_hat)\n",
    "pd.DataFrame(cf[np.ix_(ix,ix)], index=anc[ix], columns=anc[ix]).divide(\n",
    "    cf[np.ix_(ix,ix)].sum(axis=1), axis=0)"
   ]
  },
  {
   "cell_type": "code",
   "execution_count": 24,
   "metadata": {
    "collapsed": true
   },
   "outputs": [],
   "source": [
    "import matplotlib as mpl\n",
    "import matplotlib.patches as mpatches\n",
    "import matplotlib.pyplot as plt\n",
    "%matplotlib inline"
   ]
  },
  {
   "cell_type": "code",
   "execution_count": 106,
   "metadata": {
    "collapsed": true
   },
   "outputs": [],
   "source": [
    "import scipy.stats as ss\n",
    "from scipy.ndimage import median_filter\n",
    "import scipy"
   ]
  },
  {
   "cell_type": "code",
   "execution_count": 120,
   "metadata": {},
   "outputs": [
    {
     "data": {
      "text/plain": [
       "<matplotlib.legend.Legend at 0x7f2c62e96748>"
      ]
     },
     "execution_count": 120,
     "metadata": {},
     "output_type": "execute_result"
    },
    {
     "data": {
      "image/png": "[encoded data removed]",
      "text/plain": [
       "<matplotlib.figure.Figure at 0x7f2c62f431d0>"
      ]
     },
     "metadata": {},
     "output_type": "display_data"
    }
   ],
   "source": [
    "iix=22\n",
    "plt.figure(figsize=(15, 3))\n",
    "Yhat_lab = np.argmax(Yhat, axis=-1)\n",
    "plt.subplot(211)\n",
    "plt.title('Dev set ground truths')\n",
    "plt.imshow(Y[iix:iix+1,:,:].argmax(axis=-1).astype(int), aspect='auto', cmap='tab10',\n",
    "           norm=mpl.colors.Normalize(vmin=0, vmax=10))\n",
    "plt.yticks([])\n",
    "\n",
    "plt.subplot(212)\n",
    "plt.title('Corresponding dev set predictions')\n",
    "plt.imshow(Yhat[iix:iix+1,:,:].argmax(axis=-1).astype(int), aspect='auto', cmap='tab10', \n",
    "           norm=mpl.colors.Normalize(vmin=0, vmax=10))\n",
    "plt.yticks([])\n",
    "\n",
    "plt.subplots_adjust(hspace=0.8)\n",
    "cmap = mpl.cm.get_cmap('tab10')\n",
    "plt.legend(handles=[mpatches.Patch(color=cmap.colors[i],label=anc[i]) for i in range(len(anc))],\n",
    "           bbox_to_anchor=(1.09, 2.15))"
   ]
  },
  {
   "cell_type": "code",
   "execution_count": 146,
   "metadata": {},
   "outputs": [
    {
     "name": "stdout",
     "output_type": "stream",
     "text": [
      "0\n",
      "0\n",
      "1\n",
      "2\n",
      "3\n",
      "4\n",
      "5\n",
      "6\n",
      "7\n",
      "8\n",
      "9\n",
      "10\n",
      "11\n",
      "12\n",
      "13\n",
      "14\n",
      "15\n",
      "16\n",
      "17\n",
      "18\n",
      "19\n",
      "20\n",
      "21\n",
      "22\n",
      "23\n",
      "24\n",
      "25\n",
      "26\n",
      "27\n",
      "28\n",
      "29\n",
      "30\n",
      "31\n",
      "32\n",
      "33\n",
      "34\n",
      "35\n",
      "36\n",
      "37\n",
      "38\n",
      "39\n",
      "40\n",
      "41\n",
      "42\n",
      "43\n",
      "44\n",
      "45\n",
      "46\n",
      "47\n",
      "48\n",
      "49\n",
      "50\n",
      "51\n",
      "52\n",
      "53\n",
      "54\n",
      "55\n",
      "56\n",
      "57\n",
      "58\n",
      "59\n",
      "60\n",
      "61\n",
      "62\n",
      "63\n",
      "64\n",
      "65\n",
      "66\n",
      "67\n",
      "68\n",
      "69\n",
      "70\n",
      "71\n",
      "72\n",
      "73\n",
      "74\n",
      "75\n",
      "76\n",
      "77\n",
      "78\n",
      "79\n",
      "80\n",
      "81\n",
      "82\n",
      "83\n",
      "84\n",
      "85\n",
      "86\n",
      "87\n",
      "88\n",
      "89\n",
      "90\n",
      "91\n",
      "92\n",
      "93\n",
      "94\n",
      "95\n",
      "96\n",
      "97\n",
      "98\n",
      "99\n"
     ]
    }
   ],
   "source": [
    "mfw=2000\n",
    "#yhat2=median_filter(Yhat_lab[:,:].reshape(1,-1), size=(1,5000))\n",
    "yhat2=np.zeros(Yhat_lab.shape)\n",
    "for j in range(Yhat_lab.shape[-1]):\n",
    "    if j % int(Yhat_lab.shape[-1] / 100) == 0:\n",
    "        print(int(100 * j / Yhat_lab.shape[-1]))\n",
    "    yhat2[:,j]=ss.mode(Yhat_lab[:,max(0,j-mfw):min(Yhat_lab.shape[-1], j+mfw)], axis=1).mode.flatten()"
   ]
  },
  {
   "cell_type": "code",
   "execution_count": 147,
   "metadata": {},
   "outputs": [
    {
     "data": {
      "text/plain": [
       "0.9438686207496227"
      ]
     },
     "execution_count": 147,
     "metadata": {},
     "output_type": "execute_result"
    }
   ],
   "source": [
    "cf2=tf.math.confusion_matrix(Y.dot(np.arange(5)).flatten(), yhat2.flatten()).numpy()\n",
    "np.sum(np.diag(cf2))/np.sum(cf2)"
   ]
  },
  {
   "cell_type": "code",
   "execution_count": 148,
   "metadata": {},
   "outputs": [
    {
     "data": {
      "text/plain": [
       "<matplotlib.legend.Legend at 0x7f2c68b863c8>"
      ]
     },
     "execution_count": 148,
     "metadata": {},
     "output_type": "execute_result"
    },
    {
     "data": {
      "image/png": "[encoded data removed]",
      "text/plain": [
       "<matplotlib.figure.Figure at 0x7f2c630da7b8>"
      ]
     },
     "metadata": {},
     "output_type": "display_data"
    }
   ],
   "source": [
    "plt.figure(figsize=(15, 3))\n",
    "plt.subplot(211)\n",
    "plt.title('Dev set ground truths')\n",
    "plt.imshow(Y[iix:iix+1,:,:].argmax(axis=-1).astype(int), aspect='auto', cmap=mpl.cm.tab10, \n",
    "           norm=mpl.colors.Normalize(vmin=0, vmax=10))\n",
    "plt.yticks([])\n",
    "\n",
    "plt.subplot(212)\n",
    "plt.title('Dev set predictions (mode filter)')\n",
    "plt.imshow(yhat2[iix:iix+1,:], aspect='auto', cmap=mpl.cm.tab10, norm=mpl.colors.Normalize(vmin=0, vmax=10))\n",
    "plt.yticks([])\n",
    "\n",
    "plt.subplots_adjust(hspace=0.8)\n",
    "cmap = mpl.cm.get_cmap('tab10')\n",
    "plt.legend(handles=[mpatches.Patch(color=cmap.colors[i],label=anc[i]) for i in range(len(anc))],\n",
    "           bbox_to_anchor=(1.09, 2.15))"
   ]
  },
  {
   "cell_type": "code",
   "execution_count": 149,
   "metadata": {
    "scrolled": true
   },
   "outputs": [
    {
     "data": {
      "text/plain": [
       "<matplotlib.legend.Legend at 0x7f2c6b17a898>"
      ]
     },
     "execution_count": 149,
     "metadata": {},
     "output_type": "execute_result"
    },
    {
     "data": {
      "image/png": "[encoded data removed]",
      "text/plain": [
       "<matplotlib.figure.Figure at 0x7f2c6310d128>"
      ]
     },
     "metadata": {},
     "output_type": "display_data"
    }
   ],
   "source": [
    "plt.figure(figsize=(15, 3))\n",
    "plt.subplot(211)\n",
    "plt.title('Dev set ground truths')\n",
    "plt.imshow(Y[iix:iix+1,1:,:].argmax(axis=-1).astype(int), aspect='auto', cmap='tab10', \n",
    "           norm=mpl.colors.Normalize(vmin=0, vmax=10))\n",
    "plt.yticks([])\n",
    "\n",
    "plt.subplot(212)\n",
    "plt.title('Dev set predictions (label prob. > 0.9)')\n",
    "plt.imshow((Yhat[iix:iix+1,:,:] > 0.9).dot(np.arange(5)+1).astype(int), aspect='auto', \n",
    "           cmap=mpl.colors.ListedColormap([(0.2,0.2,0.2)]+list(mpl.cm.tab10.colors[:-1])),\n",
    "           norm=mpl.colors.Normalize(vmin=0, vmax=10))\n",
    "plt.yticks([])\n",
    "\n",
    "plt.subplots_adjust(hspace=0.8)\n",
    "cmap = mpl.colors.ListedColormap([(0.2,0.2,0.2)]+list(mpl.cm.tab10.colors[:-1]))\n",
    "plt.legend(handles=[mpatches.Patch(color=cmap.colors[i],label=anc[i-1] if i else 'None') for i in range(len(anc)+1)],\n",
    "           bbox_to_anchor=(1.09, 2.15))"
   ]
  },
  {
   "cell_type": "code",
   "execution_count": 150,
   "metadata": {},
   "outputs": [
    {
     "data": {
      "text/html": [
       "<div>\n",
       "<style scoped>\n",
       "    .dataframe tbody tr th:only-of-type {\n",
       "        vertical-align: middle;\n",
       "    }\n",
       "\n",
       "    .dataframe tbody tr th {\n",
       "        vertical-align: top;\n",
       "    }\n",
       "\n",
       "    .dataframe thead th {\n",
       "        text-align: right;\n",
       "    }\n",
       "</style>\n",
       "<table border=\"1\" class=\"dataframe\">\n",
       "  <thead>\n",
       "    <tr style=\"text-align: right;\">\n",
       "      <th></th>\n",
       "      <th>AFR</th>\n",
       "      <th>EAS</th>\n",
       "      <th>EUR</th>\n",
       "      <th>NAT</th>\n",
       "      <th>SAS</th>\n",
       "    </tr>\n",
       "  </thead>\n",
       "  <tbody>\n",
       "    <tr>\n",
       "      <th>AFR</th>\n",
       "      <td>16230372</td>\n",
       "      <td>141062</td>\n",
       "      <td>41370</td>\n",
       "      <td>5096</td>\n",
       "      <td>223104</td>\n",
       "    </tr>\n",
       "    <tr>\n",
       "      <th>EAS</th>\n",
       "      <td>52116</td>\n",
       "      <td>20416517</td>\n",
       "      <td>20443</td>\n",
       "      <td>25178</td>\n",
       "      <td>462055</td>\n",
       "    </tr>\n",
       "    <tr>\n",
       "      <th>EUR</th>\n",
       "      <td>163169</td>\n",
       "      <td>93362</td>\n",
       "      <td>6635001</td>\n",
       "      <td>7079</td>\n",
       "      <td>803002</td>\n",
       "    </tr>\n",
       "    <tr>\n",
       "      <th>NAT</th>\n",
       "      <td>10963</td>\n",
       "      <td>79854</td>\n",
       "      <td>31639</td>\n",
       "      <td>4062036</td>\n",
       "      <td>37289</td>\n",
       "    </tr>\n",
       "    <tr>\n",
       "      <th>SAS</th>\n",
       "      <td>96551</td>\n",
       "      <td>277836</td>\n",
       "      <td>467913</td>\n",
       "      <td>7856</td>\n",
       "      <td>3891377</td>\n",
       "    </tr>\n",
       "  </tbody>\n",
       "</table>\n",
       "</div>"
      ],
      "text/plain": [
       "          AFR       EAS      EUR      NAT      SAS\n",
       "AFR  16230372    141062    41370     5096   223104\n",
       "EAS     52116  20416517    20443    25178   462055\n",
       "EUR    163169     93362  6635001     7079   803002\n",
       "NAT     10963     79854    31639  4062036    37289\n",
       "SAS     96551    277836   467913     7856  3891377"
      ]
     },
     "execution_count": 150,
     "metadata": {},
     "output_type": "execute_result"
    }
   ],
   "source": [
    "pd.DataFrame(cf2[np.ix_(ix,ix)], index=anc[ix], columns=anc[ix])"
   ]
  },
  {
   "cell_type": "code",
   "execution_count": 151,
   "metadata": {},
   "outputs": [
    {
     "data": {
      "text/html": [
       "<div>\n",
       "<style scoped>\n",
       "    .dataframe tbody tr th:only-of-type {\n",
       "        vertical-align: middle;\n",
       "    }\n",
       "\n",
       "    .dataframe tbody tr th {\n",
       "        vertical-align: top;\n",
       "    }\n",
       "\n",
       "    .dataframe thead th {\n",
       "        text-align: right;\n",
       "    }\n",
       "</style>\n",
       "<table border=\"1\" class=\"dataframe\">\n",
       "  <thead>\n",
       "    <tr style=\"text-align: right;\">\n",
       "      <th></th>\n",
       "      <th>AFR</th>\n",
       "      <th>EAS</th>\n",
       "      <th>EUR</th>\n",
       "      <th>NAT</th>\n",
       "      <th>SAS</th>\n",
       "    </tr>\n",
       "  </thead>\n",
       "  <tbody>\n",
       "    <tr>\n",
       "      <th>AFR</th>\n",
       "      <td>0.980499</td>\n",
       "      <td>0.006714</td>\n",
       "      <td>0.005749</td>\n",
       "      <td>0.001241</td>\n",
       "      <td>0.041187</td>\n",
       "    </tr>\n",
       "    <tr>\n",
       "      <th>EAS</th>\n",
       "      <td>0.003148</td>\n",
       "      <td>0.971816</td>\n",
       "      <td>0.002841</td>\n",
       "      <td>0.006130</td>\n",
       "      <td>0.085300</td>\n",
       "    </tr>\n",
       "    <tr>\n",
       "      <th>EUR</th>\n",
       "      <td>0.009857</td>\n",
       "      <td>0.004444</td>\n",
       "      <td>0.921993</td>\n",
       "      <td>0.001724</td>\n",
       "      <td>0.148242</td>\n",
       "    </tr>\n",
       "    <tr>\n",
       "      <th>NAT</th>\n",
       "      <td>0.000662</td>\n",
       "      <td>0.003801</td>\n",
       "      <td>0.004397</td>\n",
       "      <td>0.988993</td>\n",
       "      <td>0.006884</td>\n",
       "    </tr>\n",
       "    <tr>\n",
       "      <th>SAS</th>\n",
       "      <td>0.005833</td>\n",
       "      <td>0.013225</td>\n",
       "      <td>0.065021</td>\n",
       "      <td>0.001913</td>\n",
       "      <td>0.718387</td>\n",
       "    </tr>\n",
       "  </tbody>\n",
       "</table>\n",
       "</div>"
      ],
      "text/plain": [
       "          AFR       EAS       EUR       NAT       SAS\n",
       "AFR  0.980499  0.006714  0.005749  0.001241  0.041187\n",
       "EAS  0.003148  0.971816  0.002841  0.006130  0.085300\n",
       "EUR  0.009857  0.004444  0.921993  0.001724  0.148242\n",
       "NAT  0.000662  0.003801  0.004397  0.988993  0.006884\n",
       "SAS  0.005833  0.013225  0.065021  0.001913  0.718387"
      ]
     },
     "execution_count": 151,
     "metadata": {},
     "output_type": "execute_result"
    }
   ],
   "source": [
    "# specificity\n",
    "pd.DataFrame(cf2[np.ix_(ix,ix)], index=anc[ix], columns=anc[ix]).divide(\n",
    "             cf2[np.ix_(ix,ix)].sum(axis=0), axis=1)"
   ]
  },
  {
   "cell_type": "code",
   "execution_count": 152,
   "metadata": {},
   "outputs": [
    {
     "data": {
      "text/html": [
       "<div>\n",
       "<style scoped>\n",
       "    .dataframe tbody tr th:only-of-type {\n",
       "        vertical-align: middle;\n",
       "    }\n",
       "\n",
       "    .dataframe tbody tr th {\n",
       "        vertical-align: top;\n",
       "    }\n",
       "\n",
       "    .dataframe thead th {\n",
       "        text-align: right;\n",
       "    }\n",
       "</style>\n",
       "<table border=\"1\" class=\"dataframe\">\n",
       "  <thead>\n",
       "    <tr style=\"text-align: right;\">\n",
       "      <th></th>\n",
       "      <th>AFR</th>\n",
       "      <th>EAS</th>\n",
       "      <th>EUR</th>\n",
       "      <th>NAT</th>\n",
       "      <th>SAS</th>\n",
       "    </tr>\n",
       "  </thead>\n",
       "  <tbody>\n",
       "    <tr>\n",
       "      <th>AFR</th>\n",
       "      <td>0.975324</td>\n",
       "      <td>0.008477</td>\n",
       "      <td>0.002486</td>\n",
       "      <td>0.000306</td>\n",
       "      <td>0.013407</td>\n",
       "    </tr>\n",
       "    <tr>\n",
       "      <th>EAS</th>\n",
       "      <td>0.002485</td>\n",
       "      <td>0.973313</td>\n",
       "      <td>0.000975</td>\n",
       "      <td>0.001200</td>\n",
       "      <td>0.022027</td>\n",
       "    </tr>\n",
       "    <tr>\n",
       "      <th>EUR</th>\n",
       "      <td>0.021186</td>\n",
       "      <td>0.012122</td>\n",
       "      <td>0.861508</td>\n",
       "      <td>0.000919</td>\n",
       "      <td>0.104264</td>\n",
       "    </tr>\n",
       "    <tr>\n",
       "      <th>NAT</th>\n",
       "      <td>0.002597</td>\n",
       "      <td>0.018915</td>\n",
       "      <td>0.007494</td>\n",
       "      <td>0.962162</td>\n",
       "      <td>0.008833</td>\n",
       "    </tr>\n",
       "    <tr>\n",
       "      <th>SAS</th>\n",
       "      <td>0.020363</td>\n",
       "      <td>0.058596</td>\n",
       "      <td>0.098684</td>\n",
       "      <td>0.001657</td>\n",
       "      <td>0.820700</td>\n",
       "    </tr>\n",
       "  </tbody>\n",
       "</table>\n",
       "</div>"
      ],
      "text/plain": [
       "          AFR       EAS       EUR       NAT       SAS\n",
       "AFR  0.975324  0.008477  0.002486  0.000306  0.013407\n",
       "EAS  0.002485  0.973313  0.000975  0.001200  0.022027\n",
       "EUR  0.021186  0.012122  0.861508  0.000919  0.104264\n",
       "NAT  0.002597  0.018915  0.007494  0.962162  0.008833\n",
       "SAS  0.020363  0.058596  0.098684  0.001657  0.820700"
      ]
     },
     "execution_count": 152,
     "metadata": {},
     "output_type": "execute_result"
    }
   ],
   "source": [
    "# sensitivity\n",
    "pd.DataFrame(cf2[np.ix_(ix,ix)], index=anc[ix], columns=anc[ix]).divide(\n",
    "             cf2[np.ix_(ix,ix)].sum(axis=1), axis=0)"
   ]
  },
  {
   "cell_type": "code",
   "execution_count": null,
   "metadata": {
    "collapsed": true
   },
   "outputs": [],
   "source": []
  }
 ],
 "metadata": {
  "kernelspec": {
   "display_name": "Python 3",
   "language": "python",
   "name": "python3"
  },
  "language_info": {
   "codemirror_mode": {
    "name": "ipython",
    "version": 3
   },
   "file_extension": ".py",
   "mimetype": "text/x-python",
   "name": "python",
   "nbconvert_exporter": "python",
   "pygments_lexer": "ipython3",
   "version": "3.6.1"
  }
 },
 "nbformat": 4,
 "nbformat_minor": 2
}
