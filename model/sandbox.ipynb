{
 "cells": [
  {
   "cell_type": "code",
   "execution_count": 1,
   "metadata": {
    "collapsed": true
   },
   "outputs": [],
   "source": [
    "import os,sys\n",
    "import platform\n",
    "import numpy as np\n",
    "import tensorflow as tf\n",
    "from tensorflow.keras import optimizers\n",
    "from tensorflow.keras.utils import to_categorical\n",
    "from tensorflow.keras.callbacks import EarlyStopping\n",
    "from segnet import segnet\n",
    "from generator import DataGenerator, DataLoader"
   ]
  },
  {
   "cell_type": "code",
   "execution_count": 2,
   "metadata": {},
   "outputs": [
    {
     "name": "stdout",
     "output_type": "stream",
     "text": [
      "2.1.0\n"
     ]
    }
   ],
   "source": [
    "print(tf.__version__) # 2.1.0"
   ]
  },
  {
   "cell_type": "code",
   "execution_count": 3,
   "metadata": {},
   "outputs": [
    {
     "name": "stdout",
     "output_type": "stream",
     "text": [
      "2.2.4-tf\n"
     ]
    }
   ],
   "source": [
    "#import keras\n",
    "print(tf.keras.__version__) # 2.2.4-tf"
   ]
  },
  {
   "cell_type": "code",
   "execution_count": 4,
   "metadata": {
    "collapsed": true
   },
   "outputs": [],
   "source": [
    "# keep these constant for now\n",
    "nv=int(2**98) # variants\n",
    "na=2          # alleles\n",
    "nc=7          # ancestry classes (incl. OCE)"
   ]
  },
  {
   "cell_type": "code",
   "execution_count": 5,
   "metadata": {
    "collapsed": true
   },
   "outputs": [],
   "source": [
    "# hyperparameters\n",
    "ne=100        # number of epochs\n",
    "nf=8          # number of segnet filters\n",
    "fs=16         # filter size\n",
    "bs=8          # batch size\n",
    "ps=4          # pool size\n",
    "dp=4          # number of segnet blocks (depth)\n",
    "wt=False      # use inverse frequency weighted loss -- this doesn't seem to help\n",
    "gen=True      # use data generator\n",
    "rem=[]        # remove these ancestries: [0:AFR, 1:EAS, 2:EUR, 3:NAT, 4:OCE, 5:SAS, 6:WAS]\n",
    "dev=True      # do we have a dev set (this is jank if we're removing any ancestries, above)\n",
    "ac=1          # minimum allele count for inclusion\n",
    "stoch=True    # randomly sample individuals during training (requires gen=True)\n",
    "               # sampling is currently inverse-frequency weighted\n",
    "\n",
    "# reproducibility\n",
    "np.random.seed(23910464)"
   ]
  },
  {
   "cell_type": "code",
   "execution_count": 6,
   "metadata": {},
   "outputs": [
    {
     "data": {
      "text/plain": [
       "[PhysicalDevice(name='/physical_device:GPU:0', device_type='GPU')]"
      ]
     },
     "execution_count": 6,
     "metadata": {},
     "output_type": "execute_result"
    }
   ],
   "source": [
    "# sanity check that we're on gpu -- use #1 (if we're on galangal)\n",
    "if platform.uname()[1]=='galangal.stanford.edu':\n",
    "    os.environ[\"CUDA_VISIBLE_DEVICES\"]=\"1\" \n",
    "tf.config.list_physical_devices('GPU')"
   ]
  },
  {
   "cell_type": "code",
   "execution_count": 7,
   "metadata": {
    "collapsed": true
   },
   "outputs": [],
   "source": [
    "from train import load_train_set, load_dev_set, filter_ac"
   ]
  },
  {
   "cell_type": "code",
   "execution_count": 8,
   "metadata": {},
   "outputs": [
    {
     "name": "stdout",
     "output_type": "stream",
     "text": [
      "[(2764, 516801, 2), (2764, 516801, 7), (2764,), 2090]\n",
      "[(120, 516801, 2), (120, 516801, 7)]\n"
     ]
    }
   ],
   "source": [
    "X, Y, S, V, train_ix, ix1, ix2 = load_train_set()\n",
    "X_dev, Y_dev, S_dev = load_dev_set()"
   ]
  },
  {
   "cell_type": "code",
   "execution_count": 9,
   "metadata": {},
   "outputs": [],
   "source": [
    "if False: # print sizes of allocated objects -- \n",
    "    # can be a nice sanity check, but also annoying to look at\n",
    "    for x in dir():\n",
    "        print(x, sys.getsizeof(eval(x)))"
   ]
  },
  {
   "cell_type": "code",
   "execution_count": 10,
   "metadata": {
    "collapsed": true
   },
   "outputs": [],
   "source": [
    "# filter oceanians, etc.\n",
    "if rem:\n",
    "    train_ix=[i for i in train_ix if Y[i,0,:].dot(np.arange(nc)) not in rem]\n",
    "    if dev:\n",
    "        Y_dev=Y_dev[:,:,[i for i in range(nc) if i not in rem]] # this is hella janky\n",
    "anc=[i for i in range(nc) if i not in rem]"
   ]
  },
  {
   "cell_type": "code",
   "execution_count": 11,
   "metadata": {},
   "outputs": [
    {
     "name": "stdout",
     "output_type": "stream",
     "text": [
      "447827\n",
      "447744\n",
      "(2090, 447744, 2) (120, 447744, 2) (2090, 447744, 7) (120, 447744, 7)\n"
     ]
    }
   ],
   "source": [
    "# filter variants by allele count\n",
    "v=filter_ac(X[train_ix,:,:], ac=ac)\n",
    "print(np.sum(v))\n",
    "nv=np.sum(v)-(np.sum(v) % (ps**dp))\n",
    "v=np.array([i and j <= nv for i,j in zip(v, np.cumsum(v))])\n",
    "print(np.sum(v))\n",
    "#np.random.shuffle(train_ix)\n",
    "#np.save('/scratch/users/magu/aY.npy', Y[np.ix_(train_ix, v, anc)])\n",
    "#np.save('/scratch/users/magu/aX.npy', X[np.ix_(train_ix, v, np.arange(na))])\n",
    "#X=np.load('/scratch/users/magu/aX.npy', mmap_mode='r')\n",
    "#Y=np.load('/scratch/users/magu/aY.npy', mmap_mode='r')\n",
    "Y=Y[np.ix_(train_ix, v, anc)]\n",
    "X=X[np.ix_(train_ix, v, np.arange(na))]\n",
    "X_dev=X_dev[:,v,:]\n",
    "Y_dev=Y_dev[:,v,:]\n",
    "print(X.shape, X_dev.shape, Y.shape, Y_dev.shape)"
   ]
  },
  {
   "cell_type": "code",
   "execution_count": 12,
   "metadata": {
    "collapsed": true,
    "scrolled": false
   },
   "outputs": [],
   "source": [
    "# declare model\n",
    "model=segnet(input_shape=(X.shape[1], na), n_classes=nc-len(rem), n_filters=nf, width=fs, n_blocks=dp, pool_size=ps)\n",
    "\n",
    "# and optimizer\n",
    "adam=optimizers.Adam(lr=3e-4)#, beta_1=0.8)"
   ]
  },
  {
   "cell_type": "code",
   "execution_count": 13,
   "metadata": {
    "scrolled": false
   },
   "outputs": [
    {
     "name": "stdout",
     "output_type": "stream",
     "text": [
      "Model: \"segnet\"\n",
      "__________________________________________________________________________________________________\n",
      "Layer (type)                    Output Shape         Param #     Connected to                     \n",
      "==================================================================================================\n",
      "input_1 (InputLayer)            [(None, 447744, 2)]  0                                            \n",
      "__________________________________________________________________________________________________\n",
      "dropout (Dropout)               (None, 447744, 2)    0           input_1[0][0]                    \n",
      "__________________________________________________________________________________________________\n",
      "conv1_down1 (Conv1D)            (None, 447744, 8)    264         dropout[0][0]                    \n",
      "__________________________________________________________________________________________________\n",
      "activation (Activation)         (None, 447744, 8)    0           conv1_down1[0][0]                \n",
      "__________________________________________________________________________________________________\n",
      "dropout_1 (Dropout)             (None, 447744, 8)    0           activation[0][0]                 \n",
      "__________________________________________________________________________________________________\n",
      "conv1_down2 (Conv1D)            (None, 447744, 8)    1032        dropout_1[0][0]                  \n",
      "__________________________________________________________________________________________________\n",
      "activation_1 (Activation)       (None, 447744, 8)    0           conv1_down2[0][0]                \n",
      "__________________________________________________________________________________________________\n",
      "dropout_2 (Dropout)             (None, 447744, 8)    0           activation_1[0][0]               \n",
      "__________________________________________________________________________________________________\n",
      "pool0 (MaxPooling1D)            (None, 111936, 8)    0           dropout_2[0][0]                  \n",
      "__________________________________________________________________________________________________\n",
      "conv2_down1 (Conv1D)            (None, 111936, 16)   2064        pool0[0][0]                      \n",
      "__________________________________________________________________________________________________\n",
      "activation_2 (Activation)       (None, 111936, 16)   0           conv2_down1[0][0]                \n",
      "__________________________________________________________________________________________________\n",
      "dropout_3 (Dropout)             (None, 111936, 16)   0           activation_2[0][0]               \n",
      "__________________________________________________________________________________________________\n",
      "conv2_down2 (Conv1D)            (None, 111936, 16)   4112        dropout_3[0][0]                  \n",
      "__________________________________________________________________________________________________\n",
      "activation_3 (Activation)       (None, 111936, 16)   0           conv2_down2[0][0]                \n",
      "__________________________________________________________________________________________________\n",
      "dropout_4 (Dropout)             (None, 111936, 16)   0           activation_3[0][0]               \n",
      "__________________________________________________________________________________________________\n",
      "pool1 (MaxPooling1D)            (None, 27984, 16)    0           dropout_4[0][0]                  \n",
      "__________________________________________________________________________________________________\n",
      "conv3_down1 (Conv1D)            (None, 27984, 32)    8224        pool1[0][0]                      \n",
      "__________________________________________________________________________________________________\n",
      "activation_4 (Activation)       (None, 27984, 32)    0           conv3_down1[0][0]                \n",
      "__________________________________________________________________________________________________\n",
      "dropout_5 (Dropout)             (None, 27984, 32)    0           activation_4[0][0]               \n",
      "__________________________________________________________________________________________________\n",
      "conv3_down2 (Conv1D)            (None, 27984, 32)    16416       dropout_5[0][0]                  \n",
      "__________________________________________________________________________________________________\n",
      "activation_5 (Activation)       (None, 27984, 32)    0           conv3_down2[0][0]                \n",
      "__________________________________________________________________________________________________\n",
      "dropout_6 (Dropout)             (None, 27984, 32)    0           activation_5[0][0]               \n",
      "__________________________________________________________________________________________________\n",
      "pool2 (MaxPooling1D)            (None, 6996, 32)     0           dropout_6[0][0]                  \n",
      "__________________________________________________________________________________________________\n",
      "conv4_down1 (Conv1D)            (None, 6996, 64)     32832       pool2[0][0]                      \n",
      "__________________________________________________________________________________________________\n",
      "activation_6 (Activation)       (None, 6996, 64)     0           conv4_down1[0][0]                \n",
      "__________________________________________________________________________________________________\n",
      "dropout_7 (Dropout)             (None, 6996, 64)     0           activation_6[0][0]               \n",
      "__________________________________________________________________________________________________\n",
      "conv4_down2 (Conv1D)            (None, 6996, 64)     65600       dropout_7[0][0]                  \n",
      "__________________________________________________________________________________________________\n",
      "activation_7 (Activation)       (None, 6996, 64)     0           conv4_down2[0][0]                \n",
      "__________________________________________________________________________________________________\n",
      "dropout_8 (Dropout)             (None, 6996, 64)     0           activation_7[0][0]               \n",
      "__________________________________________________________________________________________________\n",
      "pool3 (MaxPooling1D)            (None, 1749, 64)     0           dropout_8[0][0]                  \n",
      "__________________________________________________________________________________________________\n",
      "concatenate (Concatenate)       (None, 1749, 128)    0           pool3[0][0]                      \n",
      "                                                                 pool3[0][0]                      \n",
      "__________________________________________________________________________________________________\n",
      "up3 (UpSampling1D)              (None, 6996, 128)    0           concatenate[0][0]                \n",
      "__________________________________________________________________________________________________\n",
      "conv3_up0 (Conv1D)              (None, 6996, 64)     131136      up3[0][0]                        \n",
      "__________________________________________________________________________________________________\n",
      "activation_8 (Activation)       (None, 6996, 64)     0           conv3_up0[0][0]                  \n",
      "__________________________________________________________________________________________________\n",
      "dropout_9 (Dropout)             (None, 6996, 64)     0           activation_8[0][0]               \n",
      "__________________________________________________________________________________________________\n",
      "conv3_up1 (Conv1D)              (None, 6996, 64)     65600       dropout_9[0][0]                  \n",
      "__________________________________________________________________________________________________\n",
      "activation_9 (Activation)       (None, 6996, 64)     0           conv3_up1[0][0]                  \n",
      "__________________________________________________________________________________________________\n",
      "dropout_10 (Dropout)            (None, 6996, 64)     0           activation_9[0][0]               \n",
      "__________________________________________________________________________________________________\n",
      "concatenate_1 (Concatenate)     (None, 6996, 96)     0           pool2[0][0]                      \n",
      "                                                                 dropout_10[0][0]                 \n",
      "__________________________________________________________________________________________________\n",
      "up2 (UpSampling1D)              (None, 27984, 96)    0           concatenate_1[0][0]              \n",
      "__________________________________________________________________________________________________\n",
      "conv2_up0 (Conv1D)              (None, 27984, 32)    49184       up2[0][0]                        \n",
      "__________________________________________________________________________________________________\n",
      "activation_10 (Activation)      (None, 27984, 32)    0           conv2_up0[0][0]                  \n",
      "__________________________________________________________________________________________________\n",
      "dropout_11 (Dropout)            (None, 27984, 32)    0           activation_10[0][0]              \n",
      "__________________________________________________________________________________________________\n",
      "conv2_up1 (Conv1D)              (None, 27984, 32)    16416       dropout_11[0][0]                 \n",
      "__________________________________________________________________________________________________\n",
      "activation_11 (Activation)      (None, 27984, 32)    0           conv2_up1[0][0]                  \n",
      "__________________________________________________________________________________________________\n",
      "dropout_12 (Dropout)            (None, 27984, 32)    0           activation_11[0][0]              \n",
      "__________________________________________________________________________________________________\n",
      "concatenate_2 (Concatenate)     (None, 27984, 48)    0           pool1[0][0]                      \n",
      "                                                                 dropout_12[0][0]                 \n",
      "__________________________________________________________________________________________________\n",
      "up1 (UpSampling1D)              (None, 111936, 48)   0           concatenate_2[0][0]              \n",
      "__________________________________________________________________________________________________\n",
      "conv1_up0 (Conv1D)              (None, 111936, 16)   12304       up1[0][0]                        \n",
      "__________________________________________________________________________________________________\n",
      "activation_12 (Activation)      (None, 111936, 16)   0           conv1_up0[0][0]                  \n",
      "__________________________________________________________________________________________________\n",
      "dropout_13 (Dropout)            (None, 111936, 16)   0           activation_12[0][0]              \n",
      "__________________________________________________________________________________________________\n",
      "conv1_up1 (Conv1D)              (None, 111936, 16)   4112        dropout_13[0][0]                 \n",
      "__________________________________________________________________________________________________\n",
      "activation_13 (Activation)      (None, 111936, 16)   0           conv1_up1[0][0]                  \n",
      "__________________________________________________________________________________________________\n",
      "dropout_14 (Dropout)            (None, 111936, 16)   0           activation_13[0][0]              \n",
      "__________________________________________________________________________________________________\n",
      "concatenate_3 (Concatenate)     (None, 111936, 24)   0           pool0[0][0]                      \n",
      "                                                                 dropout_14[0][0]                 \n",
      "__________________________________________________________________________________________________\n",
      "up0 (UpSampling1D)              (None, 447744, 24)   0           concatenate_3[0][0]              \n",
      "__________________________________________________________________________________________________\n",
      "conv0_up0 (Conv1D)              (None, 447744, 8)    3080        up0[0][0]                        \n",
      "__________________________________________________________________________________________________\n",
      "activation_14 (Activation)      (None, 447744, 8)    0           conv0_up0[0][0]                  \n",
      "__________________________________________________________________________________________________\n",
      "dropout_15 (Dropout)            (None, 447744, 8)    0           activation_14[0][0]              \n",
      "__________________________________________________________________________________________________\n",
      "conv0_up1 (Conv1D)              (None, 447744, 8)    1032        dropout_15[0][0]                 \n",
      "__________________________________________________________________________________________________\n",
      "activation_15 (Activation)      (None, 447744, 8)    0           conv0_up1[0][0]                  \n",
      "__________________________________________________________________________________________________\n",
      "dropout_16 (Dropout)            (None, 447744, 8)    0           activation_15[0][0]              \n",
      "__________________________________________________________________________________________________\n",
      "output_layer (Dense)            (None, 447744, 7)    63          dropout_16[0][0]                 \n",
      "==================================================================================================\n",
      "Total params: 413,471\n",
      "Trainable params: 413,471\n",
      "Non-trainable params: 0\n",
      "__________________________________________________________________________________________________\n",
      "None\n"
     ]
    }
   ],
   "source": [
    "# now compile and show parameter summary\n",
    "model.compile(optimizer=adam, loss='categorical_crossentropy', metrics=['accuracy']) \n",
    "print(model.summary())"
   ]
  },
  {
   "cell_type": "code",
   "execution_count": 14,
   "metadata": {
    "scrolled": false
   },
   "outputs": [
    {
     "name": "stdout",
     "output_type": "stream",
     "text": [
      "WARNING:tensorflow:From <ipython-input-14-0560d1a12a61>:28: Model.fit_generator (from tensorflow.python.keras.engine.training) is deprecated and will be removed in a future version.\n",
      "Instructions for updating:\n",
      "Please use Model.fit, which supports generators.\n",
      "WARNING:tensorflow:sample_weight modes were coerced from\n",
      "  ...\n",
      "    to  \n",
      "  ['...']\n",
      "Train for 261 steps, validate on 120 samples\n",
      "Epoch 1/100\n",
      "261/261 [==============================] - 6574s 25s/step - loss: 1.7763 - accuracy: 0.2554 - val_loss: 1.7627 - val_accuracy: 0.2830\n",
      "Epoch 2/100\n",
      "261/261 [==============================] - 704s 3s/step - loss: 1.7175 - accuracy: 0.2597 - val_loss: 1.7233 - val_accuracy: 0.3353\n",
      "Epoch 3/100\n",
      "261/261 [==============================] - 698s 3s/step - loss: 1.6758 - accuracy: 0.3727 - val_loss: 1.6974 - val_accuracy: 0.3464\n",
      "Epoch 4/100\n",
      "261/261 [==============================] - 692s 3s/step - loss: 1.6062 - accuracy: 0.4072 - val_loss: 1.6655 - val_accuracy: 0.3464\n",
      "Epoch 5/100\n",
      "261/261 [==============================] - 685s 3s/step - loss: 1.5828 - accuracy: 0.4242 - val_loss: 1.6511 - val_accuracy: 0.3464\n",
      "Epoch 6/100\n",
      "261/261 [==============================] - 693s 3s/step - loss: 1.5697 - accuracy: 0.4155 - val_loss: 1.6696 - val_accuracy: 0.3466\n",
      "Epoch 7/100\n",
      "261/261 [==============================] - 686s 3s/step - loss: 1.5336 - accuracy: 0.4498 - val_loss: 1.6061 - val_accuracy: 0.4219\n",
      "Epoch 8/100\n",
      "261/261 [==============================] - 690s 3s/step - loss: 1.5578 - accuracy: 0.4409 - val_loss: 1.5952 - val_accuracy: 0.4047\n",
      "Epoch 9/100\n",
      "261/261 [==============================] - 688s 3s/step - loss: 1.5396 - accuracy: 0.4378 - val_loss: 1.6113 - val_accuracy: 0.3927\n",
      "Epoch 10/100\n",
      "261/261 [==============================] - 688s 3s/step - loss: 1.5273 - accuracy: 0.4531 - val_loss: 1.5524 - val_accuracy: 0.4349\n",
      "Epoch 11/100\n",
      "261/261 [==============================] - 688s 3s/step - loss: 1.4874 - accuracy: 0.4701 - val_loss: 1.5585 - val_accuracy: 0.4255\n",
      "Epoch 12/100\n",
      "261/261 [==============================] - 687s 3s/step - loss: 1.5098 - accuracy: 0.4559 - val_loss: 1.5598 - val_accuracy: 0.4341\n",
      "Epoch 13/100\n",
      "261/261 [==============================] - 687s 3s/step - loss: 1.4690 - accuracy: 0.4725 - val_loss: 1.6636 - val_accuracy: 0.3584\n",
      "Epoch 14/100\n",
      "261/261 [==============================] - 688s 3s/step - loss: 1.4665 - accuracy: 0.4837 - val_loss: 1.5275 - val_accuracy: 0.4496\n",
      "Epoch 15/100\n",
      "261/261 [==============================] - 689s 3s/step - loss: 1.5010 - accuracy: 0.4610 - val_loss: 1.5324 - val_accuracy: 0.4503\n",
      "Epoch 16/100\n",
      "261/261 [==============================] - 689s 3s/step - loss: 1.5028 - accuracy: 0.4665 - val_loss: 1.5347 - val_accuracy: 0.4430\n",
      "Epoch 17/100\n",
      "261/261 [==============================] - 695s 3s/step - loss: 1.4250 - accuracy: 0.4952 - val_loss: 1.5188 - val_accuracy: 0.4587\n",
      "Epoch 18/100\n",
      "261/261 [==============================] - 701s 3s/step - loss: 1.4719 - accuracy: 0.4808 - val_loss: 1.4917 - val_accuracy: 0.4762\n",
      "Epoch 19/100\n",
      "261/261 [==============================] - 707s 3s/step - loss: 1.4151 - accuracy: 0.5093 - val_loss: 1.5470 - val_accuracy: 0.4393\n",
      "Epoch 20/100\n",
      "261/261 [==============================] - 701s 3s/step - loss: 1.4106 - accuracy: 0.5084 - val_loss: 1.4702 - val_accuracy: 0.4849\n",
      "Epoch 21/100\n",
      "261/261 [==============================] - 705s 3s/step - loss: 1.3703 - accuracy: 0.5324 - val_loss: 1.4440 - val_accuracy: 0.5009\n",
      "Epoch 22/100\n",
      "261/261 [==============================] - 694s 3s/step - loss: 1.3835 - accuracy: 0.5299 - val_loss: 1.3926 - val_accuracy: 0.5178\n",
      "Epoch 23/100\n",
      "261/261 [==============================] - 687s 3s/step - loss: 1.3020 - accuracy: 0.5660 - val_loss: 1.3455 - val_accuracy: 0.5483\n",
      "Epoch 24/100\n",
      "261/261 [==============================] - 687s 3s/step - loss: 1.2738 - accuracy: 0.5793 - val_loss: 1.2929 - val_accuracy: 0.5678\n",
      "Epoch 25/100\n",
      "261/261 [==============================] - 688s 3s/step - loss: 1.2598 - accuracy: 0.5765 - val_loss: 1.2945 - val_accuracy: 0.5681\n",
      "Epoch 26/100\n",
      "261/261 [==============================] - 688s 3s/step - loss: 1.2446 - accuracy: 0.5880 - val_loss: 1.2944 - val_accuracy: 0.5709\n",
      "Epoch 27/100\n",
      "261/261 [==============================] - 687s 3s/step - loss: 1.2535 - accuracy: 0.5854 - val_loss: 1.2692 - val_accuracy: 0.5721\n",
      "Epoch 28/100\n",
      "261/261 [==============================] - 688s 3s/step - loss: 1.1958 - accuracy: 0.6057 - val_loss: 1.4109 - val_accuracy: 0.5159\n",
      "Epoch 29/100\n",
      "261/261 [==============================] - 687s 3s/step - loss: 1.1972 - accuracy: 0.6076 - val_loss: 1.2802 - val_accuracy: 0.5682\n",
      "Epoch 30/100\n",
      "261/261 [==============================] - 686s 3s/step - loss: 1.1625 - accuracy: 0.6241 - val_loss: 1.2059 - val_accuracy: 0.5960\n",
      "Epoch 31/100\n",
      "261/261 [==============================] - 688s 3s/step - loss: 1.1650 - accuracy: 0.6183 - val_loss: 1.2070 - val_accuracy: 0.5922\n",
      "Epoch 32/100\n",
      "261/261 [==============================] - 689s 3s/step - loss: 1.1589 - accuracy: 0.6156 - val_loss: 1.2693 - val_accuracy: 0.5721\n",
      "Epoch 33/100\n",
      "261/261 [==============================] - 688s 3s/step - loss: 1.1561 - accuracy: 0.6182 - val_loss: 1.1598 - val_accuracy: 0.6035\n",
      "Epoch 34/100\n",
      "261/261 [==============================] - 688s 3s/step - loss: 1.1316 - accuracy: 0.6285 - val_loss: 1.1931 - val_accuracy: 0.5945\n",
      "Epoch 35/100\n",
      "261/261 [==============================] - 655s 3s/step - loss: 1.1263 - accuracy: 0.6078 - val_loss: 1.1445 - val_accuracy: 0.6033\n",
      "Epoch 36/100\n",
      "261/261 [==============================] - 695s 3s/step - loss: 1.1204 - accuracy: 0.6179 - val_loss: 1.1451 - val_accuracy: 0.6072\n",
      "Epoch 37/100\n",
      "261/261 [==============================] - 692s 3s/step - loss: 1.1210 - accuracy: 0.6201 - val_loss: 1.1755 - val_accuracy: 0.5983\n",
      "Epoch 38/100\n",
      "261/261 [==============================] - 692s 3s/step - loss: 1.1151 - accuracy: 0.6214 - val_loss: 1.1111 - val_accuracy: 0.6107\n",
      "Epoch 39/100\n",
      "261/261 [==============================] - 701s 3s/step - loss: 1.0665 - accuracy: 0.6340 - val_loss: 1.1081 - val_accuracy: 0.6156\n",
      "Epoch 40/100\n",
      "261/261 [==============================] - 699s 3s/step - loss: 1.0728 - accuracy: 0.6321 - val_loss: 1.0970 - val_accuracy: 0.6168\n",
      "Epoch 41/100\n",
      "261/261 [==============================] - 678s 3s/step - loss: 1.0308 - accuracy: 0.6422 - val_loss: 1.0784 - val_accuracy: 0.6275\n",
      "Epoch 42/100\n",
      "261/261 [==============================] - 679s 3s/step - loss: 1.0129 - accuracy: 0.6530 - val_loss: 1.1021 - val_accuracy: 0.6229\n",
      "Epoch 43/100\n",
      "261/261 [==============================] - 678s 3s/step - loss: 1.0425 - accuracy: 0.6418 - val_loss: 1.1510 - val_accuracy: 0.6235\n",
      "Epoch 44/100\n",
      "261/261 [==============================] - 677s 3s/step - loss: 1.0432 - accuracy: 0.6304 - val_loss: 1.0659 - val_accuracy: 0.6409\n",
      "Epoch 45/100\n",
      "261/261 [==============================] - 676s 3s/step - loss: 0.9786 - accuracy: 0.6630 - val_loss: 1.1596 - val_accuracy: 0.6142\n",
      "Epoch 46/100\n",
      "261/261 [==============================] - 674s 3s/step - loss: 0.9883 - accuracy: 0.6550 - val_loss: 1.1309 - val_accuracy: 0.6206\n",
      "Epoch 47/100\n",
      "261/261 [==============================] - 673s 3s/step - loss: 0.9956 - accuracy: 0.6448 - val_loss: 1.1633 - val_accuracy: 0.6106\n",
      "Epoch 48/100\n",
      "261/261 [==============================] - 666s 3s/step - loss: 0.9477 - accuracy: 0.6677 - val_loss: 1.0361 - val_accuracy: 0.6459\n",
      "Epoch 49/100\n",
      "261/261 [==============================] - 673s 3s/step - loss: 0.9449 - accuracy: 0.6691 - val_loss: 1.0690 - val_accuracy: 0.6407\n",
      "Epoch 50/100\n",
      "261/261 [==============================] - 681s 3s/step - loss: 0.9667 - accuracy: 0.6598 - val_loss: 1.0376 - val_accuracy: 0.6430\n",
      "Epoch 51/100\n",
      "261/261 [==============================] - 714s 3s/step - loss: 0.9560 - accuracy: 0.6591 - val_loss: 1.0201 - val_accuracy: 0.6505\n",
      "Epoch 52/100\n",
      "261/261 [==============================] - 704s 3s/step - loss: 0.9601 - accuracy: 0.6556 - val_loss: 1.0705 - val_accuracy: 0.6317\n",
      "Epoch 53/100\n",
      "261/261 [==============================] - 701s 3s/step - loss: 0.9817 - accuracy: 0.6449 - val_loss: 1.0642 - val_accuracy: 0.6373\n",
      "Epoch 54/100\n",
      "261/261 [==============================] - 703s 3s/step - loss: 0.9173 - accuracy: 0.6774 - val_loss: 1.0069 - val_accuracy: 0.6595\n"
     ]
    },
    {
     "name": "stdout",
     "output_type": "stream",
     "text": [
      "Epoch 55/100\n",
      "261/261 [==============================] - 700s 3s/step - loss: 0.8930 - accuracy: 0.6872 - val_loss: 0.9889 - val_accuracy: 0.6617\n",
      "Epoch 56/100\n",
      "261/261 [==============================] - 678s 3s/step - loss: 0.8752 - accuracy: 0.6877 - val_loss: 1.1225 - val_accuracy: 0.6355\n",
      "Epoch 57/100\n",
      "261/261 [==============================] - 654s 3s/step - loss: 0.9262 - accuracy: 0.6733 - val_loss: 1.0477 - val_accuracy: 0.6465\n",
      "Epoch 58/100\n",
      "261/261 [==============================] - 653s 3s/step - loss: 0.9188 - accuracy: 0.6722 - val_loss: 1.0107 - val_accuracy: 0.6539\n",
      "Epoch 59/100\n",
      "261/261 [==============================] - 651s 2s/step - loss: 0.9375 - accuracy: 0.6637 - val_loss: 0.9591 - val_accuracy: 0.6703\n",
      "Epoch 60/100\n",
      "261/261 [==============================] - 651s 2s/step - loss: 0.9048 - accuracy: 0.6811 - val_loss: 0.9950 - val_accuracy: 0.6635\n",
      "Epoch 61/100\n",
      "261/261 [==============================] - 652s 2s/step - loss: 0.8925 - accuracy: 0.6828 - val_loss: 0.9908 - val_accuracy: 0.6597\n",
      "Epoch 62/100\n",
      "261/261 [==============================] - 650s 2s/step - loss: 0.8805 - accuracy: 0.6826 - val_loss: 0.9795 - val_accuracy: 0.6617\n",
      "Epoch 63/100\n",
      "261/261 [==============================] - 650s 2s/step - loss: 0.9009 - accuracy: 0.6789 - val_loss: 1.0279 - val_accuracy: 0.6584\n",
      "Epoch 64/100\n",
      "261/261 [==============================] - 650s 2s/step - loss: 0.8844 - accuracy: 0.6829 - val_loss: 0.9374 - val_accuracy: 0.6741\n",
      "Epoch 65/100\n",
      "261/261 [==============================] - 654s 3s/step - loss: 0.8864 - accuracy: 0.6810 - val_loss: 0.9647 - val_accuracy: 0.6660\n",
      "Epoch 66/100\n",
      "261/261 [==============================] - 650s 2s/step - loss: 0.8593 - accuracy: 0.6925 - val_loss: 0.9736 - val_accuracy: 0.6656\n",
      "Epoch 67/100\n",
      "261/261 [==============================] - 651s 2s/step - loss: 0.8725 - accuracy: 0.6819 - val_loss: 1.0030 - val_accuracy: 0.6617\n",
      "Epoch 68/100\n",
      "261/261 [==============================] - 652s 2s/step - loss: 0.8610 - accuracy: 0.6933 - val_loss: 1.0814 - val_accuracy: 0.6445\n",
      "Epoch 69/100\n",
      "261/261 [==============================] - 649s 2s/step - loss: 0.8139 - accuracy: 0.7109 - val_loss: 0.9381 - val_accuracy: 0.6768\n",
      "Epoch 70/100\n",
      "261/261 [==============================] - 651s 2s/step - loss: 0.8343 - accuracy: 0.7040 - val_loss: 0.9857 - val_accuracy: 0.6670\n",
      "Epoch 71/100\n",
      "261/261 [==============================] - 646s 2s/step - loss: 0.8701 - accuracy: 0.6851 - val_loss: 1.0135 - val_accuracy: 0.6684\n",
      "Epoch 72/100\n",
      "261/261 [==============================] - 651s 2s/step - loss: 0.8244 - accuracy: 0.7024 - val_loss: 0.9224 - val_accuracy: 0.6791\n",
      "Epoch 73/100\n",
      "261/261 [==============================] - 649s 2s/step - loss: 0.8229 - accuracy: 0.7053 - val_loss: 0.9180 - val_accuracy: 0.6825\n",
      "Epoch 74/100\n",
      "261/261 [==============================] - 648s 2s/step - loss: 0.8387 - accuracy: 0.6932 - val_loss: 1.0323 - val_accuracy: 0.6485\n",
      "Epoch 75/100\n",
      "261/261 [==============================] - 649s 2s/step - loss: 0.8052 - accuracy: 0.7119 - val_loss: 0.9575 - val_accuracy: 0.6764\n",
      "Epoch 76/100\n",
      "261/261 [==============================] - 650s 2s/step - loss: 0.8409 - accuracy: 0.6972 - val_loss: 0.9470 - val_accuracy: 0.6734\n",
      "Epoch 77/100\n",
      "261/261 [==============================] - 651s 2s/step - loss: 0.8138 - accuracy: 0.7093 - val_loss: 0.9195 - val_accuracy: 0.6821\n",
      "Epoch 78/100\n",
      "261/261 [==============================] - 650s 2s/step - loss: 0.8326 - accuracy: 0.6995 - val_loss: 0.9176 - val_accuracy: 0.6809\n",
      "Epoch 79/100\n",
      "261/261 [==============================] - 650s 2s/step - loss: 0.8443 - accuracy: 0.6970 - val_loss: 0.9940 - val_accuracy: 0.6660\n",
      "Epoch 80/100\n",
      "261/261 [==============================] - 648s 2s/step - loss: 0.8053 - accuracy: 0.7099 - val_loss: 1.0127 - val_accuracy: 0.6617\n",
      "Epoch 81/100\n",
      "261/261 [==============================] - 648s 2s/step - loss: 0.7948 - accuracy: 0.7133 - val_loss: 0.9344 - val_accuracy: 0.6770\n",
      "Epoch 82/100\n",
      "261/261 [==============================] - 647s 2s/step - loss: 0.7827 - accuracy: 0.7172 - val_loss: 0.9166 - val_accuracy: 0.6863\n",
      "Epoch 83/100\n",
      "261/261 [==============================] - 648s 2s/step - loss: 0.8071 - accuracy: 0.7139 - val_loss: 0.9937 - val_accuracy: 0.6626\n",
      "Epoch 84/100\n",
      "261/261 [==============================] - 651s 2s/step - loss: 0.7969 - accuracy: 0.7123 - val_loss: 1.0443 - val_accuracy: 0.6581\n",
      "Epoch 85/100\n",
      "261/261 [==============================] - 651s 2s/step - loss: 0.7947 - accuracy: 0.7100 - val_loss: 0.8903 - val_accuracy: 0.6873\n",
      "Epoch 86/100\n",
      "261/261 [==============================] - 652s 2s/step - loss: 0.8093 - accuracy: 0.7120 - val_loss: 0.8998 - val_accuracy: 0.6939\n",
      "Epoch 87/100\n",
      "261/261 [==============================] - 651s 2s/step - loss: 0.7662 - accuracy: 0.7256 - val_loss: 0.9518 - val_accuracy: 0.6789\n",
      "Epoch 88/100\n",
      "261/261 [==============================] - 650s 2s/step - loss: 0.8065 - accuracy: 0.7082 - val_loss: 0.9035 - val_accuracy: 0.6887\n",
      "Epoch 89/100\n",
      "261/261 [==============================] - 652s 2s/step - loss: 0.7883 - accuracy: 0.7163 - val_loss: 0.9468 - val_accuracy: 0.6864\n",
      "Epoch 90/100\n",
      "261/261 [==============================] - 652s 2s/step - loss: 0.7585 - accuracy: 0.7285 - val_loss: 0.9385 - val_accuracy: 0.6774\n",
      "Epoch 91/100\n",
      "261/261 [==============================] - 651s 2s/step - loss: 0.7606 - accuracy: 0.7264 - val_loss: 0.9081 - val_accuracy: 0.6906\n",
      "Epoch 92/100\n",
      "261/261 [==============================] - 649s 2s/step - loss: 0.7823 - accuracy: 0.7244 - val_loss: 0.9967 - val_accuracy: 0.6738\n",
      "Epoch 93/100\n",
      "261/261 [==============================] - 651s 2s/step - loss: 0.7529 - accuracy: 0.7298 - val_loss: 0.8771 - val_accuracy: 0.6951\n",
      "Epoch 94/100\n",
      "261/261 [==============================] - 648s 2s/step - loss: 0.7590 - accuracy: 0.7299 - val_loss: 0.9092 - val_accuracy: 0.6922\n",
      "Epoch 95/100\n",
      "261/261 [==============================] - 649s 2s/step - loss: 0.7574 - accuracy: 0.7292 - val_loss: 0.9023 - val_accuracy: 0.6969\n",
      "Epoch 96/100\n",
      "261/261 [==============================] - 650s 2s/step - loss: 0.7317 - accuracy: 0.7399 - val_loss: 0.9444 - val_accuracy: 0.6812\n",
      "Epoch 97/100\n",
      "261/261 [==============================] - 664s 3s/step - loss: 0.7646 - accuracy: 0.7235 - val_loss: 0.8940 - val_accuracy: 0.6971\n",
      "Epoch 98/100\n",
      "261/261 [==============================] - 683s 3s/step - loss: 0.7279 - accuracy: 0.7406 - val_loss: 0.9367 - val_accuracy: 0.6844\n",
      "Epoch 99/100\n",
      "261/261 [==============================] - 680s 3s/step - loss: 0.7286 - accuracy: 0.7379 - val_loss: 0.8666 - val_accuracy: 0.6995\n",
      "Epoch 100/100\n",
      "261/261 [==============================] - 678s 3s/step - loss: 0.7689 - accuracy: 0.7236 - val_loss: 0.9235 - val_accuracy: 0.6911\n"
     ]
    }
   ],
   "source": [
    "# now try it out!\n",
    "\n",
    "# number weighted epochs -- will be [ne] if wt=False else [0, ne] (ne is set above)\n",
    "nwe=ne \n",
    "nes=[ne-(wt*nwe)]         \n",
    "cws=[np.ones((nc,))]\n",
    "if wt:\n",
    "    nes.append(nwe)\n",
    "    cws.append(np.sqrt(Y.sum()/Y.sum(axis=0).sum(axis=0)))\n",
    "    \n",
    "# training\n",
    "np.random.shuffle(train_ix)\n",
    "for ne,cw in zip(nes,cws):\n",
    "    if ne == 0: # don't waste time compiling the model if we aren't training it -- see above\n",
    "        continue\n",
    "    if dev:\n",
    "        # we have a dev set; use it to monitor convergence\n",
    "        es = EarlyStopping(monitor='val_loss', mode='min', verbose=1, patience=10)\n",
    "\n",
    "        # fit with generator, or not\n",
    "        if gen:\n",
    "            params={'X':X, 'Y':Y, 'dim':nv, 'batch_size':bs, 'n_classes':nc, 'n_alleles':na}\n",
    "            anc_fq=Y[:,0,:].sum(axis=0)\n",
    "            generator=DataGenerator(np.arange(X.shape[0]), \n",
    "                                    sample=True, anc_wts=((1/anc_fq)/((1/anc_fq).sum())).flatten(),\n",
    "                                    **params)\n",
    "            history=model.fit_generator(generator=generator, epochs=ne, validation_data=(X_dev, Y_dev), \n",
    "                                        callbacks=[es], class_weight=cw)\n",
    "        else:\n",
    "            history=model.fit(X, Y, batch_size=bs, epochs=ne, \n",
    "                              validation_data=(X_dev, Y_dev), \n",
    "                              callbacks=[es], class_weight=cw)\n",
    "    else:\n",
    "        history=model.fit(X, Y, batch_size=bs, epochs=ne, class_weight=cw)"
   ]
  },
  {
   "cell_type": "code",
   "execution_count": null,
   "metadata": {
    "collapsed": true
   },
   "outputs": [],
   "source": [
    "# save\n",
    "model.save('chm20_short.dev.h5')"
   ]
  },
  {
   "cell_type": "code",
   "execution_count": 15,
   "metadata": {},
   "outputs": [
    {
     "name": "stdout",
     "output_type": "stream",
     "text": [
      "0.69111025\n"
     ]
    },
    {
     "data": {
      "image/png": "[encoded data removed]",
      "text/plain": [
       "<matplotlib.figure.Figure at 0x7f61440eef98>"
      ]
     },
     "metadata": {},
     "output_type": "display_data"
    }
   ],
   "source": [
    "_, dev_acc = model.evaluate(X_dev, Y_dev, verbose=0)\n",
    "\n",
    "# 1.1) plot loss during training\n",
    "import matplotlib.pyplot as plt\n",
    "%matplotlib inline\n",
    "plt.figure(1, (9,9))\n",
    "plt.subplot(211)\n",
    "plt.title('Loss during training')\n",
    "plt.plot(history.history['loss'], label='train set')\n",
    "plt.plot(history.history['val_loss'], label='dev set')\n",
    "plt.legend()\n",
    "\n",
    "# 1.2) plot accuracy during training\n",
    "plt.subplot(212)\n",
    "plt.title('Accuracy')\n",
    "plt.plot(history.history['accuracy'], label='train set')\n",
    "plt.plot(history.history['val_accuracy'], label='dev set')\n",
    "plt.legend()\n",
    "\n",
    "print(dev_acc)"
   ]
  },
  {
   "cell_type": "code",
   "execution_count": 16,
   "metadata": {
    "collapsed": true
   },
   "outputs": [],
   "source": [
    "Y_hat_p=model.predict(X_dev)\n",
    "Y_hat=np.argmax(Y_hat_p, axis=-1) # this is p naive tbh"
   ]
  },
  {
   "cell_type": "code",
   "execution_count": 17,
   "metadata": {},
   "outputs": [
    {
     "data": {
      "text/plain": [
       "(120, 447744)"
      ]
     },
     "execution_count": 17,
     "metadata": {},
     "output_type": "execute_result"
    }
   ],
   "source": [
    "Y_hat.shape"
   ]
  },
  {
   "cell_type": "code",
   "execution_count": 18,
   "metadata": {},
   "outputs": [
    {
     "data": {
      "text/plain": [
       "array([0.27655502, 0.3722488 , 0.11291866, 0.04880383, 0.01148325,\n",
       "       0.1291866 , 0.04880383])"
      ]
     },
     "execution_count": 18,
     "metadata": {},
     "output_type": "execute_result"
    }
   ],
   "source": [
    "Y.sum(axis=0).sum(axis=0)/Y.sum().sum().sum()"
   ]
  },
  {
   "cell_type": "code",
   "execution_count": 19,
   "metadata": {},
   "outputs": [
    {
     "data": {
      "text/plain": [
       "array([0.28304479, 0.34642219, 0.13933135, 0.0666845 , 0.02318417,\n",
       "       0.09198698, 0.04934602])"
      ]
     },
     "execution_count": 19,
     "metadata": {},
     "output_type": "execute_result"
    }
   ],
   "source": [
    "Y_dev.sum(axis=0).sum(axis=0)/Y_dev.sum().sum().sum()"
   ]
  },
  {
   "cell_type": "code",
   "execution_count": 20,
   "metadata": {
    "collapsed": true
   },
   "outputs": [],
   "source": [
    "from sklearn.metrics import confusion_matrix\n",
    "import pandas as pd"
   ]
  },
  {
   "cell_type": "code",
   "execution_count": 31,
   "metadata": {},
   "outputs": [
    {
     "data": {
      "text/html": [
       "<div>\n",
       "<style scoped>\n",
       "    .dataframe tbody tr th:only-of-type {\n",
       "        vertical-align: middle;\n",
       "    }\n",
       "\n",
       "    .dataframe tbody tr th {\n",
       "        vertical-align: top;\n",
       "    }\n",
       "\n",
       "    .dataframe thead th {\n",
       "        text-align: right;\n",
       "    }\n",
       "</style>\n",
       "<table border=\"1\" class=\"dataframe\">\n",
       "  <thead>\n",
       "    <tr style=\"text-align: right;\">\n",
       "      <th></th>\n",
       "      <th>AFR</th>\n",
       "      <th>EAS</th>\n",
       "      <th>EUR</th>\n",
       "      <th>NAT</th>\n",
       "      <th>OCE</th>\n",
       "      <th>SAS</th>\n",
       "      <th>WAS</th>\n",
       "    </tr>\n",
       "  </thead>\n",
       "  <tbody>\n",
       "    <tr>\n",
       "      <th>AFR</th>\n",
       "      <td>0.259891</td>\n",
       "      <td>0.007999</td>\n",
       "      <td>0.009991</td>\n",
       "      <td>0.000013</td>\n",
       "      <td>0.0</td>\n",
       "      <td>0.005151</td>\n",
       "      <td>2.419537e-07</td>\n",
       "    </tr>\n",
       "    <tr>\n",
       "      <th>EAS</th>\n",
       "      <td>0.001152</td>\n",
       "      <td>0.330901</td>\n",
       "      <td>0.004084</td>\n",
       "      <td>0.001508</td>\n",
       "      <td>0.0</td>\n",
       "      <td>0.008776</td>\n",
       "      <td>1.861183e-08</td>\n",
       "    </tr>\n",
       "    <tr>\n",
       "      <th>EUR</th>\n",
       "      <td>0.008510</td>\n",
       "      <td>0.039257</td>\n",
       "      <td>0.060705</td>\n",
       "      <td>0.001841</td>\n",
       "      <td>0.0</td>\n",
       "      <td>0.029018</td>\n",
       "      <td>2.791774e-07</td>\n",
       "    </tr>\n",
       "    <tr>\n",
       "      <th>NAT</th>\n",
       "      <td>0.000090</td>\n",
       "      <td>0.038303</td>\n",
       "      <td>0.003615</td>\n",
       "      <td>0.021009</td>\n",
       "      <td>0.0</td>\n",
       "      <td>0.003668</td>\n",
       "      <td>0.000000e+00</td>\n",
       "    </tr>\n",
       "    <tr>\n",
       "      <th>OCE</th>\n",
       "      <td>0.001643</td>\n",
       "      <td>0.015634</td>\n",
       "      <td>0.002385</td>\n",
       "      <td>0.000208</td>\n",
       "      <td>0.0</td>\n",
       "      <td>0.003314</td>\n",
       "      <td>0.000000e+00</td>\n",
       "    </tr>\n",
       "    <tr>\n",
       "      <th>SAS</th>\n",
       "      <td>0.003397</td>\n",
       "      <td>0.048676</td>\n",
       "      <td>0.020756</td>\n",
       "      <td>0.000553</td>\n",
       "      <td>0.0</td>\n",
       "      <td>0.018604</td>\n",
       "      <td>7.444730e-08</td>\n",
       "    </tr>\n",
       "    <tr>\n",
       "      <th>WAS</th>\n",
       "      <td>0.005875</td>\n",
       "      <td>0.015319</td>\n",
       "      <td>0.016705</td>\n",
       "      <td>0.000432</td>\n",
       "      <td>0.0</td>\n",
       "      <td>0.011014</td>\n",
       "      <td>3.722365e-08</td>\n",
       "    </tr>\n",
       "  </tbody>\n",
       "</table>\n",
       "</div>"
      ],
      "text/plain": [
       "          AFR       EAS       EUR       NAT  OCE       SAS           WAS\n",
       "AFR  0.259891  0.007999  0.009991  0.000013  0.0  0.005151  2.419537e-07\n",
       "EAS  0.001152  0.330901  0.004084  0.001508  0.0  0.008776  1.861183e-08\n",
       "EUR  0.008510  0.039257  0.060705  0.001841  0.0  0.029018  2.791774e-07\n",
       "NAT  0.000090  0.038303  0.003615  0.021009  0.0  0.003668  0.000000e+00\n",
       "OCE  0.001643  0.015634  0.002385  0.000208  0.0  0.003314  0.000000e+00\n",
       "SAS  0.003397  0.048676  0.020756  0.000553  0.0  0.018604  7.444730e-08\n",
       "WAS  0.005875  0.015319  0.016705  0.000432  0.0  0.011014  3.722365e-08"
      ]
     },
     "execution_count": 31,
     "metadata": {},
     "output_type": "execute_result"
    }
   ],
   "source": [
    "# rows are truth, columns are predictions -- normalized by total bp counts\n",
    "anc=[i for i in range(nc) if i not in rem]\n",
    "labels=[label for i,label in enumerate(['AFR','EAS','EUR','NAT','OCE','SAS','WAS']) if i in anc]\n",
    "conf=confusion_matrix(Y_dev.dot(np.arange(nc-len(rem))).flatten(), Y_hat.flatten())\n",
    "\n",
    "pd.DataFrame(conf/(Y_hat.shape[0]*nv), columns=labels, index=labels)"
   ]
  },
  {
   "cell_type": "code",
   "execution_count": 37,
   "metadata": {},
   "outputs": [
    {
     "data": {
      "text/html": [
       "<div>\n",
       "<style scoped>\n",
       "    .dataframe tbody tr th:only-of-type {\n",
       "        vertical-align: middle;\n",
       "    }\n",
       "\n",
       "    .dataframe tbody tr th {\n",
       "        vertical-align: top;\n",
       "    }\n",
       "\n",
       "    .dataframe thead th {\n",
       "        text-align: right;\n",
       "    }\n",
       "</style>\n",
       "<table border=\"1\" class=\"dataframe\">\n",
       "  <thead>\n",
       "    <tr style=\"text-align: right;\">\n",
       "      <th></th>\n",
       "      <th>AFR</th>\n",
       "      <th>EAS</th>\n",
       "      <th>EUR</th>\n",
       "      <th>NAT</th>\n",
       "      <th>OCE</th>\n",
       "      <th>SAS</th>\n",
       "      <th>WAS</th>\n",
       "    </tr>\n",
       "  </thead>\n",
       "  <tbody>\n",
       "    <tr>\n",
       "      <th>AFR</th>\n",
       "      <td>0.918197</td>\n",
       "      <td>0.028261</td>\n",
       "      <td>0.035299</td>\n",
       "      <td>0.000045</td>\n",
       "      <td>0.0</td>\n",
       "      <td>0.018197</td>\n",
       "      <td>8.548249e-07</td>\n",
       "    </tr>\n",
       "    <tr>\n",
       "      <th>EAS</th>\n",
       "      <td>0.003326</td>\n",
       "      <td>0.955197</td>\n",
       "      <td>0.011789</td>\n",
       "      <td>0.004353</td>\n",
       "      <td>0.0</td>\n",
       "      <td>0.025335</td>\n",
       "      <td>5.372585e-08</td>\n",
       "    </tr>\n",
       "    <tr>\n",
       "      <th>EUR</th>\n",
       "      <td>0.061075</td>\n",
       "      <td>0.281753</td>\n",
       "      <td>0.435688</td>\n",
       "      <td>0.013216</td>\n",
       "      <td>0.0</td>\n",
       "      <td>0.208266</td>\n",
       "      <td>2.003694e-06</td>\n",
       "    </tr>\n",
       "    <tr>\n",
       "      <th>NAT</th>\n",
       "      <td>0.001351</td>\n",
       "      <td>0.574387</td>\n",
       "      <td>0.054216</td>\n",
       "      <td>0.315046</td>\n",
       "      <td>0.0</td>\n",
       "      <td>0.055000</td>\n",
       "      <td>0.000000e+00</td>\n",
       "    </tr>\n",
       "    <tr>\n",
       "      <th>OCE</th>\n",
       "      <td>0.070848</td>\n",
       "      <td>0.674342</td>\n",
       "      <td>0.102880</td>\n",
       "      <td>0.008978</td>\n",
       "      <td>0.0</td>\n",
       "      <td>0.142952</td>\n",
       "      <td>0.000000e+00</td>\n",
       "    </tr>\n",
       "    <tr>\n",
       "      <th>SAS</th>\n",
       "      <td>0.036927</td>\n",
       "      <td>0.529162</td>\n",
       "      <td>0.225643</td>\n",
       "      <td>0.006016</td>\n",
       "      <td>0.0</td>\n",
       "      <td>0.202250</td>\n",
       "      <td>8.093244e-07</td>\n",
       "    </tr>\n",
       "    <tr>\n",
       "      <th>WAS</th>\n",
       "      <td>0.119066</td>\n",
       "      <td>0.310431</td>\n",
       "      <td>0.338536</td>\n",
       "      <td>0.008759</td>\n",
       "      <td>0.0</td>\n",
       "      <td>0.223208</td>\n",
       "      <td>7.543395e-07</td>\n",
       "    </tr>\n",
       "  </tbody>\n",
       "</table>\n",
       "</div>"
      ],
      "text/plain": [
       "          AFR       EAS       EUR       NAT  OCE       SAS           WAS\n",
       "AFR  0.918197  0.028261  0.035299  0.000045  0.0  0.018197  8.548249e-07\n",
       "EAS  0.003326  0.955197  0.011789  0.004353  0.0  0.025335  5.372585e-08\n",
       "EUR  0.061075  0.281753  0.435688  0.013216  0.0  0.208266  2.003694e-06\n",
       "NAT  0.001351  0.574387  0.054216  0.315046  0.0  0.055000  0.000000e+00\n",
       "OCE  0.070848  0.674342  0.102880  0.008978  0.0  0.142952  0.000000e+00\n",
       "SAS  0.036927  0.529162  0.225643  0.006016  0.0  0.202250  8.093244e-07\n",
       "WAS  0.119066  0.310431  0.338536  0.008759  0.0  0.223208  7.543395e-07"
      ]
     },
     "execution_count": 37,
     "metadata": {},
     "output_type": "execute_result"
    }
   ],
   "source": [
    "# rows are truth, columns are predictions -- normalized by ground truth (rows)\n",
    "pd.DataFrame(conf, columns=labels, index=labels).divide(Y_dev.sum(axis=0).sum(axis=0), axis='rows')"
   ]
  },
  {
   "cell_type": "code",
   "execution_count": 43,
   "metadata": {},
   "outputs": [
    {
     "data": {
      "text/html": [
       "<div>\n",
       "<style scoped>\n",
       "    .dataframe tbody tr th:only-of-type {\n",
       "        vertical-align: middle;\n",
       "    }\n",
       "\n",
       "    .dataframe tbody tr th {\n",
       "        vertical-align: top;\n",
       "    }\n",
       "\n",
       "    .dataframe thead th {\n",
       "        text-align: right;\n",
       "    }\n",
       "</style>\n",
       "<table border=\"1\" class=\"dataframe\">\n",
       "  <thead>\n",
       "    <tr style=\"text-align: right;\">\n",
       "      <th></th>\n",
       "      <th>AFR</th>\n",
       "      <th>EAS</th>\n",
       "      <th>EUR</th>\n",
       "      <th>NAT</th>\n",
       "      <th>OCE</th>\n",
       "      <th>SAS</th>\n",
       "      <th>WAS</th>\n",
       "    </tr>\n",
       "  </thead>\n",
       "  <tbody>\n",
       "    <tr>\n",
       "      <th>AFR</th>\n",
       "      <td>0.926337</td>\n",
       "      <td>0.016125</td>\n",
       "      <td>0.084497</td>\n",
       "      <td>0.000499</td>\n",
       "      <td>NaN</td>\n",
       "      <td>0.064751</td>\n",
       "      <td>0.371429</td>\n",
       "    </tr>\n",
       "    <tr>\n",
       "      <th>EAS</th>\n",
       "      <td>0.004107</td>\n",
       "      <td>0.667042</td>\n",
       "      <td>0.034540</td>\n",
       "      <td>0.058986</td>\n",
       "      <td>NaN</td>\n",
       "      <td>0.110332</td>\n",
       "      <td>0.028571</td>\n",
       "    </tr>\n",
       "    <tr>\n",
       "      <th>EUR</th>\n",
       "      <td>0.030331</td>\n",
       "      <td>0.079136</td>\n",
       "      <td>0.513394</td>\n",
       "      <td>0.072028</td>\n",
       "      <td>NaN</td>\n",
       "      <td>0.364796</td>\n",
       "      <td>0.428571</td>\n",
       "    </tr>\n",
       "    <tr>\n",
       "      <th>NAT</th>\n",
       "      <td>0.000321</td>\n",
       "      <td>0.077212</td>\n",
       "      <td>0.030576</td>\n",
       "      <td>0.821792</td>\n",
       "      <td>NaN</td>\n",
       "      <td>0.046107</td>\n",
       "      <td>0.000000</td>\n",
       "    </tr>\n",
       "    <tr>\n",
       "      <th>OCE</th>\n",
       "      <td>0.005855</td>\n",
       "      <td>0.031516</td>\n",
       "      <td>0.020172</td>\n",
       "      <td>0.008142</td>\n",
       "      <td>NaN</td>\n",
       "      <td>0.041664</td>\n",
       "      <td>0.000000</td>\n",
       "    </tr>\n",
       "    <tr>\n",
       "      <th>SAS</th>\n",
       "      <td>0.012107</td>\n",
       "      <td>0.098123</td>\n",
       "      <td>0.175540</td>\n",
       "      <td>0.021647</td>\n",
       "      <td>NaN</td>\n",
       "      <td>0.233883</td>\n",
       "      <td>0.114286</td>\n",
       "    </tr>\n",
       "    <tr>\n",
       "      <th>WAS</th>\n",
       "      <td>0.020942</td>\n",
       "      <td>0.030880</td>\n",
       "      <td>0.141281</td>\n",
       "      <td>0.016906</td>\n",
       "      <td>NaN</td>\n",
       "      <td>0.138466</td>\n",
       "      <td>0.057143</td>\n",
       "    </tr>\n",
       "  </tbody>\n",
       "</table>\n",
       "</div>"
      ],
      "text/plain": [
       "          AFR       EAS       EUR       NAT  OCE       SAS       WAS\n",
       "AFR  0.926337  0.016125  0.084497  0.000499  NaN  0.064751  0.371429\n",
       "EAS  0.004107  0.667042  0.034540  0.058986  NaN  0.110332  0.028571\n",
       "EUR  0.030331  0.079136  0.513394  0.072028  NaN  0.364796  0.428571\n",
       "NAT  0.000321  0.077212  0.030576  0.821792  NaN  0.046107  0.000000\n",
       "OCE  0.005855  0.031516  0.020172  0.008142  NaN  0.041664  0.000000\n",
       "SAS  0.012107  0.098123  0.175540  0.021647  NaN  0.233883  0.114286\n",
       "WAS  0.020942  0.030880  0.141281  0.016906  NaN  0.138466  0.057143"
      ]
     },
     "execution_count": 43,
     "metadata": {},
     "output_type": "execute_result"
    }
   ],
   "source": [
    "# rows are truth, columns are predictions -- normalized by predictions (columns)\n",
    "pd.DataFrame(conf, columns=labels, index=labels).divide(to_categorical(Y_hat).sum(axis=0).sum(axis=0))"
   ]
  },
  {
   "cell_type": "code",
   "execution_count": 44,
   "metadata": {
    "scrolled": false
   },
   "outputs": [
    {
     "name": "stdout",
     "output_type": "stream",
     "text": [
      "(0, [142769, 241370, 19266, 30701, 0, 13638, 0], [149802, 169365, 30460, 92153, 0, 0, 5964])\n",
      "(1, [182459, 210225, 31011, 337, 0, 23712, 0], [184411, 184936, 36218, 0, 0, 42179, 0])\n",
      "(2, [217234, 151031, 31257, 8332, 0, 39890, 0], [212307, 75177, 23734, 11342, 117591, 7593, 0])\n",
      "(3, [56989, 329070, 23418, 10225, 0, 28042, 0], [56377, 306349, 42126, 42892, 0, 0, 0])\n",
      "(4, [272252, 131772, 23458, 5430, 0, 14832, 0], [273641, 102483, 0, 40173, 0, 0, 31447])\n",
      "(5, [91719, 250028, 57824, 948, 0, 47224, 1], [108380, 208767, 95185, 0, 0, 35412, 0])\n",
      "(6, [146350, 177555, 68338, 3941, 0, 51559, 1], [138490, 56578, 0, 30753, 0, 221923, 0])\n",
      "(7, [13537, 312718, 60246, 28420, 0, 32823, 0], [0, 238171, 113363, 96210, 0, 0, 0])\n",
      "(8, [173072, 157623, 64530, 10905, 0, 41612, 2], [156399, 101424, 46036, 32409, 0, 0, 111476])\n",
      "(9, [12333, 354829, 40194, 11314, 0, 29074, 0], [0, 342414, 82275, 23055, 0, 0, 0])\n",
      "(10, [55918, 262102, 71981, 24820, 0, 32922, 1], [45973, 173843, 135636, 92292, 0, 0, 0])\n",
      "(11, [271483, 85494, 61759, 1142, 0, 27865, 1], [274770, 52685, 120289, 0, 0, 0, 0])\n",
      "(12, [96260, 267545, 28749, 35273, 0, 19917, 0], [95760, 158289, 0, 140791, 0, 50324, 2580])\n",
      "(13, [48616, 330068, 42676, 3426, 0, 22958, 0], [45695, 289950, 69105, 0, 42994, 0, 0])\n",
      "(14, [211251, 115996, 38393, 49359, 0, 32745, 0], [214271, 19263, 0, 91290, 47215, 75705, 0])\n",
      "(15, [77076, 161791, 136508, 2834, 0, 69535, 0], [49277, 61367, 259388, 0, 0, 0, 77712])\n",
      "(16, [272252, 131012, 23298, 5730, 0, 15452, 0], [273641, 102483, 0, 40173, 0, 0, 31447])\n",
      "(17, [162632, 231463, 27319, 1028, 0, 25302, 0], [173634, 186682, 0, 0, 66710, 0, 20718])\n",
      "(18, [13233, 306298, 65823, 18485, 0, 43905, 0], [11778, 196819, 104659, 56207, 67892, 0, 10389])\n",
      "(19, [169727, 258202, 7731, 228, 0, 11855, 1], [190418, 251033, 6293, 0, 0, 0, 0])\n",
      "(20, [96512, 259594, 53950, 4318, 0, 33370, 0], [100742, 216274, 8653, 0, 0, 0, 122075])\n",
      "(21, [54112, 285955, 61719, 13563, 0, 32394, 1], [35594, 237573, 48939, 41977, 0, 0, 83661])\n",
      "(22, [138813, 287448, 11965, 766, 0, 8752, 0], [150526, 283919, 0, 0, 0, 13299, 0])\n",
      "(23, [344643, 76083, 18182, 0, 0, 8835, 1], [392034, 55710, 0, 0, 0, 0, 0])\n",
      "(24, [5689, 375346, 21584, 19294, 0, 25831, 0], [0, 288964, 13024, 44342, 101414, 0, 0])\n",
      "(25, [186972, 190083, 35601, 1752, 0, 33335, 1], [198364, 110881, 0, 0, 0, 138499, 0])\n",
      "(26, [135935, 155001, 48048, 72045, 0, 36715, 0], [130044, 0, 7929, 217017, 0, 18663, 74091])\n",
      "(27, [65114, 272093, 46141, 15850, 0, 48546, 0], [46035, 167601, 0, 55539, 6866, 0, 171703])\n",
      "(28, [158511, 250032, 20730, 807, 0, 17664, 0], [182594, 232916, 21988, 0, 0, 10246, 0])\n",
      "(29, [217012, 166058, 34479, 344, 0, 29850, 1], [234099, 110881, 8466, 0, 0, 94298, 0])\n",
      "(30, [101241, 236796, 73323, 4521, 0, 31863, 0], [101050, 207292, 139402, 0, 0, 0, 0])\n",
      "(31, [243411, 138747, 39578, 810, 0, 25198, 0], [253036, 123586, 0, 0, 22545, 8466, 40111])\n",
      "(32, [164561, 162290, 64101, 6708, 0, 50084, 0], [180272, 15664, 37863, 9799, 0, 204146, 0])\n",
      "(33, [84141, 245042, 52211, 32353, 0, 33997, 0], [80434, 151935, 0, 101339, 0, 114036, 0])\n",
      "(34, [175715, 216234, 33678, 3722, 0, 18395, 0], [194763, 163537, 22115, 19566, 0, 47763, 0])\n",
      "(35, [37398, 326970, 48560, 4757, 0, 30059, 0], [23048, 241335, 58822, 6674, 110375, 0, 7490])\n",
      "(36, [196660, 117013, 84435, 1166, 0, 48470, 0], [213026, 61183, 32683, 0, 0, 59904, 80948])\n",
      "(37, [20278, 367735, 28846, 4581, 0, 26304, 0], [18498, 336204, 15685, 0, 0, 7941, 69416])\n",
      "(38, [16038, 216137, 111129, 35440, 0, 69000, 0], [0, 10571, 94622, 81306, 0, 197215, 64030])\n",
      "(39, [241195, 170555, 23977, 588, 0, 11429, 0], [251077, 157622, 0, 11473, 0, 388, 27184])\n",
      "(40, [94363, 242051, 58499, 11233, 0, 41598, 0], [115357, 141326, 85430, 29620, 0, 76011, 0])\n",
      "(41, [42244, 275367, 67302, 1254, 0, 61577, 0], [29316, 113752, 0, 11473, 0, 293203, 0])\n",
      "(42, [87536, 305842, 26427, 917, 0, 27022, 0], [84850, 283124, 0, 0, 0, 79770, 0])\n",
      "(43, [85978, 275395, 48925, 2015, 0, 35430, 1], [89247, 269242, 87841, 0, 0, 1414, 0])\n",
      "(44, [68727, 113441, 181618, 3112, 0, 80846, 0], [47433, 17842, 353534, 0, 0, 3101, 25834])\n",
      "(45, [194139, 175104, 35219, 14909, 0, 28373, 0], [187106, 121131, 58390, 35750, 0, 45367, 0])\n",
      "(46, [101268, 178202, 107343, 7654, 0, 53276, 1], [87712, 118985, 238874, 2173, 0, 0, 0])\n",
      "(47, [100338, 170494, 90592, 33551, 0, 52768, 1], [94102, 78493, 129928, 75600, 0, 43746, 25875])\n",
      "(48, [24010, 181480, 159429, 5583, 0, 77242, 0], [0, 76189, 328856, 0, 0, 0, 42699])\n",
      "(49, [52407, 263334, 57609, 29098, 0, 45296, 0], [53367, 178583, 87756, 33998, 0, 94040, 0])\n",
      "(50, [64218, 231391, 99180, 5182, 0, 47773, 0], [52641, 174608, 174629, 0, 45866, 0, 0])\n",
      "(51, [126280, 246063, 41920, 1302, 0, 32178, 1], [119830, 230107, 36676, 0, 0, 19088, 42043])\n",
      "(52, [107496, 144380, 132996, 10821, 0, 52051, 0], [106778, 85806, 46036, 23028, 0, 0, 186096])\n",
      "(53, [117715, 292049, 10767, 14663, 0, 12549, 1], [130853, 237165, 0, 55539, 18410, 0, 5777])\n",
      "(54, [146350, 177555, 68338, 3941, 0, 51559, 1], [138490, 56578, 0, 30753, 0, 221923, 0])\n",
      "(55, [243859, 152525, 32107, 1146, 0, 18107, 0], [248842, 129862, 60588, 0, 0, 8452, 0])\n",
      "(56, [46645, 330893, 36599, 795, 0, 32812, 0], [38894, 303016, 0, 0, 0, 0, 105834])\n",
      "(57, [173072, 157623, 64530, 10905, 0, 41612, 2], [156399, 101424, 46036, 32409, 0, 0, 111476])\n",
      "(58, [87605, 254465, 53438, 14123, 0, 38113, 0], [76153, 198989, 82244, 35750, 0, 54608, 0])\n",
      "(59, [46472, 204356, 107431, 8424, 0, 81060, 1], [33010, 129091, 219501, 18622, 0, 2786, 44734])\n",
      "(60, [155271, 169849, 66900, 13143, 0, 42581, 0], [162832, 74363, 99336, 35170, 0, 47763, 28280])\n",
      "(61, [320818, 76011, 31275, 804, 0, 18836, 0], [369995, 38727, 39022, 0, 0, 0, 0])\n",
      "(62, [49473, 353287, 17987, 2868, 0, 24129, 0], [48374, 356127, 0, 0, 0, 0, 43243])\n",
      "(63, [233353, 103849, 75947, 3932, 0, 30663, 0], [236870, 73825, 131421, 0, 0, 5628, 0])\n",
      "(64, [30200, 382226, 15674, 1668, 0, 17976, 0], [42664, 385909, 19171, 0, 0, 0, 0])\n",
      "(65, [7340, 291627, 63615, 48989, 0, 36172, 1], [0, 172245, 69671, 149561, 0, 26677, 29590])\n",
      "(66, [132092, 232996, 41194, 10643, 0, 30819, 0], [152636, 179580, 28088, 23055, 0, 64385, 0])\n",
      "(67, [199745, 193237, 31716, 1771, 0, 21275, 0], [200401, 183017, 41252, 0, 0, 0, 23074])\n",
      "(68, [108723, 212970, 80076, 2243, 0, 43732, 0], [90530, 161453, 118049, 0, 0, 0, 77712])\n",
      "(69, [66172, 314951, 33386, 1876, 0, 31359, 0], [69525, 298347, 0, 0, 0, 49302, 30570])\n",
      "(70, [47413, 237749, 38748, 85231, 0, 38602, 1], [44208, 45346, 18377, 244134, 0, 95679, 0])\n",
      "(71, [237812, 178041, 20651, 0, 0, 11240, 0], [251416, 170328, 12701, 0, 0, 13299, 0])\n",
      "(72, [164561, 162290, 64101, 6708, 0, 50084, 0], [180272, 15664, 37863, 9799, 0, 204146, 0])\n",
      "(73, [89033, 271733, 47468, 8385, 0, 31125, 0], [84850, 221065, 0, 15714, 0, 126115, 0])\n",
      "(74, [155257, 160668, 87989, 878, 0, 42951, 1], [172584, 102195, 172965, 0, 0, 0, 0])\n",
      "(75, [117620, 202924, 82043, 2497, 0, 42659, 1], [122410, 130337, 82621, 2025, 0, 107300, 3051])\n",
      "(76, [146901, 240952, 32098, 337, 0, 27455, 1], [150446, 202925, 55766, 0, 0, 38607, 0])\n",
      "(77, [141338, 154956, 111807, 4065, 0, 35578, 0], [141072, 132453, 174219, 0, 0, 0, 0])\n",
      "(78, [120902, 151263, 100588, 5974, 0, 69017, 0], [129648, 52899, 229777, 0, 0, 35420, 0])\n",
      "(79, [73412, 250867, 73216, 2120, 0, 48129, 0], [61051, 166390, 25311, 0, 0, 125038, 69954])\n",
      "(80, [83264, 293380, 40748, 2270, 0, 28082, 0], [96677, 294082, 56985, 0, 0, 0, 0])\n",
      "(81, [306975, 110186, 14256, 1959, 0, 14367, 1], [327729, 120015, 0, 0, 0, 0, 0])\n",
      "(82, [192280, 174633, 40703, 18499, 0, 21628, 1], [193346, 87546, 72723, 91054, 0, 3075, 0])\n",
      "(83, [29730, 191189, 101959, 35037, 0, 89828, 1], [17975, 0, 171556, 64002, 0, 187087, 7124])\n",
      "(84, [167524, 201365, 32843, 14381, 0, 31631, 0], [172503, 162977, 0, 27065, 0, 0, 85199])\n",
      "(85, [6286, 379704, 29052, 3325, 0, 29377, 0], [0, 372625, 15399, 0, 0, 0, 59720])\n",
      "(86, [133285, 282760, 12093, 1713, 0, 17893, 0], [132205, 232943, 253, 0, 82343, 0, 0])\n",
      "(87, [118295, 310551, 6692, 443, 0, 11762, 1], [130848, 316896, 0, 0, 0, 0, 0])\n",
      "(88, [200635, 184016, 26043, 11661, 0, 25389, 0], [216895, 134198, 6293, 35750, 0, 54608, 0])\n",
      "(89, [86650, 138413, 131140, 6497, 0, 85044, 0], [90675, 5436, 266357, 0, 0, 85276, 0])\n",
      "(90, [330520, 59073, 37240, 14, 0, 20897, 0], [370430, 0, 0, 0, 0, 77314, 0])\n",
      "(91, [69550, 241513, 74687, 3028, 0, 58966, 0], [43827, 146633, 66017, 0, 12698, 0, 178569])\n"
     ]
    },
    {
     "name": "stdout",
     "output_type": "stream",
     "text": [
      "(92, [82693, 285879, 40351, 11064, 0, 27757, 0], [77115, 265299, 82275, 23055, 0, 0, 0])\n",
      "(93, [205435, 197954, 24550, 695, 0, 19110, 0], [212731, 157699, 0, 0, 0, 77314, 0])\n",
      "(94, [59196, 251615, 46362, 50128, 0, 40442, 1], [54118, 156156, 38880, 91290, 0, 107300, 0])\n",
      "(95, [53027, 262134, 34778, 76602, 0, 21203, 0], [52546, 89325, 0, 246346, 0, 16046, 43481])\n",
      "(96, [88071, 288088, 35485, 2403, 0, 33697, 0], [81796, 190990, 34996, 0, 0, 116975, 22987])\n",
      "(97, [110920, 259859, 59777, 1656, 0, 15532, 0], [109665, 248592, 87374, 2113, 0, 0, 0])\n",
      "(98, [37398, 326970, 48560, 4757, 0, 30059, 0], [23048, 241335, 58822, 6674, 110375, 0, 7490])\n",
      "(99, [100274, 201648, 69263, 12381, 0, 64177, 1], [86668, 50294, 102987, 24772, 154619, 28404, 0])\n",
      "(100, [134036, 250919, 32616, 4821, 0, 25352, 0], [142044, 175895, 2335, 3676, 0, 114497, 9297])\n",
      "(101, [250699, 134607, 24212, 11387, 0, 26839, 0], [275874, 81512, 0, 35750, 0, 54608, 0])\n",
      "(102, [216614, 203459, 10429, 1380, 0, 15862, 0], [232971, 214773, 0, 0, 0, 0, 0])\n",
      "(103, [8750, 334690, 46062, 25393, 0, 32848, 1], [4246, 187167, 20611, 101305, 0, 134415, 0])\n",
      "(104, [75153, 295355, 40296, 9429, 0, 27511, 0], [83383, 210605, 36218, 64657, 0, 52881, 0])\n",
      "(105, [134075, 133290, 101019, 2596, 0, 76764, 0], [107681, 20320, 134816, 0, 0, 3101, 181826])\n",
      "(106, [43321, 318266, 39988, 1728, 0, 44441, 0], [40262, 191005, 0, 0, 0, 212917, 3560])\n",
      "(107, [103369, 167318, 105813, 9884, 0, 61360, 0], [90068, 25442, 113100, 17195, 0, 153290, 48649])\n",
      "(108, [243325, 91973, 80093, 2927, 0, 29426, 0], [247129, 60135, 140480, 0, 0, 0, 0])\n",
      "(109, [149128, 211059, 55826, 734, 0, 30996, 1], [164572, 124847, 68261, 949, 56914, 0, 32201])\n",
      "(110, [106598, 149202, 109524, 6490, 0, 75930, 0], [116257, 30878, 246535, 0, 0, 54074, 0])\n",
      "(111, [75279, 265919, 63525, 1908, 0, 41113, 0], [80223, 207510, 124599, 0, 0, 35412, 0])\n",
      "(112, [87319, 243232, 57037, 14190, 0, 45966, 0], [76153, 176918, 104315, 35750, 0, 54608, 0])\n",
      "(113, [21325, 358544, 32067, 6632, 0, 29176, 0], [9050, 342720, 70808, 15086, 0, 10080, 0])\n",
      "(114, [329850, 86347, 12794, 174, 0, 18578, 1], [337551, 41903, 0, 0, 58857, 9433, 0])\n",
      "(115, [153423, 160177, 76681, 11365, 0, 46098, 0], [153909, 35579, 97779, 64657, 0, 52881, 42939])\n",
      "(116, [95173, 189596, 58940, 46757, 0, 57277, 1], [81475, 41365, 102987, 99932, 121985, 0, 0])\n",
      "(117, [243859, 152525, 32107, 1146, 0, 18107, 0], [248842, 129862, 60588, 0, 0, 8452, 0])\n",
      "(118, [41724, 345296, 11621, 33874, 0, 15229, 0], [45889, 265979, 18377, 117499, 0, 0, 0])\n",
      "(119, [119857, 225947, 23088, 61209, 0, 17643, 0], [136993, 115325, 16560, 171388, 0, 7478, 0])\n"
     ]
    }
   ],
   "source": [
    "for i in range(Y_hat.shape[0]):\n",
    "    print((i, [np.count_nonzero(Y_hat[i,:]==j) for j in range(Y_hat_p.shape[-1])], \n",
    "           [np.count_nonzero(Y_dev[i,:,:].argmax(axis=-1)==j) for j in range(Y_hat_p.shape[-1])]))"
   ]
  },
  {
   "cell_type": "code",
   "execution_count": 45,
   "metadata": {
    "collapsed": true
   },
   "outputs": [],
   "source": [
    "# this is completely arbitrary, i have no idea what it will show --Matt\n",
    "iix=27"
   ]
  },
  {
   "cell_type": "code",
   "execution_count": 46,
   "metadata": {},
   "outputs": [
    {
     "data": {
      "text/plain": [
       "<matplotlib.image.AxesImage at 0x7f53e1e5e1d0>"
      ]
     },
     "execution_count": 46,
     "metadata": {},
     "output_type": "execute_result"
    },
    {
     "data": {
      "image/png": "[encoded data removed]",
      "text/plain": [
       "<matplotlib.figure.Figure at 0x7f53e1e67278>"
      ]
     },
     "metadata": {},
     "output_type": "display_data"
    }
   ],
   "source": [
    "plt.figure(figsize=(12, 3))\n",
    "Y_dev_lab = np.argmax(Y_dev, axis=-1)\n",
    "plt.subplot(211)\n",
    "plt.title('Dev set ground truths')\n",
    "plt.imshow(Y_dev_lab[iix:iix+1,:].astype(int), aspect='auto', cmap='jet')\n",
    "\n",
    "plt.subplot(212)\n",
    "plt.title('Corresponding dev set predictions')\n",
    "plt.imshow(Y_hat[iix:iix+1,:].astype(int), aspect='auto', cmap='jet')"
   ]
  },
  {
   "cell_type": "code",
   "execution_count": 47,
   "metadata": {},
   "outputs": [
    {
     "data": {
      "text/plain": [
       "(array([ 24044,  24045,  24047, ..., 446984, 446986, 446987]),)"
      ]
     },
     "execution_count": 47,
     "metadata": {},
     "output_type": "execute_result"
    }
   ],
   "source": [
    "np.where(np.argmax(Y_hat_p[iix,:,:], axis=-1)==3)"
   ]
  },
  {
   "cell_type": "code",
   "execution_count": 48,
   "metadata": {},
   "outputs": [
    {
     "data": {
      "text/plain": [
       "<matplotlib.image.AxesImage at 0x7f53e1d8a080>"
      ]
     },
     "execution_count": 48,
     "metadata": {},
     "output_type": "execute_result"
    },
    {
     "data": {
      "image/png": "[encoded data removed]",
      "text/plain": [
       "<matplotlib.figure.Figure at 0x7f53e1e80dd8>"
      ]
     },
     "metadata": {},
     "output_type": "display_data"
    }
   ],
   "source": [
    "plt.figure(figsize=(12, 3))\n",
    "Y_dev_lab = np.argmax(Y_dev, axis=-1)\n",
    "plt.subplot(211)\n",
    "plt.title('Dev set ground truths')\n",
    "plt.imshow(Y_dev_lab[iix:iix+1,29000:29500].astype(int), aspect='auto')#, cmap='jet')\n",
    "\n",
    "plt.subplot(212)\n",
    "plt.title('Corresponding dev set predictions')\n",
    "plt.imshow(Y_hat[iix:iix+1,29000:29500].astype(int), aspect='auto')#, cmap='jet')"
   ]
  },
  {
   "cell_type": "code",
   "execution_count": 49,
   "metadata": {
    "scrolled": false
   },
   "outputs": [
    {
     "data": {
      "text/plain": [
       "array([[[1.3591215e-05, 4.0866837e-01, 6.2552929e-02, ...,\n",
       "         1.1329549e-02, 9.1304451e-02, 6.2038028e-03],\n",
       "        [1.1851218e-05, 4.1143468e-01, 6.0977980e-02, ...,\n",
       "         1.0789870e-02, 8.9989357e-02, 5.8751721e-03],\n",
       "        [1.2946446e-05, 4.1000783e-01, 6.1942454e-02, ...,\n",
       "         1.1128320e-02, 9.0828143e-02, 6.0830167e-03],\n",
       "        ...,\n",
       "        [7.4131164e-04, 1.5416354e-01, 2.5724155e-01, ...,\n",
       "         4.2861033e-02, 1.7445563e-01, 6.5354601e-02],\n",
       "        [8.8631868e-04, 1.4161213e-01, 2.7502120e-01, ...,\n",
       "         4.2397697e-02, 1.8497954e-01, 7.2648861e-02],\n",
       "        [6.8422954e-04, 1.5977657e-01, 2.6060021e-01, ...,\n",
       "         4.3445479e-02, 1.8305121e-01, 7.0738174e-02]]], dtype=float32)"
      ]
     },
     "execution_count": 49,
     "metadata": {},
     "output_type": "execute_result"
    }
   ],
   "source": [
    "Y_hat_p[iix,np.where(np.argmax(Y_hat_p[iix,:,:], axis=-1)==3),:]"
   ]
  },
  {
   "cell_type": "code",
   "execution_count": 50,
   "metadata": {
    "collapsed": true
   },
   "outputs": [],
   "source": [
    "# seems like a crf-smoother (even a post-hoc one) could really help\n",
    "## todo: check out tf2crf"
   ]
  }
 ],
 "metadata": {
  "kernelspec": {
   "display_name": "Python 3",
   "language": "python",
   "name": "python3"
  },
  "language_info": {
   "codemirror_mode": {
    "name": "ipython",
    "version": 3
   },
   "file_extension": ".py",
   "mimetype": "text/x-python",
   "name": "python",
   "nbconvert_exporter": "python",
   "pygments_lexer": "ipython3",
   "version": "3.6.1"
  }
 },
 "nbformat": 4,
 "nbformat_minor": 2
}
