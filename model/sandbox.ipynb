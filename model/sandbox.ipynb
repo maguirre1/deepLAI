{
 "cells": [
  {
   "cell_type": "code",
   "execution_count": 1,
   "metadata": {
    "collapsed": true
   },
   "outputs": [],
   "source": [
    "import os,sys\n",
    "import platform\n",
    "import numpy as np\n",
    "import tensorflow as tf\n",
    "from tensorflow.keras import optimizers\n",
    "from tensorflow.keras.utils import to_categorical\n",
    "from tensorflow.keras.callbacks import EarlyStopping\n",
    "from segnet import segnet\n",
    "from generator import DataGenerator, DataLoader"
   ]
  },
  {
   "cell_type": "code",
   "execution_count": 2,
   "metadata": {},
   "outputs": [
    {
     "name": "stdout",
     "output_type": "stream",
     "text": [
      "2.1.0\n"
     ]
    }
   ],
   "source": [
    "print(tf.__version__) # 2.1.0"
   ]
  },
  {
   "cell_type": "code",
   "execution_count": 3,
   "metadata": {},
   "outputs": [
    {
     "name": "stdout",
     "output_type": "stream",
     "text": [
      "2.2.4-tf\n"
     ]
    }
   ],
   "source": [
    "#import keras\n",
    "print(tf.keras.__version__) # 2.2.4-tf"
   ]
  },
  {
   "cell_type": "code",
   "execution_count": 4,
   "metadata": {
    "collapsed": true
   },
   "outputs": [],
   "source": [
    "# keep these constant for now\n",
    "nv=int(2**98) # variants\n",
    "na=2          # alleles\n",
    "nc=7          # ancestry classes (incl. OCE)"
   ]
  },
  {
   "cell_type": "code",
   "execution_count": 5,
   "metadata": {
    "collapsed": true
   },
   "outputs": [],
   "source": [
    "# hyperparameters\n",
    "ne=100        # number of epochs\n",
    "nf=8          # number of segnet filters\n",
    "fs=16         # filter size\n",
    "bs=8          # batch size\n",
    "ps=4          # pool size\n",
    "dp=4          # number of segnet blocks (depth)\n",
    "wt=False      # use inverse frequency weighted loss -- this doesn't seem to help\n",
    "gen=True      # use data generator\n",
    "rem=[]        # remove these ancestries: [0:AFR, 1:EAS, 2:EUR, 3:NAT, 4:OCE, 5:SAS, 6:WAS]\n",
    "dev=True      # do we have a dev set (this is jank if we're removing any ancestries, above)\n",
    "ac=1          # minimum allele count for inclusion\n",
    "stoch=True    # randomly sample individuals during training (requires gen=True)\n",
    "               # sampling is currently inverse-frequency weighted\n",
    "\n",
    "# reproducibility\n",
    "np.random.seed(23910464)"
   ]
  },
  {
   "cell_type": "code",
   "execution_count": 6,
   "metadata": {},
   "outputs": [
    {
     "data": {
      "text/plain": [
       "[PhysicalDevice(name='/physical_device:GPU:0', device_type='GPU')]"
      ]
     },
     "execution_count": 6,
     "metadata": {},
     "output_type": "execute_result"
    }
   ],
   "source": [
    "# sanity check that we're on gpu -- use #1 (if we're on galangal)\n",
    "if platform.uname()[1]=='galangal.stanford.edu':\n",
    "    os.environ[\"CUDA_VISIBLE_DEVICES\"]=\"1\" \n",
    "tf.config.list_physical_devices('GPU')"
   ]
  },
  {
   "cell_type": "code",
   "execution_count": 7,
   "metadata": {
    "collapsed": true
   },
   "outputs": [],
   "source": [
    "from train import load_train_set, load_dev_set, filter_ac"
   ]
  },
  {
   "cell_type": "code",
   "execution_count": 8,
   "metadata": {},
   "outputs": [
    {
     "name": "stdout",
     "output_type": "stream",
     "text": [
      "[(2764, 516801, 2), (2764, 516801, 7), (2764,), 2090]\n",
      "[(120, 516801, 2), (120, 516801, 7)]\n"
     ]
    }
   ],
   "source": [
    "X, Y, S, V, train_ix, ix1, ix2 = load_train_set()\n",
    "X_dev, Y_dev, S_dev = load_dev_set()"
   ]
  },
  {
   "cell_type": "code",
   "execution_count": 9,
   "metadata": {},
   "outputs": [],
   "source": [
    "if False: # print sizes of allocated objects -- \n",
    "    # can be a nice sanity check, but also annoying to look at\n",
    "    for x in dir():\n",
    "        print(x, sys.getsizeof(eval(x)))"
   ]
  },
  {
   "cell_type": "code",
   "execution_count": 10,
   "metadata": {
    "collapsed": true
   },
   "outputs": [],
   "source": [
    "# filter oceanians, etc.\n",
    "if rem:\n",
    "    train_ix=[i for i in train_ix if Y[i,0,:].dot(np.arange(nc)) not in rem]\n",
    "    if dev:\n",
    "        Y_dev=Y_dev[:,:,[i for i in range(nc) if i not in rem]] # this is hella janky\n",
    "anc=[i for i in range(nc) if i not in rem]"
   ]
  },
  {
   "cell_type": "code",
   "execution_count": 11,
   "metadata": {},
   "outputs": [
    {
     "name": "stdout",
     "output_type": "stream",
     "text": [
      "447827\n",
      "447744\n",
      "(2090, 447744, 2) (120, 447744, 2) (2090, 447744, 7) (120, 447744, 7)\n"
     ]
    }
   ],
   "source": [
    "# filter variants by allele count\n",
    "v=filter_ac(X[train_ix,:,:], ac=ac)\n",
    "print(np.sum(v))\n",
    "nv=np.sum(v)-(np.sum(v) % (ps**dp))\n",
    "v=np.array([i and j <= nv for i,j in zip(v, np.cumsum(v))])\n",
    "print(np.sum(v))\n",
    "#np.random.shuffle(train_ix)\n",
    "#np.save('/scratch/users/magu/aY.npy', Y[np.ix_(train_ix, v, anc)])\n",
    "#np.save('/scratch/users/magu/aX.npy', X[np.ix_(train_ix, v, np.arange(na))])\n",
    "#X=np.load('/scratch/users/magu/aX.npy', mmap_mode='r')\n",
    "#Y=np.load('/scratch/users/magu/aY.npy', mmap_mode='r')\n",
    "Y=Y[np.ix_(train_ix, v, anc)]\n",
    "X=X[np.ix_(train_ix, v, np.arange(na))]\n",
    "X_dev=X_dev[:,v,:]\n",
    "Y_dev=Y_dev[:,v,:]\n",
    "print(X.shape, X_dev.shape, Y.shape, Y_dev.shape)"
   ]
  },
  {
   "cell_type": "code",
   "execution_count": 12,
   "metadata": {
    "collapsed": true,
    "scrolled": false
   },
   "outputs": [],
   "source": [
    "# declare model\n",
    "model=segnet(input_shape=(X.shape[1], na), n_classes=nc-len(rem), n_filters=nf, width=fs, n_blocks=dp, pool_size=ps)\n",
    "\n",
    "# and optimizer\n",
    "adam=optimizers.Adam(lr=3e-4)#, beta_1=0.8)"
   ]
  },
  {
   "cell_type": "code",
   "execution_count": null,
   "metadata": {
    "scrolled": false
   },
   "outputs": [
    {
     "name": "stdout",
     "output_type": "stream",
     "text": [
      "Model: \"segnet\"\n",
      "__________________________________________________________________________________________________\n",
      "Layer (type)                    Output Shape         Param #     Connected to                     \n",
      "==================================================================================================\n",
      "input_1 (InputLayer)            [(None, 447744, 2)]  0                                            \n",
      "__________________________________________________________________________________________________\n",
      "dropout (Dropout)               (None, 447744, 2)    0           input_1[0][0]                    \n",
      "__________________________________________________________________________________________________\n",
      "conv1_down1 (Conv1D)            (None, 447744, 8)    264         dropout[0][0]                    \n",
      "__________________________________________________________________________________________________\n",
      "activation (Activation)         (None, 447744, 8)    0           conv1_down1[0][0]                \n",
      "__________________________________________________________________________________________________\n",
      "dropout_1 (Dropout)             (None, 447744, 8)    0           activation[0][0]                 \n",
      "__________________________________________________________________________________________________\n",
      "conv1_down2 (Conv1D)            (None, 447744, 8)    1032        dropout_1[0][0]                  \n",
      "__________________________________________________________________________________________________\n",
      "activation_1 (Activation)       (None, 447744, 8)    0           conv1_down2[0][0]                \n",
      "__________________________________________________________________________________________________\n",
      "dropout_2 (Dropout)             (None, 447744, 8)    0           activation_1[0][0]               \n",
      "__________________________________________________________________________________________________\n",
      "pool0 (MaxPooling1D)            (None, 111936, 8)    0           dropout_2[0][0]                  \n",
      "__________________________________________________________________________________________________\n",
      "conv2_down1 (Conv1D)            (None, 111936, 16)   2064        pool0[0][0]                      \n",
      "__________________________________________________________________________________________________\n",
      "activation_2 (Activation)       (None, 111936, 16)   0           conv2_down1[0][0]                \n",
      "__________________________________________________________________________________________________\n",
      "dropout_3 (Dropout)             (None, 111936, 16)   0           activation_2[0][0]               \n",
      "__________________________________________________________________________________________________\n",
      "conv2_down2 (Conv1D)            (None, 111936, 16)   4112        dropout_3[0][0]                  \n",
      "__________________________________________________________________________________________________\n",
      "activation_3 (Activation)       (None, 111936, 16)   0           conv2_down2[0][0]                \n",
      "__________________________________________________________________________________________________\n",
      "dropout_4 (Dropout)             (None, 111936, 16)   0           activation_3[0][0]               \n",
      "__________________________________________________________________________________________________\n",
      "pool1 (MaxPooling1D)            (None, 27984, 16)    0           dropout_4[0][0]                  \n",
      "__________________________________________________________________________________________________\n",
      "conv3_down1 (Conv1D)            (None, 27984, 32)    8224        pool1[0][0]                      \n",
      "__________________________________________________________________________________________________\n",
      "activation_4 (Activation)       (None, 27984, 32)    0           conv3_down1[0][0]                \n",
      "__________________________________________________________________________________________________\n",
      "dropout_5 (Dropout)             (None, 27984, 32)    0           activation_4[0][0]               \n",
      "__________________________________________________________________________________________________\n",
      "conv3_down2 (Conv1D)            (None, 27984, 32)    16416       dropout_5[0][0]                  \n",
      "__________________________________________________________________________________________________\n",
      "activation_5 (Activation)       (None, 27984, 32)    0           conv3_down2[0][0]                \n",
      "__________________________________________________________________________________________________\n",
      "dropout_6 (Dropout)             (None, 27984, 32)    0           activation_5[0][0]               \n",
      "__________________________________________________________________________________________________\n",
      "pool2 (MaxPooling1D)            (None, 6996, 32)     0           dropout_6[0][0]                  \n",
      "__________________________________________________________________________________________________\n",
      "conv4_down1 (Conv1D)            (None, 6996, 64)     32832       pool2[0][0]                      \n",
      "__________________________________________________________________________________________________\n",
      "activation_6 (Activation)       (None, 6996, 64)     0           conv4_down1[0][0]                \n",
      "__________________________________________________________________________________________________\n",
      "dropout_7 (Dropout)             (None, 6996, 64)     0           activation_6[0][0]               \n",
      "__________________________________________________________________________________________________\n",
      "conv4_down2 (Conv1D)            (None, 6996, 64)     65600       dropout_7[0][0]                  \n",
      "__________________________________________________________________________________________________\n",
      "activation_7 (Activation)       (None, 6996, 64)     0           conv4_down2[0][0]                \n",
      "__________________________________________________________________________________________________\n",
      "dropout_8 (Dropout)             (None, 6996, 64)     0           activation_7[0][0]               \n",
      "__________________________________________________________________________________________________\n",
      "pool3 (MaxPooling1D)            (None, 1749, 64)     0           dropout_8[0][0]                  \n",
      "__________________________________________________________________________________________________\n",
      "concatenate (Concatenate)       (None, 1749, 128)    0           pool3[0][0]                      \n",
      "                                                                 pool3[0][0]                      \n",
      "__________________________________________________________________________________________________\n",
      "up3 (UpSampling1D)              (None, 6996, 128)    0           concatenate[0][0]                \n",
      "__________________________________________________________________________________________________\n",
      "conv3_up0 (Conv1D)              (None, 6996, 64)     131136      up3[0][0]                        \n",
      "__________________________________________________________________________________________________\n",
      "activation_8 (Activation)       (None, 6996, 64)     0           conv3_up0[0][0]                  \n",
      "__________________________________________________________________________________________________\n",
      "dropout_9 (Dropout)             (None, 6996, 64)     0           activation_8[0][0]               \n",
      "__________________________________________________________________________________________________\n",
      "conv3_up1 (Conv1D)              (None, 6996, 64)     65600       dropout_9[0][0]                  \n",
      "__________________________________________________________________________________________________\n",
      "activation_9 (Activation)       (None, 6996, 64)     0           conv3_up1[0][0]                  \n",
      "__________________________________________________________________________________________________\n",
      "dropout_10 (Dropout)            (None, 6996, 64)     0           activation_9[0][0]               \n",
      "__________________________________________________________________________________________________\n",
      "concatenate_1 (Concatenate)     (None, 6996, 96)     0           pool2[0][0]                      \n",
      "                                                                 dropout_10[0][0]                 \n",
      "__________________________________________________________________________________________________\n",
      "up2 (UpSampling1D)              (None, 27984, 96)    0           concatenate_1[0][0]              \n",
      "__________________________________________________________________________________________________\n",
      "conv2_up0 (Conv1D)              (None, 27984, 32)    49184       up2[0][0]                        \n",
      "__________________________________________________________________________________________________\n",
      "activation_10 (Activation)      (None, 27984, 32)    0           conv2_up0[0][0]                  \n",
      "__________________________________________________________________________________________________\n",
      "dropout_11 (Dropout)            (None, 27984, 32)    0           activation_10[0][0]              \n",
      "__________________________________________________________________________________________________\n",
      "conv2_up1 (Conv1D)              (None, 27984, 32)    16416       dropout_11[0][0]                 \n",
      "__________________________________________________________________________________________________\n",
      "activation_11 (Activation)      (None, 27984, 32)    0           conv2_up1[0][0]                  \n",
      "__________________________________________________________________________________________________\n",
      "dropout_12 (Dropout)            (None, 27984, 32)    0           activation_11[0][0]              \n",
      "__________________________________________________________________________________________________\n",
      "concatenate_2 (Concatenate)     (None, 27984, 48)    0           pool1[0][0]                      \n",
      "                                                                 dropout_12[0][0]                 \n",
      "__________________________________________________________________________________________________\n",
      "up1 (UpSampling1D)              (None, 111936, 48)   0           concatenate_2[0][0]              \n",
      "__________________________________________________________________________________________________\n",
      "conv1_up0 (Conv1D)              (None, 111936, 16)   12304       up1[0][0]                        \n",
      "__________________________________________________________________________________________________\n",
      "activation_12 (Activation)      (None, 111936, 16)   0           conv1_up0[0][0]                  \n",
      "__________________________________________________________________________________________________\n",
      "dropout_13 (Dropout)            (None, 111936, 16)   0           activation_12[0][0]              \n",
      "__________________________________________________________________________________________________\n",
      "conv1_up1 (Conv1D)              (None, 111936, 16)   4112        dropout_13[0][0]                 \n",
      "__________________________________________________________________________________________________\n",
      "activation_13 (Activation)      (None, 111936, 16)   0           conv1_up1[0][0]                  \n",
      "__________________________________________________________________________________________________\n",
      "dropout_14 (Dropout)            (None, 111936, 16)   0           activation_13[0][0]              \n",
      "__________________________________________________________________________________________________\n",
      "concatenate_3 (Concatenate)     (None, 111936, 24)   0           pool0[0][0]                      \n",
      "                                                                 dropout_14[0][0]                 \n",
      "__________________________________________________________________________________________________\n",
      "up0 (UpSampling1D)              (None, 447744, 24)   0           concatenate_3[0][0]              \n",
      "__________________________________________________________________________________________________\n",
      "conv0_up0 (Conv1D)              (None, 447744, 8)    3080        up0[0][0]                        \n",
      "__________________________________________________________________________________________________\n",
      "activation_14 (Activation)      (None, 447744, 8)    0           conv0_up0[0][0]                  \n",
      "__________________________________________________________________________________________________\n",
      "dropout_15 (Dropout)            (None, 447744, 8)    0           activation_14[0][0]              \n",
      "__________________________________________________________________________________________________\n",
      "conv0_up1 (Conv1D)              (None, 447744, 8)    1032        dropout_15[0][0]                 \n",
      "__________________________________________________________________________________________________\n",
      "activation_15 (Activation)      (None, 447744, 8)    0           conv0_up1[0][0]                  \n",
      "__________________________________________________________________________________________________\n",
      "dropout_16 (Dropout)            (None, 447744, 8)    0           activation_15[0][0]              \n",
      "__________________________________________________________________________________________________\n",
      "output_layer (Dense)            (None, 447744, 7)    63          dropout_16[0][0]                 \n",
      "==================================================================================================\n",
      "Total params: 413,471\n",
      "Trainable params: 413,471\n",
      "Non-trainable params: 0\n",
      "__________________________________________________________________________________________________\n",
      "None\n"
     ]
    }
   ],
   "source": [
    "# now compile and show parameter summary\n",
    "model.compile(optimizer=adam, loss='categorical_crossentropy', metrics=['accuracy']) \n",
    "print(model.summary())"
   ]
  },
  {
   "cell_type": "code",
   "execution_count": null,
   "metadata": {
    "scrolled": false
   },
   "outputs": [
    {
     "name": "stdout",
     "output_type": "stream",
     "text": [
      "WARNING:tensorflow:From <ipython-input-14-0560d1a12a61>:28: Model.fit_generator (from tensorflow.python.keras.engine.training) is deprecated and will be removed in a future version.\n",
      "Instructions for updating:\n",
      "Please use Model.fit, which supports generators.\n",
      "WARNING:tensorflow:sample_weight modes were coerced from\n",
      "  ...\n",
      "    to  \n",
      "  ['...']\n",
      "Train for 261 steps, validate on 120 samples\n",
      "Epoch 1/100\n"
     ]
    }
   ],
   "source": [
    "# now try it out!\n",
    "\n",
    "# number weighted epochs -- will be [ne] if wt=False else [0, ne] (ne is set above)\n",
    "nwe=ne \n",
    "nes=[ne-(wt*nwe)]         \n",
    "cws=[np.ones((nc,))]\n",
    "if wt:\n",
    "    nes.append(nwe)\n",
    "    cws.append(np.sqrt(Y.sum()/Y.sum(axis=0).sum(axis=0)))\n",
    "    \n",
    "# training\n",
    "np.random.shuffle(train_ix)\n",
    "for ne,cw in zip(nes,cws):\n",
    "    if ne == 0: # don't waste time compiling the model if we aren't training it -- see above\n",
    "        continue\n",
    "    if dev:\n",
    "        # we have a dev set; use it to monitor convergence\n",
    "        es = EarlyStopping(monitor='val_loss', mode='min', verbose=1, patience=10)\n",
    "\n",
    "        # fit with generator, or not\n",
    "        if gen:\n",
    "            params={'X':X, 'Y':Y, 'dim':nv, 'batch_size':bs, 'n_classes':nc, 'n_alleles':na}\n",
    "            anc_fq=Y[:,0,:].sum(axis=0)\n",
    "            generator=DataGenerator(np.arange(X.shape[0]), \n",
    "                                    sample=True, anc_wts=((1/anc_fq)/((1/anc_fq).sum())).flatten(),\n",
    "                                    **params)\n",
    "            history=model.fit_generator(generator=generator, epochs=ne, validation_data=(X_dev, Y_dev), \n",
    "                                        callbacks=[es], class_weight=cw)\n",
    "        else:\n",
    "            history=model.fit(X, Y, batch_size=bs, epochs=ne, \n",
    "                              validation_data=(X_dev, Y_dev), \n",
    "                              callbacks=[es], class_weight=cw)\n",
    "    else:\n",
    "        history=model.fit(X, Y, batch_size=bs, epochs=ne, class_weight=cw)"
   ]
  },
  {
   "cell_type": "code",
   "execution_count": null,
   "metadata": {
    "collapsed": true
   },
   "outputs": [],
   "source": [
    "# save\n",
    "model.save('chm20_short.dev.h5')"
   ]
  },
  {
   "cell_type": "code",
   "execution_count": null,
   "metadata": {
    "collapsed": true
   },
   "outputs": [],
   "source": [
    "_, dev_acc = model.evaluate(X_dev, Y_dev, verbose=0)\n",
    "\n",
    "# 1.1) plot loss during training\n",
    "import matplotlib.pyplot as plt\n",
    "%matplotlib inline\n",
    "plt.figure(1, (9,9))\n",
    "plt.subplot(211)\n",
    "plt.title('Loss during training')\n",
    "plt.plot(history.history['loss'], label='train set')\n",
    "plt.plot(history.history['val_loss'], label='dev set')\n",
    "plt.legend()\n",
    "\n",
    "# 1.2) plot accuracy during training\n",
    "plt.subplot(212)\n",
    "plt.title('Accuracy')\n",
    "plt.plot(history.history['accuracy'], label='train set')\n",
    "plt.plot(history.history['val_accuracy'], label='dev set')\n",
    "plt.legend()\n",
    "\n",
    "print(dev_acc)"
   ]
  },
  {
   "cell_type": "code",
   "execution_count": null,
   "metadata": {
    "collapsed": true
   },
   "outputs": [],
   "source": [
    "Y_hat_p=model.predict(X_dev)\n",
    "Y_hat=np.argmax(Y_hat_p, axis=-1) # this is p naive tbh"
   ]
  },
  {
   "cell_type": "code",
   "execution_count": null,
   "metadata": {
    "collapsed": true
   },
   "outputs": [],
   "source": [
    "Y_hat.shape"
   ]
  },
  {
   "cell_type": "code",
   "execution_count": null,
   "metadata": {
    "collapsed": true
   },
   "outputs": [],
   "source": [
    "Y.sum(axis=0).sum(axis=0)/Y.sum().sum().sum()"
   ]
  },
  {
   "cell_type": "code",
   "execution_count": null,
   "metadata": {
    "collapsed": true
   },
   "outputs": [],
   "source": [
    "Y_dev.sum(axis=0).sum(axis=0)/Y_dev.sum().sum().sum()"
   ]
  },
  {
   "cell_type": "code",
   "execution_count": null,
   "metadata": {
    "collapsed": true
   },
   "outputs": [],
   "source": [
    "from sklearn.metrics import confusion_matrix\n",
    "import pandas as pd"
   ]
  },
  {
   "cell_type": "code",
   "execution_count": null,
   "metadata": {
    "collapsed": true
   },
   "outputs": [],
   "source": [
    "anc=[label for i,label in enumerate(['AFR','EAS','EUR','NAT','OCE','SAS','WAS']) if i in anc]\n",
    "\n",
    "pd.DataFrame(confusion_matrix(Y_dev.dot(np.arange(nc-int(not oce))).flatten(), Y_hat.flatten())/(Y_hat.shape[0]*nv), \n",
    "             columns=anc, index=anc)"
   ]
  },
  {
   "cell_type": "code",
   "execution_count": null,
   "metadata": {
    "collapsed": true
   },
   "outputs": [],
   "source": [
    "for i in range(Y_hat.shape[0]):\n",
    "    print((i, [np.count_nonzero(Y_hat[i,:]==j) for j in range(Y_hat_p.shape[-1])], \n",
    "           [np.count_nonzero(Y_dev[i,:,:].argmax(axis=-1)==j) for j in range(Y_hat_p.shape[-1])]))"
   ]
  },
  {
   "cell_type": "code",
   "execution_count": null,
   "metadata": {
    "collapsed": true
   },
   "outputs": [],
   "source": [
    "# this is completely arbitrary, i have no idea what it will show --Matt\n",
    "iix=27"
   ]
  },
  {
   "cell_type": "code",
   "execution_count": null,
   "metadata": {
    "collapsed": true
   },
   "outputs": [],
   "source": [
    "plt.figure(figsize=(12, 3))\n",
    "Y_dev_lab = np.argmax(Y_dev, axis=-1)\n",
    "plt.subplot(211)\n",
    "plt.title('Dev set ground truths')\n",
    "plt.imshow(Y_dev_lab[iix:iix+1,:].astype(int), aspect='auto', cmap='jet')\n",
    "\n",
    "plt.subplot(212)\n",
    "plt.title('Corresponding dev set predictions')\n",
    "plt.imshow(Y_hat[iix:iix+1,:].astype(int), aspect='auto', cmap='jet')"
   ]
  },
  {
   "cell_type": "code",
   "execution_count": null,
   "metadata": {
    "collapsed": true
   },
   "outputs": [],
   "source": [
    "np.where(np.argmax(Y_hat_p[iix,:,:], axis=-1)==3)"
   ]
  },
  {
   "cell_type": "code",
   "execution_count": null,
   "metadata": {
    "collapsed": true
   },
   "outputs": [],
   "source": [
    "plt.figure(figsize=(12, 3))\n",
    "Y_dev_lab = np.argmax(Y_dev, axis=-1)\n",
    "plt.subplot(211)\n",
    "plt.title('Dev set ground truths')\n",
    "plt.imshow(Y_dev_lab[iix:iix+1,29000:29500].astype(int), aspect='auto')#, cmap='jet')\n",
    "\n",
    "plt.subplot(212)\n",
    "plt.title('Corresponding dev set predictions')\n",
    "plt.imshow(Y_hat[iix:iix+1,29000:29500].astype(int), aspect='auto')#, cmap='jet')"
   ]
  },
  {
   "cell_type": "code",
   "execution_count": null,
   "metadata": {
    "collapsed": true,
    "scrolled": false
   },
   "outputs": [],
   "source": [
    "Y_hat_p[iix,np.where(np.argmax(Y_hat_p[iix,:,:], axis=-1)==3),:]"
   ]
  },
  {
   "cell_type": "code",
   "execution_count": null,
   "metadata": {
    "collapsed": true
   },
   "outputs": [],
   "source": [
    "# seems like a crf-smoother (even a post-hoc one) could really help\n",
    "## todo: check out tf2crf"
   ]
  }
 ],
 "metadata": {
  "kernelspec": {
   "display_name": "Python 3",
   "language": "python",
   "name": "python3"
  },
  "language_info": {
   "codemirror_mode": {
    "name": "ipython",
    "version": 3
   },
   "file_extension": ".py",
   "mimetype": "text/x-python",
   "name": "python",
   "nbconvert_exporter": "python",
   "pygments_lexer": "ipython3",
   "version": "3.6.1"
  }
 },
 "nbformat": 4,
 "nbformat_minor": 2
}
