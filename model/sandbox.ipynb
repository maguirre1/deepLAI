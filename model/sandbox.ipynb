{
 "cells": [
  {
   "cell_type": "code",
   "execution_count": 1,
   "metadata": {},
   "outputs": [
    {
     "name": "stderr",
     "output_type": "stream",
     "text": [
      "Using TensorFlow backend.\n"
     ]
    }
   ],
   "source": [
    "import os\n",
    "import numpy as np\n",
    "import tensorflow as tf\n",
    "from keras import optimizers\n",
    "from keras.utils import to_categorical\n",
    "from keras.callbacks import EarlyStopping\n",
    "from segnet import segnet\n",
    "from generator import DataGenerator"
   ]
  },
  {
   "cell_type": "code",
   "execution_count": 2,
   "metadata": {},
   "outputs": [],
   "source": [
    "# hyperparameters\n",
    "nv=int(2**16) # variants\n",
    "na=2          # alleles\n",
    "nc=7          # ancestry classes\n",
    "ne=100        # number of epochs\n",
    "nf=16         # number of segnet filters\n",
    "fs=8          # filter size\n",
    "bs=32         # batch size\n",
    "gen=True      # use data generator\n",
    "hor=False     # use multi-gpu\n",
    "oce=True      # include oceanian samples\n",
    "dev=True      # do we have a dev set\n",
    "\n",
    "# reproducibility\n",
    "# np.random.seed(23910464)\n",
    "np.random.seed(1)"
   ]
  },
  {
   "cell_type": "code",
   "execution_count": 3,
   "metadata": {},
   "outputs": [],
   "source": [
    "# configure horovod if we're using multiple gpus\n",
    "# - note that this doesn't work within a jupyter notebook\n",
    "# - but you can use it to assign one of the two gpus to the tf instance\n",
    "# - ((probably))\n",
    "if hor: \n",
    "    import horovod.keras as hvd \n",
    "\n",
    "    # initialize horovod instance -- this currently only works on galangal\n",
    "    hvd.init()\n",
    "\n",
    "    # assign GPUs to horovod \n",
    "    gpus = tf.config.list_physical_devices('GPU')\n",
    "    for gpu in gpus:\n",
    "        tf.config.experimental.set_memory_growth(gpu, True)\n",
    "    if gpus:\n",
    "        # tf.config in tf <= 1.6\n",
    "        tf.config.experimental.set_visible_devices(gpus[hvd.local_rank()], 'GPU')\n",
    "    print(gpus)"
   ]
  },
  {
   "cell_type": "code",
   "execution_count": 4,
   "metadata": {},
   "outputs": [
    {
     "data": {
      "text/plain": [
       "[PhysicalDevice(name='/physical_device:GPU:0', device_type='GPU')]"
      ]
     },
     "execution_count": 4,
     "metadata": {},
     "output_type": "execute_result"
    }
   ],
   "source": [
    "# sanity check that we're on gpu -- use #1\n",
    "os.environ[\"CUDA_VISIBLE_DEVICES\"]=\"1\"\n",
    "tf.config.list_physical_devices('GPU')"
   ]
  },
  {
   "cell_type": "code",
   "execution_count": 5,
   "metadata": {
    "scrolled": false
   },
   "outputs": [
    {
     "name": "stdout",
     "output_type": "stream",
     "text": [
      "Model: \"segnet\"\n",
      "__________________________________________________________________________________________________\n",
      "Layer (type)                    Output Shape         Param #     Connected to                     \n",
      "==================================================================================================\n",
      "input_1 (InputLayer)            (None, 65536, 2)     0                                            \n",
      "__________________________________________________________________________________________________\n",
      "dropout_1 (Dropout)             (None, 65536, 2)     0           input_1[0][0]                    \n",
      "__________________________________________________________________________________________________\n",
      "conv1_down1 (Conv1D)            (None, 65536, 16)    272         dropout_1[0][0]                  \n",
      "__________________________________________________________________________________________________\n",
      "activation_1 (Activation)       (None, 65536, 16)    0           conv1_down1[0][0]                \n",
      "__________________________________________________________________________________________________\n",
      "dropout_2 (Dropout)             (None, 65536, 16)    0           activation_1[0][0]               \n",
      "__________________________________________________________________________________________________\n",
      "conv1_down2 (Conv1D)            (None, 65536, 16)    2064        dropout_2[0][0]                  \n",
      "__________________________________________________________________________________________________\n",
      "activation_2 (Activation)       (None, 65536, 16)    0           conv1_down2[0][0]                \n",
      "__________________________________________________________________________________________________\n",
      "dropout_3 (Dropout)             (None, 65536, 16)    0           activation_2[0][0]               \n",
      "__________________________________________________________________________________________________\n",
      "pool0 (MaxPooling1D)            (None, 16384, 16)    0           dropout_3[0][0]                  \n",
      "__________________________________________________________________________________________________\n",
      "conv2_down1 (Conv1D)            (None, 16384, 32)    4128        pool0[0][0]                      \n",
      "__________________________________________________________________________________________________\n",
      "activation_3 (Activation)       (None, 16384, 32)    0           conv2_down1[0][0]                \n",
      "__________________________________________________________________________________________________\n",
      "dropout_4 (Dropout)             (None, 16384, 32)    0           activation_3[0][0]               \n",
      "__________________________________________________________________________________________________\n",
      "conv2_down2 (Conv1D)            (None, 16384, 32)    8224        dropout_4[0][0]                  \n",
      "__________________________________________________________________________________________________\n",
      "activation_4 (Activation)       (None, 16384, 32)    0           conv2_down2[0][0]                \n",
      "__________________________________________________________________________________________________\n",
      "dropout_5 (Dropout)             (None, 16384, 32)    0           activation_4[0][0]               \n",
      "__________________________________________________________________________________________________\n",
      "pool1 (MaxPooling1D)            (None, 4096, 32)     0           dropout_5[0][0]                  \n",
      "__________________________________________________________________________________________________\n",
      "conv3_down1 (Conv1D)            (None, 4096, 64)     16448       pool1[0][0]                      \n",
      "__________________________________________________________________________________________________\n",
      "activation_5 (Activation)       (None, 4096, 64)     0           conv3_down1[0][0]                \n",
      "__________________________________________________________________________________________________\n",
      "dropout_6 (Dropout)             (None, 4096, 64)     0           activation_5[0][0]               \n",
      "__________________________________________________________________________________________________\n",
      "conv3_down2 (Conv1D)            (None, 4096, 64)     32832       dropout_6[0][0]                  \n",
      "__________________________________________________________________________________________________\n",
      "activation_6 (Activation)       (None, 4096, 64)     0           conv3_down2[0][0]                \n",
      "__________________________________________________________________________________________________\n",
      "dropout_7 (Dropout)             (None, 4096, 64)     0           activation_6[0][0]               \n",
      "__________________________________________________________________________________________________\n",
      "pool2 (MaxPooling1D)            (None, 1024, 64)     0           dropout_7[0][0]                  \n",
      "__________________________________________________________________________________________________\n",
      "conv4_down1 (Conv1D)            (None, 1024, 128)    65664       pool2[0][0]                      \n",
      "__________________________________________________________________________________________________\n",
      "activation_7 (Activation)       (None, 1024, 128)    0           conv4_down1[0][0]                \n",
      "__________________________________________________________________________________________________\n",
      "dropout_8 (Dropout)             (None, 1024, 128)    0           activation_7[0][0]               \n",
      "__________________________________________________________________________________________________\n",
      "conv4_down2 (Conv1D)            (None, 1024, 128)    131200      dropout_8[0][0]                  \n",
      "__________________________________________________________________________________________________\n",
      "activation_8 (Activation)       (None, 1024, 128)    0           conv4_down2[0][0]                \n",
      "__________________________________________________________________________________________________\n",
      "dropout_9 (Dropout)             (None, 1024, 128)    0           activation_8[0][0]               \n",
      "__________________________________________________________________________________________________\n",
      "pool3 (MaxPooling1D)            (None, 256, 128)     0           dropout_9[0][0]                  \n",
      "__________________________________________________________________________________________________\n",
      "conv5_down1 (Conv1D)            (None, 256, 256)     262400      pool3[0][0]                      \n",
      "__________________________________________________________________________________________________\n",
      "activation_9 (Activation)       (None, 256, 256)     0           conv5_down1[0][0]                \n",
      "__________________________________________________________________________________________________\n",
      "dropout_10 (Dropout)            (None, 256, 256)     0           activation_9[0][0]               \n",
      "__________________________________________________________________________________________________\n",
      "conv5_down2 (Conv1D)            (None, 256, 256)     524544      dropout_10[0][0]                 \n",
      "__________________________________________________________________________________________________\n",
      "activation_10 (Activation)      (None, 256, 256)     0           conv5_down2[0][0]                \n",
      "__________________________________________________________________________________________________\n",
      "dropout_11 (Dropout)            (None, 256, 256)     0           activation_10[0][0]              \n",
      "__________________________________________________________________________________________________\n",
      "pool4 (MaxPooling1D)            (None, 64, 256)      0           dropout_11[0][0]                 \n",
      "__________________________________________________________________________________________________\n",
      "concatenate_1 (Concatenate)     (None, 64, 512)      0           pool4[0][0]                      \n",
      "                                                                 pool4[0][0]                      \n",
      "__________________________________________________________________________________________________\n",
      "up4 (UpSampling1D)              (None, 256, 512)     0           concatenate_1[0][0]              \n",
      "__________________________________________________________________________________________________\n",
      "conv4_up0 (Conv1D)              (None, 256, 256)     1048832     up4[0][0]                        \n",
      "__________________________________________________________________________________________________\n",
      "activation_11 (Activation)      (None, 256, 256)     0           conv4_up0[0][0]                  \n",
      "__________________________________________________________________________________________________\n",
      "dropout_12 (Dropout)            (None, 256, 256)     0           activation_11[0][0]              \n",
      "__________________________________________________________________________________________________\n",
      "conv4_up1 (Conv1D)              (None, 256, 256)     524544      dropout_12[0][0]                 \n",
      "__________________________________________________________________________________________________\n",
      "activation_12 (Activation)      (None, 256, 256)     0           conv4_up1[0][0]                  \n",
      "__________________________________________________________________________________________________\n",
      "dropout_13 (Dropout)            (None, 256, 256)     0           activation_12[0][0]              \n",
      "__________________________________________________________________________________________________\n",
      "concatenate_2 (Concatenate)     (None, 256, 384)     0           pool3[0][0]                      \n",
      "                                                                 dropout_13[0][0]                 \n",
      "__________________________________________________________________________________________________\n",
      "up3 (UpSampling1D)              (None, 1024, 384)    0           concatenate_2[0][0]              \n",
      "__________________________________________________________________________________________________\n",
      "conv3_up0 (Conv1D)              (None, 1024, 128)    393344      up3[0][0]                        \n",
      "__________________________________________________________________________________________________\n",
      "activation_13 (Activation)      (None, 1024, 128)    0           conv3_up0[0][0]                  \n",
      "__________________________________________________________________________________________________\n",
      "dropout_14 (Dropout)            (None, 1024, 128)    0           activation_13[0][0]              \n",
      "__________________________________________________________________________________________________\n",
      "conv3_up1 (Conv1D)              (None, 1024, 128)    131200      dropout_14[0][0]                 \n",
      "__________________________________________________________________________________________________\n",
      "activation_14 (Activation)      (None, 1024, 128)    0           conv3_up1[0][0]                  \n",
      "__________________________________________________________________________________________________\n",
      "dropout_15 (Dropout)            (None, 1024, 128)    0           activation_14[0][0]              \n",
      "__________________________________________________________________________________________________\n",
      "concatenate_3 (Concatenate)     (None, 1024, 192)    0           pool2[0][0]                      \n",
      "                                                                 dropout_15[0][0]                 \n",
      "__________________________________________________________________________________________________\n",
      "up2 (UpSampling1D)              (None, 4096, 192)    0           concatenate_3[0][0]              \n",
      "__________________________________________________________________________________________________\n",
      "conv2_up0 (Conv1D)              (None, 4096, 64)     98368       up2[0][0]                        \n",
      "__________________________________________________________________________________________________\n",
      "activation_15 (Activation)      (None, 4096, 64)     0           conv2_up0[0][0]                  \n",
      "__________________________________________________________________________________________________\n",
      "dropout_16 (Dropout)            (None, 4096, 64)     0           activation_15[0][0]              \n",
      "__________________________________________________________________________________________________\n",
      "conv2_up1 (Conv1D)              (None, 4096, 64)     32832       dropout_16[0][0]                 \n",
      "__________________________________________________________________________________________________\n",
      "activation_16 (Activation)      (None, 4096, 64)     0           conv2_up1[0][0]                  \n",
      "__________________________________________________________________________________________________\n",
      "dropout_17 (Dropout)            (None, 4096, 64)     0           activation_16[0][0]              \n",
      "__________________________________________________________________________________________________\n",
      "concatenate_4 (Concatenate)     (None, 4096, 96)     0           pool1[0][0]                      \n",
      "                                                                 dropout_17[0][0]                 \n",
      "__________________________________________________________________________________________________\n",
      "up1 (UpSampling1D)              (None, 16384, 96)    0           concatenate_4[0][0]              \n",
      "__________________________________________________________________________________________________\n",
      "conv1_up0 (Conv1D)              (None, 16384, 32)    24608       up1[0][0]                        \n",
      "__________________________________________________________________________________________________\n",
      "activation_17 (Activation)      (None, 16384, 32)    0           conv1_up0[0][0]                  \n",
      "__________________________________________________________________________________________________\n",
      "dropout_18 (Dropout)            (None, 16384, 32)    0           activation_17[0][0]              \n",
      "__________________________________________________________________________________________________\n",
      "conv1_up1 (Conv1D)              (None, 16384, 32)    8224        dropout_18[0][0]                 \n",
      "__________________________________________________________________________________________________\n",
      "activation_18 (Activation)      (None, 16384, 32)    0           conv1_up1[0][0]                  \n",
      "__________________________________________________________________________________________________\n",
      "dropout_19 (Dropout)            (None, 16384, 32)    0           activation_18[0][0]              \n",
      "__________________________________________________________________________________________________\n",
      "concatenate_5 (Concatenate)     (None, 16384, 48)    0           pool0[0][0]                      \n",
      "                                                                 dropout_19[0][0]                 \n",
      "__________________________________________________________________________________________________\n",
      "up0 (UpSampling1D)              (None, 65536, 48)    0           concatenate_5[0][0]              \n",
      "__________________________________________________________________________________________________\n",
      "conv0_up0 (Conv1D)              (None, 65536, 16)    6160        up0[0][0]                        \n",
      "__________________________________________________________________________________________________\n",
      "activation_19 (Activation)      (None, 65536, 16)    0           conv0_up0[0][0]                  \n",
      "__________________________________________________________________________________________________\n",
      "dropout_20 (Dropout)            (None, 65536, 16)    0           activation_19[0][0]              \n",
      "__________________________________________________________________________________________________\n",
      "conv0_up1 (Conv1D)              (None, 65536, 16)    2064        dropout_20[0][0]                 \n",
      "__________________________________________________________________________________________________\n",
      "activation_20 (Activation)      (None, 65536, 16)    0           conv0_up1[0][0]                  \n",
      "__________________________________________________________________________________________________\n",
      "dropout_21 (Dropout)            (None, 65536, 16)    0           activation_20[0][0]              \n",
      "__________________________________________________________________________________________________\n",
      "output_layer (Dense)            (None, 65536, 7)     119         dropout_21[0][0]                 \n",
      "==================================================================================================\n",
      "Total params: 3,318,071\n",
      "Trainable params: 3,318,071\n",
      "Non-trainable params: 0\n",
      "__________________________________________________________________________________________________\n",
      "None\n"
     ]
    }
   ],
   "source": [
    "# declare model\n",
    "model=segnet(input_shape=(nv, na), n_classes=nc-1+int(oce), n_filters=nf, width=fs)\n",
    "\n",
    "# and optimizer\n",
    "if hor:\n",
    "    adam=optimizers.Adam(lr=1e-5 * hvd.size())\n",
    "    adam=hvd.DistributedOptimizer(adam)\n",
    "else:\n",
    "    adam=optimizers.Adam(lr=1e-4)\n",
    "\n",
    "# now compile and show parameter summary\n",
    "model.compile(optimizer=adam, loss='categorical_crossentropy', metrics=['accuracy']) \n",
    "print(model.summary())"
   ]
  },
  {
   "cell_type": "code",
   "execution_count": 6,
   "metadata": {
    "scrolled": false
   },
   "outputs": [
    {
     "name": "stdout",
     "output_type": "stream",
     "text": [
      "[(2764, 516801, 2), (2764, 516801, 7), (2764, 516801, 2)]\n"
     ]
    }
   ],
   "source": [
    "# load data\n",
    "data_root='/home/magu/deepmix/data/reference_panel/'\n",
    "X = np.load(data_root+'unzipped/panel_chr20.G.npy', mmap_mode='r')\n",
    "Y = np.load(data_root+'unzipped/panel_chr20.L.npy', mmap_mode='r')\n",
    "S = np.load(data_root+'unzipped/panel_chr20.S.npy')\n",
    "print([X.shape, Y.shape, X.shape])"
   ]
  },
  {
   "cell_type": "code",
   "execution_count": 7,
   "metadata": {},
   "outputs": [
    {
     "name": "stdout",
     "output_type": "stream",
     "text": [
      "2090\n"
     ]
    }
   ],
   "source": [
    "# and train individuals\n",
    "train=np.loadtxt('../data/reference-panel/split/train.strands.txt', dtype=str)\n",
    "train_ix=[i for i,q in enumerate(S) if q in train]\n",
    "np.random.shuffle(train_ix)\n",
    "print(len(train_ix))"
   ]
  },
  {
   "cell_type": "code",
   "execution_count": 8,
   "metadata": {},
   "outputs": [
    {
     "name": "stdout",
     "output_type": "stream",
     "text": [
      "[(200, 65536, 2), (200, 65536, 7)]\n"
     ]
    }
   ],
   "source": [
    "# and some dev individuals, why not -- first pick their indexes\n",
    "if dev:\n",
    "    #n=100\n",
    "    S=np.load(data_root+'simulated_chr20/label/dev_10gen.result.npz')['S']\n",
    "    s=S#np.random.choice(S, size=min(n, S.shape[0]), replace=False)\n",
    "\n",
    "    # then load and subset -- AMR is the first ancestry label, ignored for now\n",
    "    x_f=data_root+'simulated_chr20/numpy/dev_10gen.query.npz'\n",
    "    y_f=data_root+'simulated_chr20/label/dev_10gen.result.npz'\n",
    "    S_f=np.load(x_f)['S']\n",
    "    X_dev=np.load(x_f)['G'][[np.where(S_f==(i))[0][0] for i in s],:nv,:na]\n",
    "    S_f=np.load(y_f)['S']\n",
    "    Y_dev=to_categorical(np.load(y_f)['L'][[np.where(S_f==(i))[0][0] for i in s],:nv], dtype='bool')[:,:,1:]\n",
    "    print([X_dev.shape, Y_dev.shape])"
   ]
  },
  {
   "cell_type": "code",
   "execution_count": 9,
   "metadata": {
    "scrolled": false
   },
   "outputs": [
    {
     "name": "stdout",
     "output_type": "stream",
     "text": [
      "Epoch 1/100\n",
      "65/65 [==============================] - 169s 3s/step - loss: 1.7802 - accuracy: 0.3049 - val_loss: 1.5438 - val_accuracy: 0.3846\n",
      "Epoch 2/100\n",
      "65/65 [==============================] - 103s 2s/step - loss: 1.6405 - accuracy: 0.3561 - val_loss: 1.5355 - val_accuracy: 0.3854\n",
      "Epoch 3/100\n",
      "65/65 [==============================] - 103s 2s/step - loss: 1.6136 - accuracy: 0.3618 - val_loss: 1.5314 - val_accuracy: 0.3979\n",
      "Epoch 4/100\n",
      "65/65 [==============================] - 103s 2s/step - loss: 1.5750 - accuracy: 0.3999 - val_loss: 1.4882 - val_accuracy: 0.4627\n",
      "Epoch 5/100\n",
      "65/65 [==============================] - 103s 2s/step - loss: 1.5063 - accuracy: 0.4449 - val_loss: 1.3864 - val_accuracy: 0.5201\n",
      "Epoch 6/100\n",
      "65/65 [==============================] - 103s 2s/step - loss: 1.4480 - accuracy: 0.4745 - val_loss: 1.3372 - val_accuracy: 0.5222\n",
      "Epoch 7/100\n",
      "65/65 [==============================] - 103s 2s/step - loss: 1.3994 - accuracy: 0.5001 - val_loss: 1.2805 - val_accuracy: 0.5476\n",
      "Epoch 8/100\n",
      "65/65 [==============================] - 103s 2s/step - loss: 1.3612 - accuracy: 0.5211 - val_loss: 1.2434 - val_accuracy: 0.5982\n",
      "Epoch 9/100\n",
      "65/65 [==============================] - 103s 2s/step - loss: 1.3101 - accuracy: 0.5421 - val_loss: 1.3752 - val_accuracy: 0.5408\n",
      "Epoch 10/100\n",
      "65/65 [==============================] - 103s 2s/step - loss: 1.2236 - accuracy: 0.5792 - val_loss: 1.1386 - val_accuracy: 0.6160\n",
      "Epoch 11/100\n",
      "65/65 [==============================] - 103s 2s/step - loss: 1.1888 - accuracy: 0.5906 - val_loss: 1.1131 - val_accuracy: 0.6224\n",
      "Epoch 12/100\n",
      "65/65 [==============================] - 103s 2s/step - loss: 1.0957 - accuracy: 0.6189 - val_loss: 1.1120 - val_accuracy: 0.6099\n",
      "Epoch 13/100\n",
      "65/65 [==============================] - 103s 2s/step - loss: 1.0889 - accuracy: 0.6229 - val_loss: 1.1009 - val_accuracy: 0.6252\n",
      "Epoch 14/100\n",
      "65/65 [==============================] - 103s 2s/step - loss: 1.0195 - accuracy: 0.6465 - val_loss: 1.2017 - val_accuracy: 0.5804\n",
      "Epoch 15/100\n",
      "65/65 [==============================] - 103s 2s/step - loss: 0.9704 - accuracy: 0.6606 - val_loss: 0.9838 - val_accuracy: 0.6633\n",
      "Epoch 16/100\n",
      "65/65 [==============================] - 103s 2s/step - loss: 0.9314 - accuracy: 0.6723 - val_loss: 1.0002 - val_accuracy: 0.6582\n",
      "Epoch 17/100\n",
      "65/65 [==============================] - 103s 2s/step - loss: 0.8887 - accuracy: 0.6844 - val_loss: 0.9555 - val_accuracy: 0.6591\n",
      "Epoch 18/100\n",
      "65/65 [==============================] - 103s 2s/step - loss: 0.8508 - accuracy: 0.6957 - val_loss: 0.8361 - val_accuracy: 0.6919\n",
      "Epoch 19/100\n",
      "65/65 [==============================] - 103s 2s/step - loss: 0.8338 - accuracy: 0.7008 - val_loss: 0.8772 - val_accuracy: 0.6808\n",
      "Epoch 20/100\n",
      "65/65 [==============================] - 103s 2s/step - loss: 0.7957 - accuracy: 0.7113 - val_loss: 0.8231 - val_accuracy: 0.6892\n",
      "Epoch 21/100\n",
      "65/65 [==============================] - 103s 2s/step - loss: 0.7553 - accuracy: 0.7240 - val_loss: 0.7818 - val_accuracy: 0.7010\n",
      "Epoch 22/100\n",
      "65/65 [==============================] - 103s 2s/step - loss: 0.7294 - accuracy: 0.7309 - val_loss: 0.7833 - val_accuracy: 0.7019\n",
      "Epoch 23/100\n",
      "65/65 [==============================] - 103s 2s/step - loss: 0.7499 - accuracy: 0.7255 - val_loss: 0.7773 - val_accuracy: 0.7030\n",
      "Epoch 24/100\n",
      "65/65 [==============================] - 103s 2s/step - loss: 0.7107 - accuracy: 0.7356 - val_loss: 0.9267 - val_accuracy: 0.6744\n",
      "Epoch 25/100\n",
      "65/65 [==============================] - 103s 2s/step - loss: 0.6939 - accuracy: 0.7440 - val_loss: 0.7124 - val_accuracy: 0.7272\n",
      "Epoch 26/100\n",
      "65/65 [==============================] - 103s 2s/step - loss: 0.6649 - accuracy: 0.7509 - val_loss: 0.7021 - val_accuracy: 0.7347\n",
      "Epoch 27/100\n",
      "65/65 [==============================] - 103s 2s/step - loss: 0.6517 - accuracy: 0.7566 - val_loss: 0.7467 - val_accuracy: 0.7313\n",
      "Epoch 28/100\n",
      "65/65 [==============================] - 103s 2s/step - loss: 0.6324 - accuracy: 0.7624 - val_loss: 0.7030 - val_accuracy: 0.7368\n",
      "Epoch 29/100\n",
      "65/65 [==============================] - 103s 2s/step - loss: 0.6105 - accuracy: 0.7688 - val_loss: 0.6880 - val_accuracy: 0.7308\n",
      "Epoch 30/100\n",
      "65/65 [==============================] - 103s 2s/step - loss: 0.5809 - accuracy: 0.7788 - val_loss: 0.6776 - val_accuracy: 0.7379\n",
      "Epoch 31/100\n",
      "65/65 [==============================] - 103s 2s/step - loss: 0.5727 - accuracy: 0.7831 - val_loss: 0.6519 - val_accuracy: 0.7497\n",
      "Epoch 32/100\n",
      "65/65 [==============================] - 103s 2s/step - loss: 0.5502 - accuracy: 0.7895 - val_loss: 0.6252 - val_accuracy: 0.7581\n",
      "Epoch 33/100\n",
      "65/65 [==============================] - 103s 2s/step - loss: 0.5600 - accuracy: 0.7854 - val_loss: 0.6115 - val_accuracy: 0.7611\n",
      "Epoch 34/100\n",
      "65/65 [==============================] - 103s 2s/step - loss: 0.5405 - accuracy: 0.7940 - val_loss: 0.6774 - val_accuracy: 0.7497\n",
      "Epoch 35/100\n",
      "65/65 [==============================] - 103s 2s/step - loss: 0.5206 - accuracy: 0.8013 - val_loss: 0.6243 - val_accuracy: 0.7673\n",
      "Epoch 36/100\n",
      "65/65 [==============================] - 103s 2s/step - loss: 0.4976 - accuracy: 0.8119 - val_loss: 0.6894 - val_accuracy: 0.7646\n",
      "Epoch 37/100\n",
      "65/65 [==============================] - 103s 2s/step - loss: 0.4863 - accuracy: 0.8163 - val_loss: 0.6050 - val_accuracy: 0.7910\n",
      "Epoch 38/100\n",
      "65/65 [==============================] - 103s 2s/step - loss: 0.4793 - accuracy: 0.8201 - val_loss: 0.5808 - val_accuracy: 0.8109\n",
      "Epoch 39/100\n",
      "65/65 [==============================] - 103s 2s/step - loss: 0.4754 - accuracy: 0.8222 - val_loss: 0.5756 - val_accuracy: 0.8099\n",
      "Epoch 40/100\n",
      "65/65 [==============================] - 103s 2s/step - loss: 0.4444 - accuracy: 0.8357 - val_loss: 0.6038 - val_accuracy: 0.8005\n",
      "Epoch 41/100\n",
      "65/65 [==============================] - 103s 2s/step - loss: 0.4217 - accuracy: 0.8458 - val_loss: 0.5238 - val_accuracy: 0.8239\n",
      "Epoch 42/100\n",
      "65/65 [==============================] - 103s 2s/step - loss: 0.3941 - accuracy: 0.8577 - val_loss: 0.5643 - val_accuracy: 0.8316\n",
      "Epoch 43/100\n",
      "65/65 [==============================] - 103s 2s/step - loss: 0.3918 - accuracy: 0.8594 - val_loss: 0.5052 - val_accuracy: 0.8489\n",
      "Epoch 44/100\n",
      "65/65 [==============================] - 103s 2s/step - loss: 0.3606 - accuracy: 0.8710 - val_loss: 0.5649 - val_accuracy: 0.8387\n",
      "Epoch 45/100\n",
      "65/65 [==============================] - 103s 2s/step - loss: 0.3566 - accuracy: 0.8739 - val_loss: 0.4746 - val_accuracy: 0.8701\n",
      "Epoch 46/100\n",
      "65/65 [==============================] - 103s 2s/step - loss: 0.3347 - accuracy: 0.8814 - val_loss: 0.4670 - val_accuracy: 0.8783\n",
      "Epoch 47/100\n",
      "65/65 [==============================] - 103s 2s/step - loss: 0.3150 - accuracy: 0.8886 - val_loss: 0.4733 - val_accuracy: 0.8679\n",
      "Epoch 48/100\n",
      "65/65 [==============================] - 103s 2s/step - loss: 0.3020 - accuracy: 0.8936 - val_loss: 0.5325 - val_accuracy: 0.8550\n",
      "Epoch 49/100\n",
      "65/65 [==============================] - 103s 2s/step - loss: 0.3018 - accuracy: 0.8936 - val_loss: 0.4389 - val_accuracy: 0.8868\n",
      "Epoch 50/100\n",
      "65/65 [==============================] - 103s 2s/step - loss: 0.2629 - accuracy: 0.9081 - val_loss: 0.4732 - val_accuracy: 0.8800\n",
      "Epoch 51/100\n",
      "65/65 [==============================] - 104s 2s/step - loss: 0.2477 - accuracy: 0.9141 - val_loss: 0.4652 - val_accuracy: 0.8762\n",
      "Epoch 52/100\n",
      "65/65 [==============================] - 104s 2s/step - loss: 0.2272 - accuracy: 0.9219 - val_loss: 0.4186 - val_accuracy: 0.8980\n",
      "Epoch 53/100\n",
      "65/65 [==============================] - 104s 2s/step - loss: 0.2334 - accuracy: 0.9192 - val_loss: 0.4057 - val_accuracy: 0.9063\n",
      "Epoch 54/100\n",
      "65/65 [==============================] - 104s 2s/step - loss: 0.1916 - accuracy: 0.9345 - val_loss: 0.4468 - val_accuracy: 0.9038\n",
      "Epoch 55/100\n",
      "65/65 [==============================] - 104s 2s/step - loss: 0.2047 - accuracy: 0.9299 - val_loss: 0.3941 - val_accuracy: 0.9055\n",
      "Epoch 56/100\n",
      "65/65 [==============================] - 104s 2s/step - loss: 0.1922 - accuracy: 0.9348 - val_loss: 0.4012 - val_accuracy: 0.9048\n",
      "Epoch 57/100\n",
      "65/65 [==============================] - 105s 2s/step - loss: 0.1861 - accuracy: 0.9361 - val_loss: 0.4021 - val_accuracy: 0.9111\n",
      "Epoch 58/100\n"
     ]
    },
    {
     "name": "stdout",
     "output_type": "stream",
     "text": [
      "65/65 [==============================] - 104s 2s/step - loss: 0.1524 - accuracy: 0.9480 - val_loss: 0.4019 - val_accuracy: 0.9172\n",
      "Epoch 59/100\n",
      "65/65 [==============================] - 104s 2s/step - loss: 0.1458 - accuracy: 0.9509 - val_loss: 0.4246 - val_accuracy: 0.9102\n",
      "Epoch 60/100\n",
      "65/65 [==============================] - 105s 2s/step - loss: 0.1384 - accuracy: 0.9536 - val_loss: 0.4037 - val_accuracy: 0.9197\n",
      "Epoch 61/100\n",
      "65/65 [==============================] - 104s 2s/step - loss: 0.1520 - accuracy: 0.9484 - val_loss: 0.3813 - val_accuracy: 0.9136\n",
      "Epoch 62/100\n",
      "65/65 [==============================] - 104s 2s/step - loss: 0.1292 - accuracy: 0.9566 - val_loss: 0.4033 - val_accuracy: 0.9181\n",
      "Epoch 63/100\n",
      "65/65 [==============================] - 104s 2s/step - loss: 0.1275 - accuracy: 0.9567 - val_loss: 0.3988 - val_accuracy: 0.9153\n",
      "Epoch 64/100\n",
      "65/65 [==============================] - 104s 2s/step - loss: 0.1073 - accuracy: 0.9638 - val_loss: 0.4290 - val_accuracy: 0.9217\n",
      "Epoch 65/100\n",
      "65/65 [==============================] - 104s 2s/step - loss: 0.1063 - accuracy: 0.9648 - val_loss: 0.4543 - val_accuracy: 0.9179\n",
      "Epoch 66/100\n",
      "65/65 [==============================] - 104s 2s/step - loss: 0.1064 - accuracy: 0.9646 - val_loss: 0.3887 - val_accuracy: 0.9213\n",
      "Epoch 67/100\n",
      "65/65 [==============================] - 104s 2s/step - loss: 0.0917 - accuracy: 0.9690 - val_loss: 0.4440 - val_accuracy: 0.9173\n",
      "Epoch 68/100\n",
      "65/65 [==============================] - 104s 2s/step - loss: 0.0888 - accuracy: 0.9705 - val_loss: 0.4262 - val_accuracy: 0.9238\n",
      "Epoch 69/100\n",
      "65/65 [==============================] - 104s 2s/step - loss: 0.0840 - accuracy: 0.9717 - val_loss: 0.3932 - val_accuracy: 0.9203\n",
      "Epoch 70/100\n",
      "65/65 [==============================] - 105s 2s/step - loss: 0.0698 - accuracy: 0.9767 - val_loss: 0.4341 - val_accuracy: 0.9223\n",
      "Epoch 71/100\n",
      "65/65 [==============================] - 104s 2s/step - loss: 0.0749 - accuracy: 0.9748 - val_loss: 0.4566 - val_accuracy: 0.9222\n",
      "Epoch 72/100\n",
      "65/65 [==============================] - 104s 2s/step - loss: 0.0710 - accuracy: 0.9765 - val_loss: 0.4117 - val_accuracy: 0.9212\n",
      "Epoch 73/100\n",
      "65/65 [==============================] - 104s 2s/step - loss: 0.0682 - accuracy: 0.9773 - val_loss: 0.5084 - val_accuracy: 0.9165\n",
      "Epoch 74/100\n",
      "65/65 [==============================] - 104s 2s/step - loss: 0.0591 - accuracy: 0.9803 - val_loss: 0.4569 - val_accuracy: 0.9237\n",
      "Epoch 75/100\n",
      "65/65 [==============================] - 104s 2s/step - loss: 0.0726 - accuracy: 0.9756 - val_loss: 0.4177 - val_accuracy: 0.9252\n",
      "Epoch 76/100\n",
      "65/65 [==============================] - 104s 2s/step - loss: 0.0560 - accuracy: 0.9813 - val_loss: 0.4570 - val_accuracy: 0.9261\n",
      "Epoch 77/100\n",
      "65/65 [==============================] - 105s 2s/step - loss: 0.0597 - accuracy: 0.9803 - val_loss: 0.4293 - val_accuracy: 0.9298\n",
      "Epoch 78/100\n",
      "65/65 [==============================] - 104s 2s/step - loss: 0.0515 - accuracy: 0.9827 - val_loss: 0.4491 - val_accuracy: 0.9297\n",
      "Epoch 79/100\n",
      "65/65 [==============================] - 104s 2s/step - loss: 0.0497 - accuracy: 0.9837 - val_loss: 0.4537 - val_accuracy: 0.9311\n",
      "Epoch 80/100\n",
      "65/65 [==============================] - 105s 2s/step - loss: 0.0406 - accuracy: 0.9864 - val_loss: 0.5228 - val_accuracy: 0.9261\n",
      "Epoch 81/100\n",
      "65/65 [==============================] - 104s 2s/step - loss: 0.0521 - accuracy: 0.9828 - val_loss: 0.4675 - val_accuracy: 0.9258\n",
      "Epoch 82/100\n",
      "65/65 [==============================] - 105s 2s/step - loss: 0.0456 - accuracy: 0.9846 - val_loss: 0.4829 - val_accuracy: 0.9240\n",
      "Epoch 83/100\n",
      "65/65 [==============================] - 104s 2s/step - loss: 0.0439 - accuracy: 0.9854 - val_loss: 0.4986 - val_accuracy: 0.9239\n",
      "Epoch 84/100\n",
      "65/65 [==============================] - 104s 2s/step - loss: 0.0456 - accuracy: 0.9845 - val_loss: 0.4527 - val_accuracy: 0.9315\n",
      "Epoch 85/100\n",
      "65/65 [==============================] - 104s 2s/step - loss: 0.0388 - accuracy: 0.9873 - val_loss: 0.4582 - val_accuracy: 0.9313\n",
      "Epoch 86/100\n",
      "65/65 [==============================] - 104s 2s/step - loss: 0.0382 - accuracy: 0.9873 - val_loss: 0.4361 - val_accuracy: 0.9336\n",
      "Epoch 00086: early stopping\n"
     ]
    }
   ],
   "source": [
    "# now try it out!\n",
    "if not oce:\n",
    "    train_ix=[i for i in train_ix if Y[i,0,:].dot(np.arange(nc))!=4]\n",
    "    Y=Y[:,:,[i for i in range(nc) if i!=4]]\n",
    "if dev:\n",
    "    es = EarlyStopping(monitor='val_loss', mode='min', verbose=1, patience=25) # not implemented below\n",
    "\n",
    "    # fit with generator, or not\n",
    "    if gen:\n",
    "        params={'X':X, 'Y':Y, 'dim':nv, 'batch_size':bs, 'n_classes':nc, 'n_alleles':na}\n",
    "        generator=DataGenerator(train_ix, **params)\n",
    "        history=model.fit_generator(generator=generator, epochs=ne, validation_data=(X_dev, Y_dev), callbacks=[es])\n",
    "    else:\n",
    "        history=model.fit(X[train_ix,:nv,:na], Y[train_ix,:nv,:], batch_size=bs, epochs=ne, \n",
    "                           validation_data=(X_dev, Y_dev), callbacks=[es])\n",
    "else:\n",
    "    history=model.fit(X[train_ix,:nv,:na], Y[train_ix,:nv,:], batch_size=bs, epochs=ne)"
   ]
  },
  {
   "cell_type": "code",
   "execution_count": 10,
   "metadata": {},
   "outputs": [],
   "source": [
    "# save\n",
    "model.save('chm20_short.h5')"
   ]
  },
  {
   "cell_type": "code",
   "execution_count": 11,
   "metadata": {},
   "outputs": [
    {
     "name": "stdout",
     "output_type": "stream",
     "text": [
      "0.9336029291152954\n"
     ]
    },
    {
     "data": {
      "image/png": "[encoded data removed]",
      "text/plain": [
       "<Figure size 648x648 with 2 Axes>"
      ]
     },
     "metadata": {
      "needs_background": "light"
     },
     "output_type": "display_data"
    }
   ],
   "source": [
    "_, dev_acc = model.evaluate(X_dev, Y_dev, verbose=0)\n",
    "\n",
    "# 1.1) plot loss during training\n",
    "import matplotlib.pyplot as plt\n",
    "%matplotlib inline\n",
    "plt.figure(1, (9,9))\n",
    "plt.subplot(211)\n",
    "plt.title('Loss during training')\n",
    "plt.plot(history.history['loss'], label='train set')\n",
    "plt.plot(history.history['val_loss'], label='dev set')\n",
    "plt.legend()\n",
    "\n",
    "# 1.2) plot accuracy during training\n",
    "plt.subplot(212)\n",
    "plt.title('Accuracy')\n",
    "plt.plot(history.history['accuracy'], label='train set')\n",
    "plt.plot(history.history['val_accuracy'], label='dev set')\n",
    "plt.legend()\n",
    "\n",
    "print(dev_acc)"
   ]
  },
  {
   "cell_type": "code",
   "execution_count": 12,
   "metadata": {},
   "outputs": [],
   "source": [
    "Y_hat_p=model.predict(X_dev)\n",
    "Y_hat=np.argmax(Y_hat_p, axis=-1)"
   ]
  },
  {
   "cell_type": "code",
   "execution_count": 13,
   "metadata": {},
   "outputs": [
    {
     "data": {
      "text/plain": [
       "(200, 65536)"
      ]
     },
     "execution_count": 13,
     "metadata": {},
     "output_type": "execute_result"
    }
   ],
   "source": [
    "Y_hat.shape"
   ]
  },
  {
   "cell_type": "code",
   "execution_count": 14,
   "metadata": {},
   "outputs": [
    {
     "data": {
      "text/plain": [
       "array([0.276411  , 0.36324168, 0.1121563 , 0.05499276, 0.01447178,\n",
       "       0.13096961, 0.04775687])"
      ]
     },
     "execution_count": 14,
     "metadata": {},
     "output_type": "execute_result"
    }
   ],
   "source": [
    "Y.sum(axis=0).sum(axis=0)/Y.sum().sum().sum()"
   ]
  },
  {
   "cell_type": "code",
   "execution_count": 15,
   "metadata": {},
   "outputs": [
    {
     "data": {
      "text/plain": [
       "array([3.06760101e-01, 3.85397873e-01, 4.85302734e-02, 1.05390320e-01,\n",
       "       2.27355957e-04, 1.26889343e-01, 2.68047333e-02])"
      ]
     },
     "execution_count": 15,
     "metadata": {},
     "output_type": "execute_result"
    }
   ],
   "source": [
    "Y_dev.sum(axis=0).sum(axis=0)/Y_dev.sum().sum().sum()"
   ]
  },
  {
   "cell_type": "code",
   "execution_count": 16,
   "metadata": {},
   "outputs": [],
   "source": [
    "from sklearn.metrics import confusion_matrix\n",
    "import pandas as pd"
   ]
  },
  {
   "cell_type": "code",
   "execution_count": 17,
   "metadata": {},
   "outputs": [
    {
     "data": {
      "text/html": [
       "<div>\n",
       "<style scoped>\n",
       "    .dataframe tbody tr th:only-of-type {\n",
       "        vertical-align: middle;\n",
       "    }\n",
       "\n",
       "    .dataframe tbody tr th {\n",
       "        vertical-align: top;\n",
       "    }\n",
       "\n",
       "    .dataframe thead th {\n",
       "        text-align: right;\n",
       "    }\n",
       "</style>\n",
       "<table border=\"1\" class=\"dataframe\">\n",
       "  <thead>\n",
       "    <tr style=\"text-align: right;\">\n",
       "      <th></th>\n",
       "      <th>AFR</th>\n",
       "      <th>EAS</th>\n",
       "      <th>EUR</th>\n",
       "      <th>NAT</th>\n",
       "      <th>OCE</th>\n",
       "      <th>SAS</th>\n",
       "      <th>WAS</th>\n",
       "    </tr>\n",
       "  </thead>\n",
       "  <tbody>\n",
       "    <tr>\n",
       "      <th>AFR</th>\n",
       "      <td>0.298764</td>\n",
       "      <td>0.003085</td>\n",
       "      <td>0.000075</td>\n",
       "      <td>0.000040</td>\n",
       "      <td>0.000414</td>\n",
       "      <td>0.003939</td>\n",
       "      <td>0.000443</td>\n",
       "    </tr>\n",
       "    <tr>\n",
       "      <th>EAS</th>\n",
       "      <td>0.005147</td>\n",
       "      <td>0.368309</td>\n",
       "      <td>0.000246</td>\n",
       "      <td>0.002592</td>\n",
       "      <td>0.000356</td>\n",
       "      <td>0.008561</td>\n",
       "      <td>0.000188</td>\n",
       "    </tr>\n",
       "    <tr>\n",
       "      <th>EUR</th>\n",
       "      <td>0.000936</td>\n",
       "      <td>0.002122</td>\n",
       "      <td>0.034059</td>\n",
       "      <td>0.000545</td>\n",
       "      <td>0.000057</td>\n",
       "      <td>0.010219</td>\n",
       "      <td>0.000592</td>\n",
       "    </tr>\n",
       "    <tr>\n",
       "      <th>NAT</th>\n",
       "      <td>0.000424</td>\n",
       "      <td>0.003464</td>\n",
       "      <td>0.001706</td>\n",
       "      <td>0.097582</td>\n",
       "      <td>0.000000</td>\n",
       "      <td>0.002112</td>\n",
       "      <td>0.000102</td>\n",
       "    </tr>\n",
       "    <tr>\n",
       "      <th>OCE</th>\n",
       "      <td>0.000000</td>\n",
       "      <td>0.000227</td>\n",
       "      <td>0.000000</td>\n",
       "      <td>0.000000</td>\n",
       "      <td>0.000000</td>\n",
       "      <td>0.000000</td>\n",
       "      <td>0.000000</td>\n",
       "    </tr>\n",
       "    <tr>\n",
       "      <th>SAS</th>\n",
       "      <td>0.002029</td>\n",
       "      <td>0.005973</td>\n",
       "      <td>0.004123</td>\n",
       "      <td>0.000421</td>\n",
       "      <td>0.000053</td>\n",
       "      <td>0.114059</td>\n",
       "      <td>0.000232</td>\n",
       "    </tr>\n",
       "    <tr>\n",
       "      <th>WAS</th>\n",
       "      <td>0.002709</td>\n",
       "      <td>0.000516</td>\n",
       "      <td>0.001015</td>\n",
       "      <td>0.000044</td>\n",
       "      <td>0.000037</td>\n",
       "      <td>0.001653</td>\n",
       "      <td>0.020830</td>\n",
       "    </tr>\n",
       "  </tbody>\n",
       "</table>\n",
       "</div>"
      ],
      "text/plain": [
       "          AFR       EAS       EUR       NAT       OCE       SAS       WAS\n",
       "AFR  0.298764  0.003085  0.000075  0.000040  0.000414  0.003939  0.000443\n",
       "EAS  0.005147  0.368309  0.000246  0.002592  0.000356  0.008561  0.000188\n",
       "EUR  0.000936  0.002122  0.034059  0.000545  0.000057  0.010219  0.000592\n",
       "NAT  0.000424  0.003464  0.001706  0.097582  0.000000  0.002112  0.000102\n",
       "OCE  0.000000  0.000227  0.000000  0.000000  0.000000  0.000000  0.000000\n",
       "SAS  0.002029  0.005973  0.004123  0.000421  0.000053  0.114059  0.000232\n",
       "WAS  0.002709  0.000516  0.001015  0.000044  0.000037  0.001653  0.020830"
      ]
     },
     "execution_count": 17,
     "metadata": {},
     "output_type": "execute_result"
    }
   ],
   "source": [
    "pd.DataFrame(confusion_matrix(Y_dev.dot(np.arange(nc)).flatten(), Y_hat.flatten())/(Y_hat.shape[0]*Y_hat.shape[1]), \n",
    "             columns=['AFR','EAS','EUR','NAT','OCE','SAS','WAS'], index=['AFR','EAS','EUR','NAT','OCE','SAS','WAS'])"
   ]
  },
  {
   "cell_type": "code",
   "execution_count": 18,
   "metadata": {},
   "outputs": [
    {
     "name": "stdout",
     "output_type": "stream",
     "text": [
      "(0, [21934, 35237, 0, 0, 0, 8365, 0], [21456, 34228, 1571, 0, 0, 8281, 0])\n",
      "(1, [0, 65536, 0, 0, 0, 0, 0], [0, 65536, 0, 0, 0, 0, 0])\n",
      "(2, [58505, 7031, 0, 0, 0, 0, 0], [56967, 8569, 0, 0, 0, 0, 0])\n",
      "(3, [0, 65536, 0, 0, 0, 0, 0], [0, 65536, 0, 0, 0, 0, 0])\n",
      "(4, [0, 65536, 0, 0, 0, 0, 0], [0, 65536, 0, 0, 0, 0, 0])\n",
      "(5, [0, 20178, 2, 45354, 0, 2, 0], [0, 18875, 0, 46661, 0, 0, 0])\n",
      "(6, [36154, 0, 212, 28382, 0, 614, 174], [36154, 0, 0, 29382, 0, 0, 0])\n",
      "(7, [65536, 0, 0, 0, 0, 0, 0], [65536, 0, 0, 0, 0, 0, 0])\n",
      "(8, [0, 42601, 0, 2, 0, 22933, 0], [0, 42680, 0, 0, 0, 22856, 0])\n",
      "(9, [65536, 0, 0, 0, 0, 0, 0], [65536, 0, 0, 0, 0, 0, 0])\n",
      "(10, [44551, 0, 5273, 0, 93, 12369, 3250], [45017, 0, 9300, 0, 0, 11219, 0])\n",
      "(11, [15876, 29313, 403, 0, 0, 14605, 5339], [11343, 28576, 0, 0, 0, 13851, 11766])\n",
      "(12, [29900, 20741, 0, 0, 0, 14895, 0], [27835, 23850, 0, 0, 0, 13851, 0])\n",
      "(13, [0, 62813, 0, 2723, 0, 0, 0], [0, 65536, 0, 0, 0, 0, 0])\n",
      "(14, [0, 62124, 13, 158, 0, 3241, 0], [1880, 63656, 0, 0, 0, 0, 0])\n",
      "(15, [4956, 60248, 0, 0, 331, 1, 0], [3755, 61781, 0, 0, 0, 0, 0])\n",
      "(16, [4956, 60248, 0, 0, 331, 1, 0], [3755, 61781, 0, 0, 0, 0, 0])\n",
      "(17, [65536, 0, 0, 0, 0, 0, 0], [65536, 0, 0, 0, 0, 0, 0])\n",
      "(18, [0, 0, 2, 65534, 0, 0, 0], [0, 0, 0, 65536, 0, 0, 0])\n",
      "(19, [52039, 106, 0, 11573, 129, 1689, 0], [50855, 2241, 0, 12440, 0, 0, 0])\n",
      "(20, [0, 17057, 19831, 10544, 0, 17620, 484], [0, 19921, 29980, 8617, 0, 0, 7018])\n",
      "(21, [34420, 29362, 0, 0, 843, 911, 0], [36567, 28969, 0, 0, 0, 0, 0])\n",
      "(22, [32197, 33190, 0, 0, 0, 149, 0], [32477, 33059, 0, 0, 0, 0, 0])\n",
      "(23, [4089, 48917, 668, 0, 0, 11862, 0], [0, 49827, 0, 0, 0, 15709, 0])\n",
      "(24, [4089, 48917, 668, 0, 0, 11862, 0], [0, 49827, 0, 0, 0, 15709, 0])\n",
      "(25, [14982, 49521, 0, 0, 294, 739, 0], [17539, 47997, 0, 0, 0, 0, 0])\n",
      "(26, [14982, 49521, 0, 0, 294, 739, 0], [17539, 47997, 0, 0, 0, 0, 0])\n",
      "(27, [15892, 46115, 0, 0, 0, 1985, 1544], [15963, 46713, 2860, 0, 0, 0, 0])\n",
      "(28, [0, 20838, 272, 37554, 0, 6872, 0], [0, 18657, 0, 39737, 0, 7142, 0])\n",
      "(29, [65536, 0, 0, 0, 0, 0, 0], [65536, 0, 0, 0, 0, 0, 0])\n",
      "(30, [54257, 522, 330, 1, 0, 10426, 0], [56919, 0, 0, 0, 0, 8617, 0])\n",
      "(31, [13261, 38874, 1171, 0, 0, 11092, 1138], [13077, 45234, 7225, 0, 0, 0, 0])\n",
      "(32, [12678, 38874, 228, 0, 280, 13476, 0], [11952, 45234, 8350, 0, 0, 0, 0])\n",
      "(33, [0, 31925, 2, 33609, 0, 0, 0], [0, 31067, 0, 34469, 0, 0, 0])\n",
      "(34, [0, 31925, 2, 33609, 0, 0, 0], [0, 31067, 0, 34469, 0, 0, 0])\n",
      "(35, [34094, 30733, 0, 0, 0, 709, 0], [35100, 30436, 0, 0, 0, 0, 0])\n",
      "(36, [30238, 12701, 15822, 0, 93, 6682, 0], [32744, 12526, 20266, 0, 0, 0, 0])\n",
      "(37, [0, 6, 9, 1, 0, 65520, 0], [0, 0, 0, 0, 0, 65536, 0])\n",
      "(38, [49526, 0, 9, 1, 0, 14522, 1478], [50238, 0, 0, 0, 0, 15298, 0])\n",
      "(39, [29249, 15448, 0, 0, 0, 20839, 0], [28614, 12794, 0, 0, 0, 24128, 0])\n",
      "(40, [586, 41830, 3, 2723, 0, 886, 19508], [0, 44080, 0, 0, 0, 0, 21456])\n",
      "(41, [16967, 46213, 0, 0, 0, 2355, 1], [16492, 49044, 0, 0, 0, 0, 0])\n",
      "(42, [0, 62124, 13, 158, 0, 3241, 0], [1880, 63656, 0, 0, 0, 0, 0])\n",
      "(43, [6190, 59346, 0, 0, 0, 0, 0], [6160, 59376, 0, 0, 0, 0, 0])\n",
      "(44, [0, 39758, 330, 1, 0, 25447, 0], [0, 41665, 0, 0, 0, 23871, 0])\n",
      "(45, [56439, 8326, 0, 0, 144, 627, 0], [56562, 6382, 2592, 0, 0, 0, 0])\n",
      "(46, [65536, 0, 0, 0, 0, 0, 0], [65536, 0, 0, 0, 0, 0, 0])\n",
      "(47, [35394, 0, 2545, 16717, 0, 1110, 9770], [29752, 0, 0, 17979, 0, 0, 17805])\n",
      "(48, [35394, 0, 2545, 16717, 0, 1110, 9770], [29752, 0, 0, 17979, 0, 0, 17805])\n",
      "(49, [575, 0, 1860, 7789, 0, 1792, 53520], [0, 0, 0, 8617, 0, 0, 56919])\n",
      "(50, [58505, 7031, 0, 0, 0, 0, 0], [56967, 8569, 0, 0, 0, 0, 0])\n",
      "(51, [3078, 35485, 454, 0, 0, 26519, 0], [2794, 34761, 0, 0, 0, 27981, 0])\n",
      "(52, [3021, 55236, 403, 0, 0, 1537, 5339], [0, 53770, 0, 0, 0, 0, 11766])\n",
      "(53, [3816, 58992, 0, 2723, 5, 0, 0], [4610, 60926, 0, 0, 0, 0, 0])\n",
      "(54, [0, 62813, 0, 2723, 0, 0, 0], [0, 65536, 0, 0, 0, 0, 0])\n",
      "(55, [58505, 7031, 0, 0, 0, 0, 0], [56967, 8569, 0, 0, 0, 0, 0])\n",
      "(56, [30310, 31373, 0, 817, 0, 3036, 0], [33318, 31431, 787, 0, 0, 0, 0])\n",
      "(57, [10124, 2200, 2, 52897, 0, 313, 0], [10999, 0, 0, 54537, 0, 0, 0])\n",
      "(58, [0, 1057, 11, 48669, 0, 15799, 0], [0, 0, 0, 49251, 0, 16285, 0])\n",
      "(59, [3816, 55263, 1109, 539, 5, 4804, 0], [4610, 56650, 0, 0, 0, 4276, 0])\n",
      "(60, [17045, 15926, 330, 1, 0, 32234, 0], [16492, 17935, 0, 0, 0, 31109, 0])\n",
      "(61, [51432, 12811, 0, 0, 176, 70, 1047], [51987, 13549, 0, 0, 0, 0, 0])\n",
      "(62, [3653, 8178, 3894, 696, 5, 47374, 1736], [5068, 12064, 0, 0, 0, 48404, 0])\n",
      "(63, [4089, 48917, 668, 0, 0, 11862, 0], [0, 49827, 0, 0, 0, 15709, 0])\n",
      "(64, [4089, 48917, 668, 0, 0, 11862, 0], [0, 49827, 0, 0, 0, 15709, 0])\n",
      "(65, [17045, 15926, 330, 1, 0, 32234, 0], [16492, 17935, 0, 0, 0, 31109, 0])\n",
      "(66, [32501, 440, 0, 0, 0, 32595, 0], [31425, 0, 0, 0, 0, 34111, 0])\n",
      "(67, [0, 49245, 7083, 0, 0, 9208, 0], [0, 47970, 8949, 0, 0, 8617, 0])\n",
      "(68, [0, 4032, 2362, 14753, 1, 25387, 19001], [0, 0, 0, 21722, 0, 22916, 20898])\n",
      "(69, [16543, 948, 0, 47900, 0, 145, 0], [17409, 0, 0, 48127, 0, 0, 0])\n",
      "(70, [0, 6, 9, 1, 0, 65520, 0], [0, 0, 0, 0, 0, 65536, 0])\n",
      "(71, [10124, 2200, 2, 52897, 0, 313, 0], [10999, 0, 0, 54537, 0, 0, 0])\n",
      "(72, [17010, 47449, 0, 0, 0, 1077, 0], [16492, 49044, 0, 0, 0, 0, 0])\n",
      "(73, [58565, 6866, 0, 0, 2, 103, 0], [57892, 7644, 0, 0, 0, 0, 0])\n",
      "(74, [65536, 0, 0, 0, 0, 0, 0], [65536, 0, 0, 0, 0, 0, 0])\n",
      "(75, [10499, 10297, 11837, 1777, 0, 31125, 1], [5853, 12151, 13005, 0, 0, 34527, 0])\n",
      "(76, [10499, 10297, 11837, 1777, 0, 31125, 1], [5853, 12151, 13005, 0, 0, 34527, 0])\n",
      "(77, [42519, 18609, 3570, 313, 0, 2, 523], [41630, 17647, 6259, 0, 0, 0, 0])\n",
      "(78, [42519, 18609, 3570, 313, 0, 2, 523], [41630, 17647, 6259, 0, 0, 0, 0])\n",
      "(79, [62526, 121, 0, 0, 2889, 0, 0], [62908, 2628, 0, 0, 0, 0, 0])\n",
      "(80, [60602, 4934, 0, 0, 0, 0, 0], [61781, 3755, 0, 0, 0, 0, 0])\n",
      "(81, [0, 31301, 0, 2, 0, 34233, 0], [274, 28965, 0, 0, 0, 36297, 0])\n",
      "(82, [0, 19838, 0, 2, 0, 45696, 0], [0, 15647, 0, 0, 0, 49889, 0])\n",
      "(83, [10454, 4879, 3614, 29075, 384, 2277, 14853], [11806, 3399, 5817, 28393, 0, 0, 16121])\n",
      "(84, [65536, 0, 0, 0, 0, 0, 0], [65536, 0, 0, 0, 0, 0, 0])\n",
      "(85, [4089, 48917, 668, 0, 0, 11862, 0], [0, 49827, 0, 0, 0, 15709, 0])\n",
      "(86, [4089, 40135, 3180, 1167, 0, 16965, 0], [0, 38014, 11813, 0, 0, 15709, 0])\n",
      "(87, [0, 65536, 0, 0, 0, 0, 0], [0, 65536, 0, 0, 0, 0, 0])\n",
      "(88, [0, 47095, 0, 2725, 0, 15716, 0], [0, 48690, 0, 0, 0, 16846, 0])\n",
      "(89, [15738, 47208, 0, 0, 14, 2576, 0], [17587, 47949, 0, 0, 0, 0, 0])\n",
      "(90, [15738, 47208, 0, 0, 14, 2576, 0], [17587, 47949, 0, 0, 0, 0, 0])\n",
      "(91, [44758, 7870, 8385, 318, 130, 3716, 359], [44048, 8425, 13063, 0, 0, 0, 0])\n",
      "(92, [53803, 7350, 0, 0, 5, 3798, 580], [53472, 9279, 0, 0, 0, 2785, 0])\n",
      "(93, [0, 9401, 28460, 16386, 0, 9895, 1394], [0, 8617, 39431, 17488, 0, 0, 0])\n",
      "(94, [0, 0, 42496, 1168, 0, 20477, 1395], [0, 0, 65536, 0, 0, 0, 0])\n",
      "(95, [0, 28555, 12673, 0, 0, 24267, 41], [0, 25673, 0, 0, 0, 39863, 0])\n",
      "(96, [0, 28555, 12673, 0, 0, 24267, 41], [0, 25673, 0, 0, 0, 39863, 0])\n",
      "(97, [65536, 0, 0, 0, 0, 0, 0], [65536, 0, 0, 0, 0, 0, 0])\n",
      "(98, [65536, 0, 0, 0, 0, 0, 0], [65536, 0, 0, 0, 0, 0, 0])\n",
      "(99, [35576, 0, 3902, 24077, 0, 1064, 917], [29752, 0, 0, 29248, 0, 0, 6536])\n",
      "(100, [34211, 31176, 0, 0, 0, 149, 0], [35090, 30446, 0, 0, 0, 0, 0])\n",
      "(101, [0, 1, 0, 0, 0, 65535, 0], [0, 0, 0, 0, 0, 65536, 0])\n",
      "(102, [0, 65536, 0, 0, 0, 0, 0], [0, 65536, 0, 0, 0, 0, 0])\n",
      "(103, [14636, 1832, 13, 44859, 0, 3792, 404], [16918, 0, 0, 47881, 0, 737, 0])\n",
      "(104, [9616, 1639, 13, 51244, 0, 2620, 404], [12387, 0, 0, 52412, 0, 737, 0])\n",
      "(105, [35394, 0, 2545, 16717, 0, 1110, 9770], [29752, 0, 0, 17979, 0, 0, 17805])\n",
      "(106, [44758, 7870, 8385, 318, 130, 3716, 359], [44048, 8425, 13063, 0, 0, 0, 0])\n",
      "(107, [0, 47741, 12928, 184, 0, 4682, 1], [0, 49812, 15724, 0, 0, 0, 0])\n",
      "(108, [0, 47741, 12928, 184, 0, 4682, 1], [0, 49812, 15724, 0, 0, 0, 0])\n",
      "(109, [0, 65536, 0, 0, 0, 0, 0], [0, 64046, 0, 0, 1490, 0, 0])\n",
      "(110, [0, 65536, 0, 0, 0, 0, 0], [0, 64046, 0, 0, 1490, 0, 0])\n",
      "(111, [0, 2, 695, 2083, 0, 62756, 0], [0, 0, 0, 3666, 0, 61870, 0])\n",
      "(112, [44418, 304, 365, 2082, 147, 18220, 0], [40697, 0, 0, 3666, 0, 21173, 0])\n",
      "(113, [44063, 21473, 0, 0, 0, 0, 0], [41867, 22111, 0, 1558, 0, 0, 0])\n",
      "(114, [44063, 21473, 0, 0, 0, 0, 0], [41867, 22111, 0, 1558, 0, 0, 0])\n",
      "(115, [0, 3542, 5005, 46197, 0, 10792, 0], [0, 0, 0, 47919, 0, 17617, 0])\n",
      "(116, [0, 3542, 5005, 46197, 0, 10792, 0], [0, 0, 0, 47919, 0, 17617, 0])\n",
      "(117, [4956, 24811, 0, 14107, 331, 21331, 0], [3755, 24969, 0, 14774, 0, 22038, 0])\n",
      "(118, [4956, 30514, 0, 7463, 331, 22272, 0], [3755, 30390, 0, 9353, 0, 22038, 0])\n",
      "(119, [47140, 708, 0, 0, 0, 17688, 0], [47741, 0, 0, 0, 0, 17795, 0])\n",
      "(120, [0, 0, 2, 65534, 0, 0, 0], [0, 0, 0, 65536, 0, 0, 0])\n",
      "(121, [65536, 0, 0, 0, 0, 0, 0], [65536, 0, 0, 0, 0, 0, 0])\n",
      "(122, [17045, 46914, 0, 0, 0, 1577, 0], [16492, 49044, 0, 0, 0, 0, 0])\n",
      "(123, [14515, 22296, 265, 4624, 0, 4102, 19734], [16453, 27627, 0, 0, 0, 0, 21456])\n",
      "(124, [586, 41830, 3, 2723, 0, 886, 19508], [0, 44080, 0, 0, 0, 0, 21456])\n",
      "(125, [34375, 31161, 0, 0, 0, 0, 0], [34567, 30969, 0, 0, 0, 0, 0])\n"
     ]
    },
    {
     "name": "stdout",
     "output_type": "stream",
     "text": [
      "(126, [16080, 49307, 0, 0, 0, 149, 0], [16456, 49080, 0, 0, 0, 0, 0])\n",
      "(127, [0, 65134, 0, 0, 0, 402, 0], [0, 65536, 0, 0, 0, 0, 0])\n",
      "(128, [8878, 40045, 0, 11573, 129, 4911, 0], [9112, 43984, 0, 12440, 0, 0, 0])\n",
      "(129, [6714, 46292, 668, 0, 0, 11862, 0], [2792, 47035, 0, 0, 0, 15709, 0])\n",
      "(130, [45552, 1, 842, 16716, 1286, 1065, 74], [47557, 0, 0, 17979, 0, 0, 0])\n",
      "(131, [0, 6794, 38556, 18237, 0, 1949, 0], [0, 5751, 42107, 17678, 0, 0, 0])\n",
      "(132, [0, 6794, 38556, 18237, 0, 1949, 0], [0, 5751, 42107, 17678, 0, 0, 0])\n",
      "(133, [0, 35237, 0, 0, 0, 30299, 0], [0, 34228, 0, 0, 0, 31308, 0])\n",
      "(134, [0, 35237, 0, 0, 0, 30299, 0], [0, 34228, 0, 0, 0, 31308, 0])\n",
      "(135, [0, 31088, 5412, 0, 0, 29036, 0], [0, 29863, 15096, 0, 0, 20577, 0])\n",
      "(136, [0, 65536, 0, 0, 0, 0, 0], [0, 65536, 0, 0, 0, 0, 0])\n",
      "(137, [57335, 0, 2, 6702, 0, 1334, 163], [57128, 0, 0, 8408, 0, 0, 0])\n",
      "(138, [57335, 0, 2, 6702, 0, 1334, 163], [57128, 0, 0, 8408, 0, 0, 0])\n",
      "(139, [28217, 29973, 2571, 0, 0, 4597, 178], [28893, 30032, 0, 0, 0, 0, 6611])\n",
      "(140, [10124, 2200, 2, 52897, 0, 313, 0], [10999, 0, 0, 54537, 0, 0, 0])\n",
      "(141, [65536, 0, 0, 0, 0, 0, 0], [65536, 0, 0, 0, 0, 0, 0])\n",
      "(142, [0, 695, 2288, 44246, 0, 18307, 0], [0, 0, 0, 42268, 0, 23268, 0])\n",
      "(143, [65536, 0, 0, 0, 0, 0, 0], [65536, 0, 0, 0, 0, 0, 0])\n",
      "(144, [36217, 20397, 4293, 800, 1019, 2810, 0], [36955, 22902, 5679, 0, 0, 0, 0])\n",
      "(145, [0, 45032, 0, 0, 0, 20504, 0], [0, 42295, 0, 0, 0, 23241, 0])\n",
      "(146, [0, 65536, 0, 0, 0, 0, 0], [0, 65536, 0, 0, 0, 0, 0])\n",
      "(147, [0, 65536, 0, 0, 0, 0, 0], [0, 65536, 0, 0, 0, 0, 0])\n",
      "(148, [47758, 17778, 0, 0, 0, 0, 0], [47849, 17687, 0, 0, 0, 0, 0])\n",
      "(149, [29249, 15448, 0, 0, 0, 20839, 0], [28614, 12794, 0, 0, 0, 24128, 0])\n",
      "(150, [32033, 33498, 0, 0, 5, 0, 0], [33503, 32033, 0, 0, 0, 0, 0])\n",
      "(151, [58505, 7031, 0, 0, 0, 0, 0], [56967, 8569, 0, 0, 0, 0, 0])\n",
      "(152, [58505, 7031, 0, 0, 0, 0, 0], [56967, 8569, 0, 0, 0, 0, 0])\n",
      "(153, [3432, 62090, 0, 0, 9, 5, 0], [4640, 60896, 0, 0, 0, 0, 0])\n",
      "(154, [19459, 43369, 0, 0, 232, 2476, 0], [20813, 44723, 0, 0, 0, 0, 0])\n",
      "(155, [32523, 33013, 0, 0, 0, 0, 0], [31743, 33793, 0, 0, 0, 0, 0])\n",
      "(156, [36204, 29332, 0, 0, 0, 0, 0], [37242, 28294, 0, 0, 0, 0, 0])\n",
      "(157, [0, 57285, 0, 817, 0, 7434, 0], [0, 65536, 0, 0, 0, 0, 0])\n",
      "(158, [0, 57285, 0, 817, 0, 7434, 0], [0, 65536, 0, 0, 0, 0, 0])\n",
      "(159, [2112, 6212, 18603, 4749, 0, 4425, 29435], [0, 5751, 19992, 7190, 0, 1427, 31176])\n",
      "(160, [0, 6, 9, 1, 0, 65520, 0], [0, 0, 0, 0, 0, 65536, 0])\n",
      "(161, [17926, 44810, 199, 0, 0, 2332, 269], [19546, 45990, 0, 0, 0, 0, 0])\n",
      "(162, [17926, 44810, 199, 0, 0, 2332, 269], [19546, 45990, 0, 0, 0, 0, 0])\n",
      "(163, [42939, 0, 15822, 0, 93, 6682, 0], [45270, 0, 20266, 0, 0, 0, 0])\n",
      "(164, [42939, 0, 15822, 0, 93, 6682, 0], [45270, 0, 20266, 0, 0, 0, 0])\n",
      "(165, [62499, 1, 12, 0, 0, 2620, 404], [64799, 0, 0, 0, 0, 737, 0])\n",
      "(166, [11118, 44761, 0, 0, 0, 9657, 0], [9980, 43871, 0, 0, 0, 11685, 0])\n",
      "(167, [46773, 18105, 0, 0, 0, 658, 0], [46905, 18631, 0, 0, 0, 0, 0])\n",
      "(168, [65536, 0, 0, 0, 0, 0, 0], [65536, 0, 0, 0, 0, 0, 0])\n",
      "(169, [1, 63634, 0, 0, 9, 1892, 0], [1846, 61452, 0, 0, 0, 2238, 0])\n",
      "(170, [1, 63634, 0, 0, 9, 1892, 0], [1846, 61452, 0, 0, 0, 2238, 0])\n",
      "(171, [0, 1, 0, 0, 0, 65535, 0], [0, 0, 0, 0, 0, 65536, 0])\n",
      "(172, [0, 1026, 140, 15756, 0, 48614, 0], [0, 0, 0, 17012, 0, 48524, 0])\n",
      "(173, [0, 64909, 0, 0, 0, 627, 0], [0, 62944, 2592, 0, 0, 0, 0])\n",
      "(174, [20650, 42626, 0, 0, 0, 2260, 0], [21500, 41444, 2592, 0, 0, 0, 0])\n",
      "(175, [0, 57285, 0, 817, 0, 7434, 0], [0, 65536, 0, 0, 0, 0, 0])\n",
      "(176, [44, 19025, 0, 0, 1162, 45305, 0], [0, 19977, 0, 0, 0, 45559, 0])\n",
      "(177, [25814, 0, 29378, 0, 0, 10104, 240], [26110, 0, 39426, 0, 0, 0, 0])\n",
      "(178, [0, 13986, 1857, 7789, 98, 10807, 30999], [0, 11977, 0, 8617, 0, 8429, 36513])\n",
      "(179, [65536, 0, 0, 0, 0, 0, 0], [65536, 0, 0, 0, 0, 0, 0])\n",
      "(180, [0, 17855, 5432, 40307, 0, 1942, 0], [0, 0, 0, 65536, 0, 0, 0])\n",
      "(181, [12701, 695, 2286, 29970, 0, 19884, 0], [13544, 0, 0, 30720, 0, 21272, 0])\n",
      "(182, [6357, 19838, 0, 2, 0, 39339, 0], [8360, 15647, 0, 0, 0, 41529, 0])\n",
      "(183, [2728, 62808, 0, 0, 0, 0, 0], [5252, 60284, 0, 0, 0, 0, 0])\n",
      "(184, [2728, 62808, 0, 0, 0, 0, 0], [5252, 60284, 0, 0, 0, 0, 0])\n",
      "(185, [60129, 0, 3, 0, 0, 6, 5398], [59689, 0, 0, 0, 0, 0, 5847])\n",
      "(186, [2329, 0, 0, 62835, 0, 372, 0], [2196, 0, 0, 63340, 0, 0, 0])\n",
      "(187, [5301, 39233, 608, 17277, 125, 2992, 0], [4382, 37871, 0, 23283, 0, 0, 0])\n",
      "(188, [29249, 15448, 0, 0, 0, 20839, 0], [28614, 12794, 0, 0, 0, 24128, 0])\n",
      "(189, [35208, 24619, 0, 0, 0, 5709, 0], [31081, 34455, 0, 0, 0, 0, 0])\n",
      "(190, [1442, 24827, 2781, 4749, 0, 10726, 21011], [83, 34455, 0, 7190, 0, 1427, 22381])\n",
      "(191, [0, 50844, 12928, 184, 0, 1579, 1], [0, 52404, 13132, 0, 0, 0, 0])\n",
      "(192, [0, 65134, 0, 0, 0, 402, 0], [0, 65536, 0, 0, 0, 0, 0])\n",
      "(193, [0, 15559, 0, 28647, 0, 21330, 0], [0, 12594, 0, 30904, 0, 22038, 0])\n",
      "(194, [4956, 24811, 0, 14107, 331, 21331, 0], [3755, 24969, 0, 14774, 0, 22038, 0])\n",
      "(195, [0, 45737, 18350, 445, 0, 1004, 0], [0, 44016, 21520, 0, 0, 0, 0])\n",
      "(196, [58154, 7382, 0, 0, 0, 0, 0], [56967, 8250, 319, 0, 0, 0, 0])\n",
      "(197, [25991, 0, 29081, 0, 0, 10000, 464], [26110, 0, 39426, 0, 0, 0, 0])\n",
      "(198, [25991, 0, 29081, 0, 0, 10000, 464], [26110, 0, 39426, 0, 0, 0, 0])\n",
      "(199, [21934, 35237, 0, 0, 0, 8365, 0], [21456, 34228, 1571, 0, 0, 8281, 0])\n"
     ]
    }
   ],
   "source": [
    "for i in range(Y_hat.shape[0]):\n",
    "    print((i, [np.count_nonzero(Y_hat[i,:]==j) for j in range(Y_hat_p.shape[-1])], \n",
    "           [np.count_nonzero(Y_dev[i,:,:].argmax(axis=-1)==j) for j in range(Y_hat_p.shape[-1])]))"
   ]
  },
  {
   "cell_type": "code",
   "execution_count": 19,
   "metadata": {},
   "outputs": [
    {
     "data": {
      "text/plain": [
       "<matplotlib.image.AxesImage at 0x7f8d7896c9e8>"
      ]
     },
     "execution_count": 19,
     "metadata": {},
     "output_type": "execute_result"
    },
    {
     "data": {
      "image/png": "[encoded data removed]",
      "text/plain": [
       "<Figure size 864x216 with 2 Axes>"
      ]
     },
     "metadata": {
      "needs_background": "light"
     },
     "output_type": "display_data"
    }
   ],
   "source": [
    "plt.figure(figsize=(12, 3))\n",
    "Y_dev_lab = np.argmax(Y_dev, axis=-1)\n",
    "plt.subplot(211)\n",
    "plt.title('Dev set ground truths')\n",
    "plt.imshow(Y_dev_lab[48:49,:].astype(int), aspect='auto')#, cmap='jet')\n",
    "\n",
    "plt.subplot(212)\n",
    "plt.title('Corresponding dev set predictions')\n",
    "plt.imshow(Y_hat[48:49,:].astype(int), aspect='auto')#, cmap='jet')"
   ]
  },
  {
   "cell_type": "code",
   "execution_count": 20,
   "metadata": {},
   "outputs": [
    {
     "data": {
      "text/plain": [
       "(array([    3,     4,     5, ..., 17180, 17181, 65535]),)"
      ]
     },
     "execution_count": 20,
     "metadata": {},
     "output_type": "execute_result"
    }
   ],
   "source": [
    "np.where(np.argmax(Y_hat_p[48,:,:], axis=-1)==3)"
   ]
  },
  {
   "cell_type": "code",
   "execution_count": 21,
   "metadata": {},
   "outputs": [
    {
     "data": {
      "text/plain": [
       "<matplotlib.image.AxesImage at 0x7f8d78899630>"
      ]
     },
     "execution_count": 21,
     "metadata": {},
     "output_type": "execute_result"
    },
    {
     "data": {
      "image/png": "[encoded data removed]",
      "text/plain": [
       "<Figure size 864x216 with 2 Axes>"
      ]
     },
     "metadata": {
      "needs_background": "light"
     },
     "output_type": "display_data"
    }
   ],
   "source": [
    "plt.figure(figsize=(12, 3))\n",
    "Y_dev_lab = np.argmax(Y_dev, axis=-1)\n",
    "plt.subplot(211)\n",
    "plt.title('Dev set ground truths')\n",
    "plt.imshow(Y_dev_lab[48:49,29000:29500].astype(int), aspect='auto')#, cmap='jet')\n",
    "\n",
    "plt.subplot(212)\n",
    "plt.title('Corresponding dev set predictions')\n",
    "plt.imshow(Y_hat[48:49,29000:29500].astype(int), aspect='auto')#, cmap='jet')"
   ]
  },
  {
   "cell_type": "code",
   "execution_count": 22,
   "metadata": {
    "scrolled": false
   },
   "outputs": [
    {
     "data": {
      "text/plain": [
       "array([[[1.29923850e-04, 1.24904290e-01, 3.16251069e-01, ...,\n",
       "         4.03305661e-04, 1.46978544e-02, 2.41918173e-02],\n",
       "        [2.32746879e-05, 6.93751425e-02, 3.52999270e-01, ...,\n",
       "         1.17804295e-04, 1.08935377e-02, 1.60564873e-02],\n",
       "        [5.18488969e-06, 4.15723175e-02, 2.26749063e-01, ...,\n",
       "         2.75212424e-05, 8.30342341e-03, 1.15948897e-02],\n",
       "        ...,\n",
       "        [3.19781925e-08, 9.54711437e-03, 8.20325688e-02, ...,\n",
       "         5.03841011e-06, 4.52177435e-01, 8.87516595e-04],\n",
       "        [4.10397831e-08, 1.04052657e-02, 7.98047110e-02, ...,\n",
       "         4.85757710e-06, 4.31869954e-01, 9.48413683e-04],\n",
       "        [1.85551085e-02, 2.36036152e-01, 1.40845597e-01, ...,\n",
       "         1.59436986e-02, 1.25866130e-01, 9.28995758e-02]]], dtype=float32)"
      ]
     },
     "execution_count": 22,
     "metadata": {},
     "output_type": "execute_result"
    }
   ],
   "source": [
    "Y_hat_p[48,np.where(np.argmax(Y_hat_p[48,:,:], axis=-1)==3),:]"
   ]
  },
  {
   "cell_type": "code",
   "execution_count": 23,
   "metadata": {},
   "outputs": [],
   "source": [
    "# seems like a crf-smoother (even a post-hoc one) could really help"
   ]
  }
 ],
 "metadata": {
  "kernelspec": {
   "display_name": "Python 3",
   "language": "python",
   "name": "python3"
  },
  "language_info": {
   "codemirror_mode": {
    "name": "ipython",
    "version": 3
   },
   "file_extension": ".py",
   "mimetype": "text/x-python",
   "name": "python",
   "nbconvert_exporter": "python",
   "pygments_lexer": "ipython3",
   "version": "3.6.9"
  }
 },
 "nbformat": 4,
 "nbformat_minor": 2
}
