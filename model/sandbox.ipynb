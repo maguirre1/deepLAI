{
 "cells": [
  {
   "cell_type": "code",
   "execution_count": 1,
   "metadata": {},
   "outputs": [
    {
     "name": "stderr",
     "output_type": "stream",
     "text": [
      "Using TensorFlow backend.\n"
     ]
    }
   ],
   "source": [
    "import os\n",
    "import numpy as np\n",
    "import tensorflow as tf\n",
    "from keras import optimizers\n",
    "from keras.utils import to_categorical\n",
    "from keras.callbacks import EarlyStopping\n",
    "from segnet import segnet\n",
    "from generator import DataGenerator"
   ]
  },
  {
   "cell_type": "code",
   "execution_count": 2,
   "metadata": {},
   "outputs": [],
   "source": [
    "# hyperparameters\n",
    "nv=int(2**16) # variants\n",
    "na=2          # alleles\n",
    "nc=7          # ancestry classes\n",
    "ne=100        # number of epochs\n",
    "nf=8          # number of segnet filters\n",
    "fs=16          # filter size\n",
    "bs=32         # batch size\n",
    "dp=5          # number of segnet blocks (depth)\n",
    "wt=False      # use inverse frequency weighted loss -- this doesn't seem to help\n",
    "gen=True      # use data generator\n",
    "hor=False     # use multi-gpu\n",
    "oce=True      # include oceanian samples\n",
    "dev=True      # do we have a dev set\n",
    "\n",
    "# reproducibility\n",
    "# np.random.seed(23910464)\n",
    "np.random.seed(1)"
   ]
  },
  {
   "cell_type": "code",
   "execution_count": 3,
   "metadata": {},
   "outputs": [],
   "source": [
    "# configure horovod if we're using multiple gpus\n",
    "# - note that this doesn't work within a jupyter notebook\n",
    "# - but you can use it to assign one of the two gpus to the tf instance\n",
    "# - ((probably))\n",
    "if hor: \n",
    "    import horovod.keras as hvd \n",
    "\n",
    "    # initialize horovod instance -- this currently only works on galangal\n",
    "    hvd.init()\n",
    "\n",
    "    # assign GPUs to horovod \n",
    "    gpus = tf.config.list_physical_devices('GPU')\n",
    "    for gpu in gpus:\n",
    "        tf.config.experimental.set_memory_growth(gpu, True)\n",
    "    if gpus:\n",
    "        # tf.config in tf <= 1.6\n",
    "        tf.config.experimental.set_visible_devices(gpus[hvd.local_rank()], 'GPU')\n",
    "    print(gpus)"
   ]
  },
  {
   "cell_type": "code",
   "execution_count": 4,
   "metadata": {},
   "outputs": [
    {
     "data": {
      "text/plain": [
       "[PhysicalDevice(name='/physical_device:GPU:0', device_type='GPU')]"
      ]
     },
     "execution_count": 4,
     "metadata": {},
     "output_type": "execute_result"
    }
   ],
   "source": [
    "# sanity check that we're on gpu -- use #1\n",
    "os.environ[\"CUDA_VISIBLE_DEVICES\"]=\"1\"\n",
    "tf.config.list_physical_devices('GPU')"
   ]
  },
  {
   "cell_type": "code",
   "execution_count": 5,
   "metadata": {
    "scrolled": false
   },
   "outputs": [
    {
     "name": "stdout",
     "output_type": "stream",
     "text": [
      "Model: \"segnet\"\n",
      "__________________________________________________________________________________________________\n",
      "Layer (type)                    Output Shape         Param #     Connected to                     \n",
      "==================================================================================================\n",
      "input_1 (InputLayer)            (None, 65536, 2)     0                                            \n",
      "__________________________________________________________________________________________________\n",
      "dropout_1 (Dropout)             (None, 65536, 2)     0           input_1[0][0]                    \n",
      "__________________________________________________________________________________________________\n",
      "conv1_down1 (Conv1D)            (None, 65536, 8)     264         dropout_1[0][0]                  \n",
      "__________________________________________________________________________________________________\n",
      "activation_1 (Activation)       (None, 65536, 8)     0           conv1_down1[0][0]                \n",
      "__________________________________________________________________________________________________\n",
      "dropout_2 (Dropout)             (None, 65536, 8)     0           activation_1[0][0]               \n",
      "__________________________________________________________________________________________________\n",
      "conv1_down2 (Conv1D)            (None, 65536, 8)     1032        dropout_2[0][0]                  \n",
      "__________________________________________________________________________________________________\n",
      "activation_2 (Activation)       (None, 65536, 8)     0           conv1_down2[0][0]                \n",
      "__________________________________________________________________________________________________\n",
      "dropout_3 (Dropout)             (None, 65536, 8)     0           activation_2[0][0]               \n",
      "__________________________________________________________________________________________________\n",
      "pool0 (MaxPooling1D)            (None, 16384, 8)     0           dropout_3[0][0]                  \n",
      "__________________________________________________________________________________________________\n",
      "conv2_down1 (Conv1D)            (None, 16384, 16)    2064        pool0[0][0]                      \n",
      "__________________________________________________________________________________________________\n",
      "activation_3 (Activation)       (None, 16384, 16)    0           conv2_down1[0][0]                \n",
      "__________________________________________________________________________________________________\n",
      "dropout_4 (Dropout)             (None, 16384, 16)    0           activation_3[0][0]               \n",
      "__________________________________________________________________________________________________\n",
      "conv2_down2 (Conv1D)            (None, 16384, 16)    4112        dropout_4[0][0]                  \n",
      "__________________________________________________________________________________________________\n",
      "activation_4 (Activation)       (None, 16384, 16)    0           conv2_down2[0][0]                \n",
      "__________________________________________________________________________________________________\n",
      "dropout_5 (Dropout)             (None, 16384, 16)    0           activation_4[0][0]               \n",
      "__________________________________________________________________________________________________\n",
      "pool1 (MaxPooling1D)            (None, 4096, 16)     0           dropout_5[0][0]                  \n",
      "__________________________________________________________________________________________________\n",
      "conv3_down1 (Conv1D)            (None, 4096, 32)     8224        pool1[0][0]                      \n",
      "__________________________________________________________________________________________________\n",
      "activation_5 (Activation)       (None, 4096, 32)     0           conv3_down1[0][0]                \n",
      "__________________________________________________________________________________________________\n",
      "dropout_6 (Dropout)             (None, 4096, 32)     0           activation_5[0][0]               \n",
      "__________________________________________________________________________________________________\n",
      "conv3_down2 (Conv1D)            (None, 4096, 32)     16416       dropout_6[0][0]                  \n",
      "__________________________________________________________________________________________________\n",
      "activation_6 (Activation)       (None, 4096, 32)     0           conv3_down2[0][0]                \n",
      "__________________________________________________________________________________________________\n",
      "dropout_7 (Dropout)             (None, 4096, 32)     0           activation_6[0][0]               \n",
      "__________________________________________________________________________________________________\n",
      "pool2 (MaxPooling1D)            (None, 1024, 32)     0           dropout_7[0][0]                  \n",
      "__________________________________________________________________________________________________\n",
      "conv4_down1 (Conv1D)            (None, 1024, 64)     32832       pool2[0][0]                      \n",
      "__________________________________________________________________________________________________\n",
      "activation_7 (Activation)       (None, 1024, 64)     0           conv4_down1[0][0]                \n",
      "__________________________________________________________________________________________________\n",
      "dropout_8 (Dropout)             (None, 1024, 64)     0           activation_7[0][0]               \n",
      "__________________________________________________________________________________________________\n",
      "conv4_down2 (Conv1D)            (None, 1024, 64)     65600       dropout_8[0][0]                  \n",
      "__________________________________________________________________________________________________\n",
      "activation_8 (Activation)       (None, 1024, 64)     0           conv4_down2[0][0]                \n",
      "__________________________________________________________________________________________________\n",
      "dropout_9 (Dropout)             (None, 1024, 64)     0           activation_8[0][0]               \n",
      "__________________________________________________________________________________________________\n",
      "pool3 (MaxPooling1D)            (None, 256, 64)      0           dropout_9[0][0]                  \n",
      "__________________________________________________________________________________________________\n",
      "conv5_down1 (Conv1D)            (None, 256, 128)     131200      pool3[0][0]                      \n",
      "__________________________________________________________________________________________________\n",
      "activation_9 (Activation)       (None, 256, 128)     0           conv5_down1[0][0]                \n",
      "__________________________________________________________________________________________________\n",
      "dropout_10 (Dropout)            (None, 256, 128)     0           activation_9[0][0]               \n",
      "__________________________________________________________________________________________________\n",
      "conv5_down2 (Conv1D)            (None, 256, 128)     262272      dropout_10[0][0]                 \n",
      "__________________________________________________________________________________________________\n",
      "activation_10 (Activation)      (None, 256, 128)     0           conv5_down2[0][0]                \n",
      "__________________________________________________________________________________________________\n",
      "dropout_11 (Dropout)            (None, 256, 128)     0           activation_10[0][0]              \n",
      "__________________________________________________________________________________________________\n",
      "pool4 (MaxPooling1D)            (None, 64, 128)      0           dropout_11[0][0]                 \n",
      "__________________________________________________________________________________________________\n",
      "concatenate_1 (Concatenate)     (None, 64, 256)      0           pool4[0][0]                      \n",
      "                                                                 pool4[0][0]                      \n",
      "__________________________________________________________________________________________________\n",
      "up4 (UpSampling1D)              (None, 256, 256)     0           concatenate_1[0][0]              \n",
      "__________________________________________________________________________________________________\n",
      "conv4_up0 (Conv1D)              (None, 256, 128)     524416      up4[0][0]                        \n",
      "__________________________________________________________________________________________________\n",
      "activation_11 (Activation)      (None, 256, 128)     0           conv4_up0[0][0]                  \n",
      "__________________________________________________________________________________________________\n",
      "dropout_12 (Dropout)            (None, 256, 128)     0           activation_11[0][0]              \n",
      "__________________________________________________________________________________________________\n",
      "conv4_up1 (Conv1D)              (None, 256, 128)     262272      dropout_12[0][0]                 \n",
      "__________________________________________________________________________________________________\n",
      "activation_12 (Activation)      (None, 256, 128)     0           conv4_up1[0][0]                  \n",
      "__________________________________________________________________________________________________\n",
      "dropout_13 (Dropout)            (None, 256, 128)     0           activation_12[0][0]              \n",
      "__________________________________________________________________________________________________\n",
      "concatenate_2 (Concatenate)     (None, 256, 192)     0           pool3[0][0]                      \n",
      "                                                                 dropout_13[0][0]                 \n",
      "__________________________________________________________________________________________________\n",
      "up3 (UpSampling1D)              (None, 1024, 192)    0           concatenate_2[0][0]              \n",
      "__________________________________________________________________________________________________\n",
      "conv3_up0 (Conv1D)              (None, 1024, 64)     196672      up3[0][0]                        \n",
      "__________________________________________________________________________________________________\n",
      "activation_13 (Activation)      (None, 1024, 64)     0           conv3_up0[0][0]                  \n",
      "__________________________________________________________________________________________________\n",
      "dropout_14 (Dropout)            (None, 1024, 64)     0           activation_13[0][0]              \n",
      "__________________________________________________________________________________________________\n",
      "conv3_up1 (Conv1D)              (None, 1024, 64)     65600       dropout_14[0][0]                 \n",
      "__________________________________________________________________________________________________\n",
      "activation_14 (Activation)      (None, 1024, 64)     0           conv3_up1[0][0]                  \n",
      "__________________________________________________________________________________________________\n",
      "dropout_15 (Dropout)            (None, 1024, 64)     0           activation_14[0][0]              \n",
      "__________________________________________________________________________________________________\n",
      "concatenate_3 (Concatenate)     (None, 1024, 96)     0           pool2[0][0]                      \n",
      "                                                                 dropout_15[0][0]                 \n",
      "__________________________________________________________________________________________________\n",
      "up2 (UpSampling1D)              (None, 4096, 96)     0           concatenate_3[0][0]              \n",
      "__________________________________________________________________________________________________\n",
      "conv2_up0 (Conv1D)              (None, 4096, 32)     49184       up2[0][0]                        \n",
      "__________________________________________________________________________________________________\n",
      "activation_15 (Activation)      (None, 4096, 32)     0           conv2_up0[0][0]                  \n",
      "__________________________________________________________________________________________________\n",
      "dropout_16 (Dropout)            (None, 4096, 32)     0           activation_15[0][0]              \n",
      "__________________________________________________________________________________________________\n",
      "conv2_up1 (Conv1D)              (None, 4096, 32)     16416       dropout_16[0][0]                 \n",
      "__________________________________________________________________________________________________\n",
      "activation_16 (Activation)      (None, 4096, 32)     0           conv2_up1[0][0]                  \n",
      "__________________________________________________________________________________________________\n",
      "dropout_17 (Dropout)            (None, 4096, 32)     0           activation_16[0][0]              \n",
      "__________________________________________________________________________________________________\n",
      "concatenate_4 (Concatenate)     (None, 4096, 48)     0           pool1[0][0]                      \n",
      "                                                                 dropout_17[0][0]                 \n",
      "__________________________________________________________________________________________________\n",
      "up1 (UpSampling1D)              (None, 16384, 48)    0           concatenate_4[0][0]              \n",
      "__________________________________________________________________________________________________\n",
      "conv1_up0 (Conv1D)              (None, 16384, 16)    12304       up1[0][0]                        \n",
      "__________________________________________________________________________________________________\n",
      "activation_17 (Activation)      (None, 16384, 16)    0           conv1_up0[0][0]                  \n",
      "__________________________________________________________________________________________________\n",
      "dropout_18 (Dropout)            (None, 16384, 16)    0           activation_17[0][0]              \n",
      "__________________________________________________________________________________________________\n",
      "conv1_up1 (Conv1D)              (None, 16384, 16)    4112        dropout_18[0][0]                 \n",
      "__________________________________________________________________________________________________\n",
      "activation_18 (Activation)      (None, 16384, 16)    0           conv1_up1[0][0]                  \n",
      "__________________________________________________________________________________________________\n",
      "dropout_19 (Dropout)            (None, 16384, 16)    0           activation_18[0][0]              \n",
      "__________________________________________________________________________________________________\n",
      "concatenate_5 (Concatenate)     (None, 16384, 24)    0           pool0[0][0]                      \n",
      "                                                                 dropout_19[0][0]                 \n",
      "__________________________________________________________________________________________________\n",
      "up0 (UpSampling1D)              (None, 65536, 24)    0           concatenate_5[0][0]              \n",
      "__________________________________________________________________________________________________\n",
      "conv0_up0 (Conv1D)              (None, 65536, 8)     3080        up0[0][0]                        \n",
      "__________________________________________________________________________________________________\n",
      "activation_19 (Activation)      (None, 65536, 8)     0           conv0_up0[0][0]                  \n",
      "__________________________________________________________________________________________________\n",
      "dropout_20 (Dropout)            (None, 65536, 8)     0           activation_19[0][0]              \n",
      "__________________________________________________________________________________________________\n",
      "conv0_up1 (Conv1D)              (None, 65536, 8)     1032        dropout_20[0][0]                 \n",
      "__________________________________________________________________________________________________\n",
      "activation_20 (Activation)      (None, 65536, 8)     0           conv0_up1[0][0]                  \n",
      "__________________________________________________________________________________________________\n",
      "dropout_21 (Dropout)            (None, 65536, 8)     0           activation_20[0][0]              \n",
      "__________________________________________________________________________________________________\n",
      "output_layer (Dense)            (None, 65536, 7)     63          dropout_21[0][0]                 \n",
      "==================================================================================================\n",
      "Total params: 1,659,167\n",
      "Trainable params: 1,659,167\n",
      "Non-trainable params: 0\n",
      "__________________________________________________________________________________________________\n",
      "None\n"
     ]
    }
   ],
   "source": [
    "# declare model\n",
    "model=segnet(input_shape=(nv, na), n_classes=nc-1+int(oce), n_filters=nf, width=fs, n_blocks=dp)\n",
    "\n",
    "# and optimizer\n",
    "if hor:\n",
    "    adam=optimizers.Adam(lr=1e-5 * hvd.size())\n",
    "    adam=hvd.DistributedOptimizer(adam)\n",
    "else:\n",
    "    adam=optimizers.Adam(lr=1e-4)\n",
    "\n",
    "# now compile and show parameter summary\n",
    "model.compile(optimizer=adam, loss='categorical_crossentropy', metrics=['accuracy']) \n",
    "print(model.summary())"
   ]
  },
  {
   "cell_type": "code",
   "execution_count": 6,
   "metadata": {
    "scrolled": false
   },
   "outputs": [
    {
     "name": "stdout",
     "output_type": "stream",
     "text": [
      "[(2764, 516801, 2), (2764, 516801, 7), (2764, 516801, 2)]\n"
     ]
    }
   ],
   "source": [
    "# load data\n",
    "data_root='/home/magu/deepmix/data/reference_panel/'\n",
    "X = np.load(data_root+'unzipped/panel_chr20.G.npy', mmap_mode='r')\n",
    "Y = np.load(data_root+'unzipped/panel_chr20.L.npy', mmap_mode='r')\n",
    "S = np.load(data_root+'unzipped/panel_chr20.S.npy')\n",
    "print([X.shape, Y.shape, X.shape])"
   ]
  },
  {
   "cell_type": "code",
   "execution_count": 7,
   "metadata": {},
   "outputs": [
    {
     "name": "stdout",
     "output_type": "stream",
     "text": [
      "2090\n"
     ]
    }
   ],
   "source": [
    "# and train individuals\n",
    "train=np.loadtxt('../data/reference-panel/split/train.strands.txt', dtype=str)\n",
    "train_ix=[i for i,q in enumerate(S) if q in train]\n",
    "np.random.shuffle(train_ix)\n",
    "print(len(train_ix))"
   ]
  },
  {
   "cell_type": "code",
   "execution_count": 8,
   "metadata": {},
   "outputs": [
    {
     "name": "stdout",
     "output_type": "stream",
     "text": [
      "[(200, 65536, 2), (200, 65536, 7)]\n"
     ]
    }
   ],
   "source": [
    "# and some dev individuals, why not -- first pick their indexes\n",
    "if dev:\n",
    "    #n=100\n",
    "    S=np.load(data_root+'simulated_chr20/label/dev_10gen.result.npz')['S']\n",
    "    s=S#np.random.choice(S, size=min(n, S.shape[0]), replace=False)\n",
    "\n",
    "    # then load and subset -- AMR is the first ancestry label, ignored for now\n",
    "    x_f=data_root+'simulated_chr20/numpy/dev_10gen.query.npz'\n",
    "    y_f=data_root+'simulated_chr20/label/dev_10gen.result.npz'\n",
    "    S_f=np.load(x_f)['S']\n",
    "    X_dev=np.load(x_f)['G'][[np.where(S_f==(i))[0][0] for i in s],:nv,:na]\n",
    "    S_f=np.load(y_f)['S']\n",
    "    Y_dev=to_categorical(np.load(y_f)['L'][[np.where(S_f==(i))[0][0] for i in s],:nv], dtype='bool')[:,:,1:]\n",
    "    print([X_dev.shape, Y_dev.shape])"
   ]
  },
  {
   "cell_type": "code",
   "execution_count": 9,
   "metadata": {
    "scrolled": false
   },
   "outputs": [
    {
     "name": "stdout",
     "output_type": "stream",
     "text": [
      "Epoch 1/100\n",
      "65/65 [==============================] - 265s 4s/step - loss: 1.9315 - accuracy: 0.1783 - val_loss: 1.8630 - val_accuracy: 0.2683\n",
      "Epoch 2/100\n",
      "65/65 [==============================] - 96s 1s/step - loss: 1.8815 - accuracy: 0.2702 - val_loss: 1.8630 - val_accuracy: 0.2689\n",
      "Epoch 3/100\n",
      "65/65 [==============================] - 96s 1s/step - loss: 1.8529 - accuracy: 0.3018 - val_loss: 1.7499 - val_accuracy: 0.3910\n",
      "Epoch 4/100\n",
      "65/65 [==============================] - 93s 1s/step - loss: 1.7714 - accuracy: 0.3301 - val_loss: 1.6455 - val_accuracy: 0.4043\n",
      "Epoch 5/100\n",
      "65/65 [==============================] - 94s 1s/step - loss: 1.6775 - accuracy: 0.3285 - val_loss: 1.6435 - val_accuracy: 0.3541\n",
      "Epoch 6/100\n",
      "65/65 [==============================] - 97s 1s/step - loss: 1.5960 - accuracy: 0.3602 - val_loss: 1.5115 - val_accuracy: 0.3729\n",
      "Epoch 7/100\n",
      "65/65 [==============================] - 98s 2s/step - loss: 1.5460 - accuracy: 0.3821 - val_loss: 1.5610 - val_accuracy: 0.3270\n",
      "Epoch 8/100\n",
      "65/65 [==============================] - 96s 1s/step - loss: 1.4639 - accuracy: 0.4011 - val_loss: 1.5640 - val_accuracy: 0.3429\n",
      "Epoch 9/100\n",
      "65/65 [==============================] - 96s 1s/step - loss: 1.3876 - accuracy: 0.5270 - val_loss: 1.4521 - val_accuracy: 0.5037\n",
      "Epoch 10/100\n",
      "65/65 [==============================] - 94s 1s/step - loss: 1.2831 - accuracy: 0.5827 - val_loss: 1.2440 - val_accuracy: 0.5740\n",
      "Epoch 11/100\n",
      "65/65 [==============================] - 93s 1s/step - loss: 1.2549 - accuracy: 0.5921 - val_loss: 1.2708 - val_accuracy: 0.5686\n",
      "Epoch 12/100\n",
      "65/65 [==============================] - 94s 1s/step - loss: 1.1468 - accuracy: 0.6125 - val_loss: 1.2040 - val_accuracy: 0.5751\n",
      "Epoch 13/100\n",
      "65/65 [==============================] - 93s 1s/step - loss: 1.0913 - accuracy: 0.6202 - val_loss: 1.2107 - val_accuracy: 0.5665\n",
      "Epoch 14/100\n",
      "65/65 [==============================] - 94s 1s/step - loss: 1.0376 - accuracy: 0.6253 - val_loss: 1.0991 - val_accuracy: 0.5828\n",
      "Epoch 15/100\n",
      "65/65 [==============================] - 97s 1s/step - loss: 0.9702 - accuracy: 0.6395 - val_loss: 1.0742 - val_accuracy: 0.6785\n",
      "Epoch 16/100\n",
      "65/65 [==============================] - 98s 2s/step - loss: 0.9351 - accuracy: 0.6744 - val_loss: 1.0557 - val_accuracy: 0.7003\n",
      "Epoch 17/100\n",
      "65/65 [==============================] - 95s 1s/step - loss: 0.9082 - accuracy: 0.6799 - val_loss: 0.9820 - val_accuracy: 0.7216\n",
      "Epoch 18/100\n",
      "65/65 [==============================] - 97s 1s/step - loss: 0.8559 - accuracy: 0.6963 - val_loss: 1.0041 - val_accuracy: 0.7179\n",
      "Epoch 19/100\n",
      "65/65 [==============================] - 94s 1s/step - loss: 0.8390 - accuracy: 0.6983 - val_loss: 0.9987 - val_accuracy: 0.7061\n",
      "Epoch 20/100\n",
      "65/65 [==============================] - 93s 1s/step - loss: 0.8054 - accuracy: 0.7131 - val_loss: 0.9290 - val_accuracy: 0.7276\n",
      "Epoch 21/100\n",
      "65/65 [==============================] - 89s 1s/step - loss: 0.7645 - accuracy: 0.7234 - val_loss: 0.9562 - val_accuracy: 0.6608\n",
      "Epoch 22/100\n",
      "65/65 [==============================] - 88s 1s/step - loss: 0.7575 - accuracy: 0.7304 - val_loss: 1.0667 - val_accuracy: 0.6688\n",
      "Epoch 23/100\n",
      "65/65 [==============================] - 88s 1s/step - loss: 0.7194 - accuracy: 0.7350 - val_loss: 0.9558 - val_accuracy: 0.6872\n",
      "Epoch 24/100\n",
      "65/65 [==============================] - 88s 1s/step - loss: 0.6982 - accuracy: 0.7438 - val_loss: 0.8458 - val_accuracy: 0.7337\n",
      "Epoch 25/100\n",
      "65/65 [==============================] - 87s 1s/step - loss: 0.6760 - accuracy: 0.7487 - val_loss: 0.9678 - val_accuracy: 0.6645\n",
      "Epoch 26/100\n",
      "65/65 [==============================] - 88s 1s/step - loss: 0.6414 - accuracy: 0.7596 - val_loss: 0.8593 - val_accuracy: 0.7375\n",
      "Epoch 27/100\n",
      "65/65 [==============================] - 88s 1s/step - loss: 0.6179 - accuracy: 0.7659 - val_loss: 0.7839 - val_accuracy: 0.7372\n",
      "Epoch 28/100\n",
      "65/65 [==============================] - 90s 1s/step - loss: 0.6107 - accuracy: 0.7666 - val_loss: 0.7842 - val_accuracy: 0.7502\n",
      "Epoch 29/100\n",
      "65/65 [==============================] - 92s 1s/step - loss: 0.6016 - accuracy: 0.7689 - val_loss: 0.9698 - val_accuracy: 0.7030\n",
      "Epoch 30/100\n",
      "65/65 [==============================] - 91s 1s/step - loss: 0.5630 - accuracy: 0.7845 - val_loss: 0.8565 - val_accuracy: 0.7222\n",
      "Epoch 31/100\n",
      "65/65 [==============================] - 92s 1s/step - loss: 0.5650 - accuracy: 0.7829 - val_loss: 0.8274 - val_accuracy: 0.7329\n",
      "Epoch 32/100\n",
      "65/65 [==============================] - 91s 1s/step - loss: 0.5421 - accuracy: 0.7910 - val_loss: 0.8749 - val_accuracy: 0.7198\n",
      "Epoch 33/100\n",
      "65/65 [==============================] - 90s 1s/step - loss: 0.5426 - accuracy: 0.7905 - val_loss: 0.8960 - val_accuracy: 0.7246\n",
      "Epoch 34/100\n",
      "65/65 [==============================] - 89s 1s/step - loss: 0.5102 - accuracy: 0.8016 - val_loss: 0.8384 - val_accuracy: 0.7238\n",
      "Epoch 35/100\n",
      "65/65 [==============================] - 92s 1s/step - loss: 0.4849 - accuracy: 0.8076 - val_loss: 0.7546 - val_accuracy: 0.7468\n",
      "Epoch 36/100\n",
      "65/65 [==============================] - 92s 1s/step - loss: 0.4862 - accuracy: 0.8076 - val_loss: 0.7277 - val_accuracy: 0.7491\n",
      "Epoch 37/100\n",
      "65/65 [==============================] - 90s 1s/step - loss: 0.4530 - accuracy: 0.8205 - val_loss: 0.9422 - val_accuracy: 0.7081\n",
      "Epoch 38/100\n",
      "65/65 [==============================] - 88s 1s/step - loss: 0.4674 - accuracy: 0.8148 - val_loss: 0.9947 - val_accuracy: 0.7079\n",
      "Epoch 39/100\n",
      "65/65 [==============================] - 91s 1s/step - loss: 0.4273 - accuracy: 0.8282 - val_loss: 0.8551 - val_accuracy: 0.7496\n",
      "Epoch 40/100\n",
      "65/65 [==============================] - 91s 1s/step - loss: 0.4126 - accuracy: 0.8334 - val_loss: 0.9378 - val_accuracy: 0.6982\n",
      "Epoch 41/100\n",
      "65/65 [==============================] - 91s 1s/step - loss: 0.4043 - accuracy: 0.8364 - val_loss: 0.8318 - val_accuracy: 0.7455\n",
      "Epoch 42/100\n",
      "65/65 [==============================] - 90s 1s/step - loss: 0.3770 - accuracy: 0.8446 - val_loss: 0.8569 - val_accuracy: 0.7327\n",
      "Epoch 43/100\n",
      "65/65 [==============================] - 91s 1s/step - loss: 0.3607 - accuracy: 0.8499 - val_loss: 0.9246 - val_accuracy: 0.7430\n",
      "Epoch 44/100\n",
      "65/65 [==============================] - 91s 1s/step - loss: 0.3454 - accuracy: 0.8596 - val_loss: 1.0196 - val_accuracy: 0.7339\n",
      "Epoch 45/100\n",
      "65/65 [==============================] - 91s 1s/step - loss: 0.3352 - accuracy: 0.8678 - val_loss: 0.8968 - val_accuracy: 0.7776\n",
      "Epoch 46/100\n",
      "65/65 [==============================] - 90s 1s/step - loss: 0.3400 - accuracy: 0.8722 - val_loss: 0.9069 - val_accuracy: 0.7776\n",
      "Epoch 47/100\n",
      "65/65 [==============================] - 91s 1s/step - loss: 0.3121 - accuracy: 0.8862 - val_loss: 1.0645 - val_accuracy: 0.7876\n",
      "Epoch 48/100\n",
      "65/65 [==============================] - 91s 1s/step - loss: 0.2862 - accuracy: 0.8980 - val_loss: 1.1090 - val_accuracy: 0.7686\n",
      "Epoch 49/100\n",
      "65/65 [==============================] - 92s 1s/step - loss: 0.2728 - accuracy: 0.9036 - val_loss: 0.8655 - val_accuracy: 0.8054\n",
      "Epoch 50/100\n",
      "65/65 [==============================] - 93s 1s/step - loss: 0.2627 - accuracy: 0.9066 - val_loss: 1.0038 - val_accuracy: 0.7770\n",
      "Epoch 51/100\n",
      "65/65 [==============================] - 93s 1s/step - loss: 0.2424 - accuracy: 0.9159 - val_loss: 1.0131 - val_accuracy: 0.7845\n",
      "Epoch 52/100\n",
      "65/65 [==============================] - 92s 1s/step - loss: 0.2306 - accuracy: 0.9195 - val_loss: 1.0515 - val_accuracy: 0.7598\n",
      "Epoch 53/100\n",
      "65/65 [==============================] - 91s 1s/step - loss: 0.2239 - accuracy: 0.9221 - val_loss: 0.9002 - val_accuracy: 0.7951\n",
      "Epoch 54/100\n",
      "65/65 [==============================] - 92s 1s/step - loss: 0.1965 - accuracy: 0.9318 - val_loss: 0.9780 - val_accuracy: 0.7969\n",
      "Epoch 55/100\n",
      "65/65 [==============================] - 91s 1s/step - loss: 0.1814 - accuracy: 0.9361 - val_loss: 1.3422 - val_accuracy: 0.7741\n",
      "Epoch 56/100\n",
      "65/65 [==============================] - 90s 1s/step - loss: 0.1832 - accuracy: 0.9369 - val_loss: 1.0156 - val_accuracy: 0.7869\n",
      "Epoch 57/100\n",
      "65/65 [==============================] - 92s 1s/step - loss: 0.1588 - accuracy: 0.9452 - val_loss: 0.9030 - val_accuracy: 0.8025\n",
      "Epoch 58/100\n",
      "65/65 [==============================] - 91s 1s/step - loss: 0.1519 - accuracy: 0.9473 - val_loss: 0.9523 - val_accuracy: 0.7836\n"
     ]
    },
    {
     "name": "stdout",
     "output_type": "stream",
     "text": [
      "Epoch 59/100\n",
      "65/65 [==============================] - 92s 1s/step - loss: 0.1402 - accuracy: 0.9516 - val_loss: 1.0846 - val_accuracy: 0.7707\n",
      "Epoch 60/100\n",
      "65/65 [==============================] - 91s 1s/step - loss: 0.1273 - accuracy: 0.9570 - val_loss: 1.2873 - val_accuracy: 0.7658\n",
      "Epoch 61/100\n",
      "65/65 [==============================] - 91s 1s/step - loss: 0.1296 - accuracy: 0.9562 - val_loss: 1.1144 - val_accuracy: 0.7928\n",
      "Epoch 00061: early stopping\n"
     ]
    }
   ],
   "source": [
    "# now try it out!\n",
    "if not oce:\n",
    "    train_ix=[i for i in train_ix if Y[i,0,:].dot(np.arange(nc))!=4]\n",
    "    Y=Y[:,:,[i for i in range(nc) if i!=4]]\n",
    "    if dev:\n",
    "        Y_dev=Y_dev[:,:,[i for i in range(nc) if i!=4]]\n",
    "\n",
    "nes=[ne]        \n",
    "cws=[np.ones((nc,))]\n",
    "if wt:\n",
    "    nes.append(ne)\n",
    "    cws.append(Y.sum()/Y.sum(axis=0).sum(axis=0))\n",
    "for ne,cw in zip(nes,cws):\n",
    "    if dev:\n",
    "        es = EarlyStopping(monitor='val_loss', mode='min', verbose=1, patience=25)\n",
    "\n",
    "        # fit with generator, or not\n",
    "        if gen:\n",
    "            params={'X':X, 'Y':Y, 'dim':nv, 'batch_size':bs, 'n_classes':nc, 'n_alleles':na}\n",
    "            generator=DataGenerator(train_ix, **params)\n",
    "            history=model.fit_generator(generator=generator, epochs=ne, validation_data=(X_dev, Y_dev), \n",
    "                                        callbacks=[es], class_weight=cw)\n",
    "        else:\n",
    "            history=model.fit(X[train_ix,:nv,:na], Y[train_ix,:nv,:], batch_size=bs, epochs=ne, \n",
    "                               validation_data=(X_dev, Y_dev), callbacks=[es], class_weight=cw)\n",
    "    else:\n",
    "        history=model.fit(X[train_ix,:nv,:na], Y[train_ix,:nv,:], batch_size=bs, epochs=ne, class_weight=cw)"
   ]
  },
  {
   "cell_type": "code",
   "execution_count": 10,
   "metadata": {},
   "outputs": [],
   "source": [
    "# save\n",
    "model.save('chm20_short.h5')"
   ]
  },
  {
   "cell_type": "code",
   "execution_count": 11,
   "metadata": {},
   "outputs": [
    {
     "name": "stdout",
     "output_type": "stream",
     "text": [
      "0.7927744388580322\n"
     ]
    },
    {
     "data": {
      "image/png": "[encoded data removed]",
      "text/plain": [
       "<Figure size 648x648 with 2 Axes>"
      ]
     },
     "metadata": {
      "needs_background": "light"
     },
     "output_type": "display_data"
    }
   ],
   "source": [
    "_, dev_acc = model.evaluate(X_dev, Y_dev, verbose=0)\n",
    "\n",
    "# 1.1) plot loss during training\n",
    "import matplotlib.pyplot as plt\n",
    "%matplotlib inline\n",
    "plt.figure(1, (9,9))\n",
    "plt.subplot(211)\n",
    "plt.title('Loss during training')\n",
    "plt.plot(history.history['loss'], label='train set')\n",
    "plt.plot(history.history['val_loss'], label='dev set')\n",
    "plt.legend()\n",
    "\n",
    "# 1.2) plot accuracy during training\n",
    "plt.subplot(212)\n",
    "plt.title('Accuracy')\n",
    "plt.plot(history.history['accuracy'], label='train set')\n",
    "plt.plot(history.history['val_accuracy'], label='dev set')\n",
    "plt.legend()\n",
    "\n",
    "print(dev_acc)"
   ]
  },
  {
   "cell_type": "code",
   "execution_count": 12,
   "metadata": {},
   "outputs": [],
   "source": [
    "Y_hat_p=model.predict(X_dev)\n",
    "Y_hat=np.argmax(Y_hat_p, axis=-1)"
   ]
  },
  {
   "cell_type": "code",
   "execution_count": 13,
   "metadata": {},
   "outputs": [
    {
     "data": {
      "text/plain": [
       "(200, 65536)"
      ]
     },
     "execution_count": 13,
     "metadata": {},
     "output_type": "execute_result"
    }
   ],
   "source": [
    "Y_hat.shape"
   ]
  },
  {
   "cell_type": "code",
   "execution_count": 14,
   "metadata": {},
   "outputs": [
    {
     "data": {
      "text/plain": [
       "array([0.276411  , 0.36324168, 0.1121563 , 0.05499276, 0.01447178,\n",
       "       0.13096961, 0.04775687])"
      ]
     },
     "execution_count": 14,
     "metadata": {},
     "output_type": "execute_result"
    }
   ],
   "source": [
    "Y.sum(axis=0).sum(axis=0)/Y.sum().sum().sum()"
   ]
  },
  {
   "cell_type": "code",
   "execution_count": 15,
   "metadata": {},
   "outputs": [
    {
     "data": {
      "text/plain": [
       "array([0.26845955, 0.34897385, 0.19985161, 0.08600426, 0.01418495,\n",
       "       0.04849976, 0.03402603])"
      ]
     },
     "execution_count": 15,
     "metadata": {},
     "output_type": "execute_result"
    }
   ],
   "source": [
    "Y_dev.sum(axis=0).sum(axis=0)/Y_dev.sum().sum().sum()"
   ]
  },
  {
   "cell_type": "code",
   "execution_count": 16,
   "metadata": {},
   "outputs": [],
   "source": [
    "from sklearn.metrics import confusion_matrix\n",
    "import pandas as pd"
   ]
  },
  {
   "cell_type": "code",
   "execution_count": 17,
   "metadata": {},
   "outputs": [
    {
     "data": {
      "text/html": [
       "<div>\n",
       "<style scoped>\n",
       "    .dataframe tbody tr th:only-of-type {\n",
       "        vertical-align: middle;\n",
       "    }\n",
       "\n",
       "    .dataframe tbody tr th {\n",
       "        vertical-align: top;\n",
       "    }\n",
       "\n",
       "    .dataframe thead th {\n",
       "        text-align: right;\n",
       "    }\n",
       "</style>\n",
       "<table border=\"1\" class=\"dataframe\">\n",
       "  <thead>\n",
       "    <tr style=\"text-align: right;\">\n",
       "      <th></th>\n",
       "      <th>AFR</th>\n",
       "      <th>EAS</th>\n",
       "      <th>EUR</th>\n",
       "      <th>NAT</th>\n",
       "      <th>OCE</th>\n",
       "      <th>SAS</th>\n",
       "      <th>WAS</th>\n",
       "    </tr>\n",
       "  </thead>\n",
       "  <tbody>\n",
       "    <tr>\n",
       "      <th>AFR</th>\n",
       "      <td>0.246397</td>\n",
       "      <td>0.007175</td>\n",
       "      <td>0.000785</td>\n",
       "      <td>0.000064</td>\n",
       "      <td>0.002166</td>\n",
       "      <td>0.003985</td>\n",
       "      <td>7.888947e-03</td>\n",
       "    </tr>\n",
       "    <tr>\n",
       "      <th>EAS</th>\n",
       "      <td>0.000971</td>\n",
       "      <td>0.333937</td>\n",
       "      <td>0.000520</td>\n",
       "      <td>0.003439</td>\n",
       "      <td>0.000778</td>\n",
       "      <td>0.009114</td>\n",
       "      <td>2.157593e-04</td>\n",
       "    </tr>\n",
       "    <tr>\n",
       "      <th>EUR</th>\n",
       "      <td>0.000078</td>\n",
       "      <td>0.009259</td>\n",
       "      <td>0.109031</td>\n",
       "      <td>0.001968</td>\n",
       "      <td>0.000166</td>\n",
       "      <td>0.047808</td>\n",
       "      <td>3.154327e-02</td>\n",
       "    </tr>\n",
       "    <tr>\n",
       "      <th>NAT</th>\n",
       "      <td>0.000000</td>\n",
       "      <td>0.018423</td>\n",
       "      <td>0.000626</td>\n",
       "      <td>0.062193</td>\n",
       "      <td>0.000065</td>\n",
       "      <td>0.004697</td>\n",
       "      <td>7.629395e-07</td>\n",
       "    </tr>\n",
       "    <tr>\n",
       "      <th>OCE</th>\n",
       "      <td>0.000355</td>\n",
       "      <td>0.000751</td>\n",
       "      <td>0.000000</td>\n",
       "      <td>0.001582</td>\n",
       "      <td>0.010178</td>\n",
       "      <td>0.000729</td>\n",
       "      <td>5.918121e-04</td>\n",
       "    </tr>\n",
       "    <tr>\n",
       "      <th>SAS</th>\n",
       "      <td>0.001254</td>\n",
       "      <td>0.013494</td>\n",
       "      <td>0.005849</td>\n",
       "      <td>0.001090</td>\n",
       "      <td>0.000009</td>\n",
       "      <td>0.022344</td>\n",
       "      <td>4.460220e-03</td>\n",
       "    </tr>\n",
       "    <tr>\n",
       "      <th>WAS</th>\n",
       "      <td>0.000648</td>\n",
       "      <td>0.000685</td>\n",
       "      <td>0.014696</td>\n",
       "      <td>0.000128</td>\n",
       "      <td>0.000139</td>\n",
       "      <td>0.009037</td>\n",
       "      <td>8.694687e-03</td>\n",
       "    </tr>\n",
       "  </tbody>\n",
       "</table>\n",
       "</div>"
      ],
      "text/plain": [
       "          AFR       EAS       EUR       NAT       OCE       SAS           WAS\n",
       "AFR  0.246397  0.007175  0.000785  0.000064  0.002166  0.003985  7.888947e-03\n",
       "EAS  0.000971  0.333937  0.000520  0.003439  0.000778  0.009114  2.157593e-04\n",
       "EUR  0.000078  0.009259  0.109031  0.001968  0.000166  0.047808  3.154327e-02\n",
       "NAT  0.000000  0.018423  0.000626  0.062193  0.000065  0.004697  7.629395e-07\n",
       "OCE  0.000355  0.000751  0.000000  0.001582  0.010178  0.000729  5.918121e-04\n",
       "SAS  0.001254  0.013494  0.005849  0.001090  0.000009  0.022344  4.460220e-03\n",
       "WAS  0.000648  0.000685  0.014696  0.000128  0.000139  0.009037  8.694687e-03"
      ]
     },
     "execution_count": 17,
     "metadata": {},
     "output_type": "execute_result"
    }
   ],
   "source": [
    "anc=['AFR','EAS','EUR','NAT','OCE','SAS','WAS']\n",
    "if not oce:\n",
    "    anc.remove('OCE')\n",
    "pd.DataFrame(confusion_matrix(Y_dev.dot(np.arange(nc-int(not oce))).flatten(), Y_hat.flatten())/(Y_hat.shape[0]*nv), \n",
    "             columns=anc, index=anc)"
   ]
  },
  {
   "cell_type": "code",
   "execution_count": 18,
   "metadata": {},
   "outputs": [
    {
     "name": "stdout",
     "output_type": "stream",
     "text": [
      "(0, [40296, 12073, 0, 0, 323, 0, 12844], [43355, 12094, 0, 0, 0, 0, 10087])\n",
      "(1, [0, 36766, 0, 19933, 0, 8837, 0], [0, 17771, 0, 47765, 0, 0, 0])\n",
      "(2, [0, 36766, 0, 19933, 0, 8837, 0], [0, 17771, 0, 47765, 0, 0, 0])\n",
      "(3, [0, 65360, 0, 176, 0, 0, 0], [0, 65536, 0, 0, 0, 0, 0])\n",
      "(4, [0, 65536, 0, 0, 0, 0, 0], [0, 65536, 0, 0, 0, 0, 0])\n",
      "(5, [0, 65536, 0, 0, 0, 0, 0], [0, 62065, 3471, 0, 0, 0, 0])\n",
      "(6, [0, 18873, 30411, 1303, 0, 6605, 8344], [0, 17779, 47757, 0, 0, 0, 0])\n",
      "(7, [13224, 52312, 0, 0, 0, 0, 0], [16451, 45841, 0, 3244, 0, 0, 0])\n",
      "(8, [13224, 52312, 0, 0, 0, 0, 0], [16451, 45841, 0, 3244, 0, 0, 0])\n",
      "(9, [0, 64620, 0, 0, 0, 916, 0], [0, 65536, 0, 0, 0, 0, 0])\n",
      "(10, [0, 64620, 0, 0, 0, 916, 0], [2500, 63036, 0, 0, 0, 0, 0])\n",
      "(11, [0, 62441, 1, 1492, 0, 1602, 0], [0, 65536, 0, 0, 0, 0, 0])\n",
      "(12, [64387, 0, 0, 0, 0, 0, 1149], [65536, 0, 0, 0, 0, 0, 0])\n",
      "(13, [0, 17608, 21419, 1316, 0, 25193, 0], [0, 0, 25196, 0, 0, 40340, 0])\n",
      "(14, [0, 17608, 21419, 1316, 0, 25193, 0], [0, 0, 25196, 0, 0, 40340, 0])\n",
      "(15, [8433, 55228, 0, 0, 0, 0, 1875], [11006, 54530, 0, 0, 0, 0, 0])\n",
      "(16, [8433, 55228, 0, 0, 0, 0, 1875], [11006, 54530, 0, 0, 0, 0, 0])\n",
      "(17, [34078, 31458, 0, 0, 0, 0, 0], [36744, 28792, 0, 0, 0, 0, 0])\n",
      "(18, [34078, 31458, 0, 0, 0, 0, 0], [36744, 28792, 0, 0, 0, 0, 0])\n",
      "(19, [8105, 0, 31965, 0, 0, 7294, 18172], [9963, 0, 55573, 0, 0, 0, 0])\n",
      "(20, [0, 65481, 0, 55, 0, 0, 0], [3100, 62436, 0, 0, 0, 0, 0])\n",
      "(21, [0, 65107, 0, 0, 0, 429, 0], [0, 65536, 0, 0, 0, 0, 0])\n",
      "(22, [0, 65107, 0, 0, 0, 429, 0], [0, 65536, 0, 0, 0, 0, 0])\n",
      "(23, [3142, 15447, 9303, 0, 0, 16765, 20879], [0, 0, 0, 0, 0, 45986, 19550])\n",
      "(24, [35577, 21098, 162, 3636, 9, 3041, 2013], [38817, 22874, 3845, 0, 0, 0, 0])\n",
      "(25, [3236, 57679, 2, 0, 597, 3626, 396], [4813, 60723, 0, 0, 0, 0, 0])\n",
      "(26, [0, 65536, 0, 0, 0, 0, 0], [0, 65235, 301, 0, 0, 0, 0])\n",
      "(27, [0, 34127, 6580, 0, 0, 16208, 8621], [5462, 33787, 22841, 0, 0, 0, 3446])\n",
      "(28, [0, 34127, 6580, 0, 0, 16208, 8621], [5462, 33787, 22841, 0, 0, 0, 3446])\n",
      "(29, [28164, 31486, 0, 2415, 556, 2915, 0], [32930, 32606, 0, 0, 0, 0, 0])\n",
      "(30, [28164, 31486, 0, 2415, 556, 2915, 0], [32930, 32606, 0, 0, 0, 0, 0])\n",
      "(31, [0, 703, 48103, 0, 0, 15145, 1585], [0, 343, 60386, 0, 0, 4807, 0])\n",
      "(32, [0, 46687, 7740, 411, 0, 800, 9898], [0, 45655, 17547, 0, 0, 0, 2334])\n",
      "(33, [33999, 26522, 17, 3497, 322, 739, 440], [37242, 24449, 3845, 0, 0, 0, 0])\n",
      "(34, [30518, 26193, 17, 3497, 320, 4551, 440], [35698, 24449, 3845, 0, 0, 1544, 0])\n",
      "(35, [0, 60057, 0, 0, 0, 5479, 0], [0, 33118, 1953, 0, 0, 30465, 0])\n",
      "(36, [0, 60057, 0, 0, 0, 5479, 0], [0, 33118, 1953, 0, 0, 30465, 0])\n",
      "(37, [2240, 32542, 8258, 2415, 219, 18537, 1325], [9722, 32606, 1743, 0, 0, 1687, 19778])\n",
      "(38, [3285, 36535, 5837, 0, 0, 14123, 5756], [4713, 34582, 26241, 0, 0, 0, 0])\n",
      "(39, [9595, 16573, 17445, 0, 0, 8482, 13441], [12906, 17766, 0, 0, 0, 0, 34864])\n",
      "(40, [20891, 0, 20083, 0, 0, 6266, 18296], [21078, 0, 0, 0, 0, 4091, 40367])\n",
      "(41, [65536, 0, 0, 0, 0, 0, 0], [65536, 0, 0, 0, 0, 0, 0])\n",
      "(42, [65536, 0, 0, 0, 0, 0, 0], [65536, 0, 0, 0, 0, 0, 0])\n",
      "(43, [0, 65360, 0, 176, 0, 0, 0], [0, 65536, 0, 0, 0, 0, 0])\n",
      "(44, [0, 65360, 0, 176, 0, 0, 0], [0, 65536, 0, 0, 0, 0, 0])\n",
      "(45, [65536, 0, 0, 0, 0, 0, 0], [65536, 0, 0, 0, 0, 0, 0])\n",
      "(46, [54696, 8, 5883, 0, 0, 1328, 3621], [54269, 749, 0, 0, 0, 0, 10518])\n",
      "(47, [34297, 4219, 0, 3663, 17024, 6333, 0], [37242, 5561, 0, 0, 22733, 0, 0])\n",
      "(48, [1075, 38573, 0, 3181, 19021, 1072, 2614], [0, 36913, 0, 0, 28623, 0, 0])\n",
      "(49, [0, 33, 0, 65501, 0, 2, 0], [0, 0, 2116, 63420, 0, 0, 0])\n",
      "(50, [0, 33, 0, 65501, 0, 2, 0], [0, 0, 2116, 63420, 0, 0, 0])\n",
      "(51, [0, 59666, 0, 0, 0, 5870, 0], [0, 65536, 0, 0, 0, 0, 0])\n",
      "(52, [0, 4658, 0, 60878, 0, 0, 0], [0, 0, 0, 63849, 1687, 0, 0])\n",
      "(53, [0, 62407, 1, 1526, 0, 1602, 0], [0, 65536, 0, 0, 0, 0, 0])\n",
      "(54, [0, 63933, 1, 0, 0, 1602, 0], [0, 65536, 0, 0, 0, 0, 0])\n",
      "(55, [0, 63933, 1, 0, 0, 1602, 0], [0, 65536, 0, 0, 0, 0, 0])\n",
      "(56, [19534, 38764, 1, 834, 123, 5875, 405], [20142, 42288, 3106, 0, 0, 0, 0])\n",
      "(57, [0, 59326, 257, 0, 0, 3204, 2749], [0, 57929, 7607, 0, 0, 0, 0])\n",
      "(58, [0, 59326, 257, 0, 0, 3204, 2749], [0, 57929, 7607, 0, 0, 0, 0])\n",
      "(59, [56103, 6265, 329, 148, 1669, 27, 995], [59425, 0, 0, 6111, 0, 0, 0])\n",
      "(60, [0, 22458, 992, 29232, 0, 12854, 0], [0, 0, 0, 65536, 0, 0, 0])\n",
      "(61, [8433, 55228, 0, 0, 0, 0, 1875], [11006, 54530, 0, 0, 0, 0, 0])\n",
      "(62, [16404, 47856, 0, 0, 1276, 0, 0], [17688, 47848, 0, 0, 0, 0, 0])\n",
      "(63, [19415, 38529, 0, 0, 566, 7026, 0], [21826, 43710, 0, 0, 0, 0, 0])\n",
      "(64, [45526, 0, 6249, 0, 0, 0, 13761], [47863, 0, 0, 0, 0, 0, 17673])\n",
      "(65, [0, 65536, 0, 0, 0, 0, 0], [0, 65536, 0, 0, 0, 0, 0])\n",
      "(66, [0, 65536, 0, 0, 0, 0, 0], [0, 65536, 0, 0, 0, 0, 0])\n",
      "(67, [38507, 17830, 4, 0, 890, 5281, 3024], [41938, 18632, 0, 0, 0, 4966, 0])\n",
      "(68, [0, 64631, 0, 697, 0, 208, 0], [0, 65536, 0, 0, 0, 0, 0])\n",
      "(69, [0, 65224, 51, 0, 0, 261, 0], [0, 65536, 0, 0, 0, 0, 0])\n",
      "(70, [65536, 0, 0, 0, 0, 0, 0], [64099, 1437, 0, 0, 0, 0, 0])\n",
      "(71, [65536, 0, 0, 0, 0, 0, 0], [64099, 1283, 0, 0, 154, 0, 0])\n",
      "(72, [65536, 0, 0, 0, 0, 0, 0], [64099, 1283, 0, 0, 154, 0, 0])\n",
      "(73, [0, 63933, 1, 0, 0, 1602, 0], [0, 65536, 0, 0, 0, 0, 0])\n",
      "(74, [0, 63933, 1, 0, 0, 1602, 0], [0, 65536, 0, 0, 0, 0, 0])\n",
      "(75, [65536, 0, 0, 0, 0, 0, 0], [65536, 0, 0, 0, 0, 0, 0])\n",
      "(76, [65536, 0, 0, 0, 0, 0, 0], [65536, 0, 0, 0, 0, 0, 0])\n",
      "(77, [0, 65536, 0, 0, 0, 0, 0], [0, 65536, 0, 0, 0, 0, 0])\n",
      "(78, [0, 21459, 7235, 32085, 0, 4488, 269], [0, 20277, 11455, 33804, 0, 0, 0])\n",
      "(79, [65536, 0, 0, 0, 0, 0, 0], [65536, 0, 0, 0, 0, 0, 0])\n",
      "(80, [65536, 0, 0, 0, 0, 0, 0], [65536, 0, 0, 0, 0, 0, 0])\n",
      "(81, [24041, 0, 32211, 0, 0, 0, 9284], [27862, 0, 30919, 0, 0, 0, 6755])\n",
      "(82, [17845, 0, 21788, 0, 0, 10908, 14995], [20874, 0, 44662, 0, 0, 0, 0])\n",
      "(83, [0, 46687, 7740, 411, 0, 800, 9898], [0, 45655, 17547, 0, 0, 0, 2334])\n",
      "(84, [0, 11984, 36935, 180, 0, 10375, 6062], [0, 12669, 50431, 2436, 0, 0, 0])\n",
      "(85, [58884, 0, 1300, 0, 0, 1, 5351], [61445, 0, 0, 0, 0, 4091, 0])\n",
      "(86, [0, 19343, 7814, 33045, 533, 4536, 265], [0, 20802, 10930, 33804, 0, 0, 0])\n",
      "(87, [0, 33, 0, 65501, 0, 2, 0], [0, 0, 2116, 63420, 0, 0, 0])\n",
      "(88, [0, 33, 0, 65501, 0, 2, 0], [0, 0, 2116, 63420, 0, 0, 0])\n",
      "(89, [2849, 0, 29411, 0, 0, 12551, 20725], [4110, 0, 61426, 0, 0, 0, 0])\n",
      "(90, [0, 0, 32520, 0, 0, 18274, 14742], [0, 0, 65536, 0, 0, 0, 0])\n",
      "(91, [0, 9555, 32919, 0, 0, 13375, 9687], [0, 7322, 58214, 0, 0, 0, 0])\n",
      "(92, [0, 9555, 32919, 0, 0, 13375, 9687], [0, 7322, 58214, 0, 0, 0, 0])\n",
      "(93, [0, 65481, 0, 55, 0, 0, 0], [0, 65536, 0, 0, 0, 0, 0])\n",
      "(94, [0, 65481, 0, 55, 0, 0, 0], [0, 65536, 0, 0, 0, 0, 0])\n",
      "(95, [57462, 6265, 0, 148, 1661, 0, 0], [59425, 0, 0, 6111, 0, 0, 0])\n",
      "(96, [9452, 10445, 0, 31683, 1513, 10746, 1697], [12069, 11536, 8127, 33804, 0, 0, 0])\n",
      "(97, [35948, 29588, 0, 0, 0, 0, 0], [36426, 29110, 0, 0, 0, 0, 0])\n",
      "(98, [35948, 29588, 0, 0, 0, 0, 0], [36426, 29110, 0, 0, 0, 0, 0])\n",
      "(99, [0, 0, 32520, 0, 0, 18274, 14742], [0, 0, 65536, 0, 0, 0, 0])\n",
      "(100, [0, 0, 32520, 0, 0, 18274, 14742], [0, 0, 65536, 0, 0, 0, 0])\n",
      "(101, [27732, 0, 28123, 0, 0, 8340, 1341], [28235, 0, 37301, 0, 0, 0, 0])\n",
      "(102, [27732, 0, 28123, 0, 0, 8340, 1341], [28235, 0, 37301, 0, 0, 0, 0])\n",
      "(103, [0, 62349, 0, 0, 0, 3187, 0], [982, 63386, 0, 0, 0, 1168, 0])\n",
      "(104, [0, 0, 49881, 0, 0, 14070, 1585], [0, 0, 63190, 0, 0, 2346, 0])\n",
      "(105, [47879, 1326, 2813, 0, 0, 8551, 4967], [47908, 0, 17628, 0, 0, 0, 0])\n",
      "(106, [0, 31553, 15498, 0, 0, 11276, 7209], [0, 23027, 38978, 0, 0, 3531, 0])\n",
      "(107, [0, 63933, 1, 0, 0, 1602, 0], [0, 65536, 0, 0, 0, 0, 0])\n",
      "(108, [17364, 35500, 0, 9, 1342, 8953, 2368], [28303, 33787, 0, 0, 0, 0, 3446])\n",
      "(109, [36682, 5420, 11740, 1926, 0, 8894, 874], [40446, 0, 0, 4744, 0, 0, 20346])\n",
      "(110, [36682, 5420, 11740, 1926, 0, 8894, 874], [40446, 0, 0, 4744, 0, 0, 20346])\n",
      "(111, [34078, 31458, 0, 0, 0, 0, 0], [36744, 28792, 0, 0, 0, 0, 0])\n",
      "(112, [34078, 31458, 0, 0, 0, 0, 0], [36744, 28792, 0, 0, 0, 0, 0])\n",
      "(113, [34339, 9142, 10936, 0, 586, 322, 10211], [41751, 6080, 13664, 0, 0, 0, 4041])\n",
      "(114, [34339, 9142, 10936, 0, 586, 322, 10211], [41751, 6080, 13664, 0, 0, 0, 4041])\n",
      "(115, [0, 65224, 51, 0, 0, 261, 0], [0, 60452, 0, 0, 0, 5084, 0])\n",
      "(116, [58419, 1445, 0, 0, 0, 4624, 1048], [58408, 0, 3676, 0, 0, 3452, 0])\n",
      "(117, [0, 0, 32520, 0, 0, 18274, 14742], [0, 0, 65536, 0, 0, 0, 0])\n",
      "(118, [0, 4649, 6849, 38922, 0, 9605, 5511], [0, 0, 23027, 40822, 1687, 0, 0])\n",
      "(119, [0, 40199, 159, 0, 0, 24515, 663], [3474, 31488, 12157, 0, 0, 18417, 0])\n",
      "(120, [0, 40199, 159, 0, 0, 24515, 663], [3474, 31488, 12157, 0, 0, 18417, 0])\n"
     ]
    },
    {
     "name": "stdout",
     "output_type": "stream",
     "text": [
      "(121, [454, 16388, 26524, 358, 1087, 9939, 10786], [2356, 8776, 54404, 0, 0, 0, 0])\n",
      "(122, [0, 50793, 3141, 0, 0, 10081, 1521], [0, 53333, 12203, 0, 0, 0, 0])\n",
      "(123, [58293, 2621, 0, 0, 0, 4378, 244], [58408, 0, 7128, 0, 0, 0, 0])\n",
      "(124, [64387, 0, 0, 0, 0, 0, 1149], [65536, 0, 0, 0, 0, 0, 0])\n",
      "(125, [62636, 0, 0, 0, 0, 0, 2900], [65536, 0, 0, 0, 0, 0, 0])\n",
      "(126, [57080, 0, 1497, 0, 418, 1366, 5175], [56010, 0, 0, 0, 0, 9526, 0])\n",
      "(127, [1075, 38371, 0, 3383, 19021, 1072, 2614], [0, 31260, 0, 5653, 28623, 0, 0])\n",
      "(128, [1141, 38369, 0, 3315, 19110, 1072, 2529], [0, 36913, 0, 0, 28623, 0, 0])\n",
      "(129, [0, 15005, 23484, 1285, 0, 25762, 0], [0, 2407, 13311, 0, 0, 49818, 0])\n",
      "(130, [0, 42770, 5197, 3133, 0, 10373, 4063], [0, 44075, 21461, 0, 0, 0, 0])\n",
      "(131, [0, 24751, 23307, 0, 0, 15972, 1506], [0, 24794, 40742, 0, 0, 0, 0])\n",
      "(132, [0, 64620, 0, 0, 0, 916, 0], [0, 63860, 1676, 0, 0, 0, 0])\n",
      "(133, [59, 32150, 7374, 8725, 13423, 3718, 87], [0, 28241, 11455, 12935, 12905, 0, 0])\n",
      "(134, [59, 32150, 7374, 8725, 13423, 3718, 87], [0, 28241, 11455, 12935, 12905, 0, 0])\n",
      "(135, [46209, 16882, 0, 1418, 675, 352, 0], [47762, 17774, 0, 0, 0, 0, 0])\n",
      "(136, [28164, 31486, 0, 2415, 556, 2915, 0], [32930, 32606, 0, 0, 0, 0, 0])\n",
      "(137, [24640, 36665, 2, 0, 769, 3460, 0], [26032, 39504, 0, 0, 0, 0, 0])\n",
      "(138, [34352, 25681, 162, 3636, 319, 59, 1327], [37242, 24449, 3845, 0, 0, 0, 0])\n",
      "(139, [3142, 17940, 6969, 1021, 0, 30643, 5821], [0, 0, 0, 0, 0, 65536, 0])\n",
      "(140, [9473, 7909, 20322, 10, 15, 22395, 5412], [11006, 6566, 47964, 0, 0, 0, 0])\n",
      "(141, [17853, 28834, 11487, 411, 0, 804, 6147], [17742, 24938, 9780, 0, 0, 8934, 4142])\n",
      "(142, [0, 27033, 18016, 411, 0, 3381, 16695], [0, 24938, 9780, 0, 0, 8934, 21884])\n",
      "(143, [19332, 18196, 802, 24481, 1200, 1525, 0], [20429, 0, 0, 45107, 0, 0, 0])\n",
      "(144, [19332, 18196, 802, 24481, 1200, 1525, 0], [20429, 0, 0, 45107, 0, 0, 0])\n",
      "(145, [19332, 18196, 802, 24481, 1200, 1525, 0], [20429, 0, 0, 45107, 0, 0, 0])\n",
      "(146, [65536, 0, 0, 0, 0, 0, 0], [65536, 0, 0, 0, 0, 0, 0])\n",
      "(147, [54, 2425, 33880, 0, 0, 21249, 7928], [0, 0, 36773, 0, 0, 24722, 4041])\n",
      "(148, [54, 2425, 33880, 0, 0, 21249, 7928], [0, 0, 36773, 0, 0, 24722, 4041])\n",
      "(149, [34368, 11123, 0, 9217, 0, 10828, 0], [32691, 0, 0, 11077, 0, 21768, 0])\n",
      "(150, [34368, 11123, 0, 9217, 0, 10828, 0], [32691, 0, 0, 11077, 0, 21768, 0])\n",
      "(151, [0, 31553, 15498, 0, 0, 11276, 7209], [2595, 20432, 38978, 0, 0, 3531, 0])\n",
      "(152, [0, 31553, 15498, 0, 0, 11276, 7209], [2595, 20432, 38978, 0, 0, 3531, 0])\n",
      "(153, [42463, 0, 3680, 0, 0, 10378, 9015], [52451, 0, 13085, 0, 0, 0, 0])\n",
      "(154, [42463, 0, 3680, 0, 0, 10378, 9015], [52451, 0, 13085, 0, 0, 0, 0])\n",
      "(155, [472, 16368, 26524, 358, 1089, 9939, 10786], [2046, 9086, 54404, 0, 0, 0, 0])\n",
      "(156, [58884, 0, 1300, 0, 0, 1, 5351], [61445, 0, 0, 0, 0, 4091, 0])\n",
      "(157, [29852, 7316, 10534, 236, 1636, 11888, 4074], [32211, 11536, 21789, 0, 0, 0, 0])\n",
      "(158, [29852, 7316, 10534, 236, 1636, 11888, 4074], [32211, 11536, 21789, 0, 0, 0, 0])\n",
      "(159, [38662, 17830, 4380, 0, 776, 34, 3854], [41938, 18632, 0, 2412, 0, 2554, 0])\n",
      "(160, [38507, 17830, 4, 0, 890, 5281, 3024], [41938, 18632, 0, 0, 0, 4966, 0])\n",
      "(161, [316, 30295, 5630, 3695, 16949, 8601, 50], [0, 34029, 0, 0, 23072, 0, 8435])\n",
      "(162, [316, 30295, 5630, 3695, 16949, 8601, 50], [0, 34029, 0, 0, 23072, 0, 8435])\n",
      "(163, [3142, 467, 31319, 0, 0, 24787, 5821], [0, 0, 44218, 0, 0, 21318, 0])\n",
      "(164, [0, 7563, 44827, 0, 0, 10606, 2540], [0, 8579, 56957, 0, 0, 0, 0])\n",
      "(165, [11927, 12524, 22184, 4961, 1842, 9974, 2124], [13805, 20774, 0, 0, 0, 0, 30957])\n",
      "(166, [31254, 0, 22184, 0, 0, 9974, 2124], [31352, 3227, 0, 0, 0, 0, 30957])\n",
      "(167, [0, 12669, 29156, 180, 0, 8724, 14807], [0, 5995, 55471, 2436, 0, 1634, 0])\n",
      "(168, [0, 12669, 29156, 180, 0, 8724, 14807], [0, 5995, 55471, 2436, 0, 1634, 0])\n",
      "(169, [0, 31301, 10589, 1815, 0, 16038, 5793], [0, 30919, 26241, 0, 0, 0, 8376])\n",
      "(170, [47968, 0, 66, 422, 0, 8883, 8197], [47898, 0, 8950, 0, 0, 8688, 0])\n",
      "(171, [0, 4649, 0, 58566, 121, 2200, 0], [0, 4317, 0, 58006, 1687, 1526, 0])\n",
      "(172, [0, 209, 11735, 19038, 0, 29201, 5353], [0, 4317, 32574, 17184, 0, 11461, 0])\n",
      "(173, [7317, 52993, 2, 499, 1265, 3460, 0], [5687, 56645, 0, 0, 0, 0, 3204])\n",
      "(174, [0, 22458, 992, 29232, 0, 12854, 0], [0, 0, 0, 65536, 0, 0, 0])\n",
      "(175, [0, 53941, 0, 11595, 0, 0, 0], [0, 48565, 0, 16971, 0, 0, 0])\n",
      "(176, [0, 53669, 119, 3247, 0, 8245, 256], [0, 48565, 0, 8548, 0, 8423, 0])\n",
      "(177, [0, 0, 36562, 0, 0, 18046, 10928], [0, 0, 65536, 0, 0, 0, 0])\n",
      "(178, [11961, 7084, 4088, 0, 0, 39090, 3313], [13488, 0, 33631, 0, 0, 18417, 0])\n",
      "(179, [0, 19494, 26164, 0, 0, 8533, 11345], [0, 18634, 46902, 0, 0, 0, 0])\n",
      "(180, [0, 49081, 257, 3793, 0, 9656, 2749], [0, 46876, 18660, 0, 0, 0, 0])\n",
      "(181, [0, 1997, 50140, 0, 0, 11415, 1984], [0, 2101, 63184, 0, 0, 251, 0])\n",
      "(182, [0, 0, 33356, 0, 0, 10908, 21272], [0, 0, 65536, 0, 0, 0, 0])\n",
      "(183, [57080, 0, 1497, 0, 418, 1366, 5175], [56010, 0, 0, 0, 0, 9526, 0])\n",
      "(184, [0, 23892, 7268, 24354, 0, 10022, 0], [0, 0, 0, 56521, 0, 981, 8034])\n",
      "(185, [8302, 52356, 0, 0, 201, 4378, 299], [9505, 48903, 7128, 0, 0, 0, 0])\n",
      "(186, [25781, 37322, 0, 17, 1711, 409, 296], [32291, 33245, 0, 0, 0, 0, 0])\n",
      "(187, [0, 1132, 37320, 414, 0, 21801, 4869], [0, 4974, 22818, 1111, 0, 0, 36633])\n",
      "(188, [0, 1132, 37320, 414, 0, 21801, 4869], [0, 4974, 22818, 1111, 0, 0, 36633])\n",
      "(189, [1311, 4906, 22409, 24514, 991, 3442, 7963], [6533, 0, 31732, 27271, 0, 0, 0])\n",
      "(190, [1311, 4906, 22409, 24514, 991, 3442, 7963], [6533, 0, 31732, 27271, 0, 0, 0])\n",
      "(191, [2797, 51714, 1086, 2553, 987, 1727, 4672], [8626, 53699, 0, 0, 0, 3211, 0])\n",
      "(192, [18303, 0, 32211, 0, 4219, 0, 10803], [19384, 8478, 30919, 0, 0, 0, 6755])\n",
      "(193, [0, 42770, 5197, 3133, 0, 10373, 4063], [2204, 44075, 19257, 0, 0, 0, 0])\n",
      "(194, [36219, 12583, 603, 4919, 1824, 4230, 5158], [38102, 0, 0, 0, 0, 27434, 0])\n",
      "(195, [0, 0, 53804, 0, 0, 10145, 1587], [2353, 0, 60386, 0, 0, 2797, 0])\n",
      "(196, [0, 0, 53804, 0, 0, 10145, 1587], [2353, 0, 60386, 0, 0, 2797, 0])\n",
      "(197, [34628, 28179, 489, 0, 0, 0, 2240], [44251, 21285, 0, 0, 0, 0, 0])\n",
      "(198, [45936, 983, 711, 90, 12, 16887, 917], [47762, 17774, 0, 0, 0, 0, 0])\n",
      "(199, [40296, 12073, 0, 0, 323, 0, 12844], [43355, 12094, 0, 0, 0, 0, 10087])\n"
     ]
    }
   ],
   "source": [
    "for i in range(Y_hat.shape[0]):\n",
    "    print((i, [np.count_nonzero(Y_hat[i,:]==j) for j in range(Y_hat_p.shape[-1])], \n",
    "           [np.count_nonzero(Y_dev[i,:,:].argmax(axis=-1)==j) for j in range(Y_hat_p.shape[-1])]))"
   ]
  },
  {
   "cell_type": "code",
   "execution_count": 19,
   "metadata": {},
   "outputs": [],
   "source": [
    "iix=27"
   ]
  },
  {
   "cell_type": "code",
   "execution_count": 20,
   "metadata": {},
   "outputs": [
    {
     "data": {
      "text/plain": [
       "<matplotlib.image.AxesImage at 0x7fa850a7bf98>"
      ]
     },
     "execution_count": 20,
     "metadata": {},
     "output_type": "execute_result"
    },
    {
     "data": {
      "image/png": "[encoded data removed]",
      "text/plain": [
       "<Figure size 864x216 with 2 Axes>"
      ]
     },
     "metadata": {
      "needs_background": "light"
     },
     "output_type": "display_data"
    }
   ],
   "source": [
    "plt.figure(figsize=(12, 3))\n",
    "Y_dev_lab = np.argmax(Y_dev, axis=-1)\n",
    "plt.subplot(211)\n",
    "plt.title('Dev set ground truths')\n",
    "plt.imshow(Y_dev_lab[iix:iix+1,:].astype(int), aspect='auto', cmap='jet')\n",
    "\n",
    "plt.subplot(212)\n",
    "plt.title('Corresponding dev set predictions')\n",
    "plt.imshow(Y_hat[iix:iix+1,:].astype(int), aspect='auto', cmap='jet')"
   ]
  },
  {
   "cell_type": "code",
   "execution_count": 21,
   "metadata": {},
   "outputs": [
    {
     "data": {
      "text/plain": [
       "(array([], dtype=int64),)"
      ]
     },
     "execution_count": 21,
     "metadata": {},
     "output_type": "execute_result"
    }
   ],
   "source": [
    "np.where(np.argmax(Y_hat_p[iix,:,:], axis=-1)==3)"
   ]
  },
  {
   "cell_type": "code",
   "execution_count": 22,
   "metadata": {},
   "outputs": [
    {
     "data": {
      "text/plain": [
       "<matplotlib.image.AxesImage at 0x7fa8509ca198>"
      ]
     },
     "execution_count": 22,
     "metadata": {},
     "output_type": "execute_result"
    },
    {
     "data": {
      "image/png": "[encoded data removed]",
      "text/plain": [
       "<Figure size 864x216 with 2 Axes>"
      ]
     },
     "metadata": {
      "needs_background": "light"
     },
     "output_type": "display_data"
    }
   ],
   "source": [
    "plt.figure(figsize=(12, 3))\n",
    "Y_dev_lab = np.argmax(Y_dev, axis=-1)\n",
    "plt.subplot(211)\n",
    "plt.title('Dev set ground truths')\n",
    "plt.imshow(Y_dev_lab[iix:iix+1,29000:29500].astype(int), aspect='auto')#, cmap='jet')\n",
    "\n",
    "plt.subplot(212)\n",
    "plt.title('Corresponding dev set predictions')\n",
    "plt.imshow(Y_hat[iix:iix+1,29000:29500].astype(int), aspect='auto')#, cmap='jet')"
   ]
  },
  {
   "cell_type": "code",
   "execution_count": 23,
   "metadata": {
    "scrolled": false
   },
   "outputs": [
    {
     "data": {
      "text/plain": [
       "array([], shape=(1, 0, 7), dtype=float32)"
      ]
     },
     "execution_count": 23,
     "metadata": {},
     "output_type": "execute_result"
    }
   ],
   "source": [
    "Y_hat_p[iix,np.where(np.argmax(Y_hat_p[iix,:,:], axis=-1)==3),:]"
   ]
  },
  {
   "cell_type": "code",
   "execution_count": 24,
   "metadata": {},
   "outputs": [],
   "source": [
    "# seems like a crf-smoother (even a post-hoc one) could really help"
   ]
  }
 ],
 "metadata": {
  "kernelspec": {
   "display_name": "Python 3",
   "language": "python",
   "name": "python3"
  },
  "language_info": {
   "codemirror_mode": {
    "name": "ipython",
    "version": 3
   },
   "file_extension": ".py",
   "mimetype": "text/x-python",
   "name": "python",
   "nbconvert_exporter": "python",
   "pygments_lexer": "ipython3",
   "version": "3.6.9"
  }
 },
 "nbformat": 4,
 "nbformat_minor": 2
}
