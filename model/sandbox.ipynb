{
 "cells": [
  {
   "cell_type": "code",
   "execution_count": 1,
   "metadata": {},
   "outputs": [
    {
     "name": "stderr",
     "output_type": "stream",
     "text": [
      "Using TensorFlow backend.\n"
     ]
    }
   ],
   "source": [
    "import numpy as np\n",
    "import tensorflow as tf\n",
    "from keras import optimizers\n",
    "from keras.utils import to_categorical\n",
    "from keras.callbacks import EarlyStopping\n",
    "from segnet import segnet\n",
    "from generator import DataGenerator"
   ]
  },
  {
   "cell_type": "code",
   "execution_count": 2,
   "metadata": {},
   "outputs": [],
   "source": [
    "# hyperparameters\n",
    "nv=int(2**16) # variants\n",
    "na=3          # alleles\n",
    "nc=4          # ancestry classes\n",
    "ne=100         # number of epochs\n",
    "gen=True      # use data generator\n",
    "hor=False      # use multi-gpu\n",
    "\n",
    "# reproducibility\n",
    "np.random.seed(23910464)"
   ]
  },
  {
   "cell_type": "code",
   "execution_count": 3,
   "metadata": {},
   "outputs": [],
   "source": [
    "# configure horovod if we're using multiple gpus\n",
    "# - note that this doesn't work within a jupyter notebook\n",
    "# - but you can use it to assign one of the two gpus to the tf instance\n",
    "# - ((probably))\n",
    "if hor: \n",
    "    import horovod.keras as hvd \n",
    "\n",
    "    # initialize horovod instance -- this currently only works on galangal\n",
    "    hvd.init()\n",
    "\n",
    "    # assign GPUs to horovod \n",
    "    gpus = tf.config.list_physical_devices('GPU')\n",
    "    for gpu in gpus:\n",
    "        tf.config.experimental.set_memory_growth(gpu, True)\n",
    "    if gpus:\n",
    "        # tf.config in tf <= 1.6\n",
    "        tf.config.experimental.set_visible_devices(gpus[hvd.local_rank()], 'GPU')\n",
    "    print(gpus)"
   ]
  },
  {
   "cell_type": "code",
   "execution_count": 4,
   "metadata": {},
   "outputs": [
    {
     "data": {
      "text/plain": [
       "[PhysicalDevice(name='/physical_device:GPU:0', device_type='GPU'),\n",
       " PhysicalDevice(name='/physical_device:GPU:1', device_type='GPU')]"
      ]
     },
     "execution_count": 4,
     "metadata": {},
     "output_type": "execute_result"
    }
   ],
   "source": [
    "# sanity check that we're on gpu\n",
    "tf.config.list_physical_devices('GPU')"
   ]
  },
  {
   "cell_type": "code",
   "execution_count": 5,
   "metadata": {
    "scrolled": false
   },
   "outputs": [
    {
     "name": "stdout",
     "output_type": "stream",
     "text": [
      "Model: \"segnet\"\n",
      "__________________________________________________________________________________________________\n",
      "Layer (type)                    Output Shape         Param #     Connected to                     \n",
      "==================================================================================================\n",
      "input_1 (InputLayer)            (None, 65536, 3)     0                                            \n",
      "__________________________________________________________________________________________________\n",
      "dropout_1 (Dropout)             (None, 65536, 3)     0           input_1[0][0]                    \n",
      "__________________________________________________________________________________________________\n",
      "conv1_down1 (Conv1D)            (None, 65536, 8)     392         dropout_1[0][0]                  \n",
      "__________________________________________________________________________________________________\n",
      "activation_1 (Activation)       (None, 65536, 8)     0           conv1_down1[0][0]                \n",
      "__________________________________________________________________________________________________\n",
      "dropout_2 (Dropout)             (None, 65536, 8)     0           activation_1[0][0]               \n",
      "__________________________________________________________________________________________________\n",
      "conv1_down2 (Conv1D)            (None, 65536, 8)     1032        dropout_2[0][0]                  \n",
      "__________________________________________________________________________________________________\n",
      "activation_2 (Activation)       (None, 65536, 8)     0           conv1_down2[0][0]                \n",
      "__________________________________________________________________________________________________\n",
      "dropout_3 (Dropout)             (None, 65536, 8)     0           activation_2[0][0]               \n",
      "__________________________________________________________________________________________________\n",
      "pool0 (MaxPooling1D)            (None, 16384, 8)     0           dropout_3[0][0]                  \n",
      "__________________________________________________________________________________________________\n",
      "conv2_down1 (Conv1D)            (None, 16384, 16)    2064        pool0[0][0]                      \n",
      "__________________________________________________________________________________________________\n",
      "activation_3 (Activation)       (None, 16384, 16)    0           conv2_down1[0][0]                \n",
      "__________________________________________________________________________________________________\n",
      "dropout_4 (Dropout)             (None, 16384, 16)    0           activation_3[0][0]               \n",
      "__________________________________________________________________________________________________\n",
      "conv2_down2 (Conv1D)            (None, 16384, 16)    4112        dropout_4[0][0]                  \n",
      "__________________________________________________________________________________________________\n",
      "activation_4 (Activation)       (None, 16384, 16)    0           conv2_down2[0][0]                \n",
      "__________________________________________________________________________________________________\n",
      "dropout_5 (Dropout)             (None, 16384, 16)    0           activation_4[0][0]               \n",
      "__________________________________________________________________________________________________\n",
      "pool1 (MaxPooling1D)            (None, 4096, 16)     0           dropout_5[0][0]                  \n",
      "__________________________________________________________________________________________________\n",
      "conv3_down1 (Conv1D)            (None, 4096, 32)     8224        pool1[0][0]                      \n",
      "__________________________________________________________________________________________________\n",
      "activation_5 (Activation)       (None, 4096, 32)     0           conv3_down1[0][0]                \n",
      "__________________________________________________________________________________________________\n",
      "dropout_6 (Dropout)             (None, 4096, 32)     0           activation_5[0][0]               \n",
      "__________________________________________________________________________________________________\n",
      "conv3_down2 (Conv1D)            (None, 4096, 32)     16416       dropout_6[0][0]                  \n",
      "__________________________________________________________________________________________________\n",
      "activation_6 (Activation)       (None, 4096, 32)     0           conv3_down2[0][0]                \n",
      "__________________________________________________________________________________________________\n",
      "dropout_7 (Dropout)             (None, 4096, 32)     0           activation_6[0][0]               \n",
      "__________________________________________________________________________________________________\n",
      "pool2 (MaxPooling1D)            (None, 1024, 32)     0           dropout_7[0][0]                  \n",
      "__________________________________________________________________________________________________\n",
      "conv4_down1 (Conv1D)            (None, 1024, 64)     32832       pool2[0][0]                      \n",
      "__________________________________________________________________________________________________\n",
      "activation_7 (Activation)       (None, 1024, 64)     0           conv4_down1[0][0]                \n",
      "__________________________________________________________________________________________________\n",
      "dropout_8 (Dropout)             (None, 1024, 64)     0           activation_7[0][0]               \n",
      "__________________________________________________________________________________________________\n",
      "conv4_down2 (Conv1D)            (None, 1024, 64)     65600       dropout_8[0][0]                  \n",
      "__________________________________________________________________________________________________\n",
      "activation_8 (Activation)       (None, 1024, 64)     0           conv4_down2[0][0]                \n",
      "__________________________________________________________________________________________________\n",
      "dropout_9 (Dropout)             (None, 1024, 64)     0           activation_8[0][0]               \n",
      "__________________________________________________________________________________________________\n",
      "pool3 (MaxPooling1D)            (None, 256, 64)      0           dropout_9[0][0]                  \n",
      "__________________________________________________________________________________________________\n",
      "conv5_down1 (Conv1D)            (None, 256, 128)     131200      pool3[0][0]                      \n",
      "__________________________________________________________________________________________________\n",
      "activation_9 (Activation)       (None, 256, 128)     0           conv5_down1[0][0]                \n",
      "__________________________________________________________________________________________________\n",
      "dropout_10 (Dropout)            (None, 256, 128)     0           activation_9[0][0]               \n",
      "__________________________________________________________________________________________________\n",
      "conv5_down2 (Conv1D)            (None, 256, 128)     262272      dropout_10[0][0]                 \n",
      "__________________________________________________________________________________________________\n",
      "activation_10 (Activation)      (None, 256, 128)     0           conv5_down2[0][0]                \n",
      "__________________________________________________________________________________________________\n",
      "dropout_11 (Dropout)            (None, 256, 128)     0           activation_10[0][0]              \n",
      "__________________________________________________________________________________________________\n",
      "pool4 (MaxPooling1D)            (None, 64, 128)      0           dropout_11[0][0]                 \n",
      "__________________________________________________________________________________________________\n",
      "concatenate_1 (Concatenate)     (None, 64, 256)      0           pool4[0][0]                      \n",
      "                                                                 pool4[0][0]                      \n",
      "__________________________________________________________________________________________________\n",
      "up4 (UpSampling1D)              (None, 256, 256)     0           concatenate_1[0][0]              \n",
      "__________________________________________________________________________________________________\n",
      "conv4_up0 (Conv1D)              (None, 256, 128)     524416      up4[0][0]                        \n",
      "__________________________________________________________________________________________________\n",
      "activation_11 (Activation)      (None, 256, 128)     0           conv4_up0[0][0]                  \n",
      "__________________________________________________________________________________________________\n",
      "dropout_12 (Dropout)            (None, 256, 128)     0           activation_11[0][0]              \n",
      "__________________________________________________________________________________________________\n",
      "conv4_up1 (Conv1D)              (None, 256, 128)     262272      dropout_12[0][0]                 \n",
      "__________________________________________________________________________________________________\n",
      "activation_12 (Activation)      (None, 256, 128)     0           conv4_up1[0][0]                  \n",
      "__________________________________________________________________________________________________\n",
      "dropout_13 (Dropout)            (None, 256, 128)     0           activation_12[0][0]              \n",
      "__________________________________________________________________________________________________\n",
      "concatenate_2 (Concatenate)     (None, 256, 192)     0           pool3[0][0]                      \n",
      "                                                                 dropout_13[0][0]                 \n",
      "__________________________________________________________________________________________________\n",
      "up3 (UpSampling1D)              (None, 1024, 192)    0           concatenate_2[0][0]              \n",
      "__________________________________________________________________________________________________\n",
      "conv3_up0 (Conv1D)              (None, 1024, 64)     196672      up3[0][0]                        \n",
      "__________________________________________________________________________________________________\n",
      "activation_13 (Activation)      (None, 1024, 64)     0           conv3_up0[0][0]                  \n",
      "__________________________________________________________________________________________________\n",
      "dropout_14 (Dropout)            (None, 1024, 64)     0           activation_13[0][0]              \n",
      "__________________________________________________________________________________________________\n",
      "conv3_up1 (Conv1D)              (None, 1024, 64)     65600       dropout_14[0][0]                 \n",
      "__________________________________________________________________________________________________\n",
      "activation_14 (Activation)      (None, 1024, 64)     0           conv3_up1[0][0]                  \n",
      "__________________________________________________________________________________________________\n",
      "dropout_15 (Dropout)            (None, 1024, 64)     0           activation_14[0][0]              \n",
      "__________________________________________________________________________________________________\n",
      "concatenate_3 (Concatenate)     (None, 1024, 96)     0           pool2[0][0]                      \n",
      "                                                                 dropout_15[0][0]                 \n",
      "__________________________________________________________________________________________________\n",
      "up2 (UpSampling1D)              (None, 4096, 96)     0           concatenate_3[0][0]              \n",
      "__________________________________________________________________________________________________\n",
      "conv2_up0 (Conv1D)              (None, 4096, 32)     49184       up2[0][0]                        \n",
      "__________________________________________________________________________________________________\n",
      "activation_15 (Activation)      (None, 4096, 32)     0           conv2_up0[0][0]                  \n",
      "__________________________________________________________________________________________________\n",
      "dropout_16 (Dropout)            (None, 4096, 32)     0           activation_15[0][0]              \n",
      "__________________________________________________________________________________________________\n",
      "conv2_up1 (Conv1D)              (None, 4096, 32)     16416       dropout_16[0][0]                 \n",
      "__________________________________________________________________________________________________\n",
      "activation_16 (Activation)      (None, 4096, 32)     0           conv2_up1[0][0]                  \n",
      "__________________________________________________________________________________________________\n",
      "dropout_17 (Dropout)            (None, 4096, 32)     0           activation_16[0][0]              \n",
      "__________________________________________________________________________________________________\n",
      "concatenate_4 (Concatenate)     (None, 4096, 48)     0           pool1[0][0]                      \n",
      "                                                                 dropout_17[0][0]                 \n",
      "__________________________________________________________________________________________________\n",
      "up1 (UpSampling1D)              (None, 16384, 48)    0           concatenate_4[0][0]              \n",
      "__________________________________________________________________________________________________\n",
      "conv1_up0 (Conv1D)              (None, 16384, 16)    12304       up1[0][0]                        \n",
      "__________________________________________________________________________________________________\n",
      "activation_17 (Activation)      (None, 16384, 16)    0           conv1_up0[0][0]                  \n",
      "__________________________________________________________________________________________________\n",
      "dropout_18 (Dropout)            (None, 16384, 16)    0           activation_17[0][0]              \n",
      "__________________________________________________________________________________________________\n",
      "conv1_up1 (Conv1D)              (None, 16384, 16)    4112        dropout_18[0][0]                 \n",
      "__________________________________________________________________________________________________\n",
      "activation_18 (Activation)      (None, 16384, 16)    0           conv1_up1[0][0]                  \n",
      "__________________________________________________________________________________________________\n",
      "dropout_19 (Dropout)            (None, 16384, 16)    0           activation_18[0][0]              \n",
      "__________________________________________________________________________________________________\n",
      "concatenate_5 (Concatenate)     (None, 16384, 24)    0           pool0[0][0]                      \n",
      "                                                                 dropout_19[0][0]                 \n",
      "__________________________________________________________________________________________________\n",
      "up0 (UpSampling1D)              (None, 65536, 24)    0           concatenate_5[0][0]              \n",
      "__________________________________________________________________________________________________\n",
      "conv0_up0 (Conv1D)              (None, 65536, 8)     3080        up0[0][0]                        \n",
      "__________________________________________________________________________________________________\n",
      "activation_19 (Activation)      (None, 65536, 8)     0           conv0_up0[0][0]                  \n",
      "__________________________________________________________________________________________________\n",
      "dropout_20 (Dropout)            (None, 65536, 8)     0           activation_19[0][0]              \n",
      "__________________________________________________________________________________________________\n",
      "conv0_up1 (Conv1D)              (None, 65536, 8)     1032        dropout_20[0][0]                 \n",
      "__________________________________________________________________________________________________\n",
      "activation_20 (Activation)      (None, 65536, 8)     0           conv0_up1[0][0]                  \n",
      "__________________________________________________________________________________________________\n",
      "dropout_21 (Dropout)            (None, 65536, 8)     0           activation_20[0][0]              \n",
      "__________________________________________________________________________________________________\n",
      "output_layer (Dense)            (None, 65536, 4)     36          dropout_21[0][0]                 \n",
      "==================================================================================================\n",
      "Total params: 1,659,268\n",
      "Trainable params: 1,659,268\n",
      "Non-trainable params: 0\n",
      "__________________________________________________________________________________________________\n",
      "None\n"
     ]
    }
   ],
   "source": [
    "# declare model\n",
    "model=segnet(input_shape=(nv, na), n_classes=nc, n_filters=8)\n",
    "\n",
    "# and optimizer\n",
    "if hor:\n",
    "    adam=optimizers.Adam(lr=1e-5 * hvd.size())\n",
    "    adam=hvd.DistributedOptimizer(adam)\n",
    "else:\n",
    "    adam=optimizers.Adam(lr=1e-4)\n",
    "\n",
    "# now compile and show parameter summary\n",
    "model.compile(optimizer=adam, loss='categorical_crossentropy', metrics=['accuracy']) \n",
    "print(model.summary())"
   ]
  },
  {
   "cell_type": "code",
   "execution_count": 6,
   "metadata": {
    "scrolled": false
   },
   "outputs": [
    {
     "name": "stdout",
     "output_type": "stream",
     "text": [
      "[(5008, 1105538, 7), (5008, 1105538, 5), (5008, 1105538, 7)]\n"
     ]
    }
   ],
   "source": [
    "# load data\n",
    "data_root='/home/magu/deepmix/data/ALL_DNA_dataset/'\n",
    "X = np.load(data_root+'unzipped/chm_21.genotypes.npy', mmap_mode='r')\n",
    "Y = np.load(data_root+'unzipped/chm_21.labels.npy', mmap_mode='r')\n",
    "S = np.load(data_root+'unzipped/chm_21.samples.npy')\n",
    "print([X.shape, Y.shape, X.shape])"
   ]
  },
  {
   "cell_type": "code",
   "execution_count": 7,
   "metadata": {},
   "outputs": [
    {
     "name": "stdout",
     "output_type": "stream",
     "text": [
      "3428\n"
     ]
    }
   ],
   "source": [
    "# and train individuals\n",
    "train=np.loadtxt(data_root+'chm21.train.txt', dtype=str)\n",
    "train_ix=[i for i,q in enumerate(train) if q in S]\n",
    "print(len(train_ix))"
   ]
  },
  {
   "cell_type": "code",
   "execution_count": 8,
   "metadata": {},
   "outputs": [
    {
     "name": "stdout",
     "output_type": "stream",
     "text": [
      "[(100, 65536, 3), (100, 65536, 4)]\n"
     ]
    }
   ],
   "source": [
    "# and some dev individuals, why not -- first pick their indexes\n",
    "n=100\n",
    "S=np.load(data_root+'simulated/label/dev_10gen.result.npz')['S']\n",
    "s=np.random.choice(S, size=n, replace=False)\n",
    "\n",
    "# then load and subset -- AMR is the first ancestry label, ignored for now\n",
    "x_f=data_root+'simulated/numpy/dev_10gen.query.ALL_X.npz'\n",
    "y_f=data_root+'simulated/label/dev_10gen.result.npz'\n",
    "S_f=np.load(x_f)['S']\n",
    "X_dev=np.load(x_f)['G'][[np.where(S_f==(i))[0][0] for i in s],:nv,:na]\n",
    "S_f=np.load(y_f)['S']\n",
    "Y_dev=to_categorical(np.load(y_f)['L'][[np.where(S_f==(i))[0][0] for i in s],:nv], dtype='bool')[:,:,1:]\n",
    "print([X_dev.shape, Y_dev.shape])"
   ]
  },
  {
   "cell_type": "code",
   "execution_count": 9,
   "metadata": {
    "scrolled": false
   },
   "outputs": [
    {
     "name": "stdout",
     "output_type": "stream",
     "text": [
      "Epoch 1/100\n",
      "107/107 [==============================] - 182s 2s/step - loss: 1.1262 - accuracy: 0.2301 - val_loss: 1.3945 - val_accuracy: 0.2554\n",
      "Epoch 2/100\n",
      "107/107 [==============================] - 115s 1s/step - loss: 1.1224 - accuracy: 0.2403 - val_loss: 1.3920 - val_accuracy: 0.2582\n",
      "Epoch 3/100\n",
      "107/107 [==============================] - 114s 1s/step - loss: 1.1224 - accuracy: 0.2347 - val_loss: 1.3971 - val_accuracy: 0.2586\n",
      "Epoch 4/100\n",
      "107/107 [==============================] - 115s 1s/step - loss: 1.1214 - accuracy: 0.2388 - val_loss: 1.3958 - val_accuracy: 0.2592\n",
      "Epoch 5/100\n",
      "107/107 [==============================] - 114s 1s/step - loss: 1.1213 - accuracy: 0.2363 - val_loss: 1.3975 - val_accuracy: 0.2599\n",
      "Epoch 6/100\n",
      "107/107 [==============================] - 114s 1s/step - loss: 1.1212 - accuracy: 0.2398 - val_loss: 1.3996 - val_accuracy: 0.2609\n",
      "Epoch 7/100\n",
      "107/107 [==============================] - 114s 1s/step - loss: 1.1208 - accuracy: 0.2436 - val_loss: 1.3965 - val_accuracy: 0.2587\n",
      "Epoch 8/100\n",
      "107/107 [==============================] - 114s 1s/step - loss: 1.1207 - accuracy: 0.2358 - val_loss: 1.3998 - val_accuracy: 0.2591\n",
      "Epoch 9/100\n",
      "107/107 [==============================] - 114s 1s/step - loss: 1.1206 - accuracy: 0.2354 - val_loss: 1.3952 - val_accuracy: 0.2584\n",
      "Epoch 10/100\n",
      "107/107 [==============================] - 114s 1s/step - loss: 1.1205 - accuracy: 0.2365 - val_loss: 1.3954 - val_accuracy: 0.2591\n",
      "Epoch 11/100\n",
      "107/107 [==============================] - 115s 1s/step - loss: 1.1200 - accuracy: 0.2389 - val_loss: 1.3989 - val_accuracy: 0.2619\n",
      "Epoch 12/100\n",
      "107/107 [==============================] - 115s 1s/step - loss: 1.1184 - accuracy: 0.2535 - val_loss: 1.3964 - val_accuracy: 0.2639\n",
      "Epoch 13/100\n",
      "107/107 [==============================] - 114s 1s/step - loss: 1.1154 - accuracy: 0.2606 - val_loss: 1.3927 - val_accuracy: 0.2683\n",
      "Epoch 14/100\n",
      "107/107 [==============================] - 114s 1s/step - loss: 1.1058 - accuracy: 0.2921 - val_loss: 1.3937 - val_accuracy: 0.3275\n",
      "Epoch 15/100\n",
      "107/107 [==============================] - 115s 1s/step - loss: 1.0879 - accuracy: 0.3499 - val_loss: 1.3843 - val_accuracy: 0.3277\n",
      "Epoch 16/100\n",
      "107/107 [==============================] - 114s 1s/step - loss: 1.0460 - accuracy: 0.3859 - val_loss: 1.3038 - val_accuracy: 0.3890\n",
      "Epoch 17/100\n",
      "107/107 [==============================] - 115s 1s/step - loss: 0.9927 - accuracy: 0.4210 - val_loss: 1.2835 - val_accuracy: 0.4461\n",
      "Epoch 18/100\n",
      "107/107 [==============================] - 114s 1s/step - loss: 0.9184 - accuracy: 0.4640 - val_loss: 1.2316 - val_accuracy: 0.4808\n",
      "Epoch 19/100\n",
      "107/107 [==============================] - 114s 1s/step - loss: 0.8617 - accuracy: 0.4901 - val_loss: 1.0926 - val_accuracy: 0.5404\n",
      "Epoch 20/100\n",
      "107/107 [==============================] - 114s 1s/step - loss: 0.8141 - accuracy: 0.5151 - val_loss: 1.0504 - val_accuracy: 0.5233\n",
      "Epoch 21/100\n",
      "107/107 [==============================] - 114s 1s/step - loss: 0.7835 - accuracy: 0.5251 - val_loss: 1.0310 - val_accuracy: 0.5954\n",
      "Epoch 22/100\n",
      "107/107 [==============================] - 115s 1s/step - loss: 0.7444 - accuracy: 0.5423 - val_loss: 0.9877 - val_accuracy: 0.6070\n",
      "Epoch 23/100\n",
      "107/107 [==============================] - 114s 1s/step - loss: 0.7135 - accuracy: 0.5546 - val_loss: 0.9554 - val_accuracy: 0.6115\n",
      "Epoch 24/100\n",
      "107/107 [==============================] - 114s 1s/step - loss: 0.6953 - accuracy: 0.5606 - val_loss: 0.8607 - val_accuracy: 0.6358\n",
      "Epoch 25/100\n",
      "107/107 [==============================] - 114s 1s/step - loss: 0.6666 - accuracy: 0.5731 - val_loss: 0.9149 - val_accuracy: 0.6369\n",
      "Epoch 26/100\n",
      "107/107 [==============================] - 114s 1s/step - loss: 0.6385 - accuracy: 0.5842 - val_loss: 0.8480 - val_accuracy: 0.6493\n",
      "Epoch 27/100\n",
      "107/107 [==============================] - 114s 1s/step - loss: 0.6241 - accuracy: 0.5898 - val_loss: 0.7758 - val_accuracy: 0.6679\n",
      "Epoch 28/100\n",
      "107/107 [==============================] - 114s 1s/step - loss: 0.6040 - accuracy: 0.5976 - val_loss: 0.7836 - val_accuracy: 0.6785\n",
      "Epoch 29/100\n",
      "107/107 [==============================] - 114s 1s/step - loss: 0.5705 - accuracy: 0.6100 - val_loss: 0.7571 - val_accuracy: 0.6703\n",
      "Epoch 30/100\n",
      "107/107 [==============================] - 115s 1s/step - loss: 0.5584 - accuracy: 0.6154 - val_loss: 0.7169 - val_accuracy: 0.6990\n",
      "Epoch 31/100\n",
      "107/107 [==============================] - 115s 1s/step - loss: 0.5311 - accuracy: 0.6274 - val_loss: 0.6414 - val_accuracy: 0.7449\n",
      "Epoch 32/100\n",
      "107/107 [==============================] - 115s 1s/step - loss: 0.5189 - accuracy: 0.6335 - val_loss: 0.6521 - val_accuracy: 0.7277\n",
      "Epoch 33/100\n",
      "107/107 [==============================] - 115s 1s/step - loss: 0.4873 - accuracy: 0.6465 - val_loss: 0.6297 - val_accuracy: 0.7349\n",
      "Epoch 34/100\n",
      "107/107 [==============================] - 115s 1s/step - loss: 0.4722 - accuracy: 0.6531 - val_loss: 0.6114 - val_accuracy: 0.7505\n",
      "Epoch 35/100\n",
      "107/107 [==============================] - 115s 1s/step - loss: 0.4626 - accuracy: 0.6572 - val_loss: 0.5727 - val_accuracy: 0.7613\n",
      "Epoch 36/100\n",
      "107/107 [==============================] - 115s 1s/step - loss: 0.4312 - accuracy: 0.6709 - val_loss: 0.5344 - val_accuracy: 0.7895\n",
      "Epoch 37/100\n",
      "107/107 [==============================] - 115s 1s/step - loss: 0.4197 - accuracy: 0.6752 - val_loss: 0.5969 - val_accuracy: 0.7656\n",
      "Epoch 38/100\n",
      "107/107 [==============================] - 115s 1s/step - loss: 0.4141 - accuracy: 0.6769 - val_loss: 0.5997 - val_accuracy: 0.7533\n",
      "Epoch 39/100\n",
      "107/107 [==============================] - 115s 1s/step - loss: 0.3947 - accuracy: 0.6858 - val_loss: 0.5063 - val_accuracy: 0.8181\n",
      "Epoch 40/100\n",
      "107/107 [==============================] - 115s 1s/step - loss: 0.3837 - accuracy: 0.6895 - val_loss: 0.5113 - val_accuracy: 0.8053\n",
      "Epoch 41/100\n",
      "107/107 [==============================] - 115s 1s/step - loss: 0.3575 - accuracy: 0.7001 - val_loss: 0.4466 - val_accuracy: 0.8355\n",
      "Epoch 42/100\n",
      "107/107 [==============================] - 114s 1s/step - loss: 0.3472 - accuracy: 0.7047 - val_loss: 0.4250 - val_accuracy: 0.8398\n",
      "Epoch 43/100\n",
      "107/107 [==============================] - 114s 1s/step - loss: 0.3318 - accuracy: 0.7105 - val_loss: 0.5015 - val_accuracy: 0.8206\n",
      "Epoch 44/100\n",
      "107/107 [==============================] - 114s 1s/step - loss: 0.3182 - accuracy: 0.7173 - val_loss: 0.4176 - val_accuracy: 0.8565\n",
      "Epoch 45/100\n",
      "107/107 [==============================] - 114s 1s/step - loss: 0.3125 - accuracy: 0.7192 - val_loss: 0.4288 - val_accuracy: 0.8439\n",
      "Epoch 46/100\n",
      "107/107 [==============================] - 114s 1s/step - loss: 0.3014 - accuracy: 0.7236 - val_loss: 0.3852 - val_accuracy: 0.8595\n",
      "Epoch 47/100\n",
      "107/107 [==============================] - 115s 1s/step - loss: 0.2854 - accuracy: 0.7292 - val_loss: 0.4702 - val_accuracy: 0.8214\n",
      "Epoch 48/100\n",
      "107/107 [==============================] - 114s 1s/step - loss: 0.2744 - accuracy: 0.7333 - val_loss: 0.4268 - val_accuracy: 0.8544\n",
      "Epoch 49/100\n",
      "107/107 [==============================] - 114s 1s/step - loss: 0.2611 - accuracy: 0.7379 - val_loss: 0.3851 - val_accuracy: 0.8666\n",
      "Epoch 50/100\n",
      "107/107 [==============================] - 115s 1s/step - loss: 0.2521 - accuracy: 0.7410 - val_loss: 0.4433 - val_accuracy: 0.8398\n",
      "Epoch 51/100\n",
      "107/107 [==============================] - 115s 1s/step - loss: 0.2459 - accuracy: 0.7452 - val_loss: 0.3648 - val_accuracy: 0.8695\n",
      "Epoch 52/100\n",
      "107/107 [==============================] - 115s 1s/step - loss: 0.2450 - accuracy: 0.7442 - val_loss: 0.3640 - val_accuracy: 0.8725\n",
      "Epoch 53/100\n",
      "107/107 [==============================] - 115s 1s/step - loss: 0.2194 - accuracy: 0.7551 - val_loss: 0.3518 - val_accuracy: 0.8847\n",
      "Epoch 54/100\n",
      "107/107 [==============================] - 115s 1s/step - loss: 0.2103 - accuracy: 0.7586 - val_loss: 0.3572 - val_accuracy: 0.8792\n",
      "Epoch 55/100\n",
      "107/107 [==============================] - 115s 1s/step - loss: 0.2018 - accuracy: 0.7619 - val_loss: 0.3524 - val_accuracy: 0.8990\n",
      "Epoch 56/100\n",
      "107/107 [==============================] - 115s 1s/step - loss: 0.2004 - accuracy: 0.7622 - val_loss: 0.3337 - val_accuracy: 0.8835\n",
      "Epoch 57/100\n"
     ]
    },
    {
     "name": "stdout",
     "output_type": "stream",
     "text": [
      "107/107 [==============================] - 114s 1s/step - loss: 0.1928 - accuracy: 0.7658 - val_loss: 0.3659 - val_accuracy: 0.8791\n",
      "Epoch 58/100\n",
      "107/107 [==============================] - 115s 1s/step - loss: 0.1886 - accuracy: 0.7679 - val_loss: 0.3466 - val_accuracy: 0.8936\n",
      "Epoch 59/100\n",
      "107/107 [==============================] - 114s 1s/step - loss: 0.1746 - accuracy: 0.7729 - val_loss: 0.3512 - val_accuracy: 0.8838\n",
      "Epoch 60/100\n",
      "107/107 [==============================] - 115s 1s/step - loss: 0.1724 - accuracy: 0.7725 - val_loss: 0.3016 - val_accuracy: 0.8983\n",
      "Epoch 61/100\n",
      "107/107 [==============================] - 115s 1s/step - loss: 0.1641 - accuracy: 0.7770 - val_loss: 0.3735 - val_accuracy: 0.8816\n",
      "Epoch 62/100\n",
      "107/107 [==============================] - 115s 1s/step - loss: 0.1600 - accuracy: 0.7787 - val_loss: 0.3848 - val_accuracy: 0.8788\n",
      "Epoch 63/100\n",
      "107/107 [==============================] - 115s 1s/step - loss: 0.1478 - accuracy: 0.7839 - val_loss: 0.2942 - val_accuracy: 0.9071\n",
      "Epoch 64/100\n",
      "107/107 [==============================] - 115s 1s/step - loss: 0.1488 - accuracy: 0.7825 - val_loss: 0.3254 - val_accuracy: 0.8977\n",
      "Epoch 65/100\n",
      "107/107 [==============================] - 114s 1s/step - loss: 0.1441 - accuracy: 0.7846 - val_loss: 0.2920 - val_accuracy: 0.9131\n",
      "Epoch 66/100\n",
      "107/107 [==============================] - 114s 1s/step - loss: 0.1397 - accuracy: 0.7853 - val_loss: 0.3158 - val_accuracy: 0.9063\n",
      "Epoch 67/100\n",
      "107/107 [==============================] - 114s 1s/step - loss: 0.1334 - accuracy: 0.7883 - val_loss: 0.2999 - val_accuracy: 0.9141\n",
      "Epoch 68/100\n",
      "107/107 [==============================] - 115s 1s/step - loss: 0.1250 - accuracy: 0.7917 - val_loss: 0.3201 - val_accuracy: 0.9091\n",
      "Epoch 69/100\n",
      "107/107 [==============================] - 114s 1s/step - loss: 0.1213 - accuracy: 0.7929 - val_loss: 0.3287 - val_accuracy: 0.9096\n",
      "Epoch 70/100\n",
      "107/107 [==============================] - 115s 1s/step - loss: 0.1146 - accuracy: 0.7950 - val_loss: 0.3657 - val_accuracy: 0.8934\n",
      "Epoch 71/100\n",
      "107/107 [==============================] - 115s 1s/step - loss: 0.1145 - accuracy: 0.7958 - val_loss: 0.3234 - val_accuracy: 0.9003\n",
      "Epoch 72/100\n",
      "107/107 [==============================] - 115s 1s/step - loss: 0.1112 - accuracy: 0.7970 - val_loss: 0.4026 - val_accuracy: 0.8927\n",
      "Epoch 73/100\n",
      "107/107 [==============================] - 115s 1s/step - loss: 0.1142 - accuracy: 0.7957 - val_loss: 0.3590 - val_accuracy: 0.8931\n",
      "Epoch 74/100\n",
      "107/107 [==============================] - 115s 1s/step - loss: 0.1007 - accuracy: 0.8010 - val_loss: 0.4490 - val_accuracy: 0.8778\n",
      "Epoch 75/100\n",
      "107/107 [==============================] - 115s 1s/step - loss: 0.0978 - accuracy: 0.8021 - val_loss: 0.3116 - val_accuracy: 0.9133\n",
      "Epoch 76/100\n",
      "107/107 [==============================] - 116s 1s/step - loss: 0.1052 - accuracy: 0.7987 - val_loss: 0.3307 - val_accuracy: 0.9122\n",
      "Epoch 77/100\n",
      "107/107 [==============================] - 116s 1s/step - loss: 0.0970 - accuracy: 0.8024 - val_loss: 0.2734 - val_accuracy: 0.9267\n",
      "Epoch 78/100\n",
      "107/107 [==============================] - 115s 1s/step - loss: 0.0932 - accuracy: 0.8035 - val_loss: 0.2821 - val_accuracy: 0.9156\n",
      "Epoch 79/100\n",
      "107/107 [==============================] - 115s 1s/step - loss: 0.0964 - accuracy: 0.8027 - val_loss: 0.3384 - val_accuracy: 0.9059\n",
      "Epoch 80/100\n",
      "107/107 [==============================] - 114s 1s/step - loss: 0.0952 - accuracy: 0.8026 - val_loss: 0.3063 - val_accuracy: 0.9217\n",
      "Epoch 81/100\n",
      "107/107 [==============================] - 114s 1s/step - loss: 0.0848 - accuracy: 0.8074 - val_loss: 0.3152 - val_accuracy: 0.9161\n",
      "Epoch 82/100\n",
      "107/107 [==============================] - 114s 1s/step - loss: 0.0801 - accuracy: 0.8085 - val_loss: 0.2882 - val_accuracy: 0.9148\n",
      "Epoch 83/100\n",
      "107/107 [==============================] - 114s 1s/step - loss: 0.0798 - accuracy: 0.8089 - val_loss: 0.3138 - val_accuracy: 0.9191\n",
      "Epoch 84/100\n",
      "107/107 [==============================] - 117s 1s/step - loss: 0.0768 - accuracy: 0.8101 - val_loss: 0.3423 - val_accuracy: 0.9080\n",
      "Epoch 85/100\n",
      "107/107 [==============================] - 115s 1s/step - loss: 0.0752 - accuracy: 0.8105 - val_loss: 0.2931 - val_accuracy: 0.9253\n",
      "Epoch 86/100\n",
      "107/107 [==============================] - 115s 1s/step - loss: 0.0730 - accuracy: 0.8118 - val_loss: 0.3087 - val_accuracy: 0.9347\n",
      "Epoch 87/100\n",
      "107/107 [==============================] - 116s 1s/step - loss: 0.0766 - accuracy: 0.8103 - val_loss: 0.2638 - val_accuracy: 0.9341\n",
      "Epoch 88/100\n",
      "107/107 [==============================] - 116s 1s/step - loss: 0.0717 - accuracy: 0.8123 - val_loss: 0.2819 - val_accuracy: 0.9271\n",
      "Epoch 89/100\n",
      "107/107 [==============================] - 116s 1s/step - loss: 0.0672 - accuracy: 0.8136 - val_loss: 0.3164 - val_accuracy: 0.9327\n",
      "Epoch 90/100\n",
      "107/107 [==============================] - 115s 1s/step - loss: 0.0682 - accuracy: 0.8132 - val_loss: 0.3203 - val_accuracy: 0.9206\n",
      "Epoch 91/100\n",
      "107/107 [==============================] - 115s 1s/step - loss: 0.0648 - accuracy: 0.8147 - val_loss: 0.3122 - val_accuracy: 0.9203\n",
      "Epoch 92/100\n",
      "107/107 [==============================] - 115s 1s/step - loss: 0.0626 - accuracy: 0.8153 - val_loss: 0.2886 - val_accuracy: 0.9273\n",
      "Epoch 93/100\n",
      "107/107 [==============================] - 115s 1s/step - loss: 0.0649 - accuracy: 0.8151 - val_loss: 0.3081 - val_accuracy: 0.9287\n",
      "Epoch 94/100\n",
      "107/107 [==============================] - 115s 1s/step - loss: 0.0596 - accuracy: 0.8156 - val_loss: 0.3672 - val_accuracy: 0.9231\n",
      "Epoch 95/100\n",
      "107/107 [==============================] - 115s 1s/step - loss: 0.0563 - accuracy: 0.8166 - val_loss: 0.3370 - val_accuracy: 0.9223\n",
      "Epoch 96/100\n",
      "107/107 [==============================] - 115s 1s/step - loss: 0.0597 - accuracy: 0.8165 - val_loss: 0.3352 - val_accuracy: 0.9170\n",
      "Epoch 97/100\n",
      "107/107 [==============================] - 115s 1s/step - loss: 0.0567 - accuracy: 0.8167 - val_loss: 0.3557 - val_accuracy: 0.9225\n",
      "Epoch 98/100\n",
      "107/107 [==============================] - 115s 1s/step - loss: 0.0532 - accuracy: 0.8192 - val_loss: 0.3885 - val_accuracy: 0.9092\n",
      "Epoch 99/100\n",
      "107/107 [==============================] - 116s 1s/step - loss: 0.0645 - accuracy: 0.8141 - val_loss: 0.3607 - val_accuracy: 0.9157\n",
      "Epoch 100/100\n",
      "107/107 [==============================] - 116s 1s/step - loss: 0.0513 - accuracy: 0.8186 - val_loss: 0.3837 - val_accuracy: 0.9193\n"
     ]
    }
   ],
   "source": [
    "# now try it out!\n",
    "es = EarlyStopping(monitor='val_loss', mode='min', verbose=1, patience=25) # not implemented below\n",
    "\n",
    "# fit with generator, or not\n",
    "if gen:\n",
    "    params={'X':X, 'Y':Y, 'dim':nv, 'batch_size':32, 'n_classes':nc, 'n_alleles':na}\n",
    "    generator=DataGenerator(train_ix, **params)\n",
    "    history=model.fit_generator(generator=generator, epochs=ne, validation_data=(X_dev, Y_dev), callbacks=[es])\n",
    "else:\n",
    "    history=model.fit(X[train_ix,:nv,:na], Y[train_ix,:nv,1:], batch_size=4, epochs=ne, callbacks=[es])"
   ]
  },
  {
   "cell_type": "code",
   "execution_count": 19,
   "metadata": {},
   "outputs": [],
   "source": [
    "# save\n",
    "model.save('chm21_short.h5')"
   ]
  },
  {
   "cell_type": "code",
   "execution_count": 20,
   "metadata": {},
   "outputs": [
    {
     "name": "stdout",
     "output_type": "stream",
     "text": [
      "0.9193090796470642\n"
     ]
    },
    {
     "data": {
      "image/png": "[encoded data removed]",
      "text/plain": [
       "<Figure size 648x648 with 2 Axes>"
      ]
     },
     "metadata": {
      "needs_background": "light"
     },
     "output_type": "display_data"
    }
   ],
   "source": [
    "_, dev_acc = model.evaluate(X_dev, Y_dev, verbose=0)\n",
    "\n",
    "# 1.1) plot loss during training\n",
    "import matplotlib.pyplot as plt\n",
    "%matplotlib inline\n",
    "plt.figure(1, (9,9))\n",
    "plt.subplot(211)\n",
    "plt.title('Loss during training')\n",
    "plt.plot(history.history['loss'], label='train set')\n",
    "plt.plot(history.history['val_loss'], label='dev set')\n",
    "plt.legend()\n",
    "\n",
    "# 1.2) plot accuracy during training\n",
    "plt.subplot(212)\n",
    "plt.title('Accuracy')\n",
    "plt.plot(history.history['accuracy'], label='train set')\n",
    "plt.plot(history.history['val_accuracy'], label='dev set')\n",
    "plt.legend()\n",
    "\n",
    "print(dev_acc)"
   ]
  },
  {
   "cell_type": "code",
   "execution_count": 21,
   "metadata": {},
   "outputs": [],
   "source": [
    "Y_hat_p=model.predict(X_dev)\n",
    "Y_hat=np.argmax(Y_hat_p, axis=-1)"
   ]
  },
  {
   "cell_type": "code",
   "execution_count": 22,
   "metadata": {},
   "outputs": [
    {
     "data": {
      "text/plain": [
       "(100, 65536)"
      ]
     },
     "execution_count": 22,
     "metadata": {},
     "output_type": "execute_result"
    }
   ],
   "source": [
    "Y_hat.shape"
   ]
  },
  {
   "cell_type": "code",
   "execution_count": 23,
   "metadata": {},
   "outputs": [
    {
     "name": "stdout",
     "output_type": "stream",
     "text": [
      "(0, [0, 0, 65423, 113], [0, 0, 65536, 0])\n",
      "(1, [0, 0, 65536, 0], [0, 0, 65536, 0])\n",
      "(2, [18120, 47416, 0, 0], [16310, 49226, 0, 0])\n",
      "(3, [0, 62438, 0, 3098], [0, 65536, 0, 0])\n",
      "(4, [0, 65473, 0, 63], [0, 65536, 0, 0])\n",
      "(5, [65536, 0, 0, 0], [65536, 0, 0, 0])\n",
      "(6, [65536, 0, 0, 0], [65536, 0, 0, 0])\n",
      "(7, [23, 778, 64665, 70], [0, 0, 65536, 0])\n",
      "(8, [0, 0, 791, 64745], [0, 0, 0, 65536])\n",
      "(9, [2383, 7867, 16328, 38958], [0, 0, 0, 65536])\n",
      "(10, [18120, 47416, 0, 0], [16310, 49226, 0, 0])\n",
      "(11, [0, 65536, 0, 0], [0, 65536, 0, 0])\n",
      "(12, [65536, 0, 0, 0], [65536, 0, 0, 0])\n",
      "(13, [0, 837, 0, 64699], [0, 0, 0, 65536])\n",
      "(14, [62404, 0, 0, 3132], [65536, 0, 0, 0])\n",
      "(15, [0, 0, 65502, 34], [0, 0, 65536, 0])\n",
      "(16, [0, 65536, 0, 0], [0, 65536, 0, 0])\n",
      "(17, [0, 62438, 0, 3098], [0, 65536, 0, 0])\n",
      "(18, [0, 0, 65423, 113], [0, 0, 65536, 0])\n",
      "(19, [65536, 0, 0, 0], [65536, 0, 0, 0])\n",
      "(20, [0, 0, 65536, 0], [0, 0, 65536, 0])\n",
      "(21, [0, 65473, 0, 63], [0, 65536, 0, 0])\n",
      "(22, [2383, 7867, 16328, 38958], [0, 0, 0, 65536])\n",
      "(23, [57882, 2619, 0, 5035], [65536, 0, 0, 0])\n",
      "(24, [0, 65536, 0, 0], [0, 65536, 0, 0])\n",
      "(25, [0, 0, 9572, 55964], [0, 4769, 0, 60767])\n",
      "(26, [65536, 0, 0, 0], [65536, 0, 0, 0])\n",
      "(27, [0, 0, 65423, 113], [0, 0, 65536, 0])\n",
      "(28, [65536, 0, 0, 0], [65536, 0, 0, 0])\n",
      "(29, [0, 65473, 0, 63], [0, 65536, 0, 0])\n",
      "(30, [0, 0, 65423, 113], [0, 0, 65536, 0])\n",
      "(31, [2383, 7867, 16328, 38958], [0, 0, 0, 65536])\n",
      "(32, [65536, 0, 0, 0], [65536, 0, 0, 0])\n",
      "(33, [18120, 47416, 0, 0], [16310, 49226, 0, 0])\n",
      "(34, [0, 0, 65502, 34], [0, 0, 65536, 0])\n",
      "(35, [2383, 7867, 16328, 38958], [0, 0, 0, 65536])\n",
      "(36, [0, 65536, 0, 0], [0, 65536, 0, 0])\n",
      "(37, [0, 0, 65536, 0], [0, 0, 65536, 0])\n",
      "(38, [0, 0, 65536, 0], [0, 0, 65536, 0])\n",
      "(39, [54620, 0, 9390, 1526], [53787, 4769, 0, 6980])\n",
      "(40, [0, 65536, 0, 0], [0, 65536, 0, 0])\n",
      "(41, [65536, 0, 0, 0], [65536, 0, 0, 0])\n",
      "(42, [0, 0, 65536, 0], [0, 0, 65536, 0])\n",
      "(43, [0, 0, 7249, 58287], [0, 0, 0, 65536])\n",
      "(44, [0, 65473, 0, 63], [0, 65536, 0, 0])\n",
      "(45, [0, 37281, 28255, 0], [0, 32949, 32587, 0])\n",
      "(46, [197, 2406, 0, 62933], [0, 0, 0, 65536])\n",
      "(47, [65536, 0, 0, 0], [65536, 0, 0, 0])\n",
      "(48, [0, 65473, 0, 63], [0, 65536, 0, 0])\n",
      "(49, [57882, 2619, 0, 5035], [65536, 0, 0, 0])\n",
      "(50, [0, 0, 7249, 58287], [0, 0, 0, 65536])\n",
      "(51, [57882, 2619, 0, 5035], [65536, 0, 0, 0])\n",
      "(52, [62899, 0, 0, 2637], [65536, 0, 0, 0])\n",
      "(53, [0, 0, 791, 64745], [0, 0, 0, 65536])\n",
      "(54, [65536, 0, 0, 0], [65536, 0, 0, 0])\n",
      "(55, [0, 65536, 0, 0], [0, 65536, 0, 0])\n",
      "(56, [6719, 9455, 0, 49362], [0, 0, 0, 65536])\n",
      "(57, [0, 0, 65536, 0], [0, 0, 65536, 0])\n",
      "(58, [45686, 2975, 0, 16875], [30733, 0, 0, 34803])\n",
      "(59, [29184, 0, 16125, 20227], [27514, 0, 16200, 21822])\n",
      "(60, [197, 2406, 0, 62933], [0, 0, 0, 65536])\n",
      "(61, [2383, 7867, 16328, 38958], [0, 0, 0, 65536])\n",
      "(62, [0, 65473, 0, 63], [0, 65536, 0, 0])\n",
      "(63, [197, 2406, 0, 62933], [0, 0, 0, 65536])\n",
      "(64, [0, 24295, 15283, 25958], [0, 0, 0, 65536])\n",
      "(65, [23, 778, 64665, 70], [0, 0, 65536, 0])\n",
      "(66, [2383, 7867, 16328, 38958], [0, 0, 0, 65536])\n",
      "(67, [197, 2406, 0, 62933], [0, 0, 0, 65536])\n",
      "(68, [0, 0, 62547, 2989], [0, 0, 65536, 0])\n",
      "(69, [65536, 0, 0, 0], [65536, 0, 0, 0])\n",
      "(70, [0, 35391, 0, 30145], [0, 28215, 0, 37321])\n",
      "(71, [0, 11428, 35598, 18510], [0, 0, 65536, 0])\n",
      "(72, [58692, 0, 0, 6844], [60806, 0, 4730, 0])\n",
      "(73, [0, 65473, 0, 63], [0, 65536, 0, 0])\n",
      "(74, [0, 0, 65536, 0], [0, 0, 65536, 0])\n",
      "(75, [0, 7867, 16131, 41538], [0, 0, 0, 65536])\n",
      "(76, [32211, 28359, 0, 4966], [35508, 30028, 0, 0])\n",
      "(77, [65536, 0, 0, 0], [65536, 0, 0, 0])\n",
      "(78, [62899, 0, 0, 2637], [65536, 0, 0, 0])\n",
      "(79, [0, 0, 65536, 0], [0, 0, 65536, 0])\n",
      "(80, [0, 0, 65502, 34], [0, 0, 65536, 0])\n",
      "(81, [0, 65536, 0, 0], [0, 65536, 0, 0])\n",
      "(82, [23, 778, 64665, 70], [0, 0, 65536, 0])\n",
      "(83, [0, 0, 65423, 113], [0, 0, 65536, 0])\n",
      "(84, [0, 0, 61050, 4486], [0, 0, 65536, 0])\n",
      "(85, [6719, 9455, 0, 49362], [0, 0, 0, 65536])\n",
      "(86, [0, 65536, 0, 0], [0, 65536, 0, 0])\n",
      "(87, [0, 0, 65423, 113], [0, 0, 65536, 0])\n",
      "(88, [0, 7866, 16131, 41539], [0, 0, 0, 65536])\n",
      "(89, [0, 24295, 15283, 25958], [0, 0, 0, 65536])\n",
      "(90, [65536, 0, 0, 0], [65536, 0, 0, 0])\n",
      "(91, [32211, 28359, 0, 4966], [35508, 30028, 0, 0])\n",
      "(92, [0, 65473, 0, 63], [0, 65536, 0, 0])\n",
      "(93, [65536, 0, 0, 0], [65536, 0, 0, 0])\n",
      "(94, [0, 65536, 0, 0], [0, 65536, 0, 0])\n",
      "(95, [0, 0, 65502, 34], [0, 0, 65536, 0])\n",
      "(96, [0, 0, 9572, 55964], [0, 4769, 0, 60767])\n",
      "(97, [0, 62438, 0, 3098], [0, 65536, 0, 0])\n",
      "(98, [0, 0, 9572, 55964], [0, 4769, 0, 60767])\n",
      "(99, [0, 0, 61050, 4486], [0, 0, 65536, 0])\n"
     ]
    }
   ],
   "source": [
    "for i in range(Y_hat.shape[0]):\n",
    "    print((i, [np.count_nonzero(Y_hat[i,:]==j) for j in range(Y_hat_p.shape[-1])], \n",
    "           [np.count_nonzero(Y_dev[i,:,:].argmax(axis=-1)==j) for j in range(Y_hat_p.shape[-1])]))"
   ]
  },
  {
   "cell_type": "code",
   "execution_count": 26,
   "metadata": {},
   "outputs": [
    {
     "data": {
      "text/plain": [
       "<matplotlib.image.AxesImage at 0x7f359109cb38>"
      ]
     },
     "execution_count": 26,
     "metadata": {},
     "output_type": "execute_result"
    },
    {
     "data": {
      "image/png": "[encoded data removed]",
      "text/plain": [
       "<Figure size 864x216 with 2 Axes>"
      ]
     },
     "metadata": {
      "needs_background": "light"
     },
     "output_type": "display_data"
    }
   ],
   "source": [
    "plt.figure(figsize=(12, 3))\n",
    "Y_dev_lab = np.argmax(Y_dev, axis=-1)\n",
    "plt.subplot(211)\n",
    "plt.title('Dev set ground truths')\n",
    "plt.imshow(Y_dev_lab[48:49,:].astype(int), aspect='auto')#, cmap='jet')\n",
    "\n",
    "plt.subplot(212)\n",
    "plt.title('Corresponding dev set predictions')\n",
    "plt.imshow(Y_hat[48:49,:].astype(int), aspect='auto')#, cmap='jet')"
   ]
  },
  {
   "cell_type": "code",
   "execution_count": 27,
   "metadata": {},
   "outputs": [
    {
     "data": {
      "text/plain": [
       "(array([29040, 29042, 29088, 29089, 29090, 29091, 29092, 29093, 29094,\n",
       "        29095, 29096, 29097, 29099, 29100, 29101, 29102, 29104, 29105,\n",
       "        29106, 29107, 29108, 29109, 29110, 29111, 29112, 29113, 29114,\n",
       "        29115, 29116, 29117, 29118, 29119, 29120, 29122, 29127, 29131,\n",
       "        29132, 29133, 29134, 29135, 29136, 29137, 29138, 29139, 29140,\n",
       "        29149, 29150, 29151, 29152, 29153, 29154, 29155, 29156, 29158,\n",
       "        29387, 29388, 29389, 29391, 29392, 29394, 29395, 29400, 29401]),)"
      ]
     },
     "execution_count": 27,
     "metadata": {},
     "output_type": "execute_result"
    }
   ],
   "source": [
    "np.where(np.argmax(Y_hat_p[48,:,:], axis=-1)==3)"
   ]
  },
  {
   "cell_type": "code",
   "execution_count": 28,
   "metadata": {},
   "outputs": [
    {
     "data": {
      "text/plain": [
       "<matplotlib.image.AxesImage at 0x7f358efbedd8>"
      ]
     },
     "execution_count": 28,
     "metadata": {},
     "output_type": "execute_result"
    },
    {
     "data": {
      "image/png": "[encoded data removed]",
      "text/plain": [
       "<Figure size 864x216 with 2 Axes>"
      ]
     },
     "metadata": {
      "needs_background": "light"
     },
     "output_type": "display_data"
    }
   ],
   "source": [
    "plt.figure(figsize=(12, 3))\n",
    "Y_dev_lab = np.argmax(Y_dev, axis=-1)\n",
    "plt.subplot(211)\n",
    "plt.title('Dev set ground truths')\n",
    "plt.imshow(Y_dev_lab[48:49,29000:29500].astype(int), aspect='auto')#, cmap='jet')\n",
    "\n",
    "plt.subplot(212)\n",
    "plt.title('Corresponding dev set predictions')\n",
    "plt.imshow(Y_hat[48:49,29000:29500].astype(int), aspect='auto')#, cmap='jet')"
   ]
  },
  {
   "cell_type": "code",
   "execution_count": 30,
   "metadata": {
    "scrolled": false
   },
   "outputs": [
    {
     "data": {
      "text/plain": [
       "array([[[7.3687052e-03, 4.7687542e-01, 1.3014410e-03, 5.1445442e-01],\n",
       "        [7.1993521e-03, 4.9008200e-01, 1.8654910e-03, 5.0085318e-01],\n",
       "        [5.6146597e-03, 4.8125708e-01, 1.0026674e-03, 5.1212555e-01],\n",
       "        [5.8690114e-03, 4.6720532e-01, 1.1260229e-03, 5.2579963e-01],\n",
       "        [6.4194412e-03, 4.5242244e-01, 1.2260688e-03, 5.3993207e-01],\n",
       "        [5.7026539e-03, 4.6944034e-01, 1.4531426e-03, 5.2340382e-01],\n",
       "        [6.0545988e-03, 4.8332432e-01, 1.0624398e-03, 5.0955862e-01],\n",
       "        [5.9698345e-03, 4.4208446e-01, 1.5739133e-03, 5.5037177e-01],\n",
       "        [5.8814199e-03, 4.7893465e-01, 1.6608620e-03, 5.1352310e-01],\n",
       "        [6.8885884e-03, 4.4407737e-01, 1.5018027e-03, 5.4753220e-01],\n",
       "        [6.6155270e-03, 4.8793361e-01, 1.4445066e-03, 5.0400639e-01],\n",
       "        [7.1595917e-03, 4.7635233e-01, 1.4797284e-03, 5.1500833e-01],\n",
       "        [6.6104433e-03, 4.9198535e-01, 1.4056003e-03, 4.9999857e-01],\n",
       "        [7.5436337e-03, 4.6900737e-01, 1.6317490e-03, 5.2181721e-01],\n",
       "        [7.9264855e-03, 4.7073722e-01, 1.7748760e-03, 5.1956147e-01],\n",
       "        [8.5747978e-03, 4.4651270e-01, 1.6602160e-03, 5.4325229e-01],\n",
       "        [9.3769049e-03, 4.3657091e-01, 1.6848234e-03, 5.5236733e-01],\n",
       "        [9.4613284e-03, 4.1991511e-01, 1.6230708e-03, 5.6900054e-01],\n",
       "        [1.1081782e-02, 4.0099725e-01, 1.9927979e-03, 5.8592826e-01],\n",
       "        [1.0989905e-02, 3.9829773e-01, 1.8827546e-03, 5.8882964e-01],\n",
       "        [8.4896898e-03, 4.8526683e-01, 1.6634136e-03, 5.0458008e-01],\n",
       "        [7.8405775e-03, 4.9175689e-01, 1.8662269e-03, 4.9853623e-01],\n",
       "        [7.7533838e-03, 4.9250805e-01, 1.5325509e-03, 4.9820599e-01],\n",
       "        [9.2068706e-03, 4.0599787e-01, 1.7916590e-03, 5.8300358e-01],\n",
       "        [8.6632771e-03, 4.3573076e-01, 1.9631132e-03, 5.5364293e-01],\n",
       "        [7.7971956e-03, 4.1976917e-01, 1.9143799e-03, 5.7051927e-01],\n",
       "        [6.8952655e-03, 4.5284525e-01, 1.3371523e-03, 5.3892237e-01],\n",
       "        [5.9983712e-03, 4.9167919e-01, 1.1810951e-03, 5.0114137e-01],\n",
       "        [6.8000215e-03, 4.3652305e-01, 1.3429950e-03, 5.5533385e-01],\n",
       "        [6.3107889e-03, 4.6759060e-01, 1.0899142e-03, 5.2500862e-01],\n",
       "        [5.9094094e-03, 4.8657164e-01, 1.0475408e-03, 5.0647146e-01],\n",
       "        [6.1115930e-03, 4.8880613e-01, 1.2601429e-03, 5.0382215e-01],\n",
       "        [6.5732761e-03, 4.6412989e-01, 1.0194653e-03, 5.2827740e-01],\n",
       "        [6.4536477e-03, 4.5871195e-01, 1.8937418e-03, 5.3294063e-01],\n",
       "        [4.9663712e-03, 4.8248076e-01, 1.7537089e-03, 5.1079911e-01],\n",
       "        [7.1250577e-03, 3.8472554e-01, 1.6747998e-03, 6.0647464e-01],\n",
       "        [7.6023950e-03, 4.0125895e-01, 1.1962813e-03, 5.8994240e-01],\n",
       "        [7.3515321e-03, 3.9628193e-01, 9.6983922e-04, 5.9539670e-01],\n",
       "        [6.5667434e-03, 4.0298414e-01, 9.0828404e-04, 5.8954078e-01],\n",
       "        [6.2831980e-03, 4.3865520e-01, 8.5724349e-04, 5.5420429e-01],\n",
       "        [5.6933910e-03, 4.7390527e-01, 7.4478507e-04, 5.1965654e-01],\n",
       "        [5.4056090e-03, 4.7463605e-01, 7.9263782e-04, 5.1916569e-01],\n",
       "        [6.6067623e-03, 4.3371925e-01, 8.5030578e-04, 5.5882370e-01],\n",
       "        [6.1818045e-03, 4.3320331e-01, 8.2310906e-04, 5.5979180e-01],\n",
       "        [6.6100825e-03, 4.2144838e-01, 9.7628328e-04, 5.7096517e-01],\n",
       "        [5.3671631e-03, 4.8871815e-01, 8.8543200e-04, 5.0502920e-01],\n",
       "        [5.0180512e-03, 4.9708700e-01, 7.5988809e-04, 4.9713498e-01],\n",
       "        [5.5547757e-03, 4.4927579e-01, 7.2322949e-04, 5.4444623e-01],\n",
       "        [4.7547151e-03, 4.7761795e-01, 6.4258929e-04, 5.1698476e-01],\n",
       "        [5.1621739e-03, 4.6253538e-01, 6.9364242e-04, 5.3160876e-01],\n",
       "        [4.4274186e-03, 4.7900033e-01, 5.9013610e-04, 5.1598215e-01],\n",
       "        [4.0112422e-03, 4.9721935e-01, 6.6953595e-04, 4.9809983e-01],\n",
       "        [4.4155298e-03, 4.8627692e-01, 6.2606874e-04, 5.0868148e-01],\n",
       "        [4.1020629e-03, 4.9083996e-01, 5.8383611e-04, 5.0447416e-01],\n",
       "        [4.5627407e-03, 4.9255568e-01, 9.8908716e-04, 5.0189245e-01],\n",
       "        [4.4386368e-03, 4.6286881e-01, 1.0490080e-03, 5.3164357e-01],\n",
       "        [3.8475078e-03, 4.9528414e-01, 9.7168272e-04, 4.9989668e-01],\n",
       "        [3.7843429e-03, 4.9662542e-01, 8.9651230e-04, 4.9869367e-01],\n",
       "        [3.7618354e-03, 4.9500385e-01, 9.4442064e-04, 5.0028986e-01],\n",
       "        [3.9608697e-03, 4.7867796e-01, 1.0815087e-03, 5.1627964e-01],\n",
       "        [4.0232730e-03, 4.8951727e-01, 1.1468114e-03, 5.0531268e-01],\n",
       "        [4.7258437e-03, 4.9200356e-01, 9.5185434e-04, 5.0231874e-01],\n",
       "        [4.6828305e-03, 4.6678010e-01, 1.0086967e-03, 5.2752841e-01]]],\n",
       "      dtype=float32)"
      ]
     },
     "execution_count": 30,
     "metadata": {},
     "output_type": "execute_result"
    }
   ],
   "source": [
    "Y_hat_p[48,np.where(np.argmax(Y_hat_p[48,:,:], axis=-1)==3),:]"
   ]
  },
  {
   "cell_type": "code",
   "execution_count": 31,
   "metadata": {},
   "outputs": [],
   "source": [
    "# seems like a crf-smoother (even a post-hoc one) could really help"
   ]
  }
 ],
 "metadata": {
  "kernelspec": {
   "display_name": "Python 3",
   "language": "python",
   "name": "python3"
  },
  "language_info": {
   "codemirror_mode": {
    "name": "ipython",
    "version": 3
   },
   "file_extension": ".py",
   "mimetype": "text/x-python",
   "name": "python",
   "nbconvert_exporter": "python",
   "pygments_lexer": "ipython3",
   "version": "3.6.9"
  }
 },
 "nbformat": 4,
 "nbformat_minor": 2
}
