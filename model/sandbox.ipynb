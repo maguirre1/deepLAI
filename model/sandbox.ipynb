{
 "cells": [
  {
   "cell_type": "code",
   "execution_count": 1,
   "metadata": {},
   "outputs": [
    {
     "name": "stderr",
     "output_type": "stream",
     "text": [
      "Using TensorFlow backend.\n"
     ]
    }
   ],
   "source": [
    "import numpy as np\n",
    "import tensorflow as tf\n",
    "from keras import optimizers\n",
    "from keras.utils import to_categorical\n",
    "from segnet import segnet\n",
    "from generator import DataGenerator"
   ]
  },
  {
   "cell_type": "code",
   "execution_count": 3,
   "metadata": {},
   "outputs": [],
   "source": [
    "# hyperparameters\n",
    "nv=int(2**16) # variants\n",
    "na=3          # alleles\n",
    "nc=4          # ancestry classes\n",
    "ne=100         # number of epochs\n",
    "gen=True      # use data generator\n",
    "hor=True      # use multi-gpu"
   ]
  },
  {
   "cell_type": "code",
   "execution_count": 4,
   "metadata": {},
   "outputs": [
    {
     "name": "stdout",
     "output_type": "stream",
     "text": [
      "[PhysicalDevice(name='/physical_device:GPU:0', device_type='GPU'), PhysicalDevice(name='/physical_device:GPU:1', device_type='GPU')]\n"
     ]
    }
   ],
   "source": [
    "# configure horovod if we're using multiple gpus\n",
    "# - note that this doesn't work within a jupyter notebook\n",
    "# - but you can use it to assign one of the two gpus to the tf instance\n",
    "# - ((probably))\n",
    "if hor: \n",
    "    import horovod.keras as hvd \n",
    "\n",
    "    # initialize horovod instance -- this currently only works on galangal\n",
    "    hvd.init()\n",
    "\n",
    "    # assign GPUs to horovod \n",
    "    gpus = tf.config.list_physical_devices('GPU')\n",
    "    for gpu in gpus:\n",
    "        tf.config.experimental.set_memory_growth(gpu, True)\n",
    "    if gpus:\n",
    "        # tf.config in tf <= 1.6\n",
    "        tf.config.experimental.set_visible_devices(gpus[hvd.local_rank()], 'GPU')\n",
    "    print(gpus)"
   ]
  },
  {
   "cell_type": "code",
   "execution_count": 2,
   "metadata": {},
   "outputs": [
    {
     "data": {
      "text/plain": [
       "[PhysicalDevice(name='/physical_device:GPU:0', device_type='GPU'),\n",
       " PhysicalDevice(name='/physical_device:GPU:1', device_type='GPU')]"
      ]
     },
     "execution_count": 2,
     "metadata": {},
     "output_type": "execute_result"
    }
   ],
   "source": [
    "# sanity check that we're on gpu\n",
    "tf.config.list_physical_devices('GPU')"
   ]
  },
  {
   "cell_type": "code",
   "execution_count": 5,
   "metadata": {
    "scrolled": false
   },
   "outputs": [
    {
     "name": "stdout",
     "output_type": "stream",
     "text": [
      "Model: \"segnet\"\n",
      "__________________________________________________________________________________________________\n",
      "Layer (type)                    Output Shape         Param #     Connected to                     \n",
      "==================================================================================================\n",
      "input_1 (InputLayer)            (None, 65536, 3)     0                                            \n",
      "__________________________________________________________________________________________________\n",
      "dropout_1 (Dropout)             (None, 65536, 3)     0           input_1[0][0]                    \n",
      "__________________________________________________________________________________________________\n",
      "conv1_down1 (Conv1D)            (None, 65536, 8)     392         dropout_1[0][0]                  \n",
      "__________________________________________________________________________________________________\n",
      "activation_1 (Activation)       (None, 65536, 8)     0           conv1_down1[0][0]                \n",
      "__________________________________________________________________________________________________\n",
      "dropout_2 (Dropout)             (None, 65536, 8)     0           activation_1[0][0]               \n",
      "__________________________________________________________________________________________________\n",
      "conv1_down2 (Conv1D)            (None, 65536, 8)     1032        dropout_2[0][0]                  \n",
      "__________________________________________________________________________________________________\n",
      "activation_2 (Activation)       (None, 65536, 8)     0           conv1_down2[0][0]                \n",
      "__________________________________________________________________________________________________\n",
      "dropout_3 (Dropout)             (None, 65536, 8)     0           activation_2[0][0]               \n",
      "__________________________________________________________________________________________________\n",
      "pool0 (MaxPooling1D)            (None, 16384, 8)     0           dropout_3[0][0]                  \n",
      "__________________________________________________________________________________________________\n",
      "conv2_down1 (Conv1D)            (None, 16384, 16)    2064        pool0[0][0]                      \n",
      "__________________________________________________________________________________________________\n",
      "activation_3 (Activation)       (None, 16384, 16)    0           conv2_down1[0][0]                \n",
      "__________________________________________________________________________________________________\n",
      "dropout_4 (Dropout)             (None, 16384, 16)    0           activation_3[0][0]               \n",
      "__________________________________________________________________________________________________\n",
      "conv2_down2 (Conv1D)            (None, 16384, 16)    4112        dropout_4[0][0]                  \n",
      "__________________________________________________________________________________________________\n",
      "activation_4 (Activation)       (None, 16384, 16)    0           conv2_down2[0][0]                \n",
      "__________________________________________________________________________________________________\n",
      "dropout_5 (Dropout)             (None, 16384, 16)    0           activation_4[0][0]               \n",
      "__________________________________________________________________________________________________\n",
      "pool1 (MaxPooling1D)            (None, 4096, 16)     0           dropout_5[0][0]                  \n",
      "__________________________________________________________________________________________________\n",
      "conv3_down1 (Conv1D)            (None, 4096, 32)     8224        pool1[0][0]                      \n",
      "__________________________________________________________________________________________________\n",
      "activation_5 (Activation)       (None, 4096, 32)     0           conv3_down1[0][0]                \n",
      "__________________________________________________________________________________________________\n",
      "dropout_6 (Dropout)             (None, 4096, 32)     0           activation_5[0][0]               \n",
      "__________________________________________________________________________________________________\n",
      "conv3_down2 (Conv1D)            (None, 4096, 32)     16416       dropout_6[0][0]                  \n",
      "__________________________________________________________________________________________________\n",
      "activation_6 (Activation)       (None, 4096, 32)     0           conv3_down2[0][0]                \n",
      "__________________________________________________________________________________________________\n",
      "dropout_7 (Dropout)             (None, 4096, 32)     0           activation_6[0][0]               \n",
      "__________________________________________________________________________________________________\n",
      "pool2 (MaxPooling1D)            (None, 1024, 32)     0           dropout_7[0][0]                  \n",
      "__________________________________________________________________________________________________\n",
      "conv4_down1 (Conv1D)            (None, 1024, 64)     32832       pool2[0][0]                      \n",
      "__________________________________________________________________________________________________\n",
      "activation_7 (Activation)       (None, 1024, 64)     0           conv4_down1[0][0]                \n",
      "__________________________________________________________________________________________________\n",
      "dropout_8 (Dropout)             (None, 1024, 64)     0           activation_7[0][0]               \n",
      "__________________________________________________________________________________________________\n",
      "conv4_down2 (Conv1D)            (None, 1024, 64)     65600       dropout_8[0][0]                  \n",
      "__________________________________________________________________________________________________\n",
      "activation_8 (Activation)       (None, 1024, 64)     0           conv4_down2[0][0]                \n",
      "__________________________________________________________________________________________________\n",
      "dropout_9 (Dropout)             (None, 1024, 64)     0           activation_8[0][0]               \n",
      "__________________________________________________________________________________________________\n",
      "pool3 (MaxPooling1D)            (None, 256, 64)      0           dropout_9[0][0]                  \n",
      "__________________________________________________________________________________________________\n",
      "conv5_down1 (Conv1D)            (None, 256, 128)     131200      pool3[0][0]                      \n",
      "__________________________________________________________________________________________________\n",
      "activation_9 (Activation)       (None, 256, 128)     0           conv5_down1[0][0]                \n",
      "__________________________________________________________________________________________________\n",
      "dropout_10 (Dropout)            (None, 256, 128)     0           activation_9[0][0]               \n",
      "__________________________________________________________________________________________________\n",
      "conv5_down2 (Conv1D)            (None, 256, 128)     262272      dropout_10[0][0]                 \n",
      "__________________________________________________________________________________________________\n",
      "activation_10 (Activation)      (None, 256, 128)     0           conv5_down2[0][0]                \n",
      "__________________________________________________________________________________________________\n",
      "dropout_11 (Dropout)            (None, 256, 128)     0           activation_10[0][0]              \n",
      "__________________________________________________________________________________________________\n",
      "pool4 (MaxPooling1D)            (None, 64, 128)      0           dropout_11[0][0]                 \n",
      "__________________________________________________________________________________________________\n",
      "concatenate_1 (Concatenate)     (None, 64, 256)      0           pool4[0][0]                      \n",
      "                                                                 pool4[0][0]                      \n",
      "__________________________________________________________________________________________________\n",
      "up4 (UpSampling1D)              (None, 256, 256)     0           concatenate_1[0][0]              \n",
      "__________________________________________________________________________________________________\n",
      "conv4_up0 (Conv1D)              (None, 256, 128)     524416      up4[0][0]                        \n",
      "__________________________________________________________________________________________________\n",
      "activation_11 (Activation)      (None, 256, 128)     0           conv4_up0[0][0]                  \n",
      "__________________________________________________________________________________________________\n",
      "dropout_12 (Dropout)            (None, 256, 128)     0           activation_11[0][0]              \n",
      "__________________________________________________________________________________________________\n",
      "conv4_up1 (Conv1D)              (None, 256, 128)     262272      dropout_12[0][0]                 \n",
      "__________________________________________________________________________________________________\n",
      "activation_12 (Activation)      (None, 256, 128)     0           conv4_up1[0][0]                  \n",
      "__________________________________________________________________________________________________\n",
      "dropout_13 (Dropout)            (None, 256, 128)     0           activation_12[0][0]              \n",
      "__________________________________________________________________________________________________\n",
      "concatenate_2 (Concatenate)     (None, 256, 192)     0           pool3[0][0]                      \n",
      "                                                                 dropout_13[0][0]                 \n",
      "__________________________________________________________________________________________________\n",
      "up3 (UpSampling1D)              (None, 1024, 192)    0           concatenate_2[0][0]              \n",
      "__________________________________________________________________________________________________\n",
      "conv3_up0 (Conv1D)              (None, 1024, 64)     196672      up3[0][0]                        \n",
      "__________________________________________________________________________________________________\n",
      "activation_13 (Activation)      (None, 1024, 64)     0           conv3_up0[0][0]                  \n",
      "__________________________________________________________________________________________________\n",
      "dropout_14 (Dropout)            (None, 1024, 64)     0           activation_13[0][0]              \n",
      "__________________________________________________________________________________________________\n",
      "conv3_up1 (Conv1D)              (None, 1024, 64)     65600       dropout_14[0][0]                 \n",
      "__________________________________________________________________________________________________\n",
      "activation_14 (Activation)      (None, 1024, 64)     0           conv3_up1[0][0]                  \n",
      "__________________________________________________________________________________________________\n",
      "dropout_15 (Dropout)            (None, 1024, 64)     0           activation_14[0][0]              \n",
      "__________________________________________________________________________________________________\n",
      "concatenate_3 (Concatenate)     (None, 1024, 96)     0           pool2[0][0]                      \n",
      "                                                                 dropout_15[0][0]                 \n",
      "__________________________________________________________________________________________________\n",
      "up2 (UpSampling1D)              (None, 4096, 96)     0           concatenate_3[0][0]              \n",
      "__________________________________________________________________________________________________\n",
      "conv2_up0 (Conv1D)              (None, 4096, 32)     49184       up2[0][0]                        \n",
      "__________________________________________________________________________________________________\n",
      "activation_15 (Activation)      (None, 4096, 32)     0           conv2_up0[0][0]                  \n",
      "__________________________________________________________________________________________________\n",
      "dropout_16 (Dropout)            (None, 4096, 32)     0           activation_15[0][0]              \n",
      "__________________________________________________________________________________________________\n",
      "conv2_up1 (Conv1D)              (None, 4096, 32)     16416       dropout_16[0][0]                 \n",
      "__________________________________________________________________________________________________\n",
      "activation_16 (Activation)      (None, 4096, 32)     0           conv2_up1[0][0]                  \n",
      "__________________________________________________________________________________________________\n",
      "dropout_17 (Dropout)            (None, 4096, 32)     0           activation_16[0][0]              \n",
      "__________________________________________________________________________________________________\n",
      "concatenate_4 (Concatenate)     (None, 4096, 48)     0           pool1[0][0]                      \n",
      "                                                                 dropout_17[0][0]                 \n",
      "__________________________________________________________________________________________________\n",
      "up1 (UpSampling1D)              (None, 16384, 48)    0           concatenate_4[0][0]              \n",
      "__________________________________________________________________________________________________\n",
      "conv1_up0 (Conv1D)              (None, 16384, 16)    12304       up1[0][0]                        \n",
      "__________________________________________________________________________________________________\n",
      "activation_17 (Activation)      (None, 16384, 16)    0           conv1_up0[0][0]                  \n",
      "__________________________________________________________________________________________________\n",
      "dropout_18 (Dropout)            (None, 16384, 16)    0           activation_17[0][0]              \n",
      "__________________________________________________________________________________________________\n",
      "conv1_up1 (Conv1D)              (None, 16384, 16)    4112        dropout_18[0][0]                 \n",
      "__________________________________________________________________________________________________\n",
      "activation_18 (Activation)      (None, 16384, 16)    0           conv1_up1[0][0]                  \n",
      "__________________________________________________________________________________________________\n",
      "dropout_19 (Dropout)            (None, 16384, 16)    0           activation_18[0][0]              \n",
      "__________________________________________________________________________________________________\n",
      "concatenate_5 (Concatenate)     (None, 16384, 24)    0           pool0[0][0]                      \n",
      "                                                                 dropout_19[0][0]                 \n",
      "__________________________________________________________________________________________________\n",
      "up0 (UpSampling1D)              (None, 65536, 24)    0           concatenate_5[0][0]              \n",
      "__________________________________________________________________________________________________\n",
      "conv0_up0 (Conv1D)              (None, 65536, 8)     3080        up0[0][0]                        \n",
      "__________________________________________________________________________________________________\n",
      "activation_19 (Activation)      (None, 65536, 8)     0           conv0_up0[0][0]                  \n",
      "__________________________________________________________________________________________________\n",
      "dropout_20 (Dropout)            (None, 65536, 8)     0           activation_19[0][0]              \n",
      "__________________________________________________________________________________________________\n",
      "conv0_up1 (Conv1D)              (None, 65536, 8)     1032        dropout_20[0][0]                 \n",
      "__________________________________________________________________________________________________\n",
      "activation_20 (Activation)      (None, 65536, 8)     0           conv0_up1[0][0]                  \n",
      "__________________________________________________________________________________________________\n",
      "dropout_21 (Dropout)            (None, 65536, 8)     0           activation_20[0][0]              \n",
      "__________________________________________________________________________________________________\n",
      "output_layer (Dense)            (None, 65536, 4)     36          dropout_21[0][0]                 \n",
      "==================================================================================================\n",
      "Total params: 1,659,268\n",
      "Trainable params: 1,659,268\n",
      "Non-trainable params: 0\n",
      "__________________________________________________________________________________________________\n",
      "None\n"
     ]
    }
   ],
   "source": [
    "# declare model\n",
    "model=segnet(input_shape=(nv, na), n_classes=nc, n_filters=8)\n",
    "\n",
    "# and optimizer\n",
    "if hor:\n",
    "    adam=optimizers.Adam(lr=1e-4 * hvd.size())\n",
    "    adam=hvd.DistributedOptimizer(adam)\n",
    "else:\n",
    "    adam=optimizers.Adam(lr=1e-4)\n",
    "\n",
    "# now compile and show parameter summary\n",
    "model.compile(optimizer=adam, loss='categorical_crossentropy', metrics=['accuracy']) \n",
    "print(model.summary())"
   ]
  },
  {
   "cell_type": "code",
   "execution_count": 6,
   "metadata": {
    "scrolled": false
   },
   "outputs": [
    {
     "name": "stdout",
     "output_type": "stream",
     "text": [
      "[(5008, 1105538, 7), (5008, 1105538, 5), (5008, 1105538, 7)]\n"
     ]
    }
   ],
   "source": [
    "# load data\n",
    "data_root='/home/magu/deepmix/data/ALL_DNA_dataset/'\n",
    "X = np.load(data_root+'unzipped/chm_21.genotypes.npy', mmap_mode='r')\n",
    "Y = np.load(data_root+'unzipped/chm_21.labels.npy', mmap_mode='r')\n",
    "S = np.load(data_root+'unzipped/chm_21.samples.npy')\n",
    "print([X.shape, Y.shape, X.shape])"
   ]
  },
  {
   "cell_type": "code",
   "execution_count": 7,
   "metadata": {},
   "outputs": [
    {
     "name": "stdout",
     "output_type": "stream",
     "text": [
      "3428\n"
     ]
    }
   ],
   "source": [
    "# and train individuals\n",
    "train=np.loadtxt(data_root+'chm21.train.txt', dtype=str)\n",
    "train_ix=[i for i,q in enumerate(train) if q in S]\n",
    "print(len(train_ix))"
   ]
  },
  {
   "cell_type": "code",
   "execution_count": 51,
   "metadata": {},
   "outputs": [
    {
     "name": "stdout",
     "output_type": "stream",
     "text": [
      "[(100, 65536, 3), (100, 65536, 4)]\n"
     ]
    }
   ],
   "source": [
    "# and some dev individuals, why not -- first pick their indexes\n",
    "n=100\n",
    "S=np.load(data_root+'simulated/label/dev_10gen.result.npz')['S']\n",
    "s=np.random.choice(S, size=n, replace=False)\n",
    "\n",
    "# then load and subset -- AMR is the first ancestry label, ignored for now\n",
    "x_f=data_root+'simulated/numpy/dev_10gen.query.ALL_X.npz'\n",
    "y_f=data_root+'simulated/label/dev_10gen.result.npz'\n",
    "S_f=np.load(x_f)['S']\n",
    "X_dev=np.load(x_f)['G'][[np.where(S_f==(i))[0][0] for i in s],:nv,:na]\n",
    "S_f=np.load(y_f)['S']\n",
    "Y_dev=to_categorical(np.load(y_f)['L'][[np.where(S_f==(i))[0][0] for i in s],:nv], dtype='bool')[:,:,1:]\n",
    "print([X_dev.shape, Y_dev.shape])"
   ]
  },
  {
   "cell_type": "code",
   "execution_count": 8,
   "metadata": {},
   "outputs": [
    {
     "name": "stdout",
     "output_type": "stream",
     "text": [
      "Epoch 1/50\n",
      "107/107 [==============================] - 176s 2s/step - loss: 1.1302 - accuracy: 0.2825\n",
      "Epoch 2/50\n",
      "107/107 [==============================] - 112s 1s/step - loss: 1.1238 - accuracy: 0.2404\n",
      "Epoch 3/50\n",
      "107/107 [==============================] - 113s 1s/step - loss: 1.1214 - accuracy: 0.2392\n",
      "Epoch 4/50\n",
      "107/107 [==============================] - 112s 1s/step - loss: 1.1205 - accuracy: 0.2385\n",
      "Epoch 5/50\n",
      "107/107 [==============================] - 112s 1s/step - loss: 1.1201 - accuracy: 0.2407\n",
      "Epoch 6/50\n",
      "107/107 [==============================] - 112s 1s/step - loss: 1.1203 - accuracy: 0.2373\n",
      "Epoch 7/50\n",
      "107/107 [==============================] - 113s 1s/step - loss: 1.1202 - accuracy: 0.2401\n",
      "Epoch 8/50\n",
      "107/107 [==============================] - 113s 1s/step - loss: 1.1198 - accuracy: 0.2416\n",
      "Epoch 9/50\n",
      "107/107 [==============================] - 115s 1s/step - loss: 1.1186 - accuracy: 0.2647\n",
      "Epoch 10/50\n",
      "107/107 [==============================] - 115s 1s/step - loss: 1.1122 - accuracy: 0.3177\n",
      "Epoch 11/50\n",
      "107/107 [==============================] - 115s 1s/step - loss: 1.0823 - accuracy: 0.3557\n",
      "Epoch 12/50\n",
      "107/107 [==============================] - 114s 1s/step - loss: 1.0244 - accuracy: 0.3811\n",
      "Epoch 13/50\n",
      "107/107 [==============================] - 114s 1s/step - loss: 0.9728 - accuracy: 0.3940\n",
      "Epoch 14/50\n",
      "107/107 [==============================] - 114s 1s/step - loss: 0.9193 - accuracy: 0.4188\n",
      "Epoch 15/50\n",
      "107/107 [==============================] - 115s 1s/step - loss: 0.8590 - accuracy: 0.4583\n",
      "Epoch 16/50\n",
      "107/107 [==============================] - 114s 1s/step - loss: 0.8095 - accuracy: 0.4969\n",
      "Epoch 17/50\n",
      "107/107 [==============================] - 115s 1s/step - loss: 0.7703 - accuracy: 0.5191\n",
      "Epoch 18/50\n",
      "107/107 [==============================] - 112s 1s/step - loss: 0.7355 - accuracy: 0.5363\n",
      "Epoch 19/50\n",
      "107/107 [==============================] - 112s 1s/step - loss: 0.6991 - accuracy: 0.5544\n",
      "Epoch 20/50\n",
      "107/107 [==============================] - 113s 1s/step - loss: 0.6680 - accuracy: 0.5678\n",
      "Epoch 21/50\n",
      "107/107 [==============================] - 115s 1s/step - loss: 0.6417 - accuracy: 0.5780\n",
      "Epoch 22/50\n",
      "107/107 [==============================] - 113s 1s/step - loss: 0.6140 - accuracy: 0.5880\n",
      "Epoch 23/50\n",
      "107/107 [==============================] - 112s 1s/step - loss: 0.5968 - accuracy: 0.5946\n",
      "Epoch 24/50\n",
      "107/107 [==============================] - 112s 1s/step - loss: 0.5677 - accuracy: 0.6056\n",
      "Epoch 25/50\n",
      "107/107 [==============================] - 113s 1s/step - loss: 0.5554 - accuracy: 0.6101\n",
      "Epoch 26/50\n",
      "107/107 [==============================] - 114s 1s/step - loss: 0.5324 - accuracy: 0.6178\n",
      "Epoch 27/50\n",
      "107/107 [==============================] - 114s 1s/step - loss: 0.5243 - accuracy: 0.6256\n",
      "Epoch 28/50\n",
      "107/107 [==============================] - 113s 1s/step - loss: 0.4918 - accuracy: 0.6423\n",
      "Epoch 29/50\n",
      "107/107 [==============================] - 112s 1s/step - loss: 0.4799 - accuracy: 0.6471\n",
      "Epoch 30/50\n",
      "107/107 [==============================] - 112s 1s/step - loss: 0.4567 - accuracy: 0.6587\n",
      "Epoch 31/50\n",
      "107/107 [==============================] - 113s 1s/step - loss: 0.4401 - accuracy: 0.6651\n",
      "Epoch 32/50\n",
      "107/107 [==============================] - 112s 1s/step - loss: 0.4087 - accuracy: 0.6778\n",
      "Epoch 33/50\n",
      "107/107 [==============================] - 112s 1s/step - loss: 0.4041 - accuracy: 0.6823\n",
      "Epoch 34/50\n",
      "107/107 [==============================] - 113s 1s/step - loss: 0.3791 - accuracy: 0.6910\n",
      "Epoch 35/50\n",
      "107/107 [==============================] - 113s 1s/step - loss: 0.3635 - accuracy: 0.6976\n",
      "Epoch 36/50\n",
      "107/107 [==============================] - 114s 1s/step - loss: 0.3435 - accuracy: 0.7045\n",
      "Epoch 37/50\n",
      "107/107 [==============================] - 114s 1s/step - loss: 0.3328 - accuracy: 0.7092\n",
      "Epoch 38/50\n",
      "107/107 [==============================] - 112s 1s/step - loss: 0.3053 - accuracy: 0.7201\n",
      "Epoch 39/50\n",
      "107/107 [==============================] - 112s 1s/step - loss: 0.2907 - accuracy: 0.7257\n",
      "Epoch 40/50\n",
      "107/107 [==============================] - 115s 1s/step - loss: 0.2843 - accuracy: 0.7285\n",
      "Epoch 41/50\n",
      "107/107 [==============================] - 115s 1s/step - loss: 0.2647 - accuracy: 0.7361\n",
      "Epoch 42/50\n",
      "107/107 [==============================] - 114s 1s/step - loss: 0.2524 - accuracy: 0.7415\n",
      "Epoch 43/50\n",
      "107/107 [==============================] - 114s 1s/step - loss: 0.2449 - accuracy: 0.7439\n",
      "Epoch 44/50\n",
      "107/107 [==============================] - 114s 1s/step - loss: 0.2270 - accuracy: 0.7503\n",
      "Epoch 45/50\n",
      "107/107 [==============================] - 115s 1s/step - loss: 0.2238 - accuracy: 0.7524\n",
      "Epoch 46/50\n",
      "107/107 [==============================] - 115s 1s/step - loss: 0.2110 - accuracy: 0.7569\n",
      "Epoch 47/50\n",
      "107/107 [==============================] - 115s 1s/step - loss: 0.1976 - accuracy: 0.7626\n",
      "Epoch 48/50\n",
      "107/107 [==============================] - 113s 1s/step - loss: 0.1930 - accuracy: 0.7634\n",
      "Epoch 49/50\n",
      "107/107 [==============================] - 113s 1s/step - loss: 0.1863 - accuracy: 0.7666\n",
      "Epoch 50/50\n",
      "107/107 [==============================] - 112s 1s/step - loss: 0.1764 - accuracy: 0.7703\n"
     ]
    }
   ],
   "source": [
    "# now try it out!\n",
    "if gen:\n",
    "    params={'X':X, 'Y':Y, 'dim':nv, 'batch_size':32, 'n_classes':nc, 'n_alleles':na}\n",
    "    generator=DataGenerator(train_ix, **params)\n",
    "    history=model.fit_generator(generator=generator, epochs=ne, validation_data=(X_dey, Y_dev))\n",
    "else:\n",
    "    history=model.fit(X[train_ix,:nv,:na], Y[train_ix,:nv,1:], batch_size=4, epochs=ne)"
   ]
  },
  {
   "cell_type": "code",
   "execution_count": 60,
   "metadata": {},
   "outputs": [
    {
     "name": "stdout",
     "output_type": "stream",
     "text": [
      "0.8950451612472534\n"
     ]
    },
    {
     "data": {
      "image/png": "[encoded data removed]",
      "text/plain": [
       "<Figure size 648x648 with 2 Axes>"
      ]
     },
     "metadata": {
      "needs_background": "light"
     },
     "output_type": "display_data"
    }
   ],
   "source": [
    "_, dev_acc = model.evaluate(X_dev, Y_dev, verbose=0)\n",
    "\n",
    "# 1.1) plot loss during training\n",
    "import matplotlib.pyplot as plt\n",
    "%matplotlib inline\n",
    "plt.figure(1, (9,9))\n",
    "plt.subplot(211)\n",
    "plt.title('Loss during training')\n",
    "plt.plot(history.history['loss'], label='train set')\n",
    "plt.plot(history.history['val_loss'], label='dev set')\n",
    "plt.legend()\n",
    "\n",
    "# 1.2) plot accuracy during training\n",
    "plt.subplot(212)\n",
    "plt.title('Accuracy')\n",
    "plt.plot(history.history['accuracy'], label='train set')\n",
    "plt.plot(history.history['val_accuracy'], label='dev set')\n",
    "plt.legend()\n",
    "\n",
    "print(dev_acc)"
   ]
  },
  {
   "cell_type": "code",
   "execution_count": 61,
   "metadata": {},
   "outputs": [],
   "source": [
    "Y_hat_p=model.predict(X_dev)\n",
    "Y_hat=np.argmax(Y_hat_p, axis=-1)"
   ]
  },
  {
   "cell_type": "code",
   "execution_count": 62,
   "metadata": {},
   "outputs": [
    {
     "data": {
      "text/plain": [
       "(100, 65536)"
      ]
     },
     "execution_count": 62,
     "metadata": {},
     "output_type": "execute_result"
    }
   ],
   "source": [
    "Y_hat.shape"
   ]
  },
  {
   "cell_type": "code",
   "execution_count": 63,
   "metadata": {},
   "outputs": [
    {
     "name": "stdout",
     "output_type": "stream",
     "text": [
      "(0, [0, 0, 8185, 57351], [0, 0, 0, 65536])\n",
      "(1, [13829, 50937, 679, 91], [16310, 49226, 0, 0])\n",
      "(2, [0, 0, 65536, 0], [0, 0, 65536, 0])\n",
      "(3, [65536, 0, 0, 0], [65536, 0, 0, 0])\n",
      "(4, [16619, 5698, 36755, 6464], [34671, 0, 30865, 0])\n",
      "(5, [0, 0, 65373, 163], [0, 0, 65536, 0])\n",
      "(6, [0, 0, 65536, 0], [0, 0, 65536, 0])\n",
      "(7, [0, 6055, 16746, 42735], [0, 0, 0, 65536])\n",
      "(8, [0, 65536, 0, 0], [0, 65536, 0, 0])\n",
      "(9, [0, 65522, 14, 0], [0, 65536, 0, 0])\n",
      "(10, [0, 58400, 7136, 0], [0, 65536, 0, 0])\n",
      "(11, [0, 0, 65536, 0], [0, 0, 65536, 0])\n",
      "(12, [65536, 0, 0, 0], [65536, 0, 0, 0])\n",
      "(13, [65536, 0, 0, 0], [65536, 0, 0, 0])\n",
      "(14, [0, 1854, 40440, 23242], [0, 0, 0, 65536])\n",
      "(15, [0, 0, 65536, 0], [0, 0, 65536, 0])\n",
      "(16, [0, 58400, 7136, 0], [0, 65536, 0, 0])\n",
      "(17, [65536, 0, 0, 0], [65536, 0, 0, 0])\n",
      "(18, [0, 0, 65536, 0], [0, 0, 65536, 0])\n",
      "(19, [0, 0, 65536, 0], [0, 0, 65536, 0])\n",
      "(20, [65536, 0, 0, 0], [65536, 0, 0, 0])\n",
      "(21, [0, 58400, 7136, 0], [0, 65536, 0, 0])\n",
      "(22, [65530, 0, 0, 6], [65536, 0, 0, 0])\n",
      "(23, [0, 58400, 7136, 0], [0, 65536, 0, 0])\n",
      "(24, [0, 6055, 16746, 42735], [0, 0, 0, 65536])\n",
      "(25, [65536, 0, 0, 0], [65536, 0, 0, 0])\n",
      "(26, [65536, 0, 0, 0], [65536, 0, 0, 0])\n",
      "(27, [0, 1854, 40344, 23338], [0, 4769, 0, 60767])\n",
      "(28, [0, 0, 65536, 0], [0, 0, 65536, 0])\n",
      "(29, [0, 0, 65536, 0], [0, 0, 65536, 0])\n",
      "(30, [0, 58400, 7136, 0], [0, 65536, 0, 0])\n",
      "(31, [59147, 0, 5664, 725], [60806, 0, 4730, 0])\n",
      "(32, [677, 34382, 23953, 6524], [0, 37278, 28258, 0])\n",
      "(33, [0, 0, 65536, 0], [0, 0, 65536, 0])\n",
      "(34, [0, 0, 8185, 57351], [0, 0, 0, 65536])\n",
      "(35, [0, 5154, 9426, 50956], [0, 0, 0, 65536])\n",
      "(36, [597, 0, 64888, 51], [0, 0, 65536, 0])\n",
      "(37, [0, 0, 65536, 0], [0, 0, 65536, 0])\n",
      "(38, [0, 6055, 16746, 42735], [0, 0, 0, 65536])\n",
      "(39, [65536, 0, 0, 0], [65536, 0, 0, 0])\n",
      "(40, [0, 0, 65536, 0], [0, 0, 65536, 0])\n",
      "(41, [0, 2861, 19230, 43445], [0, 0, 0, 65536])\n",
      "(42, [0, 59309, 14, 6213], [0, 65536, 0, 0])\n",
      "(43, [0, 0, 65536, 0], [0, 0, 65536, 0])\n",
      "(44, [0, 1580, 63956, 0], [0, 0, 65536, 0])\n",
      "(45, [0, 16771, 47252, 1513], [0, 15241, 50295, 0])\n",
      "(46, [0, 0, 65373, 163], [0, 0, 65536, 0])\n",
      "(47, [65536, 0, 0, 0], [65536, 0, 0, 0])\n",
      "(48, [0, 0, 65536, 0], [0, 0, 65536, 0])\n",
      "(49, [36876, 27011, 0, 1649], [35508, 30028, 0, 0])\n",
      "(50, [0, 58400, 7136, 0], [0, 65536, 0, 0])\n",
      "(51, [36876, 27011, 0, 1649], [35508, 30028, 0, 0])\n",
      "(52, [65536, 0, 0, 0], [65536, 0, 0, 0])\n",
      "(53, [65487, 0, 0, 49], [65536, 0, 0, 0])\n",
      "(54, [59879, 0, 60, 5597], [65536, 0, 0, 0])\n",
      "(55, [0, 65536, 0, 0], [0, 65536, 0, 0])\n",
      "(56, [0, 58400, 7136, 0], [0, 65536, 0, 0])\n",
      "(57, [597, 0, 64888, 51], [0, 0, 65536, 0])\n",
      "(58, [0, 65536, 0, 0], [0, 65536, 0, 0])\n",
      "(59, [0, 65536, 0, 0], [0, 65536, 0, 0])\n",
      "(60, [53420, 0, 294, 11822], [30733, 0, 0, 34803])\n",
      "(61, [0, 0, 65536, 0], [0, 0, 65536, 0])\n",
      "(62, [0, 2861, 23309, 39366], [0, 0, 0, 65536])\n",
      "(63, [0, 65536, 0, 0], [0, 65536, 0, 0])\n",
      "(64, [0, 2861, 19230, 43445], [0, 0, 0, 65536])\n",
      "(65, [0, 0, 65536, 0], [0, 0, 65536, 0])\n",
      "(66, [0, 65536, 0, 0], [0, 65536, 0, 0])\n",
      "(67, [0, 1854, 40440, 23242], [0, 0, 0, 65536])\n",
      "(68, [0, 7062, 44372, 14102], [0, 0, 65536, 0])\n",
      "(69, [0, 58400, 7136, 0], [0, 65536, 0, 0])\n",
      "(70, [0, 0, 65536, 0], [0, 0, 65536, 0])\n",
      "(71, [0, 65536, 0, 0], [0, 65536, 0, 0])\n",
      "(72, [0, 1854, 40344, 23338], [0, 4769, 0, 60767])\n",
      "(73, [0, 65536, 0, 0], [0, 65536, 0, 0])\n",
      "(74, [0, 58400, 7136, 0], [0, 65536, 0, 0])\n",
      "(75, [65536, 0, 0, 0], [65536, 0, 0, 0])\n",
      "(76, [65536, 0, 0, 0], [65536, 0, 0, 0])\n",
      "(77, [597, 0, 64888, 51], [0, 0, 65536, 0])\n",
      "(78, [54710, 3331, 0, 7495], [65536, 0, 0, 0])\n",
      "(79, [29899, 644, 20555, 14438], [27514, 0, 16200, 21822])\n",
      "(80, [16949, 6391, 406, 41790], [0, 0, 0, 65536])\n",
      "(81, [16949, 6391, 406, 41790], [0, 0, 0, 65536])\n",
      "(82, [0, 65494, 42, 0], [0, 65536, 0, 0])\n",
      "(83, [0, 65522, 14, 0], [0, 65536, 0, 0])\n",
      "(84, [0, 0, 65536, 0], [0, 0, 65536, 0])\n",
      "(85, [0, 65536, 0, 0], [0, 65536, 0, 0])\n",
      "(86, [0, 0, 65536, 0], [0, 0, 65536, 0])\n",
      "(87, [0, 5154, 9426, 50956], [0, 0, 0, 65536])\n",
      "(88, [0, 65536, 0, 0], [0, 65536, 0, 0])\n",
      "(89, [17133, 5698, 36574, 6131], [27611, 0, 37925, 0])\n",
      "(90, [54710, 3331, 0, 7495], [65536, 0, 0, 0])\n",
      "(91, [7253, 1854, 29281, 27148], [4735, 34, 0, 60767])\n",
      "(92, [0, 2861, 19230, 43445], [0, 0, 0, 65536])\n",
      "(93, [0, 0, 65536, 0], [0, 0, 65536, 0])\n",
      "(94, [65536, 0, 0, 0], [65536, 0, 0, 0])\n",
      "(95, [64331, 0, 0, 1205], [65536, 0, 0, 0])\n",
      "(96, [0, 0, 65536, 0], [0, 0, 65536, 0])\n",
      "(97, [0, 0, 65536, 0], [0, 0, 65536, 0])\n",
      "(98, [0, 58400, 7136, 0], [0, 65536, 0, 0])\n",
      "(99, [0, 13561, 51975, 0], [0, 27545, 37991, 0])\n"
     ]
    }
   ],
   "source": [
    "for i in range(Y_hat.shape[0]):\n",
    "    print((i, [np.count_nonzero(Y_hat[i,:]==j) for j in range(Y_hat_p.shape[-1])], \n",
    "           [np.count_nonzero(Y_dev[i,:,:].argmax(axis=-1)==j) for j in range(Y_hat_p.shape[-1])]))"
   ]
  },
  {
   "cell_type": "code",
   "execution_count": 74,
   "metadata": {},
   "outputs": [
    {
     "data": {
      "text/plain": [
       "<matplotlib.image.AxesImage at 0x7ef0c7c9ad68>"
      ]
     },
     "execution_count": 74,
     "metadata": {},
     "output_type": "execute_result"
    },
    {
     "data": {
      "image/png": "[encoded data removed]",
      "text/plain": [
       "<Figure size 864x216 with 2 Axes>"
      ]
     },
     "metadata": {
      "needs_background": "light"
     },
     "output_type": "display_data"
    }
   ],
   "source": [
    "plt.figure(figsize=(12, 3))\n",
    "Y_dev_lab = np.argmax(Y_dev, axis=-1)\n",
    "plt.subplot(211)\n",
    "plt.title('Dev set ground truths')\n",
    "plt.imshow(Y_dev_lab[46:47,:].astype(int), aspect='auto')#, cmap='jet')\n",
    "\n",
    "plt.subplot(212)\n",
    "plt.title('Corresponding dev set predictions')\n",
    "plt.imshow(Y_hat[46:47,:].astype(int), aspect='auto')#, cmap='jet')"
   ]
  },
  {
   "cell_type": "code",
   "execution_count": 65,
   "metadata": {},
   "outputs": [
    {
     "data": {
      "text/plain": [
       "(array([57534, 57535, 57536, 57537, 57541, 57542, 57543, 57676, 57677,\n",
       "        57678, 57679, 57690, 57691, 57692, 57702, 57714, 57724, 57771,\n",
       "        57772, 57778, 57779, 57780, 57781, 57782, 57784, 57785, 57786,\n",
       "        57787, 57788, 57789, 57790, 57791, 57792, 57793, 57794, 57795,\n",
       "        57796, 57802, 57803, 57843, 57882, 57883, 57890, 57891, 57905,\n",
       "        57906, 57907, 57912, 57916, 57917, 57918, 57919, 57920, 57921,\n",
       "        57922, 57923, 57924, 57925, 57928, 57929, 57930, 57931, 57932,\n",
       "        57933, 57935, 57936, 57937, 57940, 57941, 57942, 57943, 57949,\n",
       "        57954, 57955, 57957, 57958, 57959, 57960, 57961, 57963, 57964,\n",
       "        57965, 57966, 57967, 57968, 57969, 57970, 57971, 57972, 57973,\n",
       "        57974, 57975, 57976, 57977, 57978, 57979, 57980, 57981, 57983,\n",
       "        57984, 57985, 57986, 57987, 57988, 57989, 57990, 57991, 57992,\n",
       "        57993, 57994, 57995, 57996, 57997, 57998, 58000, 58032, 58036,\n",
       "        58037, 58038, 58039, 58040, 58041, 58044, 58045, 58046, 58047,\n",
       "        58070, 58082, 58083, 58085, 58086, 58087, 58088, 58094, 58095,\n",
       "        58151, 58155, 58156, 58160, 58161, 58162, 58163, 58164, 58165,\n",
       "        58166, 58167, 58168, 58169, 58170, 58171, 58172, 58177, 58178,\n",
       "        58179, 58180, 58251, 58255, 58264, 58265, 58266, 58270, 58272,\n",
       "        58351]),)"
      ]
     },
     "execution_count": 65,
     "metadata": {},
     "output_type": "execute_result"
    }
   ],
   "source": [
    "np.where(np.argmax(Y_hat_p[46,:,:], axis=-1)==3)"
   ]
  },
  {
   "cell_type": "code",
   "execution_count": 75,
   "metadata": {},
   "outputs": [
    {
     "data": {
      "text/plain": [
       "<matplotlib.image.AxesImage at 0x7ef0c7bc6dd8>"
      ]
     },
     "execution_count": 75,
     "metadata": {},
     "output_type": "execute_result"
    },
    {
     "data": {
      "image/png": "[encoded data removed]",
      "text/plain": [
       "<Figure size 864x216 with 2 Axes>"
      ]
     },
     "metadata": {
      "needs_background": "light"
     },
     "output_type": "display_data"
    }
   ],
   "source": [
    "plt.figure(figsize=(12, 3))\n",
    "Y_dev_lab = np.argmax(Y_dev, axis=-1)\n",
    "plt.subplot(211)\n",
    "plt.title('Dev set ground truths')\n",
    "plt.imshow(Y_dev_lab[46:47,57500:58500].astype(int), aspect='auto')#, cmap='jet')\n",
    "\n",
    "plt.subplot(212)\n",
    "plt.title('Corresponding dev set predictions')\n",
    "plt.imshow(Y_hat[46:47,57500:58500].astype(int), aspect='auto')#, cmap='jet')"
   ]
  },
  {
   "cell_type": "code",
   "execution_count": 64,
   "metadata": {
    "scrolled": false
   },
   "outputs": [
    {
     "data": {
      "text/plain": [
       "array([[[0.08213563, 0.03751599, 0.41983905, 0.46050936],\n",
       "        [0.08442739, 0.03778391, 0.41895106, 0.4588377 ],\n",
       "        [0.07756697, 0.03825476, 0.42215565, 0.4620226 ],\n",
       "        [0.08144478, 0.03709413, 0.41963056, 0.46183056],\n",
       "        [0.08412994, 0.03623831, 0.4295293 , 0.45010245],\n",
       "        [0.07068453, 0.03938501, 0.41830742, 0.47162303],\n",
       "        [0.08393157, 0.03999302, 0.43248793, 0.44358742],\n",
       "        [0.10551558, 0.03331598, 0.42205355, 0.43911487],\n",
       "        [0.10936648, 0.03294842, 0.41509646, 0.44258857],\n",
       "        [0.11823862, 0.03112513, 0.39633045, 0.45430574],\n",
       "        [0.13361701, 0.03108295, 0.40373516, 0.4315649 ],\n",
       "        [0.12652649, 0.03134654, 0.39377025, 0.44835678],\n",
       "        [0.11971048, 0.03323135, 0.41661388, 0.43044427],\n",
       "        [0.12014994, 0.03446089, 0.41765112, 0.427738  ],\n",
       "        [0.10772035, 0.03603301, 0.4273333 , 0.4289134 ],\n",
       "        [0.1089386 , 0.03020698, 0.42846665, 0.43238777],\n",
       "        [0.1075957 , 0.03013862, 0.424393  , 0.43787274],\n",
       "        [0.11367026, 0.03274203, 0.3929032 , 0.46068442],\n",
       "        [0.12809886, 0.03265132, 0.40246534, 0.43678445],\n",
       "        [0.15436226, 0.03240324, 0.39665404, 0.41658044],\n",
       "        [0.14460406, 0.03101277, 0.369766  , 0.45461717],\n",
       "        [0.13245879, 0.03312699, 0.37888816, 0.4555261 ],\n",
       "        [0.13294841, 0.03210218, 0.37483665, 0.46011278],\n",
       "        [0.15670392, 0.03462116, 0.403694  , 0.40498096],\n",
       "        [0.14617552, 0.0339172 , 0.36593276, 0.45397455],\n",
       "        [0.1315431 , 0.03787149, 0.3490773 , 0.4815081 ],\n",
       "        [0.14129521, 0.03491364, 0.3311224 , 0.49266878],\n",
       "        [0.13251784, 0.04011971, 0.3634571 , 0.46390527],\n",
       "        [0.13966879, 0.04106709, 0.36514765, 0.4541165 ],\n",
       "        [0.13462889, 0.04066862, 0.38855702, 0.43614545],\n",
       "        [0.16011614, 0.03803222, 0.36415118, 0.43770042],\n",
       "        [0.17529617, 0.03596335, 0.37388235, 0.41485807],\n",
       "        [0.1503844 , 0.03815876, 0.3901829 , 0.42127395],\n",
       "        [0.1556063 , 0.03806426, 0.35310218, 0.45322728],\n",
       "        [0.13911751, 0.0436885 , 0.37734443, 0.4398496 ],\n",
       "        [0.1260879 , 0.04748536, 0.3830024 , 0.4434243 ],\n",
       "        [0.15695131, 0.04505474, 0.35626796, 0.44172603],\n",
       "        [0.15777537, 0.04280209, 0.37531328, 0.42410922],\n",
       "        [0.16234362, 0.04072566, 0.35701993, 0.4399108 ],\n",
       "        [0.15667985, 0.04591153, 0.3959153 , 0.4014933 ],\n",
       "        [0.1703512 , 0.0436474 , 0.3900121 , 0.39598927],\n",
       "        [0.18371242, 0.0425061 , 0.3727444 , 0.401037  ],\n",
       "        [0.1686424 , 0.04212276, 0.3898758 , 0.39935908],\n",
       "        [0.16314396, 0.04200841, 0.3918694 , 0.40297818],\n",
       "        [0.14547648, 0.04308401, 0.4053571 , 0.40608242],\n",
       "        [0.13206846, 0.04694413, 0.4002996 , 0.4206878 ],\n",
       "        [0.16702391, 0.04613408, 0.3910992 , 0.3957428 ],\n",
       "        [0.20410645, 0.04079359, 0.37706688, 0.3780331 ],\n",
       "        [0.1647862 , 0.04378839, 0.38902342, 0.40240198],\n",
       "        [0.16207735, 0.04292497, 0.35599574, 0.4390019 ],\n",
       "        [0.16658491, 0.03920839, 0.3417108 , 0.4524959 ],\n",
       "        [0.18970115, 0.03750756, 0.32713127, 0.44566002],\n",
       "        [0.16582572, 0.03899145, 0.36622828, 0.4289545 ],\n",
       "        [0.15595344, 0.03676634, 0.3717217 , 0.43555853],\n",
       "        [0.15148683, 0.0410017 , 0.36080304, 0.44670847],\n",
       "        [0.17571527, 0.0358206 , 0.33888283, 0.4495813 ],\n",
       "        [0.16888848, 0.0348763 , 0.35541627, 0.440819  ],\n",
       "        [0.16337231, 0.0388186 , 0.3797115 , 0.4180976 ],\n",
       "        [0.16231708, 0.04033211, 0.37523556, 0.4221153 ],\n",
       "        [0.17292558, 0.04291489, 0.38026023, 0.40389925],\n",
       "        [0.17532162, 0.03740526, 0.3518452 , 0.4354279 ],\n",
       "        [0.1662956 , 0.03912445, 0.3751502 , 0.4194298 ],\n",
       "        [0.16189983, 0.04128607, 0.39733967, 0.3994744 ],\n",
       "        [0.1751974 , 0.03709301, 0.37823528, 0.4094743 ],\n",
       "        [0.1951782 , 0.03669422, 0.3630482 , 0.40507933],\n",
       "        [0.17419948, 0.04109719, 0.38148293, 0.4032204 ],\n",
       "        [0.15012468, 0.04467902, 0.39908513, 0.40611118],\n",
       "        [0.14778455, 0.05006354, 0.39108217, 0.4110698 ],\n",
       "        [0.1442189 , 0.052588  , 0.3821192 , 0.42107388],\n",
       "        [0.16414034, 0.04583464, 0.34504494, 0.44498008],\n",
       "        [0.15849638, 0.04852557, 0.38446152, 0.40851653],\n",
       "        [0.14741874, 0.04681903, 0.40265793, 0.40310428],\n",
       "        [0.19829974, 0.0482759 , 0.37485242, 0.3785719 ],\n",
       "        [0.19414741, 0.05091263, 0.3762277 , 0.37871224],\n",
       "        [0.17144719, 0.04928806, 0.38031408, 0.39895064],\n",
       "        [0.1560579 , 0.05241662, 0.3762499 , 0.41527566],\n",
       "        [0.19353613, 0.04407206, 0.32558542, 0.43680638],\n",
       "        [0.17832538, 0.04681843, 0.35272163, 0.42213455],\n",
       "        [0.17127378, 0.05053687, 0.38250113, 0.39568824],\n",
       "        [0.1911301 , 0.05042804, 0.3720423 , 0.3863995 ],\n",
       "        [0.18154055, 0.05208275, 0.36909574, 0.39728096],\n",
       "        [0.17843561, 0.05273664, 0.36952084, 0.39930686],\n",
       "        [0.17247996, 0.05098092, 0.3384705 , 0.43806866],\n",
       "        [0.16225807, 0.05299542, 0.36768883, 0.4170576 ],\n",
       "        [0.16738409, 0.0546537 , 0.34534526, 0.43261695],\n",
       "        [0.19378495, 0.05406887, 0.33073804, 0.42140812],\n",
       "        [0.23039687, 0.05476609, 0.35300875, 0.36182827],\n",
       "        [0.19604096, 0.05743976, 0.36065188, 0.38586742],\n",
       "        [0.18387692, 0.06130712, 0.35002556, 0.40479046],\n",
       "        [0.18258142, 0.05916797, 0.33370492, 0.4245457 ],\n",
       "        [0.17269234, 0.05728811, 0.3317709 , 0.43824866],\n",
       "        [0.20466474, 0.06029727, 0.34538797, 0.38965   ],\n",
       "        [0.18994331, 0.05465909, 0.36022612, 0.39517152],\n",
       "        [0.16186391, 0.05483347, 0.34365025, 0.43965238],\n",
       "        [0.14196807, 0.0542815 , 0.32612163, 0.47762874],\n",
       "        [0.14683382, 0.04761603, 0.28123537, 0.5243148 ],\n",
       "        [0.15534414, 0.05248603, 0.31268495, 0.4794849 ],\n",
       "        [0.1684789 , 0.05359593, 0.34474584, 0.4331793 ],\n",
       "        [0.15245835, 0.05830101, 0.38136196, 0.40787867],\n",
       "        [0.16889213, 0.05321192, 0.35596243, 0.42193347],\n",
       "        [0.16157942, 0.05400655, 0.33973205, 0.44468194],\n",
       "        [0.16663924, 0.04709018, 0.32207948, 0.46419114],\n",
       "        [0.16357   , 0.05599149, 0.36921278, 0.4112258 ],\n",
       "        [0.1766956 , 0.0503633 , 0.3736701 , 0.39927104],\n",
       "        [0.19614202, 0.04691041, 0.370982  , 0.38596556],\n",
       "        [0.20212577, 0.04566193, 0.34970605, 0.40250623],\n",
       "        [0.20616227, 0.03894857, 0.3123362 , 0.44255295],\n",
       "        [0.15337552, 0.04706902, 0.3305067 , 0.46904877],\n",
       "        [0.12851782, 0.04580138, 0.32509604, 0.5005847 ],\n",
       "        [0.11995655, 0.05528154, 0.3478463 , 0.47691563],\n",
       "        [0.14291167, 0.05636756, 0.33029774, 0.47042304],\n",
       "        [0.15122227, 0.05344272, 0.33624843, 0.45908657],\n",
       "        [0.16682324, 0.05539298, 0.33973512, 0.4380486 ],\n",
       "        [0.17429397, 0.05214859, 0.33749768, 0.4360597 ],\n",
       "        [0.15902893, 0.05615638, 0.38487992, 0.39993483],\n",
       "        [0.20609567, 0.04761389, 0.36586627, 0.3804242 ],\n",
       "        [0.1738585 , 0.04391917, 0.36062106, 0.4216013 ],\n",
       "        [0.16104256, 0.04665601, 0.3587281 , 0.4335733 ],\n",
       "        [0.16633789, 0.04544289, 0.3388814 , 0.44933778],\n",
       "        [0.17313847, 0.04139212, 0.318603  , 0.46686634],\n",
       "        [0.16661243, 0.04431231, 0.3593809 , 0.42969432],\n",
       "        [0.17097701, 0.04214047, 0.37099296, 0.41588956],\n",
       "        [0.18256532, 0.04286556, 0.37145418, 0.40311489],\n",
       "        [0.18136078, 0.0459468 , 0.36678085, 0.40591156],\n",
       "        [0.1658019 , 0.04662151, 0.35954425, 0.4280324 ],\n",
       "        [0.15245575, 0.04882691, 0.3849546 , 0.41376272],\n",
       "        [0.1733342 , 0.05206873, 0.37835556, 0.39624155],\n",
       "        [0.16054367, 0.04555565, 0.38659087, 0.40730977],\n",
       "        [0.19881758, 0.03900334, 0.36779684, 0.3943823 ],\n",
       "        [0.1662818 , 0.03812288, 0.3889539 , 0.4066414 ],\n",
       "        [0.15510748, 0.04136818, 0.37914842, 0.42437592],\n",
       "        [0.15740436, 0.03749436, 0.33264494, 0.47245634],\n",
       "        [0.15610245, 0.03824084, 0.36797148, 0.43768525],\n",
       "        [0.17903875, 0.03738605, 0.36587563, 0.41769955],\n",
       "        [0.1744438 , 0.03951645, 0.39084584, 0.39519387],\n",
       "        [0.20583981, 0.03914439, 0.35887757, 0.39613825],\n",
       "        [0.14209606, 0.04664202, 0.39508367, 0.4161783 ],\n",
       "        [0.15825318, 0.04620688, 0.38742816, 0.40811175],\n",
       "        [0.14984511, 0.04733033, 0.39769152, 0.4051331 ],\n",
       "        [0.15808444, 0.04548451, 0.36643687, 0.42999417],\n",
       "        [0.17499486, 0.04518906, 0.37580708, 0.40400904],\n",
       "        [0.15616362, 0.04542787, 0.38585436, 0.41255414],\n",
       "        [0.14003047, 0.04841753, 0.37785712, 0.43369484],\n",
       "        [0.12449025, 0.04864805, 0.37542236, 0.4514393 ],\n",
       "        [0.14092924, 0.04812307, 0.3829082 , 0.42803946],\n",
       "        [0.16132085, 0.04818703, 0.37481385, 0.4156783 ],\n",
       "        [0.15166387, 0.04734663, 0.3683861 , 0.43260336],\n",
       "        [0.14045122, 0.04944907, 0.35960808, 0.45049158],\n",
       "        [0.13750356, 0.04750058, 0.34972578, 0.46527007],\n",
       "        [0.14547189, 0.04513178, 0.3674464 , 0.44194996],\n",
       "        [0.1444531 , 0.04769509, 0.362651  , 0.44520086],\n",
       "        [0.12248148, 0.0532796 , 0.40049422, 0.42374468],\n",
       "        [0.12340905, 0.05062071, 0.37825376, 0.44771644],\n",
       "        [0.12534904, 0.05370307, 0.3983374 , 0.42261046],\n",
       "        [0.1323437 , 0.05480359, 0.40400237, 0.40885037],\n",
       "        [0.14585842, 0.04696357, 0.38639566, 0.4207824 ],\n",
       "        [0.12275945, 0.05763786, 0.40868667, 0.41091606],\n",
       "        [0.13718238, 0.05559206, 0.39538538, 0.41184017],\n",
       "        [0.11726895, 0.05548726, 0.38814616, 0.4390976 ],\n",
       "        [0.12469865, 0.05771425, 0.39295718, 0.42462996],\n",
       "        [0.14833581, 0.05597488, 0.3920711 , 0.40361822],\n",
       "        [0.13604403, 0.06022327, 0.39454666, 0.4091861 ],\n",
       "        [0.06653664, 0.0632261 , 0.43007556, 0.4401617 ]]], dtype=float32)"
      ]
     },
     "execution_count": 64,
     "metadata": {},
     "output_type": "execute_result"
    }
   ],
   "source": [
    "Y_hat_p[46,np.where(np.argmax(Y_hat_p[46,:,:], axis=-1)==3),:]"
   ]
  },
  {
   "cell_type": "code",
   "execution_count": null,
   "metadata": {},
   "outputs": [],
   "source": [
    "# seems like a crf-smoother (even a post-hoc one) could really help"
   ]
  }
 ],
 "metadata": {
  "kernelspec": {
   "display_name": "Python 3",
   "language": "python",
   "name": "python3"
  },
  "language_info": {
   "codemirror_mode": {
    "name": "ipython",
    "version": 3
   },
   "file_extension": ".py",
   "mimetype": "text/x-python",
   "name": "python",
   "nbconvert_exporter": "python",
   "pygments_lexer": "ipython3",
   "version": "3.6.9"
  }
 },
 "nbformat": 4,
 "nbformat_minor": 2
}
