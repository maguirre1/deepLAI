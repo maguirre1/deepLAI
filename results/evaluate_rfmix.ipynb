{
 "cells": [
  {
   "cell_type": "code",
   "execution_count": 1,
   "metadata": {
    "collapsed": true
   },
   "outputs": [],
   "source": [
    "import numpy as np\n",
    "import pandas as pd\n",
    "from sklearn.metrics import confusion_matrix"
   ]
  },
  {
   "cell_type": "code",
   "execution_count": 2,
   "metadata": {
    "collapsed": true
   },
   "outputs": [],
   "source": [
    "# find data, load\n",
    "data_dir='/scratch/users/magu/deepmix/data/simulated_chr20/'\n",
    "\n",
    "yhat_raw=pd.read_table(data_dir+'vcf/rf_out/dev_10gen.no_OCE_WAS.query.msp.tsv', skiprows=1)\n",
    "y=np.load(data_dir+'label/dev_10gen.no_OCE_WAS.result.npz')"
   ]
  },
  {
   "cell_type": "code",
   "execution_count": 3,
   "metadata": {},
   "outputs": [
    {
     "name": "stdout",
     "output_type": "stream",
     "text": [
      "(200,) 200\n"
     ]
    }
   ],
   "source": [
    "# match samples\n",
    "S=np.array([s.replace('_S1','.0').replace('_S2','.1') for s in y['S']])\n",
    "print(S.shape, np.sum(S==yhat_raw.columns[6:]))"
   ]
  },
  {
   "cell_type": "code",
   "execution_count": 4,
   "metadata": {
    "collapsed": true
   },
   "outputs": [],
   "source": [
    "# expand rfmix windows into variant-level assignments\n",
    "V_pos=y['V'][:,1].astype(int)\n",
    "yhat=pd.DataFrame(index=['_'.join(s) for s in y['V']], columns=S)\n",
    "\n",
    "for ix in range(yhat_raw.shape[0]):\n",
    "    ids=(yhat_raw.iloc[ix,1] <= V_pos) & (V_pos <= yhat_raw.iloc[ix,2])\n",
    "    yhat.iloc[ids,:]=np.vstack([yhat_raw.iloc[ix,6:] for _ in range(sum(ids))]).astype(int)+1"
   ]
  },
  {
   "cell_type": "code",
   "execution_count": 5,
   "metadata": {
    "collapsed": true
   },
   "outputs": [],
   "source": [
    "# confusion\n",
    "cm=confusion_matrix(y['L'].flatten(), yhat.T.values.flatten().astype(int))"
   ]
  },
  {
   "cell_type": "code",
   "execution_count": 6,
   "metadata": {},
   "outputs": [
    {
     "data": {
      "text/plain": [
       "0.9748963527547354"
      ]
     },
     "execution_count": 6,
     "metadata": {},
     "output_type": "execute_result"
    }
   ],
   "source": [
    "# accuracy\n",
    "np.sum(np.diag(cm))/np.sum(cm) "
   ]
  },
  {
   "cell_type": "code",
   "execution_count": 7,
   "metadata": {},
   "outputs": [
    {
     "data": {
      "text/html": [
       "<div>\n",
       "<style scoped>\n",
       "    .dataframe tbody tr th:only-of-type {\n",
       "        vertical-align: middle;\n",
       "    }\n",
       "\n",
       "    .dataframe tbody tr th {\n",
       "        vertical-align: top;\n",
       "    }\n",
       "\n",
       "    .dataframe thead th {\n",
       "        text-align: right;\n",
       "    }\n",
       "</style>\n",
       "<table border=\"1\" class=\"dataframe\">\n",
       "  <thead>\n",
       "    <tr style=\"text-align: right;\">\n",
       "      <th></th>\n",
       "      <th>AFR</th>\n",
       "      <th>EAS</th>\n",
       "      <th>EUR</th>\n",
       "      <th>NAT</th>\n",
       "      <th>SAS</th>\n",
       "    </tr>\n",
       "  </thead>\n",
       "  <tbody>\n",
       "    <tr>\n",
       "      <th>AFR</th>\n",
       "      <td>0.989071</td>\n",
       "      <td>0.003264</td>\n",
       "      <td>0.004964</td>\n",
       "      <td>0.000494</td>\n",
       "      <td>0.002206</td>\n",
       "    </tr>\n",
       "    <tr>\n",
       "      <th>EAS</th>\n",
       "      <td>0.001201</td>\n",
       "      <td>0.980150</td>\n",
       "      <td>0.011728</td>\n",
       "      <td>0.002715</td>\n",
       "      <td>0.004206</td>\n",
       "    </tr>\n",
       "    <tr>\n",
       "      <th>EUR</th>\n",
       "      <td>0.001459</td>\n",
       "      <td>0.008843</td>\n",
       "      <td>0.965348</td>\n",
       "      <td>0.004331</td>\n",
       "      <td>0.020018</td>\n",
       "    </tr>\n",
       "    <tr>\n",
       "      <th>NAT</th>\n",
       "      <td>0.002260</td>\n",
       "      <td>0.011493</td>\n",
       "      <td>0.000906</td>\n",
       "      <td>0.985335</td>\n",
       "      <td>0.000006</td>\n",
       "    </tr>\n",
       "    <tr>\n",
       "      <th>SAS</th>\n",
       "      <td>0.000932</td>\n",
       "      <td>0.052717</td>\n",
       "      <td>0.042211</td>\n",
       "      <td>0.005568</td>\n",
       "      <td>0.898573</td>\n",
       "    </tr>\n",
       "  </tbody>\n",
       "</table>\n",
       "</div>"
      ],
      "text/plain": [
       "          AFR       EAS       EUR       NAT       SAS\n",
       "AFR  0.989071  0.003264  0.004964  0.000494  0.002206\n",
       "EAS  0.001201  0.980150  0.011728  0.002715  0.004206\n",
       "EUR  0.001459  0.008843  0.965348  0.004331  0.020018\n",
       "NAT  0.002260  0.011493  0.000906  0.985335  0.000006\n",
       "SAS  0.000932  0.052717  0.042211  0.005568  0.898573"
      ]
     },
     "execution_count": 7,
     "metadata": {},
     "output_type": "execute_result"
    }
   ],
   "source": [
    "# rows are truth, columns are labels;\n",
    "# sensitivity (row-normalized, diagonal is fraction of A which we say is A_hat)\n",
    "anc_label=['AFR', 'EAS', 'EUR', 'NAT', 'SAS']\n",
    "pd.DataFrame(cm, index=anc_label, columns=anc_label).divide(cm.sum(axis=1), axis=0)"
   ]
  },
  {
   "cell_type": "code",
   "execution_count": 8,
   "metadata": {},
   "outputs": [
    {
     "data": {
      "text/html": [
       "<div>\n",
       "<style scoped>\n",
       "    .dataframe tbody tr th:only-of-type {\n",
       "        vertical-align: middle;\n",
       "    }\n",
       "\n",
       "    .dataframe tbody tr th {\n",
       "        vertical-align: top;\n",
       "    }\n",
       "\n",
       "    .dataframe thead th {\n",
       "        text-align: right;\n",
       "    }\n",
       "</style>\n",
       "<table border=\"1\" class=\"dataframe\">\n",
       "  <thead>\n",
       "    <tr style=\"text-align: right;\">\n",
       "      <th></th>\n",
       "      <th>AFR</th>\n",
       "      <th>EAS</th>\n",
       "      <th>EUR</th>\n",
       "      <th>NAT</th>\n",
       "      <th>SAS</th>\n",
       "    </tr>\n",
       "  </thead>\n",
       "  <tbody>\n",
       "    <tr>\n",
       "      <th>AFR</th>\n",
       "      <td>0.996887</td>\n",
       "      <td>0.002462</td>\n",
       "      <td>0.011044</td>\n",
       "      <td>0.001782</td>\n",
       "      <td>0.008804</td>\n",
       "    </tr>\n",
       "    <tr>\n",
       "      <th>EAS</th>\n",
       "      <td>0.001608</td>\n",
       "      <td>0.981923</td>\n",
       "      <td>0.034661</td>\n",
       "      <td>0.013006</td>\n",
       "      <td>0.022301</td>\n",
       "    </tr>\n",
       "    <tr>\n",
       "      <th>EUR</th>\n",
       "      <td>0.000637</td>\n",
       "      <td>0.002885</td>\n",
       "      <td>0.929281</td>\n",
       "      <td>0.006758</td>\n",
       "      <td>0.034576</td>\n",
       "    </tr>\n",
       "    <tr>\n",
       "      <th>NAT</th>\n",
       "      <td>0.000624</td>\n",
       "      <td>0.002374</td>\n",
       "      <td>0.000552</td>\n",
       "      <td>0.973224</td>\n",
       "      <td>0.000006</td>\n",
       "    </tr>\n",
       "    <tr>\n",
       "      <th>SAS</th>\n",
       "      <td>0.000245</td>\n",
       "      <td>0.010356</td>\n",
       "      <td>0.024462</td>\n",
       "      <td>0.005230</td>\n",
       "      <td>0.934313</td>\n",
       "    </tr>\n",
       "  </tbody>\n",
       "</table>\n",
       "</div>"
      ],
      "text/plain": [
       "          AFR       EAS       EUR       NAT       SAS\n",
       "AFR  0.996887  0.002462  0.011044  0.001782  0.008804\n",
       "EAS  0.001608  0.981923  0.034661  0.013006  0.022301\n",
       "EUR  0.000637  0.002885  0.929281  0.006758  0.034576\n",
       "NAT  0.000624  0.002374  0.000552  0.973224  0.000006\n",
       "SAS  0.000245  0.010356  0.024462  0.005230  0.934313"
      ]
     },
     "execution_count": 8,
     "metadata": {},
     "output_type": "execute_result"
    }
   ],
   "source": [
    "# specificity (column-normalized, diagonal is fraction of A_hat which is truly A)\n",
    "pd.DataFrame(cm, index=anc_label, columns=anc_label).divide(cm.sum(axis=0), axis=1)"
   ]
  },
  {
   "cell_type": "code",
   "execution_count": 9,
   "metadata": {},
   "outputs": [
    {
     "data": {
      "text/html": [
       "<div>\n",
       "<style scoped>\n",
       "    .dataframe tbody tr th:only-of-type {\n",
       "        vertical-align: middle;\n",
       "    }\n",
       "\n",
       "    .dataframe tbody tr th {\n",
       "        vertical-align: top;\n",
       "    }\n",
       "\n",
       "    .dataframe thead th {\n",
       "        text-align: right;\n",
       "    }\n",
       "</style>\n",
       "<table border=\"1\" class=\"dataframe\">\n",
       "  <thead>\n",
       "    <tr style=\"text-align: right;\">\n",
       "      <th></th>\n",
       "      <th>AFR</th>\n",
       "      <th>EAS</th>\n",
       "      <th>EUR</th>\n",
       "      <th>NAT</th>\n",
       "      <th>SAS</th>\n",
       "    </tr>\n",
       "  </thead>\n",
       "  <tbody>\n",
       "    <tr>\n",
       "      <th>AFR</th>\n",
       "      <td>31020763</td>\n",
       "      <td>102383</td>\n",
       "      <td>155704</td>\n",
       "      <td>15500</td>\n",
       "      <td>69177</td>\n",
       "    </tr>\n",
       "    <tr>\n",
       "      <th>EAS</th>\n",
       "      <td>50045</td>\n",
       "      <td>40837419</td>\n",
       "      <td>488652</td>\n",
       "      <td>113126</td>\n",
       "      <td>175228</td>\n",
       "    </tr>\n",
       "    <tr>\n",
       "      <th>EUR</th>\n",
       "      <td>19807</td>\n",
       "      <td>120005</td>\n",
       "      <td>13100986</td>\n",
       "      <td>58782</td>\n",
       "      <td>271675</td>\n",
       "    </tr>\n",
       "    <tr>\n",
       "      <th>NAT</th>\n",
       "      <td>19415</td>\n",
       "      <td>98739</td>\n",
       "      <td>7782</td>\n",
       "      <td>8465037</td>\n",
       "      <td>48</td>\n",
       "    </tr>\n",
       "    <tr>\n",
       "      <th>SAS</th>\n",
       "      <td>7614</td>\n",
       "      <td>430690</td>\n",
       "      <td>344859</td>\n",
       "      <td>45487</td>\n",
       "      <td>7341277</td>\n",
       "    </tr>\n",
       "  </tbody>\n",
       "</table>\n",
       "</div>"
      ],
      "text/plain": [
       "          AFR       EAS       EUR      NAT      SAS\n",
       "AFR  31020763    102383    155704    15500    69177\n",
       "EAS     50045  40837419    488652   113126   175228\n",
       "EUR     19807    120005  13100986    58782   271675\n",
       "NAT     19415     98739      7782  8465037       48\n",
       "SAS      7614    430690    344859    45487  7341277"
      ]
     },
     "execution_count": 9,
     "metadata": {},
     "output_type": "execute_result"
    }
   ],
   "source": [
    "pd.DataFrame(cm, index=anc_label, columns=anc_label)"
   ]
  },
  {
   "cell_type": "code",
   "execution_count": null,
   "metadata": {
    "collapsed": true
   },
   "outputs": [],
   "source": []
  }
 ],
 "metadata": {
  "kernelspec": {
   "display_name": "Python 3",
   "language": "python",
   "name": "python3"
  },
  "language_info": {
   "codemirror_mode": {
    "name": "ipython",
    "version": 3
   },
   "file_extension": ".py",
   "mimetype": "text/x-python",
   "name": "python",
   "nbconvert_exporter": "python",
   "pygments_lexer": "ipython3",
   "version": "3.6.1"
  }
 },
 "nbformat": 4,
 "nbformat_minor": 2
}
